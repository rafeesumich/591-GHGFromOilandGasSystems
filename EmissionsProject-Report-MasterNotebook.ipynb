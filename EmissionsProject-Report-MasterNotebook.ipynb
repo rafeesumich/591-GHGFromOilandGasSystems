<<<<<<< HEAD





<!DOCTYPE html>
<html lang="en">
  <head>
    <meta charset="utf-8">
  <link rel="dns-prefetch" href="https://github.githubassets.com">
  <link rel="dns-prefetch" href="https://avatars0.githubusercontent.com">
  <link rel="dns-prefetch" href="https://avatars1.githubusercontent.com">
  <link rel="dns-prefetch" href="https://avatars2.githubusercontent.com">
  <link rel="dns-prefetch" href="https://avatars3.githubusercontent.com">
  <link rel="dns-prefetch" href="https://github-cloud.s3.amazonaws.com">
  <link rel="dns-prefetch" href="https://user-images.githubusercontent.com/">



  <link crossorigin="anonymous" media="all" integrity="sha512-KteJInPtsWP6Z4OmnoDMSD9Npymb3/ELZgjxj3cHFNZmpUnyA8+PI5dHCjraBc493BVMDMYrCSnfKba8DWjIUg==" rel="stylesheet" href="https://github.githubassets.com/assets/frameworks-2ad7892273edb163fa6783a69e80cc48.css" />
  
    <link crossorigin="anonymous" media="all" integrity="sha512-wg3QVfoncez7piRCjZypF1qdLLkudSCbtGxhHxKtSkNtujTdi6zzn8yM28xmV0B2I0BwAKc6K90WnqX6CspFVA==" rel="stylesheet" href="https://github.githubassets.com/assets/github-c20dd055fa2771ecfba624428d9ca917.css" />
    
    
    
    


  <meta name="viewport" content="width=device-width">
  
  <title>591-GHGFromOilandGasSystems/EmissionsProject-Report-MasterNotebook.ipynb at master · rafeesumich/591-GHGFromOilandGasSystems</title>
    <meta name="description" content="GHG Emissions from Oil and Gas Production Industry - rafeesumich/591-GHGFromOilandGasSystems">
    <link rel="search" type="application/opensearchdescription+xml" href="/opensearch.xml" title="GitHub">
  <link rel="fluid-icon" href="https://github.com/fluidicon.png" title="GitHub">
  <meta property="fb:app_id" content="1401488693436528">

    <meta name="twitter:image:src" content="https://avatars1.githubusercontent.com/u/55704682?s=400&amp;v=4" /><meta name="twitter:site" content="@github" /><meta name="twitter:card" content="summary" /><meta name="twitter:title" content="rafeesumich/591-GHGFromOilandGasSystems" /><meta name="twitter:description" content="GHG Emissions from Oil and Gas Production Industry - rafeesumich/591-GHGFromOilandGasSystems" />
    <meta property="og:image" content="https://avatars1.githubusercontent.com/u/55704682?s=400&amp;v=4" /><meta property="og:site_name" content="GitHub" /><meta property="og:type" content="object" /><meta property="og:title" content="rafeesumich/591-GHGFromOilandGasSystems" /><meta property="og:url" content="https://github.com/rafeesumich/591-GHGFromOilandGasSystems" /><meta property="og:description" content="GHG Emissions from Oil and Gas Production Industry - rafeesumich/591-GHGFromOilandGasSystems" />

  <link rel="assets" href="https://github.githubassets.com/">
    <link rel="web-socket" href="wss://live.github.com/_sockets/VjI6NTI2MzExMzI3OmY1NjI3OTVkZDMyZDE4YzNhNzY2YTNkMTJjZjUyNzRjMzA0N2MxODQzMGRmYzFiZDZkODRhZTZjMTFkYmU4ODU=--f23c5fd931113483f54995b15ed17b8952310752">
  <link rel="sudo-modal" href="/sessions/sudo_modal">

  <meta name="request-id" content="DDEA:56DC:181C5:2D295:5EC89940" data-pjax-transient="true" /><meta name="html-safe-nonce" content="bb7d6e7e6fb27e7b839336a74d5f2094376552f2" data-pjax-transient="true" /><meta name="visitor-payload" content="eyJyZWZlcnJlciI6Imh0dHBzOi8vZ2l0aHViLmNvbS9yYWZlZXN1bWljaC81OTEtR0hHRnJvbU9pbGFuZEdhc1N5c3RlbXMiLCJyZXF1ZXN0X2lkIjoiRERFQTo1NkRDOjE4MUM1OjJEMjk1OjVFQzg5OTQwIiwidmlzaXRvcl9pZCI6IjM1NDEwNjU5ODg2OTUxMzAwNTUiLCJyZWdpb25fZWRnZSI6ImlhZCIsInJlZ2lvbl9yZW5kZXIiOiJpYWQifQ==" data-pjax-transient="true" /><meta name="visitor-hmac" content="18a02bdfa108c73577f4f09866f3b17375489578c8685c85c01e53e8d10ee01e" data-pjax-transient="true" />



  <meta name="github-keyboard-shortcuts" content="repository,source-code" data-pjax-transient="true" />

  

  <meta name="selected-link" value="repo_source" data-pjax-transient>

    <meta name="google-site-verification" content="KT5gs8h0wvaagLKAVWq8bbeNwnZZK1r1XQysX3xurLU">
  <meta name="google-site-verification" content="ZzhVyEFwb7w3e0-uOTltm8Jsck2F5StVihD0exw2fsA">
  <meta name="google-site-verification" content="GXs5KoUUkNCoaAZn7wPN-t01Pywp9M3sEjnt_3_ZWPc">

<meta name="octolytics-host" content="collector.githubapp.com" /><meta name="octolytics-app-id" content="github" /><meta name="octolytics-event-url" content="https://collector.githubapp.com/github-external/browser_event" /><meta name="octolytics-dimension-ga_id" content="" class="js-octo-ga-id" /><meta name="octolytics-actor-id" content="55701967" /><meta name="octolytics-actor-login" content="gamyers" /><meta name="octolytics-actor-hash" content="39011cd144562351d72054ecfc5f8443d4c21427054fe57ef4a387260af04871" />
<meta name="analytics-location" content="/&lt;user-name&gt;/&lt;repo-name&gt;/blob/show" data-pjax-transient="true" />


<meta name="optimizely-sdk-key" content="cowimJNste4j7QnBNCjaw" />

    <meta name="google-analytics" content="UA-3769691-2">

  <meta class="js-ga-set" name="userId" content="8b5bbdd9ae4312e939b201238a09f1f1">

<meta class="js-ga-set" name="dimension1" content="Logged In">



  

      <meta name="hostname" content="github.com">
    <meta name="user-login" content="gamyers">

      <meta name="expected-hostname" content="github.com">

      <meta name="js-proxy-site-detection-payload" content="M2MzOTc5ZGMxMjNlNzNlNDdhYTQ4ODc0OTFkYjQ5NDBiYjVjN2EyNjQzN2M5NjdjMGU0Y2U5MDc1ZDBlZTcyMHx7InJlbW90ZV9hZGRyZXNzIjoiNzAuMTg1LjIwNC45NiIsInJlcXVlc3RfaWQiOiJEREVBOjU2REM6MTgxQzU6MkQyOTU6NUVDODk5NDAiLCJ0aW1lc3RhbXAiOjE1OTAyMDQ3NDYsImhvc3QiOiJnaXRodWIuY29tIn0=">

    <meta name="enabled-features" content="MARKETPLACE_PENDING_INSTALLATIONS,PAGE_STALE_CHECK,JS_CHUNKING">

  <meta http-equiv="x-pjax-version" content="324ebb008cefa0ee2e8715506860e757">
  

      <link href="https://github.com/rafeesumich/591-GHGFromOilandGasSystems/commits/master.atom" rel="alternate" title="Recent Commits to 591-GHGFromOilandGasSystems:master" type="application/atom+xml">

  <meta name="go-import" content="github.com/rafeesumich/591-GHGFromOilandGasSystems git https://github.com/rafeesumich/591-GHGFromOilandGasSystems.git">

  <meta name="octolytics-dimension-user_id" content="55704682" /><meta name="octolytics-dimension-user_login" content="rafeesumich" /><meta name="octolytics-dimension-repository_id" content="258839918" /><meta name="octolytics-dimension-repository_nwo" content="rafeesumich/591-GHGFromOilandGasSystems" /><meta name="octolytics-dimension-repository_public" content="true" /><meta name="octolytics-dimension-repository_is_fork" content="false" /><meta name="octolytics-dimension-repository_network_root_id" content="258839918" /><meta name="octolytics-dimension-repository_network_root_nwo" content="rafeesumich/591-GHGFromOilandGasSystems" /><meta name="octolytics-dimension-repository_explore_github_marketplace_ci_cta_shown" content="false" />


    <link rel="canonical" href="https://github.com/rafeesumich/591-GHGFromOilandGasSystems/blob/master/EmissionsProject-Report-MasterNotebook.ipynb" data-pjax-transient>


  <meta name="browser-stats-url" content="https://api.github.com/_private/browser/stats">

  <meta name="browser-errors-url" content="https://api.github.com/_private/browser/errors">

  <link rel="mask-icon" href="https://github.githubassets.com/pinned-octocat.svg" color="#000000">
  <link rel="alternate icon" class="js-site-favicon" type="image/png" href="https://github.githubassets.com/favicons/favicon.png">
  <link rel="icon" class="js-site-favicon" type="image/svg+xml" href="https://github.githubassets.com/favicons/favicon.svg">

<meta name="theme-color" content="#1e2327">


  <link rel="manifest" href="/manifest.json" crossOrigin="use-credentials">

  </head>

  <body class="logged-in env-production page-responsive page-blob">
    

    <div class="position-relative js-header-wrapper ">
      <a href="#start-of-content" class="p-3 bg-blue text-white show-on-focus js-skip-to-content">Skip to content</a>
      <span class="Progress progress-pjax-loader position-fixed width-full js-pjax-loader-bar">
        <span class="progress-pjax-loader-bar top-0 left-0" style="width: 0%;"></span>
      </span>

      
      



          <header class="Header py-lg-0 js-details-container Details flex-wrap flex-lg-nowrap p-responsive" role="banner">
  <div class="Header-item d-none d-lg-flex">
    <a class="Header-link" href="https://github.com/" data-hotkey="g d"
  aria-label="Homepage " data-ga-click="Header, go to dashboard, icon:logo">
  <svg class="octicon octicon-mark-github v-align-middle" height="32" viewBox="0 0 16 16" version="1.1" width="32" aria-hidden="true"><path fill-rule="evenodd" d="M8 0C3.58 0 0 3.58 0 8c0 3.54 2.29 6.53 5.47 7.59.4.07.55-.17.55-.38 0-.19-.01-.82-.01-1.49-2.01.37-2.53-.49-2.69-.94-.09-.23-.48-.94-.82-1.13-.28-.15-.68-.52-.01-.53.63-.01 1.08.58 1.23.82.72 1.21 1.87.87 2.33.66.07-.52.28-.87.51-1.07-1.78-.2-3.64-.89-3.64-3.95 0-.87.31-1.59.82-2.15-.08-.2-.36-1.02.08-2.12 0 0 .67-.21 2.2.82.64-.18 1.32-.27 2-.27.68 0 1.36.09 2 .27 1.53-1.04 2.2-.82 2.2-.82.44 1.1.16 1.92.08 2.12.51.56.82 1.27.82 2.15 0 3.07-1.87 3.75-3.65 3.95.29.25.54.73.54 1.48 0 1.07-.01 1.93-.01 2.2 0 .21.15.46.55.38A8.013 8.013 0 0016 8c0-4.42-3.58-8-8-8z"></path></svg>
</a>

  </div>

  <div class="Header-item d-lg-none">
    <button class="Header-link btn-link js-details-target" type="button" aria-label="Toggle navigation" aria-expanded="false">
      <svg height="24" class="octicon octicon-three-bars" viewBox="0 0 12 16" version="1.1" width="18" aria-hidden="true"><path fill-rule="evenodd" d="M11.41 9H.59C0 9 0 8.59 0 8c0-.59 0-1 .59-1H11.4c.59 0 .59.41.59 1 0 .59 0 1-.59 1h.01zm0-4H.59C0 5 0 4.59 0 4c0-.59 0-1 .59-1H11.4c.59 0 .59.41.59 1 0 .59 0 1-.59 1h.01zM.59 11H11.4c.59 0 .59.41.59 1 0 .59 0 1-.59 1H.59C0 13 0 12.59 0 12c0-.59 0-1 .59-1z"></path></svg>
    </button>
  </div>

  <div class="Header-item Header-item--full flex-column flex-lg-row width-full flex-order-2 flex-lg-order-none mr-0 mr-lg-3 mt-3 mt-lg-0 Details-content--hidden">
      <div class="header-search flex-self-stretch flex-lg-self-auto mr-0 mr-lg-3 mb-3 mb-lg-0 scoped-search site-scoped-search js-site-search position-relative js-jump-to"
  role="combobox"
  aria-owns="jump-to-results"
  aria-label="Search or jump to"
  aria-haspopup="listbox"
  aria-expanded="false"
>
  <div class="position-relative">
    <!-- '"` --><!-- </textarea></xmp> --></option></form><form class="js-site-search-form" role="search" aria-label="Site" data-scope-type="Repository" data-scope-id="258839918" data-scoped-search-url="/rafeesumich/591-GHGFromOilandGasSystems/search" data-unscoped-search-url="/search" action="/rafeesumich/591-GHGFromOilandGasSystems/search" accept-charset="UTF-8" method="get">
      <label class="form-control input-sm header-search-wrapper p-0 header-search-wrapper-jump-to position-relative d-flex flex-justify-between flex-items-center js-chromeless-input-container">
        <input type="text"
          class="form-control input-sm header-search-input jump-to-field js-jump-to-field js-site-search-focus js-site-search-field is-clearable"
          data-hotkey="s,/"
          name="q"
          value=""
          placeholder="Search or jump to…"
          data-unscoped-placeholder="Search or jump to…"
          data-scoped-placeholder="Search or jump to…"
          autocapitalize="off"
          aria-autocomplete="list"
          aria-controls="jump-to-results"
          aria-label="Search or jump to…"
          data-jump-to-suggestions-path="/_graphql/GetSuggestedNavigationDestinations"
          spellcheck="false"
          autocomplete="off"
          >
          <input type="hidden" value="8/80c6RN1u6BjNTNWyb7Lj1iJp60mZKFqs5gGGfaJTPqfd/5ugwfYCnE031DAV+dn9I8MZg4jHtviHfDusPbVQ==" data-csrf="true" class="js-data-jump-to-suggestions-path-csrf" />
          <input type="hidden" class="js-site-search-type-field" name="type" >
            <img src="https://github.githubassets.com/images/search-key-slash.svg" alt="" class="mr-2 header-search-key-slash">

            <div class="Box position-absolute overflow-hidden d-none jump-to-suggestions js-jump-to-suggestions-container">
              
<ul class="d-none js-jump-to-suggestions-template-container">
  

<li class="d-flex flex-justify-start flex-items-center p-0 f5 navigation-item js-navigation-item js-jump-to-suggestion" role="option">
  <a tabindex="-1" class="no-underline d-flex flex-auto flex-items-center jump-to-suggestions-path js-jump-to-suggestion-path js-navigation-open p-2" href="">
    <div class="jump-to-octicon js-jump-to-octicon flex-shrink-0 mr-2 text-center d-none">
      <svg height="16" width="16" class="octicon octicon-repo flex-shrink-0 js-jump-to-octicon-repo d-none" title="Repository" aria-label="Repository" viewBox="0 0 12 16" version="1.1" role="img"><path fill-rule="evenodd" d="M4 9H3V8h1v1zm0-3H3v1h1V6zm0-2H3v1h1V4zm0-2H3v1h1V2zm8-1v12c0 .55-.45 1-1 1H6v2l-1.5-1.5L3 16v-2H1c-.55 0-1-.45-1-1V1c0-.55.45-1 1-1h10c.55 0 1 .45 1 1zm-1 10H1v2h2v-1h3v1h5v-2zm0-10H2v9h9V1z"></path></svg>
      <svg height="16" width="16" class="octicon octicon-project flex-shrink-0 js-jump-to-octicon-project d-none" title="Project" aria-label="Project" viewBox="0 0 15 16" version="1.1" role="img"><path fill-rule="evenodd" d="M10 12h3V2h-3v10zm-4-2h3V2H6v8zm-4 4h3V2H2v12zm-1 1h13V1H1v14zM14 0H1a1 1 0 00-1 1v14a1 1 0 001 1h13a1 1 0 001-1V1a1 1 0 00-1-1z"></path></svg>
      <svg height="16" width="16" class="octicon octicon-search flex-shrink-0 js-jump-to-octicon-search d-none" title="Search" aria-label="Search" viewBox="0 0 16 16" version="1.1" role="img"><path fill-rule="evenodd" d="M15.7 13.3l-3.81-3.83A5.93 5.93 0 0013 6c0-3.31-2.69-6-6-6S1 2.69 1 6s2.69 6 6 6c1.3 0 2.48-.41 3.47-1.11l3.83 3.81c.19.2.45.3.7.3.25 0 .52-.09.7-.3a.996.996 0 000-1.41v.01zM7 10.7c-2.59 0-4.7-2.11-4.7-4.7 0-2.59 2.11-4.7 4.7-4.7 2.59 0 4.7 2.11 4.7 4.7 0 2.59-2.11 4.7-4.7 4.7z"></path></svg>
    </div>

    <img class="avatar mr-2 flex-shrink-0 js-jump-to-suggestion-avatar d-none" alt="" aria-label="Team" src="" width="28" height="28">

    <div class="jump-to-suggestion-name js-jump-to-suggestion-name flex-auto overflow-hidden text-left no-wrap css-truncate css-truncate-target">
    </div>

    <div class="border rounded-1 flex-shrink-0 bg-gray px-1 text-gray-light ml-1 f6 d-none js-jump-to-badge-search">
      <span class="js-jump-to-badge-search-text-default d-none" aria-label="in this repository">
        In this repository
      </span>
      <span class="js-jump-to-badge-search-text-global d-none" aria-label="in all of GitHub">
        All GitHub
      </span>
      <span aria-hidden="true" class="d-inline-block ml-1 v-align-middle">↵</span>
    </div>

    <div aria-hidden="true" class="border rounded-1 flex-shrink-0 bg-gray px-1 text-gray-light ml-1 f6 d-none d-on-nav-focus js-jump-to-badge-jump">
      Jump to
      <span class="d-inline-block ml-1 v-align-middle">↵</span>
    </div>
  </a>
</li>

</ul>

<ul class="d-none js-jump-to-no-results-template-container">
  <li class="d-flex flex-justify-center flex-items-center f5 d-none js-jump-to-suggestion p-2">
    <span class="text-gray">No suggested jump to results</span>
  </li>
</ul>

<ul id="jump-to-results" role="listbox" class="p-0 m-0 js-navigation-container jump-to-suggestions-results-container js-jump-to-suggestions-results-container">
  

<li class="d-flex flex-justify-start flex-items-center p-0 f5 navigation-item js-navigation-item js-jump-to-scoped-search d-none" role="option">
  <a tabindex="-1" class="no-underline d-flex flex-auto flex-items-center jump-to-suggestions-path js-jump-to-suggestion-path js-navigation-open p-2" href="">
    <div class="jump-to-octicon js-jump-to-octicon flex-shrink-0 mr-2 text-center d-none">
      <svg height="16" width="16" class="octicon octicon-repo flex-shrink-0 js-jump-to-octicon-repo d-none" title="Repository" aria-label="Repository" viewBox="0 0 12 16" version="1.1" role="img"><path fill-rule="evenodd" d="M4 9H3V8h1v1zm0-3H3v1h1V6zm0-2H3v1h1V4zm0-2H3v1h1V2zm8-1v12c0 .55-.45 1-1 1H6v2l-1.5-1.5L3 16v-2H1c-.55 0-1-.45-1-1V1c0-.55.45-1 1-1h10c.55 0 1 .45 1 1zm-1 10H1v2h2v-1h3v1h5v-2zm0-10H2v9h9V1z"></path></svg>
      <svg height="16" width="16" class="octicon octicon-project flex-shrink-0 js-jump-to-octicon-project d-none" title="Project" aria-label="Project" viewBox="0 0 15 16" version="1.1" role="img"><path fill-rule="evenodd" d="M10 12h3V2h-3v10zm-4-2h3V2H6v8zm-4 4h3V2H2v12zm-1 1h13V1H1v14zM14 0H1a1 1 0 00-1 1v14a1 1 0 001 1h13a1 1 0 001-1V1a1 1 0 00-1-1z"></path></svg>
      <svg height="16" width="16" class="octicon octicon-search flex-shrink-0 js-jump-to-octicon-search d-none" title="Search" aria-label="Search" viewBox="0 0 16 16" version="1.1" role="img"><path fill-rule="evenodd" d="M15.7 13.3l-3.81-3.83A5.93 5.93 0 0013 6c0-3.31-2.69-6-6-6S1 2.69 1 6s2.69 6 6 6c1.3 0 2.48-.41 3.47-1.11l3.83 3.81c.19.2.45.3.7.3.25 0 .52-.09.7-.3a.996.996 0 000-1.41v.01zM7 10.7c-2.59 0-4.7-2.11-4.7-4.7 0-2.59 2.11-4.7 4.7-4.7 2.59 0 4.7 2.11 4.7 4.7 0 2.59-2.11 4.7-4.7 4.7z"></path></svg>
    </div>

    <img class="avatar mr-2 flex-shrink-0 js-jump-to-suggestion-avatar d-none" alt="" aria-label="Team" src="" width="28" height="28">

    <div class="jump-to-suggestion-name js-jump-to-suggestion-name flex-auto overflow-hidden text-left no-wrap css-truncate css-truncate-target">
    </div>

    <div class="border rounded-1 flex-shrink-0 bg-gray px-1 text-gray-light ml-1 f6 d-none js-jump-to-badge-search">
      <span class="js-jump-to-badge-search-text-default d-none" aria-label="in this repository">
        In this repository
      </span>
      <span class="js-jump-to-badge-search-text-global d-none" aria-label="in all of GitHub">
        All GitHub
      </span>
      <span aria-hidden="true" class="d-inline-block ml-1 v-align-middle">↵</span>
    </div>

    <div aria-hidden="true" class="border rounded-1 flex-shrink-0 bg-gray px-1 text-gray-light ml-1 f6 d-none d-on-nav-focus js-jump-to-badge-jump">
      Jump to
      <span class="d-inline-block ml-1 v-align-middle">↵</span>
    </div>
  </a>
</li>

  

<li class="d-flex flex-justify-start flex-items-center p-0 f5 navigation-item js-navigation-item js-jump-to-global-search d-none" role="option">
  <a tabindex="-1" class="no-underline d-flex flex-auto flex-items-center jump-to-suggestions-path js-jump-to-suggestion-path js-navigation-open p-2" href="">
    <div class="jump-to-octicon js-jump-to-octicon flex-shrink-0 mr-2 text-center d-none">
      <svg height="16" width="16" class="octicon octicon-repo flex-shrink-0 js-jump-to-octicon-repo d-none" title="Repository" aria-label="Repository" viewBox="0 0 12 16" version="1.1" role="img"><path fill-rule="evenodd" d="M4 9H3V8h1v1zm0-3H3v1h1V6zm0-2H3v1h1V4zm0-2H3v1h1V2zm8-1v12c0 .55-.45 1-1 1H6v2l-1.5-1.5L3 16v-2H1c-.55 0-1-.45-1-1V1c0-.55.45-1 1-1h10c.55 0 1 .45 1 1zm-1 10H1v2h2v-1h3v1h5v-2zm0-10H2v9h9V1z"></path></svg>
      <svg height="16" width="16" class="octicon octicon-project flex-shrink-0 js-jump-to-octicon-project d-none" title="Project" aria-label="Project" viewBox="0 0 15 16" version="1.1" role="img"><path fill-rule="evenodd" d="M10 12h3V2h-3v10zm-4-2h3V2H6v8zm-4 4h3V2H2v12zm-1 1h13V1H1v14zM14 0H1a1 1 0 00-1 1v14a1 1 0 001 1h13a1 1 0 001-1V1a1 1 0 00-1-1z"></path></svg>
      <svg height="16" width="16" class="octicon octicon-search flex-shrink-0 js-jump-to-octicon-search d-none" title="Search" aria-label="Search" viewBox="0 0 16 16" version="1.1" role="img"><path fill-rule="evenodd" d="M15.7 13.3l-3.81-3.83A5.93 5.93 0 0013 6c0-3.31-2.69-6-6-6S1 2.69 1 6s2.69 6 6 6c1.3 0 2.48-.41 3.47-1.11l3.83 3.81c.19.2.45.3.7.3.25 0 .52-.09.7-.3a.996.996 0 000-1.41v.01zM7 10.7c-2.59 0-4.7-2.11-4.7-4.7 0-2.59 2.11-4.7 4.7-4.7 2.59 0 4.7 2.11 4.7 4.7 0 2.59-2.11 4.7-4.7 4.7z"></path></svg>
    </div>

    <img class="avatar mr-2 flex-shrink-0 js-jump-to-suggestion-avatar d-none" alt="" aria-label="Team" src="" width="28" height="28">

    <div class="jump-to-suggestion-name js-jump-to-suggestion-name flex-auto overflow-hidden text-left no-wrap css-truncate css-truncate-target">
    </div>

    <div class="border rounded-1 flex-shrink-0 bg-gray px-1 text-gray-light ml-1 f6 d-none js-jump-to-badge-search">
      <span class="js-jump-to-badge-search-text-default d-none" aria-label="in this repository">
        In this repository
      </span>
      <span class="js-jump-to-badge-search-text-global d-none" aria-label="in all of GitHub">
        All GitHub
      </span>
      <span aria-hidden="true" class="d-inline-block ml-1 v-align-middle">↵</span>
    </div>

    <div aria-hidden="true" class="border rounded-1 flex-shrink-0 bg-gray px-1 text-gray-light ml-1 f6 d-none d-on-nav-focus js-jump-to-badge-jump">
      Jump to
      <span class="d-inline-block ml-1 v-align-middle">↵</span>
    </div>
  </a>
</li>


    <li class="d-flex flex-justify-center flex-items-center p-0 f5 js-jump-to-suggestion">
      <img src="https://github.githubassets.com/images/spinners/octocat-spinner-128.gif" alt="Octocat Spinner Icon" class="m-2" width="28">
    </li>
</ul>

            </div>
      </label>
</form>  </div>
</div>


    <nav class="d-flex flex-column flex-lg-row flex-self-stretch flex-lg-self-auto" aria-label="Global">
    <a class="Header-link py-lg-3 d-block d-lg-none py-2 border-top border-lg-top-0 border-white-fade-15" data-ga-click="Header, click, Nav menu - item:dashboard:user" aria-label="Dashboard" href="/dashboard">
      Dashboard
</a>
  <a class="js-selected-navigation-item Header-link py-lg-3  mr-0 mr-lg-3 py-2 border-top border-lg-top-0 border-white-fade-15" data-hotkey="g p" data-ga-click="Header, click, Nav menu - item:pulls context:user" aria-label="Pull requests you created" data-selected-links="/pulls /pulls/assigned /pulls/mentioned /pulls" href="/pulls">
    Pull requests
</a>
  <a class="js-selected-navigation-item Header-link py-lg-3  mr-0 mr-lg-3 py-2 border-top border-lg-top-0 border-white-fade-15" data-hotkey="g i" data-ga-click="Header, click, Nav menu - item:issues context:user" aria-label="Issues you created" data-selected-links="/issues /issues/assigned /issues/mentioned /issues" href="/issues">
    Issues
</a>

    <div class="mr-0 mr-lg-3 py-2 py-lg-0 border-top border-lg-top-0 border-white-fade-15">
      <a class="js-selected-navigation-item Header-link py-lg-3 d-inline-block" data-ga-click="Header, click, Nav menu - item:marketplace context:user" data-octo-click="marketplace_click" data-octo-dimensions="location:nav_bar" data-selected-links=" /marketplace" href="/marketplace">
        Marketplace
</a>      

    </div>

  <a class="js-selected-navigation-item Header-link py-lg-3  mr-0 mr-lg-3 py-2 border-top border-lg-top-0 border-white-fade-15" data-ga-click="Header, click, Nav menu - item:explore" data-selected-links="/explore /trending /trending/developers /integrations /integrations/feature/code /integrations/feature/collaborate /integrations/feature/ship showcases showcases_search showcases_landing /explore" href="/explore">
    Explore
</a>


    <a class="Header-link d-block d-lg-none mr-0 mr-lg-3 py-2 py-lg-3 border-top border-lg-top-0 border-white-fade-15" href="/gamyers">
      <img class="avatar avatar-user" src="https://avatars3.githubusercontent.com/u/55701967?s=40&amp;v=4" width="20" height="20" alt="@gamyers" />
      gamyers
</a>
    <!-- '"` --><!-- </textarea></xmp> --></option></form><form action="/logout" accept-charset="UTF-8" method="post"><input type="hidden" name="authenticity_token" value="Eck6Vf1qOU62NL0nL57iqG57UEHtmgD9aShGM3WIQwj+ohjtSYu8+yvpLB6yITA9JXs/xVeIpoqHFdLvjSkO4g==" />
      <button type="submit" class="Header-link mr-0 mr-lg-3 py-2 py-lg-3 border-top border-lg-top-0 border-white-fade-15 d-lg-none btn-link d-block width-full text-left" data-ga-click="Header, sign out, icon:logout" style="padding-left: 2px;">
        <svg class="octicon octicon-sign-out v-align-middle" viewBox="0 0 16 17" version="1.1" width="16" height="17" aria-hidden="true"><path fill-rule="evenodd" d="M12 9V7H8V5h4V3l4 3-4 3zm-2 3H6V3L2 1h8v3h1V1c0-.55-.45-1-1-1H1C.45 0 0 .45 0 1v11.38c0 .39.22.73.55.91L6 16.01V13h4c.55 0 1-.45 1-1V8h-1v4z"></path></svg>
        Sign out
      </button>
</form></nav>

  </div>

  <div class="Header-item Header-item--full flex-justify-center d-lg-none position-relative">
    <div class="css-truncate css-truncate-target width-fit position-absolute left-0 right-0 text-center">
                <svg class="octicon octicon-repo" viewBox="0 0 12 16" version="1.1" width="12" height="16" aria-hidden="true"><path fill-rule="evenodd" d="M4 9H3V8h1v1zm0-3H3v1h1V6zm0-2H3v1h1V4zm0-2H3v1h1V2zm8-1v12c0 .55-.45 1-1 1H6v2l-1.5-1.5L3 16v-2H1c-.55 0-1-.45-1-1V1c0-.55.45-1 1-1h10c.55 0 1 .45 1 1zm-1 10H1v2h2v-1h3v1h5v-2zm0-10H2v9h9V1z"></path></svg>
    <a class="Header-link" href="/rafeesumich">rafeesumich</a>
    /
    <a class="Header-link" href="/rafeesumich/591-GHGFromOilandGasSystems">591-GHGFromOilandGasSystems</a>

</div>
  </div>

  <div class="Header-item mr-0 mr-lg-3 flex-order-1 flex-lg-order-none">
    
    <a aria-label="You have no unread notifications" class="Header-link notification-indicator position-relative tooltipped tooltipped-sw js-socket-channel js-notification-indicator" data-hotkey="g n" data-ga-click="Header, go to notifications, icon:read" data-channel="notification-changed:55701967" href="/notifications">
        <span class="js-indicator-modifier mail-status "></span>
        <svg class="octicon octicon-bell" viewBox="0 0 15 16" version="1.1" width="15" height="16" aria-hidden="true"><path fill-rule="evenodd" d="M14 12v1H0v-1l.73-.58c.77-.77.81-2.55 1.19-4.42C2.69 3.23 6 2 6 2c0-.55.45-1 1-1s1 .45 1 1c0 0 3.39 1.23 4.16 5 .38 1.88.42 3.66 1.19 4.42l.66.58H14zm-7 4c1.11 0 2-.89 2-2H5c0 1.11.89 2 2 2z"></path></svg>
</a>
  </div>


  <div class="Header-item position-relative d-none d-lg-flex">
    <details class="details-overlay details-reset">
  <summary class="Header-link"
      aria-label="Create new…"
      data-ga-click="Header, create new, icon:add">
    <svg class="octicon octicon-plus" viewBox="0 0 12 16" version="1.1" width="12" height="16" aria-hidden="true"><path fill-rule="evenodd" d="M12 9H7v5H5V9H0V7h5V2h2v5h5v2z"></path></svg> <span class="dropdown-caret"></span>
  </summary>
  <details-menu class="dropdown-menu dropdown-menu-sw mt-n2">
    
<a role="menuitem" class="dropdown-item" href="/new" data-ga-click="Header, create new repository">
  New repository
</a>

  <a role="menuitem" class="dropdown-item" href="/new/import" data-ga-click="Header, import a repository">
    Import repository
  </a>

<a role="menuitem" class="dropdown-item" href="https://gist.github.com/" data-ga-click="Header, create new gist">
  New gist
</a>

  <a role="menuitem" class="dropdown-item" href="/organizations/new" data-ga-click="Header, create new organization">
    New organization
  </a>


  <div role="none" class="dropdown-divider"></div>
  <div class="dropdown-header">
    <span title="rafeesumich/591-GHGFromOilandGasSystems">This repository</span>
  </div>
    <a role="menuitem" class="dropdown-item" href="/rafeesumich/591-GHGFromOilandGasSystems/issues/new/choose" data-ga-click="Header, create new issue" data-skip-pjax>
      New issue
    </a>


  </details-menu>
</details>

  </div>

  <div class="Header-item position-relative mr-0 d-none d-lg-flex">
    
  <details class="details-overlay details-reset js-feature-preview-indicator-container" data-feature-preview-indicator-src="/users/gamyers/feature_preview/indicator_check">

  <summary class="Header-link"
    aria-label="View profile and more"
    data-ga-click="Header, show menu, icon:avatar">
    <img
  alt="@gamyers"
  width="20"
  height="20"
  src="https://avatars0.githubusercontent.com/u/55701967?s=60&amp;v=4"
  class="avatar avatar-user " />

      <span class="feature-preview-indicator js-feature-preview-indicator" style="top: 10px;" hidden></span>
    <span class="dropdown-caret"></span>
  </summary>
  <details-menu class="dropdown-menu dropdown-menu-sw mt-n2" style="width: 180px">
    <div class="header-nav-current-user css-truncate"><a role="menuitem" class="no-underline user-profile-link px-3 pt-2 pb-2 mb-n2 mt-n1 d-block" href="/gamyers" data-ga-click="Header, go to profile, text:Signed in as">Signed in as <strong class="css-truncate-target">gamyers</strong></a></div>
    <div role="none" class="dropdown-divider"></div>

      <div class="pl-3 pr-3 f6 user-status-container js-user-status-context pb-1" data-url="/users/status?compact=1&amp;link_mentions=0&amp;truncate=1">
        
<div class="js-user-status-container
    user-status-compact rounded-1 px-2 py-1 mt-2
    border
  " data-team-hovercards-enabled>
  <details class="js-user-status-details details-reset details-overlay details-overlay-dark">
    <summary class="btn-link btn-block link-gray no-underline js-toggle-user-status-edit toggle-user-status-edit "
      role="menuitem" data-hydro-click="{&quot;event_type&quot;:&quot;user_profile.click&quot;,&quot;payload&quot;:{&quot;profile_user_id&quot;:55704682,&quot;target&quot;:&quot;EDIT_USER_STATUS&quot;,&quot;user_id&quot;:55701967,&quot;originating_url&quot;:&quot;https://github.com/rafeesumich/591-GHGFromOilandGasSystems/blob/master/EmissionsProject-Report-MasterNotebook.ipynb&quot;}}" data-hydro-click-hmac="d02585c1935372861516c611b5374c9ea7e43a08b8b8ef41e30c59c826327b14">
      <div class="d-flex">
        <div class="f6 lh-condensed user-status-header
          d-inline-block v-align-middle
            user-status-emoji-only-header circle
            pr-2
"
            style="max-width: 29px"
          >
          <div class="user-status-emoji-container flex-shrink-0 mr-1 mt-1 lh-condensed-ultra v-align-bottom" style="">
            <svg class="octicon octicon-smiley" viewBox="0 0 16 16" version="1.1" width="16" height="16" aria-hidden="true"><path fill-rule="evenodd" d="M8 0C3.58 0 0 3.58 0 8s3.58 8 8 8 8-3.58 8-8-3.58-8-8-8zm4.81 12.81a6.72 6.72 0 01-2.17 1.45c-.83.36-1.72.53-2.64.53-.92 0-1.81-.17-2.64-.53-.81-.34-1.55-.83-2.17-1.45a6.773 6.773 0 01-1.45-2.17A6.59 6.59 0 011.21 8c0-.92.17-1.81.53-2.64.34-.81.83-1.55 1.45-2.17.62-.62 1.36-1.11 2.17-1.45A6.59 6.59 0 018 1.21c.92 0 1.81.17 2.64.53.81.34 1.55.83 2.17 1.45.62.62 1.11 1.36 1.45 2.17.36.83.53 1.72.53 2.64 0 .92-.17 1.81-.53 2.64-.34.81-.83 1.55-1.45 2.17zM4 6.8v-.59c0-.66.53-1.19 1.2-1.19h.59c.66 0 1.19.53 1.19 1.19v.59c0 .67-.53 1.2-1.19 1.2H5.2C4.53 8 4 7.47 4 6.8zm5 0v-.59c0-.66.53-1.19 1.2-1.19h.59c.66 0 1.19.53 1.19 1.19v.59c0 .67-.53 1.2-1.19 1.2h-.59C9.53 8 9 7.47 9 6.8zm4 3.2c-.72 1.88-2.91 3-5 3s-4.28-1.13-5-3c-.14-.39.23-1 .66-1h8.59c.41 0 .89.61.75 1z"></path></svg>
          </div>
        </div>
        <div class="
          d-inline-block v-align-middle
          
          
           css-truncate css-truncate-target 
           user-status-message-wrapper f6"
           style="line-height: 20px;" >
          <div class="d-inline-block text-gray-dark v-align-text-top text-left">
              <span class="text-gray ml-2">Set status</span>
          </div>
        </div>
      </div>
    </summary>
    <details-dialog class="details-dialog rounded-1 anim-fade-in fast Box Box--overlay" role="dialog" tabindex="-1">
      <!-- '"` --><!-- </textarea></xmp> --></option></form><form class="position-relative flex-auto js-user-status-form" action="/users/status?compact=1&amp;link_mentions=0&amp;truncate=1" accept-charset="UTF-8" method="post"><input type="hidden" name="_method" value="put" /><input type="hidden" name="authenticity_token" value="xZNpN+zwzVtnCWkvcZ+bMRI50Dp05NC7tcOzKdvxYpZiRwtmwA+pTTX9G+f/o3ClEcCjJByEHolU854W7XP8aw==" />
        <div class="Box-header bg-gray border-bottom p-3">
          <button class="Box-btn-octicon js-toggle-user-status-edit btn-octicon float-right" type="reset" aria-label="Close dialog" data-close-dialog>
            <svg class="octicon octicon-x" viewBox="0 0 12 16" version="1.1" width="12" height="16" aria-hidden="true"><path fill-rule="evenodd" d="M7.48 8l3.75 3.75-1.48 1.48L6 9.48l-3.75 3.75-1.48-1.48L4.52 8 .77 4.25l1.48-1.48L6 6.52l3.75-3.75 1.48 1.48L7.48 8z"></path></svg>
          </button>
          <h3 class="Box-title f5 text-bold text-gray-dark">Edit status</h3>
        </div>
        <input type="hidden" name="emoji" class="js-user-status-emoji-field" value="">
        <input type="hidden" name="organization_id" class="js-user-status-org-id-field" value="">
        <div class="px-3 py-2 text-gray-dark">
          <div class="js-characters-remaining-container position-relative mt-2">
            <div class="input-group d-table form-group my-0 js-user-status-form-group">
              <span class="input-group-button d-table-cell v-align-middle" style="width: 1%">
                <button type="button" aria-label="Choose an emoji" class="btn-outline btn js-toggle-user-status-emoji-picker btn-open-emoji-picker p-0">
                  <span class="js-user-status-original-emoji" hidden></span>
                  <span class="js-user-status-custom-emoji"></span>
                  <span class="js-user-status-no-emoji-icon" >
                    <svg class="octicon octicon-smiley" viewBox="0 0 16 16" version="1.1" width="16" height="16" aria-hidden="true"><path fill-rule="evenodd" d="M8 0C3.58 0 0 3.58 0 8s3.58 8 8 8 8-3.58 8-8-3.58-8-8-8zm4.81 12.81a6.72 6.72 0 01-2.17 1.45c-.83.36-1.72.53-2.64.53-.92 0-1.81-.17-2.64-.53-.81-.34-1.55-.83-2.17-1.45a6.773 6.773 0 01-1.45-2.17A6.59 6.59 0 011.21 8c0-.92.17-1.81.53-2.64.34-.81.83-1.55 1.45-2.17.62-.62 1.36-1.11 2.17-1.45A6.59 6.59 0 018 1.21c.92 0 1.81.17 2.64.53.81.34 1.55.83 2.17 1.45.62.62 1.11 1.36 1.45 2.17.36.83.53 1.72.53 2.64 0 .92-.17 1.81-.53 2.64-.34.81-.83 1.55-1.45 2.17zM4 6.8v-.59c0-.66.53-1.19 1.2-1.19h.59c.66 0 1.19.53 1.19 1.19v.59c0 .67-.53 1.2-1.19 1.2H5.2C4.53 8 4 7.47 4 6.8zm5 0v-.59c0-.66.53-1.19 1.2-1.19h.59c.66 0 1.19.53 1.19 1.19v.59c0 .67-.53 1.2-1.19 1.2h-.59C9.53 8 9 7.47 9 6.8zm4 3.2c-.72 1.88-2.91 3-5 3s-4.28-1.13-5-3c-.14-.39.23-1 .66-1h8.59c.41 0 .89.61.75 1z"></path></svg>
                  </span>
                </button>
              </span>
              <text-expander keys=": @" data-mention-url="/autocomplete/user-suggestions" data-emoji-url="/autocomplete/emoji">
                <input
                  type="text"
                  autocomplete="off"
                  data-no-org-url="/autocomplete/user-suggestions"
                  data-org-url="/suggestions?mention_suggester=1"
                  data-maxlength="80"
                  class="d-table-cell width-full form-control js-user-status-message-field js-characters-remaining-field"
                  placeholder="What's happening?"
                  name="message"
                  value=""
                  aria-label="What is your current status?">
              </text-expander>
              <div class="error">Could not update your status, please try again.</div>
            </div>
            <div style="margin-left: 53px" class="my-1 text-small label-characters-remaining js-characters-remaining" data-suffix="remaining" hidden>
              80 remaining
            </div>
          </div>
          <include-fragment class="js-user-status-emoji-picker" data-url="/users/status/emoji"></include-fragment>
          <div class="overflow-auto ml-n3 mr-n3 px-3 border-bottom" style="max-height: 33vh">
            <div class="user-status-suggestions js-user-status-suggestions collapsed overflow-hidden">
              <h4 class="f6 text-normal my-3">Suggestions:</h4>
              <div class="mx-3 mt-2 clearfix">
                  <div class="float-left col-6">
                      <button type="button" value=":palm_tree:" class="d-flex flex-items-baseline flex-items-stretch lh-condensed f6 btn-link link-gray no-underline js-predefined-user-status mb-1">
                        <div class="emoji-status-width mr-2 v-align-middle js-predefined-user-status-emoji">
                          <g-emoji alias="palm_tree" fallback-src="https://github.githubassets.com/images/icons/emoji/unicode/1f334.png">🌴</g-emoji>
                        </div>
                        <div class="d-flex flex-items-center no-underline js-predefined-user-status-message ws-normal text-left" style="border-left: 1px solid transparent">
                          On vacation
                        </div>
                      </button>
                      <button type="button" value=":face_with_thermometer:" class="d-flex flex-items-baseline flex-items-stretch lh-condensed f6 btn-link link-gray no-underline js-predefined-user-status mb-1">
                        <div class="emoji-status-width mr-2 v-align-middle js-predefined-user-status-emoji">
                          <g-emoji alias="face_with_thermometer" fallback-src="https://github.githubassets.com/images/icons/emoji/unicode/1f912.png">🤒</g-emoji>
                        </div>
                        <div class="d-flex flex-items-center no-underline js-predefined-user-status-message ws-normal text-left" style="border-left: 1px solid transparent">
                          Out sick
                        </div>
                      </button>
                  </div>
                  <div class="float-left col-6">
                      <button type="button" value=":house:" class="d-flex flex-items-baseline flex-items-stretch lh-condensed f6 btn-link link-gray no-underline js-predefined-user-status mb-1">
                        <div class="emoji-status-width mr-2 v-align-middle js-predefined-user-status-emoji">
                          <g-emoji alias="house" fallback-src="https://github.githubassets.com/images/icons/emoji/unicode/1f3e0.png">🏠</g-emoji>
                        </div>
                        <div class="d-flex flex-items-center no-underline js-predefined-user-status-message ws-normal text-left" style="border-left: 1px solid transparent">
                          Working from home
                        </div>
                      </button>
                      <button type="button" value=":dart:" class="d-flex flex-items-baseline flex-items-stretch lh-condensed f6 btn-link link-gray no-underline js-predefined-user-status mb-1">
                        <div class="emoji-status-width mr-2 v-align-middle js-predefined-user-status-emoji">
                          <g-emoji alias="dart" fallback-src="https://github.githubassets.com/images/icons/emoji/unicode/1f3af.png">🎯</g-emoji>
                        </div>
                        <div class="d-flex flex-items-center no-underline js-predefined-user-status-message ws-normal text-left" style="border-left: 1px solid transparent">
                          Focusing
                        </div>
                      </button>
                  </div>
              </div>
            </div>
            <div class="user-status-limited-availability-container">
              <div class="form-checkbox my-0">
                <input type="checkbox" name="limited_availability" value="1" class="js-user-status-limited-availability-checkbox" data-default-message="I may be slow to respond." aria-describedby="limited-availability-help-text-truncate-true-compact-true" id="limited-availability-truncate-true-compact-true">
                <label class="d-block f5 text-gray-dark mb-1" for="limited-availability-truncate-true-compact-true">
                  Busy
                </label>
                <p class="note" id="limited-availability-help-text-truncate-true-compact-true">
                  When others mention you, assign you, or request your review,
                  GitHub will let them know that you have limited availability.
                </p>
              </div>
            </div>
          </div>
          <div class="d-inline-block f5 mr-2 pt-3 pb-2" >
  <div class="d-inline-block mr-1">
    Clear status
  </div>

  <details class="js-user-status-expire-drop-down f6 dropdown details-reset details-overlay d-inline-block mr-2">
    <summary class="f5 btn-link link-gray-dark border px-2 py-1 rounded-1" aria-haspopup="true">
      <div class="js-user-status-expiration-interval-selected d-inline-block v-align-baseline">
        Never
      </div>
      <div class="dropdown-caret"></div>
    </summary>

    <ul class="dropdown-menu dropdown-menu-se pl-0 overflow-auto" style="width: 220px; max-height: 15.5em">
      <li>
        <button type="button" class="btn-link dropdown-item js-user-status-expire-button ws-normal" title="Never">
          <span class="d-inline-block text-bold mb-1">Never</span>
          <div class="f6 lh-condensed">Keep this status until you clear your status or edit your status.</div>
        </button>
      </li>
      <li class="dropdown-divider" role="none"></li>
        <li>
          <button type="button" class="btn-link dropdown-item ws-normal js-user-status-expire-button" title="in 30 minutes" value="2020-05-22T23:02:26-05:00">
            in 30 minutes
          </button>
        </li>
        <li>
          <button type="button" class="btn-link dropdown-item ws-normal js-user-status-expire-button" title="in 1 hour" value="2020-05-22T23:32:26-05:00">
            in 1 hour
          </button>
        </li>
        <li>
          <button type="button" class="btn-link dropdown-item ws-normal js-user-status-expire-button" title="in 4 hours" value="2020-05-23T02:32:26-05:00">
            in 4 hours
          </button>
        </li>
        <li>
          <button type="button" class="btn-link dropdown-item ws-normal js-user-status-expire-button" title="today" value="2020-05-22T23:59:59-05:00">
            today
          </button>
        </li>
        <li>
          <button type="button" class="btn-link dropdown-item ws-normal js-user-status-expire-button" title="this week" value="2020-05-24T23:59:59-05:00">
            this week
          </button>
        </li>
    </ul>
  </details>
  <input class="js-user-status-expiration-date-input" type="hidden" name="expires_at" value="">
</div>

          <include-fragment class="js-user-status-org-picker" data-url="/users/status/organizations"></include-fragment>
        </div>
        <div class="d-flex flex-items-center flex-justify-between p-3 border-top">
          <button type="submit" disabled class="width-full btn btn-primary mr-2 js-user-status-submit">
            Set status
          </button>
          <button type="button" disabled class="width-full js-clear-user-status-button btn ml-2 ">
            Clear status
          </button>
        </div>
</form>    </details-dialog>
  </details>
</div>

      </div>
      <div role="none" class="dropdown-divider"></div>

    <a role="menuitem" class="dropdown-item" href="/gamyers" data-ga-click="Header, go to profile, text:your profile">Your profile</a>

    <a role="menuitem" class="dropdown-item" href="/gamyers?tab=repositories" data-ga-click="Header, go to repositories, text:your repositories">Your repositories</a>

    <a role="menuitem" class="dropdown-item" href="/gamyers?tab=projects" data-ga-click="Header, go to projects, text:your projects">Your projects</a>

    <a role="menuitem" class="dropdown-item" href="/gamyers?tab=stars" data-ga-click="Header, go to starred repos, text:your stars">Your stars</a>
      <a role="menuitem" class="dropdown-item" href="https://gist.github.com/mine" data-ga-click="Header, your gists, text:your gists">Your gists</a>





    <div role="none" class="dropdown-divider"></div>
      
<div id="feature-enrollment-toggle" class="hide-sm hide-md feature-preview-details position-relative">
  <button
    type="button"
    class="dropdown-item btn-link"
    role="menuitem"
    data-feature-preview-trigger-url="/users/gamyers/feature_previews"
    data-feature-preview-close-details="{&quot;event_type&quot;:&quot;feature_preview.clicks.close_modal&quot;,&quot;payload&quot;:{&quot;originating_url&quot;:&quot;https://github.com/rafeesumich/591-GHGFromOilandGasSystems/blob/master/EmissionsProject-Report-MasterNotebook.ipynb&quot;,&quot;user_id&quot;:55701967}}"
    data-feature-preview-close-hmac="963be52871b60211aff720ee1e0b854d64a2a0999efed48a200dffdfa8dc84ef"
    data-hydro-click="{&quot;event_type&quot;:&quot;feature_preview.clicks.open_modal&quot;,&quot;payload&quot;:{&quot;link_location&quot;:&quot;user_dropdown&quot;,&quot;originating_url&quot;:&quot;https://github.com/rafeesumich/591-GHGFromOilandGasSystems/blob/master/EmissionsProject-Report-MasterNotebook.ipynb&quot;,&quot;user_id&quot;:55701967}}"
    data-hydro-click-hmac="b44229e0cb62e2c0cd6206f0c1117546ac40927cb9a573783f7540ff434bb98d"
  >
    Feature preview
  </button>
    <span class="feature-preview-indicator js-feature-preview-indicator" hidden></span>
</div>

    <a role="menuitem" class="dropdown-item" href="https://help.github.com" data-ga-click="Header, go to help, text:help">Help</a>
    <a role="menuitem" class="dropdown-item" href="/settings/profile" data-ga-click="Header, go to settings, icon:settings">Settings</a>
    <!-- '"` --><!-- </textarea></xmp> --></option></form><form class="logout-form" action="/logout" accept-charset="UTF-8" method="post"><input type="hidden" name="authenticity_token" value="+loZd2wT6bM8+NAf5DubyKfzFApNzha2loq3Bs14xQoVMTvP2PJsBqElQSZ5hEld7PN7jvfcsMF4tyPaNdmI4A==" />
      
      <button type="submit" class="dropdown-item dropdown-signout" data-ga-click="Header, sign out, icon:logout" role="menuitem">
        Sign out
      </button>
      <input type="text" name="required_field_4446" hidden="hidden" class="form-control" /><input type="hidden" name="timestamp" value="1590204746802" class="form-control" /><input type="hidden" name="timestamp_secret" value="25e5e3e219a5a4495f21be8964c68c0b29220adecba6534023d8e2e7a064f9b3" class="form-control" />
</form>  </details-menu>
</details>

  </div>

</header>

        

    </div>

  <div id="start-of-content" class="show-on-focus"></div>




    <div id="js-flash-container">


  <template class="js-flash-template">
    <div class="flash flash-full  js-flash-template-container">
  <div class="container-lg px-2" >
    <button class="flash-close js-flash-close" type="button" aria-label="Dismiss this message">
      <svg class="octicon octicon-x" viewBox="0 0 12 16" version="1.1" width="12" height="16" aria-hidden="true"><path fill-rule="evenodd" d="M7.48 8l3.75 3.75-1.48 1.48L6 9.48l-3.75 3.75-1.48-1.48L4.52 8 .77 4.25l1.48-1.48L6 6.52l3.75-3.75 1.48 1.48L7.48 8z"></path></svg>
    </button>
    
      <div class="js-flash-template-message"></div>

  </div>
</div>
  </template>
</div>


      

  <include-fragment class="js-notification-shelf-include-fragment" data-base-src="https://github.com/notifications/beta/shelf"></include-fragment>




  <div class="application-main " data-commit-hovercards-enabled>
        <div itemscope itemtype="http://schema.org/SoftwareSourceCode" class="">
    <main  >
      

  











  <div class="pagehead repohead hx_repohead readability-menu bg-gray-light pb-0 pt-0 pt-lg-3">

    <div class="d-flex container-lg mb-4 p-responsive d-none d-lg-flex">

      <div class="flex-auto min-width-0 width-fit mr-3">
        <h1 class="public  d-flex flex-wrap flex-items-center break-word float-none ">
  <span class="flex-self-stretch" style="margin-top: -2px;">
      <svg class="octicon octicon-repo" viewBox="0 0 12 16" version="1.1" width="12" height="16" aria-hidden="true"><path fill-rule="evenodd" d="M4 9H3V8h1v1zm0-3H3v1h1V6zm0-2H3v1h1V4zm0-2H3v1h1V2zm8-1v12c0 .55-.45 1-1 1H6v2l-1.5-1.5L3 16v-2H1c-.55 0-1-.45-1-1V1c0-.55.45-1 1-1h10c.55 0 1 .45 1 1zm-1 10H1v2h2v-1h3v1h5v-2zm0-10H2v9h9V1z"></path></svg>
  </span>
  <span class="author ml-2 flex-self-stretch" itemprop="author">
    <a class="url fn" rel="author" data-hovercard-type="user" data-hovercard-url="/users/rafeesumich/hovercard" data-octo-click="hovercard-link-click" data-octo-dimensions="link_type:self" href="/rafeesumich">rafeesumich</a>
  </span>
  <span class="path-divider flex-self-stretch">/</span>
  <strong itemprop="name" class="mr-2 flex-self-stretch">
    <a data-pjax="#js-repo-pjax-container" href="/rafeesumich/591-GHGFromOilandGasSystems">591-GHGFromOilandGasSystems</a>
  </strong>
  
</h1>


      </div>

      <ul class="pagehead-actions flex-shrink-0 " >




  <li>
    
    <!-- '"` --><!-- </textarea></xmp> --></option></form><form data-remote="true" class="clearfix js-social-form js-social-container" action="/notifications/subscribe" accept-charset="UTF-8" method="post"><input type="hidden" name="authenticity_token" value="RzfEY6fJ1JgUOBPUUrFSA2FVc94g8STU5S7b5gq8E6cXtrgPP2HX4mfeDF5iNyDYEySmEfRATTYKNa0W4FofOw==" />      <input type="hidden" name="repository_id" value="258839918">

      <details class="details-reset details-overlay select-menu float-left">
        <summary class="select-menu-button float-left btn btn-sm btn-with-count" data-hydro-click="{&quot;event_type&quot;:&quot;repository.click&quot;,&quot;payload&quot;:{&quot;target&quot;:&quot;WATCH_BUTTON&quot;,&quot;repository_id&quot;:258839918,&quot;originating_url&quot;:&quot;https://github.com/rafeesumich/591-GHGFromOilandGasSystems/blob/master/EmissionsProject-Report-MasterNotebook.ipynb&quot;,&quot;user_id&quot;:55701967}}" data-hydro-click-hmac="232c821f9d1505eed3a5a48e10659fc5964997fceb4026a5dd9cf43d52e25765" data-ga-click="Repository, click Watch settings, action:blob#show">          <span data-menu-button>
              <svg class="octicon octicon-eye v-align-text-bottom" viewBox="0 0 16 16" version="1.1" width="16" height="16" aria-hidden="true"><path fill-rule="evenodd" d="M8.06 2C3 2 0 8 0 8s3 6 8.06 6C13 14 16 8 16 8s-3-6-7.94-6zM8 12c-2.2 0-4-1.78-4-4 0-2.2 1.8-4 4-4 2.22 0 4 1.8 4 4 0 2.22-1.78 4-4 4zm2-4c0 1.11-.89 2-2 2-1.11 0-2-.89-2-2 0-1.11.89-2 2-2 1.11 0 2 .89 2 2z"></path></svg>
              Watch
          </span>
</summary>        <details-menu
          class="select-menu-modal position-absolute mt-5"
          style="z-index: 99;">
          <div class="select-menu-header">
            <span class="select-menu-title">Notifications</span>
          </div>
          <div class="select-menu-list">
            <button type="submit" name="do" value="included" class="select-menu-item width-full" aria-checked="true" role="menuitemradio">
              <svg class="octicon octicon-check select-menu-item-icon" viewBox="0 0 12 16" version="1.1" width="12" height="16" aria-hidden="true"><path fill-rule="evenodd" d="M12 5l-8 8-4-4 1.5-1.5L4 10l6.5-6.5L12 5z"></path></svg>
              <div class="select-menu-item-text">
                <span class="select-menu-item-heading">Not watching</span>
                <span class="description">Be notified only when participating or @mentioned.</span>
                <span class="hidden-select-button-text" data-menu-button-contents>
                  <svg class="octicon octicon-eye v-align-text-bottom" viewBox="0 0 16 16" version="1.1" width="16" height="16" aria-hidden="true"><path fill-rule="evenodd" d="M8.06 2C3 2 0 8 0 8s3 6 8.06 6C13 14 16 8 16 8s-3-6-7.94-6zM8 12c-2.2 0-4-1.78-4-4 0-2.2 1.8-4 4-4 2.22 0 4 1.8 4 4 0 2.22-1.78 4-4 4zm2-4c0 1.11-.89 2-2 2-1.11 0-2-.89-2-2 0-1.11.89-2 2-2 1.11 0 2 .89 2 2z"></path></svg>
                  Watch
                </span>
              </div>
            </button>

            <button type="submit" name="do" value="release_only" class="select-menu-item width-full" aria-checked="false" role="menuitemradio">
              <svg class="octicon octicon-check select-menu-item-icon" viewBox="0 0 12 16" version="1.1" width="12" height="16" aria-hidden="true"><path fill-rule="evenodd" d="M12 5l-8 8-4-4 1.5-1.5L4 10l6.5-6.5L12 5z"></path></svg>
              <div class="select-menu-item-text">
                <span class="select-menu-item-heading">Releases only</span>
                <span class="description">Be notified of new releases, and when participating or @mentioned.</span>
                <span class="hidden-select-button-text" data-menu-button-contents>
                  <svg class="octicon octicon-eye v-align-text-bottom" viewBox="0 0 16 16" version="1.1" width="16" height="16" aria-hidden="true"><path fill-rule="evenodd" d="M8.06 2C3 2 0 8 0 8s3 6 8.06 6C13 14 16 8 16 8s-3-6-7.94-6zM8 12c-2.2 0-4-1.78-4-4 0-2.2 1.8-4 4-4 2.22 0 4 1.8 4 4 0 2.22-1.78 4-4 4zm2-4c0 1.11-.89 2-2 2-1.11 0-2-.89-2-2 0-1.11.89-2 2-2 1.11 0 2 .89 2 2z"></path></svg>
                  Unwatch releases
                </span>
              </div>
            </button>

            <button type="submit" name="do" value="subscribed" class="select-menu-item width-full" aria-checked="false" role="menuitemradio">
              <svg class="octicon octicon-check select-menu-item-icon" viewBox="0 0 12 16" version="1.1" width="12" height="16" aria-hidden="true"><path fill-rule="evenodd" d="M12 5l-8 8-4-4 1.5-1.5L4 10l6.5-6.5L12 5z"></path></svg>
              <div class="select-menu-item-text">
                <span class="select-menu-item-heading">Watching</span>
                <span class="description">Be notified of all conversations.</span>
                <span class="hidden-select-button-text" data-menu-button-contents>
                  <svg class="octicon octicon-eye v-align-text-bottom" viewBox="0 0 16 16" version="1.1" width="16" height="16" aria-hidden="true"><path fill-rule="evenodd" d="M8.06 2C3 2 0 8 0 8s3 6 8.06 6C13 14 16 8 16 8s-3-6-7.94-6zM8 12c-2.2 0-4-1.78-4-4 0-2.2 1.8-4 4-4 2.22 0 4 1.8 4 4 0 2.22-1.78 4-4 4zm2-4c0 1.11-.89 2-2 2-1.11 0-2-.89-2-2 0-1.11.89-2 2-2 1.11 0 2 .89 2 2z"></path></svg>
                  Unwatch
                </span>
              </div>
            </button>

            <button type="submit" name="do" value="ignore" class="select-menu-item width-full" aria-checked="false" role="menuitemradio">
              <svg class="octicon octicon-check select-menu-item-icon" viewBox="0 0 12 16" version="1.1" width="12" height="16" aria-hidden="true"><path fill-rule="evenodd" d="M12 5l-8 8-4-4 1.5-1.5L4 10l6.5-6.5L12 5z"></path></svg>
              <div class="select-menu-item-text">
                <span class="select-menu-item-heading">Ignoring</span>
                <span class="description">Never be notified.</span>
                <span class="hidden-select-button-text" data-menu-button-contents>
                  <svg class="octicon octicon-mute v-align-text-bottom" viewBox="0 0 16 16" version="1.1" width="16" height="16" aria-hidden="true"><path fill-rule="evenodd" d="M8 2.81v10.38c0 .67-.81 1-1.28.53L3 10H1c-.55 0-1-.45-1-1V7c0-.55.45-1 1-1h2l3.72-3.72C7.19 1.81 8 2.14 8 2.81zm7.53 3.22l-1.06-1.06-1.97 1.97-1.97-1.97-1.06 1.06L11.44 8 9.47 9.97l1.06 1.06 1.97-1.97 1.97 1.97 1.06-1.06L13.56 8l1.97-1.97z"></path></svg>
                  Stop ignoring
                </span>
              </div>
            </button>
          </div>
        </details-menu>
      </details>
        <a class="social-count js-social-count"
          href="/rafeesumich/591-GHGFromOilandGasSystems/watchers"
          aria-label="1 user is watching this repository">
=======
{
 "cells": [
  {
   "cell_type": "markdown",
   "metadata": {},
   "source": [
    "# SIADS 591-592 Milestone 1 Project\n",
    "\n",
    "## Greenhouse Gas (GHG) Emissions from Upstream and Midstream US Oil and Gas Operations\n",
    "\n",
    "By Rafee Shaik and Greg Myers\n",
    "<br>April-May 2020\n",
    "\n",
    "\n",
    "## Project Overview\n",
    "\n",
    "The Oil and Natural Gas industry consists of three sectors, <b>Upstream</b> sector that focuses on Exploring and Producing (E&P) Hydrocarbons, <b>Midstream</b> sector focuses on Transportation and storage facilities, and <b>Downstream</b> sector will process raw materials such as crude oil and convert it into consumer products like gasoline. <br>\n",
    "Enhanced hydrocarbon extraction methods, that include horizontal drilling and fracking boosted Crude Oil and Natural Gas Production in the US since 2007. The purpose of this project is to examine Greenhouse Gas (GHG) Emissions from upstream and midstream sectors of the industry and determine if there is a correlation between accelerated hydrocarbon (Crude oil and Natural gas) production in the most recent decade and GHG emissions rates. If a correlation is found, additional analysis may be able to reveal the causal source. The project will focus on three GHGs, Carbon-Dioxide (CO2), Methane (CH4), and Nitrous-Oxide (N2O).\n",
    "\n",
    "\n",
    "\n",
    "## Project Motivation\n",
    "There has been an increase in US hydrocarbons production since the shale boom that started in 2007/2008 (Fig-1). Hydrocarbon production in the US increased steadily since then, this increase in production led to an increase in GHG emissions from Upstream and Midstream operations of Oil and Gas companies.\n",
    "\n",
    "It is in every stakeholder's interest to control these emissions while optimizing the production. These stakeholders include the operating company, environmental protection agencies, and local and federal governments. The goal of the study is to find any correlation between increased hydrocarbon production and industry sector GHG emissions? Does the correlation apply to the industry as a whole or one or more individual components? This study can also lead to identifying the opportunities to improve the pipeline infrastructure and invest in pneumatic devices that can detect and prevent hydrocarbon emissions.\n",
    "\n",
    "Both the project team members work in the Oil and Gas industry and are intrigued to find opportunities to reduce GHG emissions while optimizing the production.\n",
    "\n",
    "\n",
    "## Data Sources\n",
    "1. <b>Greenhouse Gas Emissions Data</b>\n",
    "<br><b>Source:</b> US Oil and Gas Upstream (Exploration & Production) and Midstream (Pipelines and Storage) facilities can be accessed from the U.S. Environmental Protection Agency (EPA) FLIGHT database.\n",
    "<br><b>Location:</b> https://ghgdata.epa.gov/ghgp/main.do\n",
    "<br><b>Access Method:</b> Facility Level Information on GreenHouse gases Tool (FLIGHT) database can be accessed through the website: https://ghgdata.epa.gov/ghgp/main.do. Download the data in excel format after selecting appropriate filters.\n",
    "<br><b>Format:</b>  Excel spreadsheets \n",
    "<br><b>Dataset Size:</b> Six excel spreadsheets with a total of 41K records.\n",
    "<br><b>Time Period:</b> This data covers emissions from upsteam and midsteam Oil & Gas operations between 2011 and 2018.\n",
    "<br>\n",
    "\n",
    "2. <b> Crude Oil and Natural Gas Production </b>\n",
    "<br><b>Name:</b> Crude Oil and Natural Gas Production\n",
    "U.S. Field Production of Crude Oil, U.S. Natural Gas Gross Withdrawals; Yearly\n",
    "<br><b>Source:</b> Energy Information Administration (EIA) datastore.\n",
    "<br><b>Location:</b> https://www.eia.gov/opendata/qb.php?category=371\n",
    "<br><b>Access Method:</b> API query\n",
    "<br><b>Format:</b> JSON\n",
    "<br><b>Dataset Size:</b> Crude records: 161; Gas records: 84; ~3 kilobytes each for crude and oil\n",
    "<br><b>Time Period:</b> Crude production records from 1920 to 2019, Natural Gas production records from 1980 to 2019.\n",
    "\n",
    "## Data Manipulation Methods:\n",
    "### Processing Emissions Data:\n",
    "1.\t<b>Data Acquisition</b>:\n",
    "<br>a. Data that was downloaded from EPA is in Excel spreadsheet format.\n",
    "<br>b.\tEPA Emission reports are separated by the industry sector (upstream and midstream) and GHG gas type (CO2, CH4, and N2O). All together we have 6 excel spreadsheets.\n",
    "<br>c.\tWithin each excel we have a separate worksheet for each reporting year, starting from  2011 to 2018.\n",
    "2.\t<b>Parsing Excel spreadsheets</b>:\n",
    "Pandas’ <b>read_excel</b> module is useful in parsing excel spreadsheets. Read_excel module can read multiple worksheets within an excel book. The option <b>\"sheet_name=’null’\"</b> is useful to read all sheets from an excel. Read_excel() returns a named dictionary containing worksheet name as key and corresponding data in a dataframe as value.<br>\n",
    "Iterate through each data frame in the dictionary, add three columns, 1.  reporting_year with value from dictionary key, 2. GHG Gas type with the value from part of the source file name, and 3. Industry sector with the value from part of the source file name.\n",
    "<br>Do the same for all six excel spreadsheets.\n",
    "<br>Combine all dataframes into a single dataframe using pandas.concat() method.\n",
    "3.\t<b>Processing the data</b>:\n",
    "Each row represents a facility operated under single company ownership or joint venture between multiple companies. So we need to separate the joint ventures and create a row for each company, calculate their portion of emission based on joint venture percentages. \n",
    "<br> We use regular expressions to parse out the company name and partnership percentages into separate columns.\n",
    "For example: \n",
    "```python\n",
    "\"SHELL OIL CO (51.8%); EXXONMOBIL CORP (48.2%)\"\n",
    "```\n",
    "Here is the regular expression used to parse the company names and partnership percentages: \n",
    "```python\n",
    "regex=r'(?P<PARENT_COMPANY>[-\\w\\s\\d,&./()#]+)([\\(])(?P<CONTRIBUTION>[\\(\\d.]+)([%\\)]*)'\n",
    "```\n",
    "Melt this single row into multiple rows that represent a separate row for each partner company. Use the method <b>‘explode’</b> to separate the individual companies.\n",
    "Convert partnership percentage and emission quantity from text type to numeric type.\n",
    "Replace non-numeric values with zero ‘0’ \n",
    "4.\t<b>Aggregation</b>:\n",
    "We applied different levels of aggregations in our analysis. Data has attributes representing Company Name, Reporting Year, Gas type, and Industry sector.\n",
    "<br>a.\tGHG Gas type analysis: Data were separated by GHG gas type (CO2, CH4, and N2O), all these emission quantities are represented in CO2 equivalents. We will sum them up by the Company and Gas type within the reporting year to compare the emissions of different gas types.\n",
    "<br>b.\tCompany level emissions: Each company can operate multiple facilities across the US, we will sum the emissions from the facilities operated by the same company within a reporting year. This data will be used to compare the emissions from different companies over the period of time.\n",
    "<br>c.\tSector level emissions: Data will be aggregated by the industry sector within the reporting year.\n",
    "<br>d.\tYearly GHG emissions: We will sum up the emissions from all companies, sectors, and gas types within the reporting year\n",
    "\n",
    "5.\t<b>Joining Emissions data with other dataset</b>:\n",
    "Reporting_year is be used as joining key when joining Emissions dataset with other datasets in the analysis such as Yearly Crude Oil and Natural Gas Production and Emissions from other Industries.\n",
    "\n",
    "6.\t<b>Challenges</b>: \n",
    "Over the period of time companies report their emissions with different names, like ‘Conoco Phillips’, ‘ConocoPhillips’, ‘ConocoPhillips Company’ all these company names represent ‘ConocoPhillips’\n",
    "We used a third-party library ‘cleanco’ to clean up the company names, this library helped to remove the company type suffixes, like ‘LLC’, ‘Co’, etc. We performed company name lookup to standardize the company names. We put these company name lookup table in a CSV file.\n",
    "7. Saving aggregated data for Analysis and visualizations:\n",
    "Aggregated emissions data will be saved in 'Emissions_aggregatedData.csv' CSV file\n",
    "\n",
    "\n",
    "\n",
    "### Processing Crude and Natural Gas Production volumes datasets:\n",
    "1. Save API query results to a JSON file as an immutable source data reference.\n",
    "2. Import JSON data (crude & gas) into Pandas data frames.\n",
    "3. Perform Explode operations to separate date and production data.\n",
    "4. Transform Date column into a DateTime data type.\n",
    "5. Create and populate a product type column and drop unused columns.\n",
    "6. Append crude and gas data frames (long-format).\n",
    "7. Save the data frame in CSV format as a source for continued analysis.\n",
    "8. Saving aggregated data for Analysis and visualizations:\n",
    "Processed Crude Oil and Natural gas productioin data is be saved in 'Processed_AnnualProductionData.csv' csv file\n",
    "\n",
    "### Data Integration:\n",
    "Combine the above two datasets (Emissions and Production volumes) by the Reporting year, with this combined dataset we can compare greenhouse gas emission volumes with Crude Oil and Natural Gas production volumes.\n",
    "Joined dataset is saved in a CSV file with name 'ProductionVsEmissionSplit.csv'\n",
    "\n",
    "## Analysis and Visualization\n",
    "\n",
    "###### Summary of visualizations:\n",
    "In this notebook we genearted 8 visualizations, seven of them are time-series line+scatter plots and a Summary table (fig-2) showing emissions from each company between 2011 and 2018.\n",
    "* Fig-1: Trend line of total GHG emissions from US Oil and Gas Companies between 2011 and 2018.\n",
    "* Fig-2: A table showing GHG Emissions from individual US Oil and Gas Producers between 2011 and 2018\n",
    "* Fig-3: An Interactive chart - Emission trends between 2009 and 2018 from the top US emitters\n",
    "* Fig-4: An Interactive chart to compare emissions between different companies and sectors\n",
    "* Fig-5: A 4X4 Subplots to show, Emissions by sector, GHG Gas Type, Number of Operators(companies) in each sector and Total emissions\n",
    "* Fig-6: An interactive chart to compare Emissions from Upstream and Midstream Sectors VS Crude Oil and Natural Gas Production\n",
    "* Fig-7: A histogram to identify the common emission quantity range from US Oil & Gas companies\n",
    "* Fig-8: A line chart with predicted 2019 GHG Emission\n",
    "\n",
    "We prepared a linear regression model between between Hydrocarbon production and GHG emission volumes; We will use this model to estimate the future emissions based on production volume\n",
    "\n",
    "## Data processing and Project Presentation workflow\n",
    "\n",
    "Project report will be split into two jupyter notebooks.\n",
    "\n",
    "1. Notebook <b>‘EmissionsDataPreparation.ipynb’</b> will concentrate on data acquisition and preparation (manipulation) for Visualizations and Analysis. Output of this notebook will be saved in several CSV(Comma Separated Values) files.\n",
    "2. Notebook <b>‘EmissionsProject-Visualizations.ipynb’</b> will take the CSV files prepared by EmissionsDataPreparation.ipynb notebook and generate required visualizations and analysis.\n",
    "\n",
    "###### Visualization Technique:\n",
    "We used graph_objs library from plotly for all visualizations in this analysis.\n",
    "* Most of our plots are scatter plots with line marks over time-series data.\n",
    "* We used ipywidgets to add interactivity with the charts.\n",
    "\n",
    "<b>Other libraries used:</b>\n",
    "<br>Pandas, numpy, scipy, matplotlib, sklearn\n"
   ]
  },
  {
   "cell_type": "code",
   "execution_count": 1,
   "metadata": {},
   "outputs": [
    {
     "data": {
      "text/html": [
       "        <script type=\"text/javascript\">\n",
       "        window.PlotlyConfig = {MathJaxConfig: 'local'};\n",
       "        if (window.MathJax) {MathJax.Hub.Config({SVG: {font: \"STIX-Web\"}});}\n",
       "        if (typeof require !== 'undefined') {\n",
       "        require.undef(\"plotly\");\n",
       "        requirejs.config({\n",
       "            paths: {\n",
       "                'plotly': ['https://cdn.plot.ly/plotly-latest.min']\n",
       "            }\n",
       "        });\n",
       "        require(['plotly'], function(Plotly) {\n",
       "            window._Plotly = Plotly;\n",
       "        });\n",
       "        }\n",
       "        </script>\n",
       "        "
      ]
     },
     "metadata": {},
     "output_type": "display_data"
    }
   ],
   "source": [
    "#Libraries for data manipulation\n",
    "import pandas as pd\n",
    "import numpy as np\n",
    "import datetime\n",
    "from datetime import timedelta\n",
    "\n",
    "#Libraries for linear regression and calculating r-value.\n",
    "import scipy as sp\n",
    "from scipy import special\n",
    "from sklearn import datasets, linear_model\n",
    "from sklearn.metrics import mean_squared_error, r2_score\n",
    "\n",
    "#plotly imports - main graphics library\n",
    "import plotly as py\n",
    "import plotly.graph_objs as go\n",
    "from plotly.subplots import make_subplots\n",
    "import matplotlib as mpl\n",
    "import matplotlib.pyplot as plt\n",
    "#set the plotly offline mode\n",
    "py.offline.init_notebook_mode(connected=True)\n",
    "\n",
    "# ipywidgets for interactivity\n",
    "import ipywidgets as widgets\n",
    "from ipywidgets import interact\n",
    "from ipywidgets import HBox,VBox, Label\n",
    "\n",
    "# Supress warnings\n",
    "import warnings\n",
    "warnings.filterwarnings('ignore')\n",
    "\n",
    "%matplotlib inline\n",
    "%config IPCompleter.greedy=True"
   ]
  },
  {
   "cell_type": "markdown",
   "metadata": {},
   "source": [
    "Emissions_aggregatedData.csv is one of the main datasets for several visualizations in this analysis. Load the CSV file into a pandas data frame and select required columns used in various figures in the analysis"
   ]
  },
  {
   "cell_type": "code",
   "execution_count": 7,
   "metadata": {},
   "outputs": [
    {
     "data": {
      "text/html": [
       "<div>\n",
       "<style scoped>\n",
       "    .dataframe tbody tr th:only-of-type {\n",
       "        vertical-align: middle;\n",
       "    }\n",
       "\n",
       "    .dataframe tbody tr th {\n",
       "        vertical-align: top;\n",
       "    }\n",
       "\n",
       "    .dataframe thead th {\n",
       "        text-align: right;\n",
       "    }\n",
       "</style>\n",
       "<table border=\"1\" class=\"dataframe\">\n",
       "  <thead>\n",
       "    <tr style=\"text-align: right;\">\n",
       "      <th></th>\n",
       "      <th>COMPANY</th>\n",
       "      <th>REPORTING_YEAR</th>\n",
       "      <th>SECTOR</th>\n",
       "      <th>GHG_CONTRIBUTION</th>\n",
       "      <th>MIDSTREAM_RANK</th>\n",
       "      <th>UPSTREAM_RANK</th>\n",
       "    </tr>\n",
       "  </thead>\n",
       "  <tbody>\n",
       "    <tr>\n",
       "      <th>0</th>\n",
       "      <td>ENERGY TRANSFER PARTNERS</td>\n",
       "      <td>2016</td>\n",
       "      <td>Midstream</td>\n",
       "      <td>16982839</td>\n",
       "      <td>4.0</td>\n",
       "      <td>430.0</td>\n",
       "    </tr>\n",
       "    <tr>\n",
       "      <th>1</th>\n",
       "      <td>ENERGY TRANSFER PARTNERS</td>\n",
       "      <td>2018</td>\n",
       "      <td>Midstream</td>\n",
       "      <td>13645082</td>\n",
       "      <td>4.0</td>\n",
       "      <td>430.0</td>\n",
       "    </tr>\n",
       "    <tr>\n",
       "      <th>2</th>\n",
       "      <td>ENERGY TRANSFER PARTNERS</td>\n",
       "      <td>2017</td>\n",
       "      <td>Midstream</td>\n",
       "      <td>11793393</td>\n",
       "      <td>4.0</td>\n",
       "      <td>430.0</td>\n",
       "    </tr>\n",
       "    <tr>\n",
       "      <th>3</th>\n",
       "      <td>WILLIAMS</td>\n",
       "      <td>2016</td>\n",
       "      <td>Midstream</td>\n",
       "      <td>11702910</td>\n",
       "      <td>2.0</td>\n",
       "      <td>97.0</td>\n",
       "    </tr>\n",
       "    <tr>\n",
       "      <th>4</th>\n",
       "      <td>WILLIAMS</td>\n",
       "      <td>2017</td>\n",
       "      <td>Midstream</td>\n",
       "      <td>11291678</td>\n",
       "      <td>2.0</td>\n",
       "      <td>97.0</td>\n",
       "    </tr>\n",
       "  </tbody>\n",
       "</table>\n",
       "</div>"
      ],
      "text/plain": [
       "                    COMPANY  REPORTING_YEAR     SECTOR  GHG_CONTRIBUTION  \\\n",
       "0  ENERGY TRANSFER PARTNERS            2016  Midstream          16982839   \n",
       "1  ENERGY TRANSFER PARTNERS            2018  Midstream          13645082   \n",
       "2  ENERGY TRANSFER PARTNERS            2017  Midstream          11793393   \n",
       "3                  WILLIAMS            2016  Midstream          11702910   \n",
       "4                  WILLIAMS            2017  Midstream          11291678   \n",
       "\n",
       "   MIDSTREAM_RANK  UPSTREAM_RANK  \n",
       "0             4.0          430.0  \n",
       "1             4.0          430.0  \n",
       "2             4.0          430.0  \n",
       "3             2.0           97.0  \n",
       "4             2.0           97.0  "
      ]
     },
     "execution_count": 7,
     "metadata": {},
     "output_type": "execute_result"
    }
   ],
   "source": [
    "#Read data from csv file generated from 'EmissionsDataPreparation.ipynb' file.\n",
    "df_EmissionByGasSec = pd.read_csv('Emissions_aggregatedData.csv',sep='|')\n",
    "\n",
    "#Pickup required columns and rename them\n",
    "Emissioncolumns = ['STANDARD_COMPANY_NAME','REPORTING YEAR',  'GAS', 'SECTOR', 'GHG_CONTRIBUTION', '2018_UPSTREAM_RANK', '2018_MIDSTREAM_RANK', '2018_OVERALL_RANK']\n",
    "df_EmissionByGasSec = df_EmissionByGasSec[Emissioncolumns]\n",
    "df_EmissionByGasSec=df_EmissionByGasSec.rename(columns={'STANDARD_COMPANY_NAME':'COMPANY', 'REPORTING YEAR':'REPORTING_YEAR'})\n",
    "\n",
    "#Aggregate the data by Company, Year and Sector\n",
    "df_aggByYearComp=df_EmissionByGasSec[['COMPANY','REPORTING_YEAR', 'SECTOR', 'GHG_CONTRIBUTION']]\\\n",
    ".groupby(['COMPANY','REPORTING_YEAR','SECTOR']).sum().reset_index()\\\n",
    ".sort_values('GHG_CONTRIBUTION',ascending=False)\n",
    "\n",
    "\n",
    "#Assign a rank by their total emission in last 9 years\n",
    "#Midstream rank\n",
    "df_mid = df_aggByYearComp[df_aggByYearComp['SECTOR']=='Midstream']\n",
    "df_mid=df_mid[['COMPANY','GHG_CONTRIBUTION']].groupby('COMPANY').sum().reset_index().sort_values('GHG_CONTRIBUTION',ascending=False)\\\n",
    ".reset_index().drop('index',axis=1).reset_index().rename(columns={'index':'MIDSTREAM_RANK'})\n",
    "df_mid['MIDSTREAM_RANK']=df_mid['MIDSTREAM_RANK']+1\n",
    "df_mid=df_mid.drop('GHG_CONTRIBUTION', axis=1)\n",
    "#df_mid.head()\n",
    "\n",
    "#Upstream rank\n",
    "df_up = df_aggByYearComp[df_aggByYearComp['SECTOR']=='Upstream']\n",
    "df_up=df_up[['COMPANY','GHG_CONTRIBUTION']].groupby('COMPANY').sum().reset_index()\\\n",
    ".sort_values('GHG_CONTRIBUTION',ascending=False)\\\n",
    ".reset_index().drop('index',axis=1).reset_index().rename(columns={'index':'UPSTREAM_RANK'})\n",
    "\n",
    "df_up['UPSTREAM_RANK']=df_up['UPSTREAM_RANK']+1\n",
    "df_up=df_up.drop('GHG_CONTRIBUTION', axis=1)\n",
    "#df_up.head()\n",
    "\n",
    "\n",
    "df_aggByYearComp=df_aggByYearComp.merge(df_mid,how='left', left_on='COMPANY', right_on='COMPANY').merge(df_up,how='left', left_on='COMPANY', right_on='COMPANY')\n",
    "\n",
    "df_aggByYearComp['MIDSTREAM_RANK']=df_aggByYearComp['MIDSTREAM_RANK'].fillna(max(df_aggByYearComp['MIDSTREAM_RANK'])+1)\n",
    "df_aggByYearComp['UPSTREAM_RANK']=df_aggByYearComp['UPSTREAM_RANK'].fillna(df_aggByYearComp['UPSTREAM_RANK'].max()+1)\n",
    "df_aggByYearComp['GHG_CONTRIBUTION']=df_aggByYearComp['GHG_CONTRIBUTION'].astype(int)\n",
    "df_aggByYearComp.head()"
   ]
  },
  {
   "cell_type": "markdown",
   "metadata": {},
   "source": [
    "### Fig-1: Trend line of total GHG emissions from US Oil and Gas Companies between 2011 and 2018."
   ]
  },
  {
   "cell_type": "code",
   "execution_count": 8,
   "metadata": {},
   "outputs": [
    {
     "data": {
      "application/vnd.plotly.v1+json": {
       "config": {
        "linkText": "Export to plot.ly",
        "plotlyServerURL": "https://plot.ly",
        "showLink": false
       },
       "data": [
        {
         "line": {
          "shape": "spline"
         },
         "mode": "lines+markers",
         "name": "Total Emission",
         "type": "scatter",
         "x": [
          2011,
          2012,
          2013,
          2014,
          2015,
          2016,
          2017,
          2018
         ],
         "y": [
          183054585,
          185105263,
          187929749,
          192270883,
          191202981,
          246953967,
          258225622,
          289569677
         ]
        }
       ],
       "layout": {
        "margin": {
         "l": 0
        },
        "template": {
         "data": {
          "bar": [
           {
            "error_x": {
             "color": "#2a3f5f"
            },
            "error_y": {
             "color": "#2a3f5f"
            },
            "marker": {
             "line": {
              "color": "#E5ECF6",
              "width": 0.5
             }
            },
            "type": "bar"
           }
          ],
          "barpolar": [
           {
            "marker": {
             "line": {
              "color": "#E5ECF6",
              "width": 0.5
             }
            },
            "type": "barpolar"
           }
          ],
          "carpet": [
           {
            "aaxis": {
             "endlinecolor": "#2a3f5f",
             "gridcolor": "white",
             "linecolor": "white",
             "minorgridcolor": "white",
             "startlinecolor": "#2a3f5f"
            },
            "baxis": {
             "endlinecolor": "#2a3f5f",
             "gridcolor": "white",
             "linecolor": "white",
             "minorgridcolor": "white",
             "startlinecolor": "#2a3f5f"
            },
            "type": "carpet"
           }
          ],
          "choropleth": [
           {
            "colorbar": {
             "outlinewidth": 0,
             "ticks": ""
            },
            "type": "choropleth"
           }
          ],
          "contour": [
           {
            "colorbar": {
             "outlinewidth": 0,
             "ticks": ""
            },
            "colorscale": [
             [
              0,
              "#0d0887"
             ],
             [
              0.1111111111111111,
              "#46039f"
             ],
             [
              0.2222222222222222,
              "#7201a8"
             ],
             [
              0.3333333333333333,
              "#9c179e"
             ],
             [
              0.4444444444444444,
              "#bd3786"
             ],
             [
              0.5555555555555556,
              "#d8576b"
             ],
             [
              0.6666666666666666,
              "#ed7953"
             ],
             [
              0.7777777777777778,
              "#fb9f3a"
             ],
             [
              0.8888888888888888,
              "#fdca26"
             ],
             [
              1,
              "#f0f921"
             ]
            ],
            "type": "contour"
           }
          ],
          "contourcarpet": [
           {
            "colorbar": {
             "outlinewidth": 0,
             "ticks": ""
            },
            "type": "contourcarpet"
           }
          ],
          "heatmap": [
           {
            "colorbar": {
             "outlinewidth": 0,
             "ticks": ""
            },
            "colorscale": [
             [
              0,
              "#0d0887"
             ],
             [
              0.1111111111111111,
              "#46039f"
             ],
             [
              0.2222222222222222,
              "#7201a8"
             ],
             [
              0.3333333333333333,
              "#9c179e"
             ],
             [
              0.4444444444444444,
              "#bd3786"
             ],
             [
              0.5555555555555556,
              "#d8576b"
             ],
             [
              0.6666666666666666,
              "#ed7953"
             ],
             [
              0.7777777777777778,
              "#fb9f3a"
             ],
             [
              0.8888888888888888,
              "#fdca26"
             ],
             [
              1,
              "#f0f921"
             ]
            ],
            "type": "heatmap"
           }
          ],
          "heatmapgl": [
           {
            "colorbar": {
             "outlinewidth": 0,
             "ticks": ""
            },
            "colorscale": [
             [
              0,
              "#0d0887"
             ],
             [
              0.1111111111111111,
              "#46039f"
             ],
             [
              0.2222222222222222,
              "#7201a8"
             ],
             [
              0.3333333333333333,
              "#9c179e"
             ],
             [
              0.4444444444444444,
              "#bd3786"
             ],
             [
              0.5555555555555556,
              "#d8576b"
             ],
             [
              0.6666666666666666,
              "#ed7953"
             ],
             [
              0.7777777777777778,
              "#fb9f3a"
             ],
             [
              0.8888888888888888,
              "#fdca26"
             ],
             [
              1,
              "#f0f921"
             ]
            ],
            "type": "heatmapgl"
           }
          ],
          "histogram": [
           {
            "marker": {
             "colorbar": {
              "outlinewidth": 0,
              "ticks": ""
             }
            },
            "type": "histogram"
           }
          ],
          "histogram2d": [
           {
            "colorbar": {
             "outlinewidth": 0,
             "ticks": ""
            },
            "colorscale": [
             [
              0,
              "#0d0887"
             ],
             [
              0.1111111111111111,
              "#46039f"
             ],
             [
              0.2222222222222222,
              "#7201a8"
             ],
             [
              0.3333333333333333,
              "#9c179e"
             ],
             [
              0.4444444444444444,
              "#bd3786"
             ],
             [
              0.5555555555555556,
              "#d8576b"
             ],
             [
              0.6666666666666666,
              "#ed7953"
             ],
             [
              0.7777777777777778,
              "#fb9f3a"
             ],
             [
              0.8888888888888888,
              "#fdca26"
             ],
             [
              1,
              "#f0f921"
             ]
            ],
            "type": "histogram2d"
           }
          ],
          "histogram2dcontour": [
           {
            "colorbar": {
             "outlinewidth": 0,
             "ticks": ""
            },
            "colorscale": [
             [
              0,
              "#0d0887"
             ],
             [
              0.1111111111111111,
              "#46039f"
             ],
             [
              0.2222222222222222,
              "#7201a8"
             ],
             [
              0.3333333333333333,
              "#9c179e"
             ],
             [
              0.4444444444444444,
              "#bd3786"
             ],
             [
              0.5555555555555556,
              "#d8576b"
             ],
             [
              0.6666666666666666,
              "#ed7953"
             ],
             [
              0.7777777777777778,
              "#fb9f3a"
             ],
             [
              0.8888888888888888,
              "#fdca26"
             ],
             [
              1,
              "#f0f921"
             ]
            ],
            "type": "histogram2dcontour"
           }
          ],
          "mesh3d": [
           {
            "colorbar": {
             "outlinewidth": 0,
             "ticks": ""
            },
            "type": "mesh3d"
           }
          ],
          "parcoords": [
           {
            "line": {
             "colorbar": {
              "outlinewidth": 0,
              "ticks": ""
             }
            },
            "type": "parcoords"
           }
          ],
          "pie": [
           {
            "automargin": true,
            "type": "pie"
           }
          ],
          "scatter": [
           {
            "marker": {
             "colorbar": {
              "outlinewidth": 0,
              "ticks": ""
             }
            },
            "type": "scatter"
           }
          ],
          "scatter3d": [
           {
            "line": {
             "colorbar": {
              "outlinewidth": 0,
              "ticks": ""
             }
            },
            "marker": {
             "colorbar": {
              "outlinewidth": 0,
              "ticks": ""
             }
            },
            "type": "scatter3d"
           }
          ],
          "scattercarpet": [
           {
            "marker": {
             "colorbar": {
              "outlinewidth": 0,
              "ticks": ""
             }
            },
            "type": "scattercarpet"
           }
          ],
          "scattergeo": [
           {
            "marker": {
             "colorbar": {
              "outlinewidth": 0,
              "ticks": ""
             }
            },
            "type": "scattergeo"
           }
          ],
          "scattergl": [
           {
            "marker": {
             "colorbar": {
              "outlinewidth": 0,
              "ticks": ""
             }
            },
            "type": "scattergl"
           }
          ],
          "scattermapbox": [
           {
            "marker": {
             "colorbar": {
              "outlinewidth": 0,
              "ticks": ""
             }
            },
            "type": "scattermapbox"
           }
          ],
          "scatterpolar": [
           {
            "marker": {
             "colorbar": {
              "outlinewidth": 0,
              "ticks": ""
             }
            },
            "type": "scatterpolar"
           }
          ],
          "scatterpolargl": [
           {
            "marker": {
             "colorbar": {
              "outlinewidth": 0,
              "ticks": ""
             }
            },
            "type": "scatterpolargl"
           }
          ],
          "scatterternary": [
           {
            "marker": {
             "colorbar": {
              "outlinewidth": 0,
              "ticks": ""
             }
            },
            "type": "scatterternary"
           }
          ],
          "surface": [
           {
            "colorbar": {
             "outlinewidth": 0,
             "ticks": ""
            },
            "colorscale": [
             [
              0,
              "#0d0887"
             ],
             [
              0.1111111111111111,
              "#46039f"
             ],
             [
              0.2222222222222222,
              "#7201a8"
             ],
             [
              0.3333333333333333,
              "#9c179e"
             ],
             [
              0.4444444444444444,
              "#bd3786"
             ],
             [
              0.5555555555555556,
              "#d8576b"
             ],
             [
              0.6666666666666666,
              "#ed7953"
             ],
             [
              0.7777777777777778,
              "#fb9f3a"
             ],
             [
              0.8888888888888888,
              "#fdca26"
             ],
             [
              1,
              "#f0f921"
             ]
            ],
            "type": "surface"
           }
          ],
          "table": [
           {
            "cells": {
             "fill": {
              "color": "#EBF0F8"
             },
             "line": {
              "color": "white"
             }
            },
            "header": {
             "fill": {
              "color": "#C8D4E3"
             },
             "line": {
              "color": "white"
             }
            },
            "type": "table"
           }
          ]
         },
         "layout": {
          "annotationdefaults": {
           "arrowcolor": "#2a3f5f",
           "arrowhead": 0,
           "arrowwidth": 1
          },
          "coloraxis": {
           "colorbar": {
            "outlinewidth": 0,
            "ticks": ""
           }
          },
          "colorscale": {
           "diverging": [
            [
             0,
             "#8e0152"
            ],
            [
             0.1,
             "#c51b7d"
            ],
            [
             0.2,
             "#de77ae"
            ],
            [
             0.3,
             "#f1b6da"
            ],
            [
             0.4,
             "#fde0ef"
            ],
            [
             0.5,
             "#f7f7f7"
            ],
            [
             0.6,
             "#e6f5d0"
            ],
            [
             0.7,
             "#b8e186"
            ],
            [
             0.8,
             "#7fbc41"
            ],
            [
             0.9,
             "#4d9221"
            ],
            [
             1,
             "#276419"
            ]
           ],
           "sequential": [
            [
             0,
             "#0d0887"
            ],
            [
             0.1111111111111111,
             "#46039f"
            ],
            [
             0.2222222222222222,
             "#7201a8"
            ],
            [
             0.3333333333333333,
             "#9c179e"
            ],
            [
             0.4444444444444444,
             "#bd3786"
            ],
            [
             0.5555555555555556,
             "#d8576b"
            ],
            [
             0.6666666666666666,
             "#ed7953"
            ],
            [
             0.7777777777777778,
             "#fb9f3a"
            ],
            [
             0.8888888888888888,
             "#fdca26"
            ],
            [
             1,
             "#f0f921"
            ]
           ],
           "sequentialminus": [
            [
             0,
             "#0d0887"
            ],
            [
             0.1111111111111111,
             "#46039f"
            ],
            [
             0.2222222222222222,
             "#7201a8"
            ],
            [
             0.3333333333333333,
             "#9c179e"
            ],
            [
             0.4444444444444444,
             "#bd3786"
            ],
            [
             0.5555555555555556,
             "#d8576b"
            ],
            [
             0.6666666666666666,
             "#ed7953"
            ],
            [
             0.7777777777777778,
             "#fb9f3a"
            ],
            [
             0.8888888888888888,
             "#fdca26"
            ],
            [
             1,
             "#f0f921"
            ]
           ]
          },
          "colorway": [
           "#636efa",
           "#EF553B",
           "#00cc96",
           "#ab63fa",
           "#FFA15A",
           "#19d3f3",
           "#FF6692",
           "#B6E880",
           "#FF97FF",
           "#FECB52"
          ],
          "font": {
           "color": "#2a3f5f"
          },
          "geo": {
           "bgcolor": "white",
           "lakecolor": "white",
           "landcolor": "#E5ECF6",
           "showlakes": true,
           "showland": true,
           "subunitcolor": "white"
          },
          "hoverlabel": {
           "align": "left"
          },
          "hovermode": "closest",
          "mapbox": {
           "style": "light"
          },
          "paper_bgcolor": "white",
          "plot_bgcolor": "#E5ECF6",
          "polar": {
           "angularaxis": {
            "gridcolor": "white",
            "linecolor": "white",
            "ticks": ""
           },
           "bgcolor": "#E5ECF6",
           "radialaxis": {
            "gridcolor": "white",
            "linecolor": "white",
            "ticks": ""
           }
          },
          "scene": {
           "xaxis": {
            "backgroundcolor": "#E5ECF6",
            "gridcolor": "white",
            "gridwidth": 2,
            "linecolor": "white",
            "showbackground": true,
            "ticks": "",
            "zerolinecolor": "white"
           },
           "yaxis": {
            "backgroundcolor": "#E5ECF6",
            "gridcolor": "white",
            "gridwidth": 2,
            "linecolor": "white",
            "showbackground": true,
            "ticks": "",
            "zerolinecolor": "white"
           },
           "zaxis": {
            "backgroundcolor": "#E5ECF6",
            "gridcolor": "white",
            "gridwidth": 2,
            "linecolor": "white",
            "showbackground": true,
            "ticks": "",
            "zerolinecolor": "white"
           }
          },
          "shapedefaults": {
           "line": {
            "color": "#2a3f5f"
           }
          },
          "ternary": {
           "aaxis": {
            "gridcolor": "white",
            "linecolor": "white",
            "ticks": ""
           },
           "baxis": {
            "gridcolor": "white",
            "linecolor": "white",
            "ticks": ""
           },
           "bgcolor": "#E5ECF6",
           "caxis": {
            "gridcolor": "white",
            "linecolor": "white",
            "ticks": ""
           }
          },
          "title": {
           "x": 0.05
          },
          "xaxis": {
           "automargin": true,
           "gridcolor": "white",
           "linecolor": "white",
           "ticks": "",
           "title": {
            "standoff": 15
           },
           "zerolinecolor": "white",
           "zerolinewidth": 2
          },
          "yaxis": {
           "automargin": true,
           "gridcolor": "white",
           "linecolor": "white",
           "ticks": "",
           "title": {
            "standoff": 15
           },
           "zerolinecolor": "white",
           "zerolinewidth": 2
          }
         }
        },
        "title": {
         "text": "<b>Total GHG Emissions between 2011 to 2018 - (in METRIC TONS CO2e)</b>"
        },
        "xaxis": {
         "title": {
          "text": "REPORT YEAR"
         }
        },
        "yaxis": {
         "title": {
          "text": "Emission in metric tons of CO2e"
         }
        }
       }
      },
      "text/html": [
       "<div>\n",
       "        \n",
       "        \n",
       "            <div id=\"224d9710-a069-41ce-9600-58203e2c1b1c\" class=\"plotly-graph-div\" style=\"height:525px; width:100%;\"></div>\n",
       "            <script type=\"text/javascript\">\n",
       "                require([\"plotly\"], function(Plotly) {\n",
       "                    window.PLOTLYENV=window.PLOTLYENV || {};\n",
       "                    \n",
       "                if (document.getElementById(\"224d9710-a069-41ce-9600-58203e2c1b1c\")) {\n",
       "                    Plotly.newPlot(\n",
       "                        '224d9710-a069-41ce-9600-58203e2c1b1c',\n",
       "                        [{\"line\": {\"shape\": \"spline\"}, \"mode\": \"lines+markers\", \"name\": \"Total Emission\", \"type\": \"scatter\", \"x\": [2011, 2012, 2013, 2014, 2015, 2016, 2017, 2018], \"y\": [183054585, 185105263, 187929749, 192270883, 191202981, 246953967, 258225622, 289569677]}],\n",
       "                        {\"margin\": {\"l\": 0}, \"template\": {\"data\": {\"bar\": [{\"error_x\": {\"color\": \"#2a3f5f\"}, \"error_y\": {\"color\": \"#2a3f5f\"}, \"marker\": {\"line\": {\"color\": \"#E5ECF6\", \"width\": 0.5}}, \"type\": \"bar\"}], \"barpolar\": [{\"marker\": {\"line\": {\"color\": \"#E5ECF6\", \"width\": 0.5}}, \"type\": \"barpolar\"}], \"carpet\": [{\"aaxis\": {\"endlinecolor\": \"#2a3f5f\", \"gridcolor\": \"white\", \"linecolor\": \"white\", \"minorgridcolor\": \"white\", \"startlinecolor\": \"#2a3f5f\"}, \"baxis\": {\"endlinecolor\": \"#2a3f5f\", \"gridcolor\": \"white\", \"linecolor\": \"white\", \"minorgridcolor\": \"white\", \"startlinecolor\": \"#2a3f5f\"}, \"type\": \"carpet\"}], \"choropleth\": [{\"colorbar\": {\"outlinewidth\": 0, \"ticks\": \"\"}, \"type\": \"choropleth\"}], \"contour\": [{\"colorbar\": {\"outlinewidth\": 0, \"ticks\": \"\"}, \"colorscale\": [[0.0, \"#0d0887\"], [0.1111111111111111, \"#46039f\"], [0.2222222222222222, \"#7201a8\"], [0.3333333333333333, \"#9c179e\"], [0.4444444444444444, \"#bd3786\"], [0.5555555555555556, \"#d8576b\"], [0.6666666666666666, \"#ed7953\"], [0.7777777777777778, \"#fb9f3a\"], [0.8888888888888888, \"#fdca26\"], [1.0, \"#f0f921\"]], \"type\": \"contour\"}], \"contourcarpet\": [{\"colorbar\": {\"outlinewidth\": 0, \"ticks\": \"\"}, \"type\": \"contourcarpet\"}], \"heatmap\": [{\"colorbar\": {\"outlinewidth\": 0, \"ticks\": \"\"}, \"colorscale\": [[0.0, \"#0d0887\"], [0.1111111111111111, \"#46039f\"], [0.2222222222222222, \"#7201a8\"], [0.3333333333333333, \"#9c179e\"], [0.4444444444444444, \"#bd3786\"], [0.5555555555555556, \"#d8576b\"], [0.6666666666666666, \"#ed7953\"], [0.7777777777777778, \"#fb9f3a\"], [0.8888888888888888, \"#fdca26\"], [1.0, \"#f0f921\"]], \"type\": \"heatmap\"}], \"heatmapgl\": [{\"colorbar\": {\"outlinewidth\": 0, \"ticks\": \"\"}, \"colorscale\": [[0.0, \"#0d0887\"], [0.1111111111111111, \"#46039f\"], [0.2222222222222222, \"#7201a8\"], [0.3333333333333333, \"#9c179e\"], [0.4444444444444444, \"#bd3786\"], [0.5555555555555556, \"#d8576b\"], [0.6666666666666666, \"#ed7953\"], [0.7777777777777778, \"#fb9f3a\"], [0.8888888888888888, \"#fdca26\"], [1.0, \"#f0f921\"]], \"type\": \"heatmapgl\"}], \"histogram\": [{\"marker\": {\"colorbar\": {\"outlinewidth\": 0, \"ticks\": \"\"}}, \"type\": \"histogram\"}], \"histogram2d\": [{\"colorbar\": {\"outlinewidth\": 0, \"ticks\": \"\"}, \"colorscale\": [[0.0, \"#0d0887\"], [0.1111111111111111, \"#46039f\"], [0.2222222222222222, \"#7201a8\"], [0.3333333333333333, \"#9c179e\"], [0.4444444444444444, \"#bd3786\"], [0.5555555555555556, \"#d8576b\"], [0.6666666666666666, \"#ed7953\"], [0.7777777777777778, \"#fb9f3a\"], [0.8888888888888888, \"#fdca26\"], [1.0, \"#f0f921\"]], \"type\": \"histogram2d\"}], \"histogram2dcontour\": [{\"colorbar\": {\"outlinewidth\": 0, \"ticks\": \"\"}, \"colorscale\": [[0.0, \"#0d0887\"], [0.1111111111111111, \"#46039f\"], [0.2222222222222222, \"#7201a8\"], [0.3333333333333333, \"#9c179e\"], [0.4444444444444444, \"#bd3786\"], [0.5555555555555556, \"#d8576b\"], [0.6666666666666666, \"#ed7953\"], [0.7777777777777778, \"#fb9f3a\"], [0.8888888888888888, \"#fdca26\"], [1.0, \"#f0f921\"]], \"type\": \"histogram2dcontour\"}], \"mesh3d\": [{\"colorbar\": {\"outlinewidth\": 0, \"ticks\": \"\"}, \"type\": \"mesh3d\"}], \"parcoords\": [{\"line\": {\"colorbar\": {\"outlinewidth\": 0, \"ticks\": \"\"}}, \"type\": \"parcoords\"}], \"pie\": [{\"automargin\": true, \"type\": \"pie\"}], \"scatter\": [{\"marker\": {\"colorbar\": {\"outlinewidth\": 0, \"ticks\": \"\"}}, \"type\": \"scatter\"}], \"scatter3d\": [{\"line\": {\"colorbar\": {\"outlinewidth\": 0, \"ticks\": \"\"}}, \"marker\": {\"colorbar\": {\"outlinewidth\": 0, \"ticks\": \"\"}}, \"type\": \"scatter3d\"}], \"scattercarpet\": [{\"marker\": {\"colorbar\": {\"outlinewidth\": 0, \"ticks\": \"\"}}, \"type\": \"scattercarpet\"}], \"scattergeo\": [{\"marker\": {\"colorbar\": {\"outlinewidth\": 0, \"ticks\": \"\"}}, \"type\": \"scattergeo\"}], \"scattergl\": [{\"marker\": {\"colorbar\": {\"outlinewidth\": 0, \"ticks\": \"\"}}, \"type\": \"scattergl\"}], \"scattermapbox\": [{\"marker\": {\"colorbar\": {\"outlinewidth\": 0, \"ticks\": \"\"}}, \"type\": \"scattermapbox\"}], \"scatterpolar\": [{\"marker\": {\"colorbar\": {\"outlinewidth\": 0, \"ticks\": \"\"}}, \"type\": \"scatterpolar\"}], \"scatterpolargl\": [{\"marker\": {\"colorbar\": {\"outlinewidth\": 0, \"ticks\": \"\"}}, \"type\": \"scatterpolargl\"}], \"scatterternary\": [{\"marker\": {\"colorbar\": {\"outlinewidth\": 0, \"ticks\": \"\"}}, \"type\": \"scatterternary\"}], \"surface\": [{\"colorbar\": {\"outlinewidth\": 0, \"ticks\": \"\"}, \"colorscale\": [[0.0, \"#0d0887\"], [0.1111111111111111, \"#46039f\"], [0.2222222222222222, \"#7201a8\"], [0.3333333333333333, \"#9c179e\"], [0.4444444444444444, \"#bd3786\"], [0.5555555555555556, \"#d8576b\"], [0.6666666666666666, \"#ed7953\"], [0.7777777777777778, \"#fb9f3a\"], [0.8888888888888888, \"#fdca26\"], [1.0, \"#f0f921\"]], \"type\": \"surface\"}], \"table\": [{\"cells\": {\"fill\": {\"color\": \"#EBF0F8\"}, \"line\": {\"color\": \"white\"}}, \"header\": {\"fill\": {\"color\": \"#C8D4E3\"}, \"line\": {\"color\": \"white\"}}, \"type\": \"table\"}]}, \"layout\": {\"annotationdefaults\": {\"arrowcolor\": \"#2a3f5f\", \"arrowhead\": 0, \"arrowwidth\": 1}, \"coloraxis\": {\"colorbar\": {\"outlinewidth\": 0, \"ticks\": \"\"}}, \"colorscale\": {\"diverging\": [[0, \"#8e0152\"], [0.1, \"#c51b7d\"], [0.2, \"#de77ae\"], [0.3, \"#f1b6da\"], [0.4, \"#fde0ef\"], [0.5, \"#f7f7f7\"], [0.6, \"#e6f5d0\"], [0.7, \"#b8e186\"], [0.8, \"#7fbc41\"], [0.9, \"#4d9221\"], [1, \"#276419\"]], \"sequential\": [[0.0, \"#0d0887\"], [0.1111111111111111, \"#46039f\"], [0.2222222222222222, \"#7201a8\"], [0.3333333333333333, \"#9c179e\"], [0.4444444444444444, \"#bd3786\"], [0.5555555555555556, \"#d8576b\"], [0.6666666666666666, \"#ed7953\"], [0.7777777777777778, \"#fb9f3a\"], [0.8888888888888888, \"#fdca26\"], [1.0, \"#f0f921\"]], \"sequentialminus\": [[0.0, \"#0d0887\"], [0.1111111111111111, \"#46039f\"], [0.2222222222222222, \"#7201a8\"], [0.3333333333333333, \"#9c179e\"], [0.4444444444444444, \"#bd3786\"], [0.5555555555555556, \"#d8576b\"], [0.6666666666666666, \"#ed7953\"], [0.7777777777777778, \"#fb9f3a\"], [0.8888888888888888, \"#fdca26\"], [1.0, \"#f0f921\"]]}, \"colorway\": [\"#636efa\", \"#EF553B\", \"#00cc96\", \"#ab63fa\", \"#FFA15A\", \"#19d3f3\", \"#FF6692\", \"#B6E880\", \"#FF97FF\", \"#FECB52\"], \"font\": {\"color\": \"#2a3f5f\"}, \"geo\": {\"bgcolor\": \"white\", \"lakecolor\": \"white\", \"landcolor\": \"#E5ECF6\", \"showlakes\": true, \"showland\": true, \"subunitcolor\": \"white\"}, \"hoverlabel\": {\"align\": \"left\"}, \"hovermode\": \"closest\", \"mapbox\": {\"style\": \"light\"}, \"paper_bgcolor\": \"white\", \"plot_bgcolor\": \"#E5ECF6\", \"polar\": {\"angularaxis\": {\"gridcolor\": \"white\", \"linecolor\": \"white\", \"ticks\": \"\"}, \"bgcolor\": \"#E5ECF6\", \"radialaxis\": {\"gridcolor\": \"white\", \"linecolor\": \"white\", \"ticks\": \"\"}}, \"scene\": {\"xaxis\": {\"backgroundcolor\": \"#E5ECF6\", \"gridcolor\": \"white\", \"gridwidth\": 2, \"linecolor\": \"white\", \"showbackground\": true, \"ticks\": \"\", \"zerolinecolor\": \"white\"}, \"yaxis\": {\"backgroundcolor\": \"#E5ECF6\", \"gridcolor\": \"white\", \"gridwidth\": 2, \"linecolor\": \"white\", \"showbackground\": true, \"ticks\": \"\", \"zerolinecolor\": \"white\"}, \"zaxis\": {\"backgroundcolor\": \"#E5ECF6\", \"gridcolor\": \"white\", \"gridwidth\": 2, \"linecolor\": \"white\", \"showbackground\": true, \"ticks\": \"\", \"zerolinecolor\": \"white\"}}, \"shapedefaults\": {\"line\": {\"color\": \"#2a3f5f\"}}, \"ternary\": {\"aaxis\": {\"gridcolor\": \"white\", \"linecolor\": \"white\", \"ticks\": \"\"}, \"baxis\": {\"gridcolor\": \"white\", \"linecolor\": \"white\", \"ticks\": \"\"}, \"bgcolor\": \"#E5ECF6\", \"caxis\": {\"gridcolor\": \"white\", \"linecolor\": \"white\", \"ticks\": \"\"}}, \"title\": {\"x\": 0.05}, \"xaxis\": {\"automargin\": true, \"gridcolor\": \"white\", \"linecolor\": \"white\", \"ticks\": \"\", \"title\": {\"standoff\": 15}, \"zerolinecolor\": \"white\", \"zerolinewidth\": 2}, \"yaxis\": {\"automargin\": true, \"gridcolor\": \"white\", \"linecolor\": \"white\", \"ticks\": \"\", \"title\": {\"standoff\": 15}, \"zerolinecolor\": \"white\", \"zerolinewidth\": 2}}}, \"title\": {\"text\": \"<b>Total GHG Emissions between 2011 to 2018 - (in METRIC TONS CO2e)</b>\"}, \"xaxis\": {\"title\": {\"text\": \"REPORT YEAR\"}}, \"yaxis\": {\"title\": {\"text\": \"Emission in metric tons of CO2e\"}}},\n",
       "                        {\"responsive\": true}\n",
       "                    ).then(function(){\n",
       "                            \n",
       "var gd = document.getElementById('224d9710-a069-41ce-9600-58203e2c1b1c');\n",
       "var x = new MutationObserver(function (mutations, observer) {{\n",
       "        var display = window.getComputedStyle(gd).display;\n",
       "        if (!display || display === 'none') {{\n",
       "            console.log([gd, 'removed!']);\n",
       "            Plotly.purge(gd);\n",
       "            observer.disconnect();\n",
       "        }}\n",
       "}});\n",
       "\n",
       "// Listen for the removal of the full notebook cells\n",
       "var notebookContainer = gd.closest('#notebook-container');\n",
       "if (notebookContainer) {{\n",
       "    x.observe(notebookContainer, {childList: true});\n",
       "}}\n",
       "\n",
       "// Listen for the clearing of the current output cell\n",
       "var outputEl = gd.closest('.output');\n",
       "if (outputEl) {{\n",
       "    x.observe(outputEl, {childList: true});\n",
       "}}\n",
       "\n",
       "                        })\n",
       "                };\n",
       "                });\n",
       "            </script>\n",
       "        </div>"
      ]
     },
     "metadata": {},
     "output_type": "display_data"
    }
   ],
   "source": [
    "df_fig1=df_aggByYearComp[['REPORTING_YEAR','GHG_CONTRIBUTION']].groupby('REPORTING_YEAR').sum()\\\n",
    ".reset_index().sort_values('REPORTING_YEAR')\n",
    "\n",
    "x=df_fig1.REPORTING_YEAR\n",
    "\n",
    "layout=go.Layout(title='<b>Total GHG Emissions between 2011 to 2018 - (in METRIC TONS CO2e)</b>',\n",
    "                 xaxis=dict(title='REPORT YEAR'),yaxis=dict(title='Emission in metric tons of CO2e'), \n",
    "                 margin=dict(l=0)\n",
    "                )\n",
    "trace1 =  go.Scatter(x=x,\n",
    "                     y=df_fig1.GHG_CONTRIBUTION,\n",
    "                     mode = 'lines+markers',\n",
    "                     name='Total Emission'\n",
    "                     ,line = dict(shape='spline')\n",
    "                    )\n",
    "fig1 = go.Figure(data=[trace1], layout=layout)\n",
    "py.offline.iplot(fig1)\n",
    "#fig1.show()"
   ]
  },
  {
   "cell_type": "markdown",
   "metadata": {},
   "source": [
    "Fig-1 shows the upwards trend in GHG Emissions from Oil & Gas upstream and midstream systems"
   ]
  },
  {
   "cell_type": "markdown",
   "metadata": {},
   "source": [
    "### Fig-2: A summary table showing GHG Emissions from the top US Oil and Gas Producers between 2011 and 2018"
   ]
  },
  {
   "cell_type": "code",
   "execution_count": 14,
   "metadata": {},
   "outputs": [
    {
     "data": {
      "application/vnd.plotly.v1+json": {
       "config": {
        "linkText": "Export to plot.ly",
        "plotlyServerURL": "https://plot.ly",
        "showLink": false
       },
       "data": [
        {
         "cells": {
          "align": "left",
          "fill": {
           "color": "rgb(255, 191, 0)"
          },
          "values": [
           [
            "EXXONMOBIL",
            "CONOCOPHILLIPS",
            "WILLIAMS",
            "KINDER MORGAN",
            "ENERGY TRANSFER PARTNERS",
            "BP AMERICA",
            "ENTERPRISE PRODUCTS PARTNERS",
            "ANADARKO PETROLEUM",
            "EOG RESOURCES",
            "CHESAPEAKE ENERGY",
            "CHEVRON",
            "DCP MIDSTREAM",
            "TARGA RESOURCES",
            "DEVON ENERGY",
            "HILCORP ENERGY",
            "MARATHON OIL",
            "LOEWS",
            "OCCIDENTAL PETROLEUM",
            "SHELL OIL",
            "ENERVEST OPERATING",
            "HESS",
            "SPECTRA ENERGY",
            "ENABLE MIDSTREAM PARTNERS",
            "BHP BILLITON",
            "LINN ENERGY",
            "ONEOK",
            "ENBRIDGE",
            "APACHE",
            "QEP RESOURCES",
            "PIONEER NATURAL RESOURCES USA",
            "WHITING OIL AND GAS",
            "CIMAREX ENERGY",
            "CONTINENTAL RESOURCES",
            "SANDRIDGE ENERGY",
            "MPLX",
            "ENLINK MIDSTREAM",
            "SOUTHWESTERN ENERGY",
            "PHILLIPS 66",
            "ENCANA OIL & GAS (USA)",
            "CHENIERE ENERGY",
            "WPX ENERGY",
            "VAL VERDE GAS GATHERING CO",
            "EQT",
            "DOMINION ENERGY",
            "CALIFORNIA RESOURCES",
            "SAMSON RESOURCES",
            "OASIS PETROLEUM",
            "NEWFIELD EXPLORATION",
            "EP ENERGY E&P CO",
            "REGENCY ENERGY PARTNERS",
            "NOBLE ENERGY",
            "CONCHO RESOURCES",
            "MID-AMERICAN ENERGY HOLDINGS",
            "BERRY PETROLEUM",
            "ANR PIPELINE",
            "STATOIL",
            "TRANSCANADA NORTHERN BORDER",
            "CENTERPOINT ENERGY RESOURCES",
            "PDC ENERGY",
            "ANTERO RESOURCES",
            "STEPHENS PRODUCTION",
            "WTG",
            "HALCON RESOURCES",
            "ATLAS ENERGY GROUP",
            "NORTHERN NATURAL GAS",
            "CABOT",
            "CRESTWOOD MIDSTREAM PARTNERS",
            "PIPECO",
            "LEWIS ENERGY GROUP",
            "BOPCO",
            "SM ENERGY",
            "TC PIPELINES",
            "MURPHY OIL",
            "BREITBURN ENERGY CO",
            "PETRO-HUNT",
            "MERIT ENERGY",
            "FIELDWOOD ENERGY",
            "DENBURY RESOURCES",
            "MARKWEST ENERGY PARTNERS",
            "PENN VIRGINIA",
            "QUESTAR",
            "CROSSTEX ENERGY SERVICES",
            "EXCO RESOURCES",
            "CARRIZO OIL & GAS",
            "TEXAS EASTERN TRANSMISSION",
            "BILL BARRETT",
            "SOUTHERN UTE INDIAN TRIBE",
            "UNIT",
            "HARVEST PIPELINE",
            "VANGUARD NATURAL RESOURCES",
            "DIAMONDBACK ENERGY",
            "NATIONAL FUEL GAS",
            "CNX RESOURCES",
            "FOURPOINT ENERGY",
            "ENERGEN",
            "TRANSCANADA ENERGY USA",
            "ENERPLUS RESOURCES",
            "NISOURCE",
            "ENI PETROLEUM",
            "CHAPARRAL ENERGY",
            "ROCKIES EXPRESS HOLDINGS",
            "SOUTHCROSS ENERGY",
            "SABINE OIL AND GAS",
            "ENDEAVOR ENERGY RESOURCES",
            "FLYWHEEL ENERGY",
            "YATES PETROLEUM",
            "SENTINEL PEAK RESOURCES",
            "TERRA ENERGY PARTNERS",
            "LEGEND NATURAL GAS",
            "CONSOL ENERGY",
            "PACIFIC GAS & ELECTRIC",
            "BROOKFIELD INFRASTRUCTURE PTNR",
            "ENERGY XXI",
            "ESCAMBIA ASSET CO",
            "ULTRA PETROLEUM ENERGY",
            "COMSTOCK RESOURCES",
            "AUX SABLE",
            "SCOUT ENERGY MANAGEMENT",
            "MEMORIAL RESOURCE DEVELOPMENT",
            "TRANSCANADA AMERICAN INVESTMENTS",
            "THUNDER CREEK GAS SERVICES",
            "NORTHERN BORDER PIPELINE",
            "AKA ENERGY GROUP",
            "FOREST OIL",
            "FOUNDATION ENERGY",
            "MACPHERSON OIL",
            "TEMPLAR ENERGY",
            "RANGE RESOURCES",
            "CEDAR BAYOU FRACTIONATORS",
            "BONANZA CREEK ENERGY",
            "LAREDO PETROLEUM",
            "SEMPRA ENERGY",
            "ENEERVEST OPERATING",
            "VECTOR PIPELINE",
            "SLAWSON COMPANIES",
            "MUSTANG FUEL",
            "DTE ENERGY",
            "W & T OFFSHORE",
            "KAISER-FRANCIS OIL",
            "ACCESS MIDSTREAM PARTNERS",
            "PARSLEY ENERGY",
            "SEMGAS",
            "ALTA MESA SERVICES",
            "VERESEN",
            "HUNT CONSOLIDATED",
            "TALISMAN ENERGY USA",
            "CRESCENT POINT ENERGY US",
            "INDIGO MINERALS",
            "KODIAK OIL& GAS",
            "GALESI GROUP",
            "MATADOR PRODUCTION",
            "SWIFT ENERGY OPERATING",
            "BLUESTONE NATURAL RESOURCES",
            "MIDSTATES PETROLEUM COMPANY",
            "ROSETTA RESOURCES OPERATING",
            "CASTLETON COMMODITIES INTERNATIONAL",
            "JONAH ENERGY HOLDINGS",
            "MDU RESOURCES GROUP",
            "MIDCOAST ENERGY",
            "COPANO ENERGY",
            "TALLGRASS ENERGY",
            "GULFPORT ENERGY",
            "AETHON ENERGY",
            "JONES ENERGY HOLDINGS",
            "PERMIAN BASIN",
            "ANDEAVOR",
            "FREEPORT-MCMORAN",
            "SOUTHLAND ROYALTY",
            "CAERUS OIL AND GAS",
            "TOTAL E&P USA",
            "WA MONCRIEF JR",
            "EAGLE ROCK ENERGY PARTNERS",
            "AZURE MIDSTREAM ENERGY",
            "SENECA RESOURCES",
            "SUMMIT MIDSTREAM PARTNERS",
            "ECOELECTRICA",
            "TEP ROCKY MOUNTAIN",
            "NORTEX MIDSTREAM PARTNERS",
            "EVERGREEN ENTERPRISE HOLDINGS",
            "DIVERSIFIED GAS & OIL",
            "GEOSOUTHERN ENERGY",
            "EAGLECLAW MIDSTREAM SERVICES",
            "RESOLUTE ENERGY",
            "LEGACY RESERVES OPERATING",
            "LUCID ENERGY DELAWARE",
            "EFS MIDSTREAM",
            "STONE ENERGY",
            "COVEY PARK ENERGY",
            "TESORO",
            "ALGONQUIN GAS TRANSMISSION",
            "COG OPERATING",
            "LARAMIE ENERGY",
            "EQUITRANS MIDSTREAM",
            "APPROACH RESOURCES",
            "GREAT LAKES GAS TRANSMISSION",
            "PANHANDLE EASTERN PIPE LINE",
            "TAPSTONE ENERGY",
            "BLUE RACER MIDSTREAM",
            "DUGAN PRODUCTION",
            "TEXAS PETROLEUM INVESTMENT",
            "REPSOL OIL & GAS USA",
            "COMPASS PRODUCTION PARTNERS",
            "QUANTUM RESOURCES MANAGEMENT",
            "SHERIDAN PRODUCTION COMAPNY",
            "UNIT PETROLEUM",
            "NORTHERN COLORADO OIL & GAS HOLDINGS",
            "VALENCE OPERATING",
            "TECOLOTE ENERGY",
            "XTO ENERGY",
            "SANCHEZ OIL AND GAS",
            "PLAINS EXPLORATION & PRODUCTION",
            "TANOS EXPLORATION II",
            "PLAINS ALL AMERICAN GP",
            "PENNSYLVANIA GENERAL ENERGY COMPANY",
            "CONTURA ENERGY",
            "AMERICAN MIDSTREAM PARTNERS",
            "FLORIDA GAS TRANSMISSION",
            "TRENDWELL ENERGY",
            "NADEL & GUSSMAN",
            "EXTRACTION OIL & GAS",
            "MORGAN STANLEY",
            "FAMCOR OIL",
            "TRIANGLE USA PETROLEUM",
            "SN EF MAVERICK",
            "LUCID ENERGY WESTEX",
            "JAGGED PEAK ENERGY",
            "NFR ENERGY",
            "LOGOS RESOURCES II",
            "HOWARD ENERGY PARTNERS",
            "ALL AMERICAN OIL AND GAS",
            "JORDAN DEVELOPMENT CORP",
            "TRANSCANADA/COLUMBIA PIPELINE GROUP",
            "PREMIER NATURAL RESOURCES",
            "ENCINO ENERGY",
            "PRUET PRODUCTION",
            "URSA RESOURCES GROUP",
            "REX ENERGY OPERATING",
            "GAS TRANSMISSION SERVICES COMPANY",
            "NAVITAS MIDSTREAM",
            "LIME ROCK RESOURCES",
            "BRUIN E&P PARTNERS",
            "LLOG EXPLORATION OFFSHORE",
            "MAVERICK NATURAL RESOURCES",
            "AMERICAN ENERGY PARTNERS",
            "COLUMBIA PIPELINE GROUP",
            "SWEPI",
            "CRESTONE PEAK RESOURCES",
            "BRUIN E&P OPERATING",
            "CLAYTON WILLIAMS ENERGY",
            "RKI",
            "CORONADO MIDSTREAM",
            "WEST BAY EXPLORATION",
            "WHITE OAK ENERGY",
            "WESTERN REFINING",
            "FDL OPERATING",
            "PVR MIDSTREAM",
            "JAMES LAKE MIDSTREAM",
            "EQUINOR US HOLDINGS",
            "CENTENNIAL RESOURCE PRODUCTION",
            "ARUBA PETROLEUM",
            "BLACKBRUSH O & G",
            "DOW CHEMICAL",
            "DIVERSIFIED OIL & GAS",
            "CAPROCK PERMIAN PROCESSING",
            "HILAND PARTNERS",
            "CHIEF OIL & GAS",
            "ASCENT RESOURCES",
            "GOODRICH PETROLEUM",
            "FREEPORT LNG DEVELOPMENT",
            "OAK RIDGE NATURAL RESOURCES",
            "FAIRWAY RESOURCES",
            "BCE-MACH",
            "MUSKEGON DEVELOPMENT",
            "PEMBINA PIPELINE",
            "RICE ENERGY",
            "VINE OIL & GAS",
            "ARENA ENERGY",
            "SOUTHERN UNION GAS SERVICES",
            "TIMBER CREEK OPERATING",
            "VENOCO",
            "NEXTERA ENERGY RESOURCES",
            "DISCOVERY NATURAL RESOURCES",
            "LIBERTY RESOURCES",
            "PETROBRAS AMERICA",
            "CALLON PETROLEUM",
            "COX OIL",
            "MIDMAR GAS",
            "SAVANT ALASKA",
            "MILAGRO EXPLORATION",
            "AGL RESOURCES",
            "TELLUS ENERGY GROUP",
            "PERMIAN RESOURCES",
            "TENAWA HAVEN PROCESSING",
            "KRAKEN OIL & GAS",
            "SURGE OPERATING",
            "P&S PROJECT I",
            "COPREX",
            "LOE",
            "WEST TEXAS GAS",
            "WILDHORSE RESOURCES",
            "PETRO HARVESTER OIL & GAS",
            "IROQUOIS GAS TRANSMISSION SYSTEM",
            "PSI MIDSTREAM PARTNERS",
            "URBAN OIL & GAS GROUP",
            "DUNCAN OIL PROPERTIES",
            "CMS ENERGY",
            "DAVIS GAS PROCESSING",
            "HOOVER ENERGY PARTNERS",
            "TENAWA RESOURCE MANAGEMENT",
            "DYNAMIC OFFSHORE RESOURCES",
            "SUPERIOR PIPELINE",
            "SEQUITUR EAST TEXAS",
            "WGR OPERATING",
            "FORMOSA PLASTICS CORP USA",
            "WILDHORSE RESOUCES",
            "ENERGY CORP OF AMERICA",
            "REM",
            "SANGUINE GAS EXPLORATION",
            "ROCKCLIFF ENERGY II",
            "TALOS ENERGY",
            "BURNETT OIL CO",
            "VITRUVIAN EXPLORATION",
            "BRAVO NATURAL GAS",
            "SRC ENERGY",
            "BAYTEX ENERGY USA",
            "PAXTON RESOURCES",
            "SAMUEL GARY JR. ASSOCIATES",
            "MAGNOLIA OIL & GAS OPERATING",
            "BLACKBEARD OPERATING",
            "OCCIDENTIAL PETROLEUM",
            "EPL OIL & GAS",
            "ATMOS ENERGY",
            "CAISSE DE DEPOT ET PLACEMENT DU QUEBEC",
            "EAGLERIDGE OPERATING",
            "TRUNKLINE GAS",
            "ENERVEST OPERATING, LLC",
            "ENDURING RESOURCES",
            "ROWDY PIPELINE",
            "HAWKWOOD ENERGY MANAGEMENT LLC 220",
            "CROSS TIMBERS ENERGY",
            "QUICKSILVER RESOURCES",
            "HELIS OIL AND GAS COMPANY",
            "KINETICA PARTNERS",
            "INTEGRYS ENERGY GROUP",
            "VANTAGE ENERGY",
            "SUMMIT PETROLEUM",
            "PENNSYLVANIA LAND RESOURCES HOLDING COMPANY",
            "ARD OPERATING",
            "ENOGEX HOLDINGS",
            "JMA ENERGY COMPANY",
            "WHITE ROCK OIL & GAS",
            "NATURAL GAS PARTNERS",
            "AUGUSTUS ENERGY RESOURCES",
            "SAGA PETROLEUM",
            "ENVEN ENERGY VENTURES",
            "WARREN RESOURCES",
            "PACIFIC ENERGY ALASKA OPERATING",
            "SBM OFFSHORE",
            "TGGT HOLDINGS",
            "ACADIAN GAS PIPELINE SYSTEM",
            "THE SINCLAIR COS",
            "SILVERBACK MIDSTREAM",
            "NINE POINT ENERGY HOLDINGS",
            "ELM RIDGE EXPLORATION COMPANY",
            "JAY-BEE OIL & GAS",
            "PATARA OIL & GAS",
            "TRISTREAM ENERGY",
            "SHERIDAN PRODUCTION COMPANY",
            "BENEDUM GAS PARTNERS",
            "EQUAL ENERGY",
            "BC OPERATING",
            "WEC ENERGY GROUP",
            "COOK INLET ENERGY",
            "J-W OPERATING",
            "LE NORMAN OPERATING",
            "MARLIN MIDSTREAM",
            "MEDUSA SPAR",
            "NAFTEX OPERATING",
            "LAMBDA ENERGY RESOURCES",
            "WILDCAT MIDSTREAM CADDO",
            "HIGHPOINT RESOURCES",
            "PARALLEL ENERGY",
            "ZENERGY",
            "MOUNTAINEER KEYSTONE",
            "FOUR WINDS MIDSTREAM",
            "ANKOR ENERGY",
            "ASRCEX",
            "ROAN RESOURCES",
            "MIDDLE FORK ENERGY PARTNERS",
            "GENERAL ELECTRIC",
            "BLACK HILLS",
            "ERG RESOURCES",
            "PER MANAGER",
            "LUFF EXPLORATION",
            "ATP OIL & GAS",
            "ABRAXAS PETROLEUM",
            "MARUBENI INTERNATIONAL",
            "TRC CYPRESS GROUP",
            "ARROWHEAD PIPELINE",
            "MONARCH NATURAL GAS",
            "BAYSWATER EXPLORATION & PRODUCTION",
            "CARBON NATURAL GAS",
            "WARD PETROLEUM",
            "CANTIUM",
            "DURANGO MIDSTREAM",
            "FIML NATURAL RESOURCES",
            "COGENT MIDSTREAM WESTEX",
            "GRADE 6 OIL",
            "TALCO MIDSTREAM ASSETS",
            "MUREX PETROLEUM",
            "SUNDANCE ENERGY",
            "WHITE STAR PETROLEUM",
            "MUNICIPAL LIGHT & POWER",
            "RSP PERMIAN",
            "PXP OFFSHORE",
            "MONCRIEF PARTNERS",
            "CORE APPALACHIA OPERATING",
            "ZPZ DELAWARE I",
            "SK PLYMOUTH",
            "GASCO ENERGY",
            "SHD OIL & GAS",
            "BADLANDS ENERGY",
            "J CLEO THOMPSON & JAMES CLEO THOMPSON JR",
            "NHIP II BISON HOLDINGS",
            "BOC 220 GULF COAST BASIN ONSHORE",
            "NOBLE MIDSTREAM SERVICES",
            "CROWHEART ENERGY",
            "ENERGY RESOURCE TECHNOLOGY",
            "KASH OIL & GAS - BASIN 220",
            "EGAN HUB STORAGE",
            "CARRERA GAS GATHERING",
            "VAQUERO PERMIAN GATHERING",
            "LOUIS DREYFUS CORP",
            "NEWARK E&P OPERATING",
            "BRAVO NATURAL RESOURCES",
            "MACQUARIE INFRASTRUCTURE CO",
            "BBX OPERATING",
            "MANTI EXPLORATION OPERATING",
            "BLACK BEAR MIDSTREAM HOLDINGS",
            "NBL MIDSTREAM HOLDINGS",
            "KOCH INDUSTRIES",
            "SILVERBOW RESOURCES",
            "NAVAJO NATION OIL AND GAS",
            "GDF SUEZ ENERGY NA",
            "EXTERRAN HOLDINGS",
            "LP 224",
            "GULF PINE ENERGY OPERATING",
            "NON-EXXONMOBIL INTERESTS",
            "CORDILLERA ENERGY PARTNERS III",
            "STERLING ENERGY GROUP",
            "DJ RESOURCES",
            "NATIONAL GRID USA",
            "TRANSCANDA/COLUMBIA PIPELINE GROUP",
            "MCELVAIN ENERGY",
            "VERDUN OIL",
            "HOLMES WESTERN OIL",
            "PLAINS NATURAL GAS STORAGE",
            "CAELUS ENERGY",
            "ALPHA NATURAL RESOURCES",
            "GULFTEX ENERGY III",
            "SYNERGY RESOURCES",
            "LONESTAR RESOURCES",
            "ROSEWOOD RESOURCES",
            "OXY",
            "COSTAR MIDSTREAM",
            "CARDINAL MIDSTREAM",
            "FASKEN OIL AND RANCH",
            "TENRGYS",
            "TEP REX HOLDINGS",
            "CMO",
            "TECPETROL",
            "PINTAIL OIL & GAS",
            "NUEVO MIDSTREAM",
            "BENNU OIL & GAS",
            "SOUTHERN CO GAS",
            "AGAVE ENERGY HOLDINGS",
            "LONGFELLOW ENERGY",
            "CRIMSON RESOURCE MANAGEMENT",
            "RESOURCE ENERGY",
            "INERGY WEST COAST",
            "SK E&P",
            "TOMPC",
            "TEXAS KEYSTONE",
            "NGL VENTURES",
            "MAGNUM HUNTER RESOURCES",
            "NISKA GAS STORAGE",
            "BRAZOS MIDSTREAM",
            "ELK PETROLEUM",
            "PLAINS LPG SERVICES",
            "WOODFORD EXPRESS",
            "KEY PRODUCTION",
            "PARADOX RESOURCES",
            "NORTHERN PIPELINE BORDER",
            "DART OIL & GAS",
            "SK NEMAHA",
            "EAGLE PETROLEUM",
            "SHORELINE ENERGY",
            "CATARINA MIDSTREAM",
            "PANTHER ENERGY",
            "RISE ENERGY PARTNERS",
            "IPR-GDF SUEZ NORTH AMERICA",
            "ENGIE NORTH AMERICA",
            "STANOLIND PRODUCTION",
            "PEAK EXPLORATION & PRODUCTION",
            "GENESIS ENERGY",
            "ENRIDGE",
            "AMERICAN EAGLE ENERGY",
            "AIRCRAFT SERVICES CORPORATION (GE ENTITY)",
            "SAGE NATURAL RESOURCES",
            "MOON HINES TIGRETT OPERATING COMPANY",
            "ELK PETROLEUM MADDEN GAS & CO2",
            "S2 ENERGY OPERATING",
            "AKIN BEENE RESOURCES",
            "TANA EXPLORATION CO",
            "TAQA USA",
            "SILVER CREEK OIL & GAS",
            "ARSENAL RESOURCES",
            "DESTIN PIPELINE COMPANY",
            "31 GROUP",
            "NORTHEAST NATURAL ENERGY",
            "DIVIDE CREEK GATHERING SYSTEM",
            "ROBERTSON-FINLEY RESOURCES",
            "SIGNAL HILL PETROLEUM",
            "EAST TENNESSEE NATURAL GAS",
            "NORTHWESTERN ENERGY",
            "1804",
            "BKV OPERATING",
            "SWG PIPELINE",
            "EDF TRADING RESOURCES",
            "ECLIPSE RESOURCES",
            "VERDAD RESOURCES",
            "BLUECREST ENERGY",
            "EDGEMARC ENERGY HOLDINGS",
            "KINGFISHER MIDSTREAM",
            "KREWE ENERGY",
            "TEXLAND PETROLEUM",
            "EARTHSTONE OPERATING",
            "JOHNSON AND LINDLEY",
            "HG ENERGY II APPALACHIA",
            "TEXSTAR MIDSTREAM SERVICES",
            "PROSPECT CAPITAL",
            "CATAMOUNT ENERGY PARTNERS",
            "KERR MCGEE GATHERING",
            "DE3 OPERATING",
            "PARADIGM ENERGY PARTNERS",
            "UTICA GAS SERVICES",
            "RESOURCE STRATEGIES",
            "WALTER OIL & GAS",
            "HINKLE OIL & GAS",
            "CHISHOLM ENERGY OPERATING",
            "PORT PARRE INVESTMENTS, LLC D/B/A BOBCAT GAS STORA",
            "WOLD ENERGY PARTNERS",
            "VENADO OPERATING CO",
            "LEED PETROLEUM",
            "RANCH WESTEX JV",
            "DGP TAURUS FIELD SERVICES",
            "STARTEX FIELD SERVICES",
            "PILLSBURY, WINTHROP, SHAW, PITTMAN",
            "EPIC MIDSTREAM",
            "PEAK POWDER RIVER RESOURCES",
            "CROWN ENERGY PARTNERS",
            "ALLIANCE PETROLEUM",
            "E&B NATURAL RESOURCES",
            "RUDY RESOURCES",
            "ROCKALL ENERGY",
            "MARITIMES & NORTHEAST PIPELINE",
            "BRIDGE ENERGY",
            "PARALLEL PETROLEUM",
            "FL RICH GAS SERVICES",
            "SAMUEL GARY JR ASSOCIATES",
            "HENRY RESOURCES",
            "M3 OHIO GATHERING",
            "STINGRAY PIPELINE CO",
            "PENNTEX MIDSTREAM PARTNERS",
            "TALL OAK MIDSTREAM",
            "ANSCHUTZ EXPLORATION",
            "AMPLIFY ENERGY",
            "CLASSIC HYDROCARBONS",
            "BALLARD PETROLEUM HOLDINGS",
            "VAQUERO PERMIAN PROCESSING",
            "IACX ENERGY",
            "CITATION OIL & GAS",
            "TRIUMPH ENERGY PARTNERS",
            "AUSTRALIS TMS",
            "NORTHWOODS ENERGY",
            "HUNTINGTON ENERGY",
            "ROCKPOINT GAS STORAGE PARTNERS",
            "EXELON",
            "PHILIP T SHARPLES TRUST",
            "EAGLECLAW MISTREAM SERVICES",
            "JKLM ENERGY",
            "PORT BARRE INVESTMENTS, LLC D/B/A BOBCAT GAS STORA",
            "MICOAST ENERGY",
            "T-C OIL",
            "ORX RESOURCES",
            "PENSARELI",
            "RECOIL RESOURCES OPERATING",
            "OWN RESOURCES OPERATING",
            "ANDERSON ENERGY",
            "SCANA",
            "MEDALLION MIDSTREAM 2",
            "MIDSTREAM ENERGY PARTNERS USA",
            "MISSION CREEK OPCO",
            "BLUEFIN RESOURCES",
            "SOUTHWEST GAS STORAGE",
            "NORTH BAJA PIPELINE",
            "ERGON",
            "NORTH SHORE E&P",
            "DGP TAURUS FIELD, SERVICES",
            "MAERSK OIL GULF OF MEXICO FOUR",
            "MARSH OIL & GAS",
            "FELIX ENERGY",
            "AXIA ENERGY II",
            "MP GULF OF MEXICO",
            "UNION EXPLORATION PARTNERS",
            "GLOBAL INFRASTRUCTURE PARTNERS - A",
            "HAWKWOOD ENERGY MANAGEMENT, LLC 220",
            "TEXAS COASTAL VENTURES",
            "SOUTHWESTERN PRODUCTION",
            "TEX MONCRIEF EXPLORACOUNT II",
            "JAYNE WRIGHTSMAN",
            "MISSOURI RIVER RESOURCES",
            "OAK VALLEY OPERATING",
            "WELLS FARGO ENERGY CAPITAL",
            "MLCJR",
            "CGAS PROPERTIES",
            "PRIME OPERATING",
            "GIP-B1 MASTER PTNR",
            "FPL GROUP",
            "CONFLUENCE DJ",
            "RIM OPERATING",
            "UTAH GAS",
            "CAMBRIAN MANAGEMENT",
            "KKR",
            "WINFIELD RESOURCES",
            "RICOCHET ENERGY",
            "CELERO ENERGY II",
            "COSTARMIDSTREAM",
            "MANAGER GLOBAL MARKET DEVELOPMENT, GAS AND POWER MAR",
            "BEACON WEST ENERGY GROUP",
            "HARVEST ENERGY",
            "SHARPLES ASSOCIATES",
            "ARP RANGELY PRODUCTION",
            "DABB ENERGY",
            "COLEMAN OIL AND GAS",
            "MOBIL PRODUCING TEXAS & NEW MEXICO",
            "ARIEL EXPLORATION",
            "PETROBAL OMEGA 1",
            "CORTERRA ENERGY",
            "MIDLAND OIL AND GAS",
            "TRUE OIL",
            "ELEANOR WHITCOMB, ROBERT KEADY, & LINDA K. BOYD TRUSTEES",
            "GEO R BROWN PARTNERSHIP",
            "MMGJ COLORADO",
            "TRUNKLINE LNG",
            "BTA",
            "TREY RESOURCES",
            "LYDA HUNT BUNKER TRUST-MARY MORELAND HUNT",
            "OLDHAM FAMILY",
            "ELEANOR WHITCOMB, ROBERT KEADY, & LINDA K BOYD TRUSTEES",
            "OMIMEX",
            "SOUTHERN NATURAL GAS CO",
            "FUELS ACQUISITION",
            "BLACK ELK ENERGY OFFSHORE OPERATIONS",
            "S NATURAL GAS CO",
            "CHROMA OPERATING",
            "BEPCO",
            "TRINITY CO2",
            "BERKSHIRE HATHAWAY",
            "MOUNTAINEER GAS HOLDINGS",
            "WTGKS GP",
            "LANDRETH COMPANY STOCKHOLDERS",
            "TEXAS AMERICAN RESOURCES",
            "PUBLIC SERVICE ENTERPRISE GROUP",
            "QTL US TERMINAL",
            "NORTHERN NEW ENGLAND ENERGY",
            "GOLDEN PASS LNG TERMINAL INVESTMENTS",
            "LIQUEFIED NATURAL GAS"
           ],
           [
            107609706,
            79690393,
            67282683,
            64213701,
            62582671,
            53698184,
            53464072,
            42910935,
            38207985,
            34064838,
            29646552,
            28958037,
            27810023,
            27511980,
            23349963,
            21344222,
            20333595,
            19371615,
            18471403,
            17407748,
            17312082,
            16496448,
            15841589,
            15279649,
            15209601,
            15181177,
            14305588,
            13451183,
            13434674,
            13038806,
            12871741,
            12821437,
            12816016,
            11839697,
            11775290,
            11402728,
            11231504,
            10966396,
            10829839,
            9902848,
            9643116,
            9218104,
            8688334,
            8568066,
            8424983,
            8324601,
            8051828,
            7802713,
            7607254,
            7562150,
            7534970,
            7018515,
            6943058,
            6938663,
            6627704,
            6215382,
            6185272,
            6157742,
            6089354,
            6046702,
            5904439,
            5886031,
            5490438,
            5447503,
            5384160,
            5255725,
            5247104,
            5234774,
            5098587,
            5075809,
            4994778,
            4891276,
            4869539,
            4819427,
            4807376,
            4653899,
            4588119,
            4218574,
            4152230,
            4080618,
            3950034,
            3868853,
            3681208,
            3679627,
            3629553,
            3540943,
            3474810,
            3445855,
            3397525,
            3260417,
            3145314,
            3141766,
            3108248,
            3076481,
            3060597,
            3007718,
            2991569,
            2932350,
            2896544,
            2832744,
            2821545,
            2807769,
            2744050,
            2712940,
            2708496,
            2703883,
            2677338,
            2661136,
            2644886,
            2637959,
            2619516,
            2550447,
            2484579,
            2438916,
            2399577,
            2360597,
            2309747,
            2307665,
            2254647,
            2232208,
            2228672,
            2199694,
            2153348,
            2117904,
            2113420,
            2091660,
            2066811,
            2022274,
            2019056,
            2018957,
            2009380,
            2007069,
            2002264,
            1977150,
            1945168,
            1941559,
            1909196,
            1902367,
            1895828,
            1895629,
            1875446,
            1828446,
            1786406,
            1783355,
            1781883,
            1780464,
            1765448,
            1760964,
            1730589,
            1710051,
            1698300,
            1660595,
            1622746,
            1621904,
            1612185,
            1574014,
            1520454,
            1520135,
            1513214,
            1510088,
            1465255,
            1455968,
            1445441,
            1435983,
            1422560,
            1413382,
            1409067,
            1406335,
            1362721,
            1360959,
            1358850,
            1358257,
            1342300,
            1340039,
            1328863,
            1328011,
            1318558,
            1303852,
            1302854,
            1302604,
            1297627,
            1285871,
            1284913,
            1275226,
            1269334,
            1267341,
            1242319,
            1241676,
            1204476,
            1197416,
            1193770,
            1189724,
            1161856,
            1149419,
            1127900,
            1124373,
            1122780,
            1118183,
            1093638,
            1091213,
            1076083,
            1064390,
            1064199,
            1064053,
            1059132,
            1050958,
            1050081,
            1037984,
            1035003,
            1029456,
            1022507,
            1019084,
            1016537,
            1015991,
            1007930,
            1005463,
            951998,
            943368,
            931497,
            927541,
            925807,
            920699,
            918105,
            917568,
            912102,
            908098,
            886374,
            886144,
            883486,
            882350,
            855401,
            852651,
            845466,
            843834,
            836007,
            829500,
            820036,
            810190,
            810182,
            805099,
            804509,
            795772,
            777446,
            771767,
            760212,
            756415,
            755512,
            751378,
            749278,
            746921,
            735693,
            735511,
            725352,
            723729,
            718089,
            711202,
            703140,
            696576,
            690209,
            688294,
            666295,
            661441,
            656330,
            647859,
            641355,
            637450,
            636633,
            633942,
            628693,
            627253,
            626978,
            622761,
            619410,
            614173,
            611376,
            609095,
            604778,
            603121,
            596444,
            594353,
            587269,
            582532,
            579100,
            569966,
            562455,
            557674,
            557606,
            555731,
            553005,
            542568,
            537125,
            535328,
            534868,
            533921,
            533864,
            525933,
            525933,
            525546,
            522479,
            514735,
            513742,
            512221,
            495680,
            494622,
            490254,
            489945,
            489270,
            488568,
            488448,
            487911,
            485396,
            477802,
            470484,
            465351,
            461398,
            460117,
            453288,
            449250,
            447038,
            447036,
            444996,
            442683,
            442653,
            436222,
            428139,
            427081,
            423640,
            421110,
            416236,
            414639,
            414540,
            412084,
            409575,
            406839,
            397926,
            394282,
            394089,
            383345,
            383072,
            379416,
            379251,
            378362,
            377566,
            374091,
            373782,
            373431,
            373190,
            370044,
            369404,
            361389,
            360099,
            359704,
            359429,
            357775,
            355831,
            353408,
            350097,
            349144,
            348881,
            347202,
            342543,
            331216,
            327900,
            327491,
            322211,
            320010,
            317633,
            317205,
            314292,
            312740,
            304880,
            303953,
            302153,
            302101,
            301253,
            297115,
            295956,
            291305,
            290468,
            283956,
            281596,
            278342,
            276584,
            276232,
            273878,
            273535,
            267572,
            267107,
            265732,
            265721,
            264320,
            262910,
            261692,
            259951,
            259681,
            258507,
            253623,
            250125,
            249596,
            247841,
            244552,
            235311,
            233857,
            231721,
            230928,
            229052,
            228194,
            227737,
            227717,
            227501,
            227420,
            226390,
            224238,
            222509,
            220629,
            217094,
            215588,
            213652,
            211046,
            210182,
            209040,
            207192,
            206697,
            201866,
            201519,
            201050,
            198175,
            197905,
            194724,
            190001,
            187964,
            186582,
            186036,
            183395,
            182938,
            182755,
            182476,
            182312,
            181475,
            180447,
            178574,
            175776,
            175145,
            175117,
            174802,
            174396,
            172264,
            169324,
            167059,
            164514,
            162986,
            162923,
            162777,
            162262,
            162253,
            160884,
            159316,
            158590,
            158075,
            157641,
            156345,
            155602,
            154174,
            150974,
            150744,
            148482,
            148446,
            146463,
            145850,
            145663,
            145635,
            144330,
            142742,
            141492,
            140929,
            139012,
            138974,
            136738,
            136631,
            135767,
            134639,
            133478,
            130224,
            129810,
            129018,
            128641,
            128046,
            124545,
            124408,
            123544,
            122304,
            121947,
            120428,
            119328,
            118070,
            116802,
            116406,
            115874,
            115287,
            114684,
            113622,
            113074,
            111125,
            110353,
            110180,
            107885,
            106917,
            105075,
            101677,
            100123,
            100024,
            99678,
            99361,
            98807,
            98559,
            97550,
            96685,
            96475,
            96069,
            94787,
            94527,
            92993,
            92898,
            92826,
            92621,
            92204,
            91661,
            91302,
            89776,
            88100,
            87415,
            85614,
            82837,
            81953,
            81738,
            81727,
            79221,
            78434,
            78371,
            74521,
            72401,
            71752,
            71627,
            71308,
            70392,
            69045,
            68540,
            67629,
            67112,
            66846,
            66344,
            65879,
            65063,
            62750,
            62507,
            61529,
            59546,
            59074,
            58612,
            57338,
            57140,
            56721,
            56472,
            56424,
            56083,
            54458,
            53859,
            53388,
            53307,
            53134,
            53092,
            52843,
            52379,
            52295,
            51066,
            50687,
            50260,
            50218,
            49170,
            48500,
            48452,
            47906,
            47821,
            46300,
            45728,
            44243,
            41939,
            41693,
            39630,
            38995,
            38572,
            38104,
            38030,
            37831,
            37429,
            37082,
            34864,
            34027,
            32036,
            31765,
            31727,
            31680,
            31222,
            30878,
            30864,
            30642,
            30404,
            29553,
            29439,
            29378,
            28922,
            28214,
            27892,
            27512,
            27451,
            27269,
            27091,
            26813,
            26138,
            25816,
            25729,
            25724,
            25157,
            24955,
            24588,
            24563,
            23706,
            22902,
            22829,
            21401,
            20988,
            19447,
            18910,
            16945,
            16553,
            15943,
            15667,
            14962,
            14851,
            13560,
            13425,
            13054,
            13041,
            12862,
            12286,
            12259,
            12259,
            11865,
            11608,
            9170,
            9073,
            8828,
            8299,
            7028,
            6737,
            6552,
            6153,
            6121,
            5965,
            4947,
            4320,
            4306,
            3853,
            3194,
            3064,
            3062,
            2871,
            2431,
            2378,
            2115,
            1666,
            1228,
            631,
            41,
            11,
            3,
            2,
            0
           ],
           [
            11883563,
            13725695,
            9389094,
            6642763,
            1932428,
            5842378,
            5933711,
            4978620,
            3695422,
            5033750,
            4180645,
            1354784,
            1785376,
            3482375,
            336100,
            2267509,
            2606437,
            2544273,
            2279286,
            3684014,
            1270567,
            1879007,
            null,
            1210422,
            635729,
            1134057,
            1111918,
            2428865,
            1845588,
            1303824,
            592394,
            856288,
            2192998,
            829685,
            null,
            null,
            1041234,
            101337,
            1350629,
            62314,
            null,
            1656408,
            1746374,
            421532,
            null,
            1702370,
            null,
            1021013,
            null,
            778928,
            908756,
            null,
            839683,
            988729,
            null,
            479390,
            null,
            2076453,
            563736,
            332787,
            1750915,
            383429,
            225701,
            638611,
            449455,
            1078783,
            593852,
            1217488,
            265486,
            458509,
            652634,
            null,
            180678,
            565149,
            239197,
            285810,
            null,
            1479987,
            756867,
            2915183,
            762675,
            831698,
            622976,
            103518,
            1356622,
            897008,
            370363,
            475893,
            null,
            446373,
            null,
            61733,
            585841,
            null,
            543344,
            null,
            219771,
            1010232,
            442874,
            747118,
            null,
            103359,
            null,
            288166,
            null,
            781794,
            null,
            null,
            246452,
            null,
            262329,
            null,
            241513,
            345230,
            283572,
            277321,
            255818,
            null,
            132827,
            2232208,
            229145,
            1191456,
            243101,
            711871,
            199421,
            253094,
            null,
            273786,
            426180,
            91709,
            151683,
            203496,
            null,
            344757,
            161507,
            34970,
            199849,
            201550,
            842079,
            192493,
            null,
            null,
            176289,
            289067,
            65866,
            300037,
            null,
            40434,
            182475,
            null,
            null,
            173091,
            null,
            142574,
            null,
            null,
            null,
            552945,
            null,
            747083,
            null,
            50682,
            null,
            46728,
            215068,
            null,
            16297,
            null,
            40520,
            12647,
            276226,
            271353,
            null,
            121855,
            null,
            0,
            null,
            253026,
            null,
            null,
            260843,
            null,
            244095,
            2941,
            null,
            null,
            188570,
            null,
            null,
            263868,
            242593,
            null,
            null,
            120972,
            430047,
            1124373,
            null,
            null,
            189557,
            89450,
            null,
            null,
            307378,
            189537,
            null,
            13045,
            111890,
            null,
            892071,
            60341,
            335385,
            null,
            58191,
            111767,
            null,
            null,
            713056,
            121569,
            74096,
            null,
            70050,
            233968,
            null,
            null,
            null,
            null,
            265361,
            null,
            null,
            null,
            130024,
            null,
            0,
            null,
            68814,
            null,
            179404,
            null,
            null,
            null,
            null,
            null,
            null,
            null,
            null,
            null,
            null,
            null,
            105240,
            30839,
            null,
            117722,
            29501,
            null,
            null,
            246907,
            null,
            null,
            null,
            269168,
            null,
            82716,
            null,
            null,
            63989,
            21438,
            null,
            135515,
            22344,
            null,
            null,
            null,
            80956,
            null,
            null,
            null,
            5418,
            603121,
            null,
            191278,
            null,
            null,
            null,
            null,
            null,
            null,
            257508,
            null,
            147501,
            117621,
            53417,
            null,
            null,
            null,
            null,
            173591,
            173591,
            124805,
            null,
            null,
            null,
            65149,
            114706,
            null,
            53328,
            32248,
            null,
            162695,
            null,
            287525,
            null,
            null,
            62272,
            63966,
            223709,
            43878,
            null,
            null,
            null,
            null,
            58041,
            null,
            155072,
            null,
            40620,
            null,
            94458,
            null,
            null,
            87274,
            114729,
            38920,
            null,
            null,
            397926,
            null,
            null,
            null,
            null,
            null,
            45690,
            101565,
            null,
            102058,
            null,
            30329,
            null,
            null,
            170641,
            52078,
            null,
            null,
            71126,
            null,
            null,
            null,
            137274,
            79620,
            null,
            null,
            28698,
            null,
            null,
            null,
            null,
            87023,
            170638,
            71232,
            null,
            54295,
            null,
            null,
            29070,
            37106,
            162378,
            76145,
            39714,
            41515,
            null,
            null,
            null,
            null,
            110890,
            null,
            null,
            null,
            null,
            null,
            null,
            null,
            28434,
            null,
            null,
            41023,
            83491,
            null,
            33356,
            41437,
            79509,
            52778,
            null,
            null,
            42605,
            null,
            null,
            44572,
            null,
            null,
            227717,
            null,
            null,
            null,
            66809,
            null,
            null,
            44641,
            null,
            18583,
            null,
            44624,
            null,
            null,
            38339,
            null,
            19292,
            null,
            null,
            91877,
            38597,
            51756,
            26447,
            null,
            27160,
            null,
            null,
            null,
            null,
            59695,
            null,
            null,
            7365,
            null,
            null,
            null,
            65352,
            24686,
            null,
            30849,
            167059,
            null,
            null,
            null,
            null,
            32759,
            null,
            null,
            54412,
            null,
            79665,
            null,
            null,
            null,
            32162,
            33717,
            null,
            148482,
            18338,
            null,
            null,
            null,
            null,
            null,
            null,
            null,
            null,
            null,
            null,
            null,
            null,
            29337,
            null,
            null,
            50133,
            14205,
            46992,
            28025,
            null,
            null,
            null,
            null,
            40147,
            null,
            null,
            null,
            null,
            null,
            null,
            null,
            58442,
            54678,
            113622,
            null,
            null,
            null,
            null,
            25262,
            null,
            105075,
            null,
            31887,
            null,
            null,
            null,
            null,
            23756,
            null,
            null,
            null,
            null,
            null,
            null,
            null,
            null,
            30461,
            30565,
            null,
            null,
            null,
            null,
            null,
            null,
            null,
            null,
            null,
            null,
            null,
            null,
            9876,
            null,
            null,
            72401,
            null,
            71627,
            null,
            null,
            null,
            9702,
            null,
            null,
            null,
            28090,
            null,
            null,
            10352,
            null,
            null,
            null,
            30976,
            null,
            null,
            29547,
            null,
            null,
            7987,
            null,
            30947,
            null,
            13590,
            null,
            null,
            null,
            null,
            null,
            null,
            null,
            null,
            null,
            50218,
            null,
            null,
            null,
            null,
            null,
            null,
            null,
            null,
            null,
            null,
            5674,
            null,
            null,
            null,
            null,
            14728,
            null,
            5249,
            null,
            null,
            null,
            1014,
            null,
            null,
            null,
            null,
            30864,
            30642,
            17889,
            null,
            null,
            null,
            null,
            null,
            null,
            null,
            4529,
            null,
            null,
            null,
            null,
            null,
            4480,
            null,
            null,
            null,
            null,
            null,
            23706,
            null,
            null,
            null,
            null,
            null,
            8291,
            null,
            null,
            15943,
            7206,
            null,
            7788,
            null,
            2912,
            1869,
            null,
            2240,
            12286,
            1567,
            1567,
            null,
            null,
            4291,
            null,
            1972,
            1744,
            null,
            6737,
            null,
            null,
            6121,
            648,
            null,
            1187,
            null,
            3584,
            2971,
            542,
            1040,
            null,
            null,
            413,
            null,
            null,
            350,
            null,
            0,
            null,
            null,
            null,
            null
           ],
           [
            14835260,
            11477010,
            6990798,
            5718302,
            4347338,
            5410240,
            6019395,
            4753681,
            4154040,
            4439068,
            3415817,
            1640147,
            1469321,
            3719335,
            414368,
            2303059,
            2804937,
            3225471,
            2244231,
            1814306,
            2153409,
            1826602,
            null,
            1756491,
            1033607,
            1280192,
            1314109,
            2086446,
            1886376,
            1066111,
            611830,
            1125322,
            886860,
            3672802,
            null,
            null,
            1125771,
            1595024,
            1497257,
            62003,
            1451440,
            1626172,
            267937,
            565465,
            null,
            1855882,
            265196,
            665450,
            650616,
            686506,
            830778,
            null,
            991557,
            1141904,
            1227978,
            839739,
            1837939,
            2156012,
            671980,
            679646,
            1317019,
            498036,
            1186408,
            1094985,
            488365,
            1249440,
            371014,
            1152100,
            658189,
            2064516,
            736013,
            null,
            618143,
            484997,
            220617,
            349143,
            null,
            197116,
            710226,
            351583,
            685398,
            885175,
            502128,
            208732,
            796805,
            982411,
            364839,
            710972,
            null,
            397581,
            null,
            57648,
            446103,
            null,
            497699,
            null,
            168039,
            759185,
            360074,
            403428,
            305725,
            67578,
            null,
            312226,
            null,
            608644,
            null,
            null,
            298726,
            null,
            338415,
            null,
            232586,
            315722,
            160879,
            256365,
            248505,
            null,
            275448,
            null,
            376669,
            null,
            311730,
            702707,
            294691,
            286881,
            null,
            213078,
            500639,
            248172,
            222304,
            287162,
            null,
            333844,
            178852,
            40636,
            75538,
            232608,
            221801,
            675070,
            null,
            null,
            96266,
            285708,
            230602,
            622886,
            110949,
            99211,
            591106,
            null,
            105977,
            207719,
            44427,
            158248,
            null,
            38916,
            null,
            245706,
            null,
            763005,
            168733,
            50611,
            null,
            112798,
            257667,
            null,
            18771,
            null,
            34196,
            15621,
            250812,
            247298,
            null,
            123277,
            null,
            47,
            null,
            167482,
            null,
            null,
            234016,
            null,
            157075,
            3076,
            null,
            324084,
            210951,
            null,
            null,
            273541,
            289382,
            null,
            null,
            152705,
            245629,
            null,
            null,
            null,
            106216,
            94242,
            null,
            null,
            331577,
            107749,
            null,
            31258,
            108067,
            null,
            21368,
            42729,
            448693,
            null,
            65440,
            100437,
            null,
            37448,
            47998,
            114240,
            167369,
            null,
            249583,
            178772,
            64325,
            null,
            null,
            null,
            338017,
            null,
            null,
            null,
            141448,
            null,
            279561,
            null,
            73278,
            null,
            134199,
            34065,
            null,
            null,
            null,
            68416,
            null,
            null,
            null,
            169888,
            null,
            null,
            114322,
            46916,
            null,
            158136,
            47639,
            null,
            null,
            190355,
            null,
            null,
            null,
            110269,
            null,
            82124,
            null,
            null,
            154259,
            43381,
            null,
            144695,
            21662,
            null,
            null,
            null,
            84558,
            null,
            null,
            null,
            4934,
            null,
            null,
            72190,
            null,
            null,
            null,
            45964,
            null,
            null,
            300098,
            52950,
            127093,
            99742,
            64958,
            null,
            null,
            null,
            null,
            152862,
            152862,
            108197,
            null,
            null,
            null,
            65980,
            111663,
            null,
            68658,
            34234,
            null,
            187316,
            null,
            200386,
            null,
            null,
            null,
            null,
            237689,
            39745,
            null,
            18217,
            null,
            null,
            58259,
            null,
            151516,
            null,
            153374,
            null,
            117489,
            null,
            null,
            174241,
            154046,
            73395,
            null,
            null,
            null,
            394282,
            null,
            null,
            null,
            null,
            124224,
            25622,
            null,
            100148,
            null,
            21862,
            null,
            null,
            198763,
            49241,
            null,
            null,
            62883,
            null,
            null,
            null,
            212823,
            80445,
            348881,
            120684,
            36318,
            null,
            null,
            113064,
            null,
            131419,
            146995,
            83801,
            null,
            55139,
            null,
            null,
            36032,
            62405,
            138875,
            96305,
            39587,
            44905,
            null,
            null,
            null,
            null,
            165694,
            null,
            null,
            37560,
            25494,
            null,
            null,
            null,
            25016,
            null,
            null,
            31943,
            176190,
            null,
            43887,
            23892,
            85397,
            52897,
            null,
            null,
            43610,
            null,
            null,
            57839,
            null,
            null,
            null,
            null,
            null,
            null,
            47863,
            null,
            32699,
            40534,
            null,
            21368,
            null,
            61089,
            null,
            null,
            17342,
            null,
            16193,
            null,
            null,
            31026,
            38448,
            37060,
            18338,
            null,
            28192,
            null,
            null,
            null,
            null,
            66942,
            null,
            null,
            6048,
            null,
            null,
            72042,
            77803,
            22576,
            null,
            33258,
            null,
            null,
            null,
            null,
            null,
            29910,
            null,
            null,
            69211,
            null,
            78410,
            null,
            null,
            null,
            23775,
            31516,
            73376,
            null,
            30707,
            null,
            null,
            null,
            null,
            null,
            null,
            null,
            null,
            null,
            null,
            null,
            null,
            36637,
            null,
            null,
            26208,
            10830,
            56561,
            15919,
            null,
            null,
            null,
            null,
            42712,
            null,
            null,
            null,
            null,
            null,
            null,
            null,
            38351,
            60006,
            null,
            null,
            null,
            null,
            null,
            27386,
            null,
            null,
            null,
            25544,
            null,
            null,
            null,
            null,
            28214,
            null,
            null,
            35717,
            null,
            null,
            null,
            null,
            null,
            23078,
            24029,
            null,
            null,
            null,
            null,
            null,
            null,
            null,
            null,
            null,
            null,
            null,
            null,
            10975,
            null,
            null,
            null,
            null,
            null,
            null,
            null,
            null,
            8873,
            null,
            null,
            null,
            16433,
            null,
            null,
            9427,
            null,
            null,
            null,
            27941,
            null,
            null,
            27593,
            null,
            null,
            7304,
            null,
            15196,
            null,
            18293,
            null,
            null,
            null,
            null,
            null,
            null,
            null,
            null,
            null,
            null,
            null,
            null,
            null,
            null,
            null,
            null,
            null,
            null,
            null,
            null,
            6621,
            null,
            null,
            null,
            null,
            13508,
            null,
            4800,
            null,
            null,
            null,
            36,
            null,
            null,
            null,
            null,
            null,
            null,
            2065,
            null,
            null,
            null,
            8190,
            null,
            null,
            null,
            4124,
            null,
            null,
            null,
            null,
            null,
            5175,
            null,
            null,
            null,
            null,
            null,
            null,
            null,
            null,
            null,
            null,
            null,
            4258,
            null,
            null,
            null,
            5165,
            7879,
            7025,
            null,
            2391,
            2181,
            null,
            2587,
            null,
            1589,
            1589,
            null,
            null,
            2356,
            null,
            2302,
            1115,
            null,
            null,
            6552,
            6153,
            null,
            1053,
            null,
            1148,
            null,
            269,
            223,
            1016,
            1043,
            null,
            2320,
            95,
            null,
            null,
            244,
            null,
            0,
            null,
            null,
            null,
            null
           ],
           [
            12883495,
            12938759,
            6234089,
            6262773,
            4124251,
            5843165,
            6289954,
            4934024,
            5424472,
            5279464,
            3062550,
            1992208,
            1548662,
            3586185,
            757024,
            2200350,
            2615463,
            2892330,
            2258233,
            1926554,
            1959737,
            1687367,
            178223,
            2355406,
            1078008,
            1480251,
            1185442,
            1557766,
            2134862,
            1122002,
            871100,
            1404040,
            937394,
            1424342,
            null,
            null,
            1091301,
            1467255,
            1480743,
            59473,
            1401980,
            1449151,
            612890,
            573065,
            null,
            1643799,
            938103,
            674838,
            742130,
            604790,
            1113284,
            null,
            865894,
            1540782,
            1257781,
            1389454,
            1884956,
            1925277,
            631332,
            526084,
            1090865,
            420033,
            1139706,
            1590579,
            629006,
            530533,
            492415,
            1397105,
            1034519,
            1546246,
            754509,
            null,
            1254250,
            451020,
            169870,
            375659,
            428083,
            304298,
            1052590,
            285998,
            672946,
            624973,
            566745,
            469560,
            720144,
            552871,
            325896,
            null,
            null,
            315654,
            355523,
            148172,
            1243059,
            null,
            457752,
            null,
            197165,
            607180,
            331504,
            284037,
            225952,
            269244,
            null,
            329778,
            null,
            602436,
            null,
            null,
            303708,
            null,
            299507,
            null,
            244785,
            357847,
            226674,
            337844,
            285988,
            null,
            131269,
            null,
            230890,
            null,
            225818,
            334162,
            260937,
            332566,
            167323,
            178219,
            486091,
            213436,
            122680,
            266742,
            123788,
            299867,
            167842,
            305677,
            98300,
            229775,
            161255,
            453677,
            null,
            null,
            154369,
            299090,
            189919,
            430870,
            156850,
            91735,
            957008,
            null,
            111206,
            272474,
            121884,
            76542,
            90766,
            97967,
            null,
            215748,
            null,
            null,
            178865,
            129128,
            null,
            26710,
            248781,
            null,
            335059,
            null,
            64971,
            14420,
            143074,
            322842,
            313106,
            170477,
            null,
            26,
            null,
            218355,
            null,
            null,
            329662,
            null,
            121770,
            2800,
            null,
            458773,
            220562,
            null,
            null,
            293837,
            286073,
            null,
            null,
            159050,
            179803,
            null,
            null,
            null,
            159986,
            103299,
            null,
            null,
            366371,
            32924,
            397808,
            34051,
            152508,
            null,
            25191,
            72637,
            64836,
            null,
            97272,
            118632,
            null,
            42180,
            81313,
            113071,
            184664,
            null,
            175064,
            209217,
            214503,
            null,
            null,
            null,
            282996,
            null,
            null,
            167194,
            98044,
            null,
            278031,
            null,
            105460,
            116256,
            114184,
            33099,
            null,
            null,
            null,
            59782,
            null,
            null,
            null,
            266643,
            null,
            null,
            117845,
            208870,
            437469,
            133406,
            16196,
            null,
            null,
            273940,
            null,
            null,
            null,
            70720,
            null,
            84084,
            null,
            null,
            205063,
            74162,
            null,
            102737,
            37179,
            null,
            null,
            null,
            82325,
            null,
            138564,
            null,
            4521,
            null,
            null,
            72134,
            28994,
            null,
            null,
            69044,
            null,
            null,
            null,
            52325,
            109201,
            110457,
            94746,
            null,
            null,
            null,
            null,
            112976,
            112976,
            178609,
            null,
            null,
            32096,
            73943,
            57033,
            null,
            54590,
            55134,
            null,
            138557,
            null,
            null,
            234370,
            null,
            51577,
            111375,
            null,
            35617,
            null,
            90481,
            null,
            null,
            179521,
            null,
            136065,
            null,
            234145,
            null,
            110073,
            null,
            null,
            153124,
            145765,
            57194,
            null,
            null,
            null,
            null,
            null,
            null,
            null,
            64763,
            94480,
            50097,
            29827,
            87921,
            null,
            22419,
            67567,
            null,
            null,
            51773,
            null,
            null,
            53350,
            90714,
            null,
            null,
            null,
            66594,
            null,
            119466,
            22486,
            null,
            null,
            106522,
            null,
            41452,
            null,
            92713,
            null,
            41605,
            null,
            null,
            51906,
            53241,
            null,
            82450,
            37588,
            40830,
            null,
            47928,
            null,
            null,
            null,
            null,
            null,
            44731,
            25193,
            null,
            null,
            null,
            23014,
            58252,
            null,
            38402,
            null,
            null,
            32472,
            23293,
            20020,
            37913,
            44202,
            null,
            45442,
            null,
            null,
            126641,
            null,
            null,
            null,
            38155,
            62701,
            null,
            48863,
            null,
            31507,
            23122,
            null,
            25191,
            null,
            39167,
            null,
            null,
            30652,
            null,
            12720,
            null,
            null,
            25977,
            33540,
            45322,
            24749,
            null,
            29049,
            null,
            null,
            null,
            null,
            55675,
            null,
            null,
            45868,
            null,
            null,
            49799,
            31647,
            25588,
            null,
            33780,
            null,
            null,
            33000,
            null,
            null,
            28505,
            null,
            null,
            15824,
            null,
            null,
            null,
            null,
            null,
            24637,
            22078,
            77368,
            null,
            36277,
            null,
            null,
            57851,
            29207,
            null,
            142742,
            67077,
            null,
            null,
            null,
            null,
            null,
            34891,
            null,
            null,
            16809,
            12549,
            9915,
            19868,
            null,
            null,
            67293,
            null,
            39445,
            null,
            null,
            null,
            null,
            null,
            27702,
            null,
            null,
            null,
            null,
            null,
            null,
            null,
            null,
            27475,
            47357,
            null,
            null,
            19185,
            null,
            null,
            null,
            null,
            38548,
            null,
            null,
            33528,
            null,
            null,
            null,
            null,
            null,
            25403,
            20384,
            null,
            null,
            null,
            47887,
            null,
            null,
            null,
            null,
            null,
            null,
            null,
            null,
            9775,
            null,
            31096,
            null,
            null,
            null,
            null,
            null,
            null,
            10057,
            null,
            null,
            null,
            21821,
            null,
            null,
            8638,
            31042,
            null,
            null,
            123,
            null,
            null,
            null,
            null,
            56472,
            8279,
            null,
            3674,
            null,
            21505,
            null,
            null,
            null,
            null,
            null,
            null,
            null,
            null,
            null,
            null,
            null,
            null,
            null,
            null,
            null,
            null,
            null,
            null,
            null,
            null,
            7011,
            null,
            null,
            null,
            null,
            5675,
            null,
            5441,
            null,
            null,
            6994,
            30651,
            null,
            null,
            null,
            null,
            null,
            null,
            3941,
            null,
            null,
            null,
            7049,
            null,
            null,
            null,
            3779,
            10617,
            null,
            null,
            null,
            null,
            4899,
            null,
            null,
            null,
            null,
            null,
            null,
            null,
            null,
            null,
            null,
            null,
            6361,
            null,
            null,
            null,
            3296,
            7083,
            30,
            null,
            2225,
            2310,
            null,
            2449,
            null,
            1429,
            1429,
            null,
            null,
            2523,
            null,
            2437,
            1246,
            null,
            null,
            null,
            null,
            null,
            1073,
            null,
            863,
            null,
            null,
            null,
            1506,
            979,
            null,
            111,
            701,
            null,
            null,
            175,
            null,
            0,
            null,
            null,
            null,
            null
           ],
           [
            12571712,
            10403863,
            5669428,
            6937417,
            4358246,
            5026566,
            6153017,
            4966137,
            5994572,
            5201344,
            3206442,
            2249943,
            2148241,
            2948005,
            1584991,
            2321388,
            2127214,
            2201996,
            2039363,
            2015313,
            2316622,
            1562984,
            1984867,
            2155058,
            2947189,
            1555764,
            1024906,
            1552677,
            2146723,
            1304773,
            2203603,
            1645702,
            1356965,
            1462759,
            null,
            378634,
            1450729,
            1355278,
            1527844,
            173624,
            1361368,
            1527537,
            428842,
            667001,
            891460,
            1388403,
            902954,
            982305,
            614109,
            1142294,
            976561,
            null,
            836524,
            62688,
            1025194,
            1073158,
            1417322,
            null,
            640368,
            526429,
            279330,
            452241,
            1171520,
            773763,
            710201,
            398368,
            504200,
            1468081,
            1244931,
            681423,
            814834,
            null,
            883510,
            762501,
            952272,
            294370,
            822173,
            408189,
            1455895,
            194036,
            670873,
            1527007,
            364097,
            433945,
            755982,
            300471,
            325949,
            null,
            null,
            379337,
            1134747,
            291917,
            571083,
            null,
            439904,
            null,
            509958,
            519308,
            330708,
            301207,
            173008,
            633570,
            476787,
            339254,
            null,
            411303,
            null,
            null,
            263593,
            15694,
            325301,
            null,
            316572,
            341088,
            291422,
            596221,
            251276,
            null,
            334688,
            null,
            185994,
            null,
            239921,
            369164,
            251863,
            374153,
            265918,
            138580,
            606146,
            297624,
            261140,
            303331,
            183632,
            263189,
            375493,
            112914,
            174223,
            337528,
            159515,
            574389,
            304933,
            87787,
            215001,
            310764,
            184346,
            271066,
            164823,
            219457,
            0,
            176864,
            131389,
            227718,
            152253,
            268050,
            46199,
            171493,
            205161,
            189969,
            null,
            null,
            172591,
            140157,
            null,
            169599,
            224783,
            null,
            349948,
            null,
            84742,
            15959,
            108244,
            339623,
            230648,
            223915,
            25654,
            90,
            null,
            207035,
            null,
            null,
            35170,
            null,
            52636,
            154412,
            null,
            484484,
            197763,
            null,
            140328,
            366170,
            375722,
            27264,
            null,
            173217,
            159067,
            null,
            25000,
            203080,
            106560,
            106174,
            null,
            298361,
            14140,
            35361,
            308786,
            29441,
            143482,
            null,
            29284,
            171686,
            49052,
            null,
            89049,
            201952,
            null,
            161310,
            109631,
            106502,
            206462,
            null,
            201998,
            298742,
            219770,
            null,
            261799,
            null,
            null,
            null,
            null,
            166695,
            126573,
            null,
            287874,
            null,
            108153,
            127828,
            138044,
            34551,
            null,
            null,
            null,
            100423,
            null,
            368545,
            null,
            319884,
            null,
            null,
            124119,
            460296,
            null,
            58928,
            59090,
            249767,
            79059,
            null,
            null,
            null,
            43299,
            80047,
            148446,
            78350,
            null,
            null,
            218044,
            116112,
            null,
            86561,
            39180,
            null,
            null,
            null,
            77140,
            null,
            null,
            49133,
            4649,
            null,
            null,
            71433,
            34038,
            120504,
            null,
            105935,
            null,
            null,
            null,
            55543,
            169210,
            108121,
            83184,
            null,
            null,
            null,
            null,
            86504,
            86504,
            113935,
            null,
            null,
            129160,
            66260,
            49526,
            120775,
            35029,
            95291,
            null,
            null,
            null,
            null,
            251026,
            null,
            356635,
            76296,
            null,
            40924,
            null,
            143247,
            null,
            11253,
            23395,
            49008,
            null,
            null,
            null,
            null,
            101620,
            null,
            null,
            null,
            null,
            53240,
            null,
            170638,
            null,
            null,
            null,
            null,
            null,
            72487,
            40971,
            70079,
            9945,
            83964,
            146159,
            48543,
            71842,
            null,
            null,
            31619,
            null,
            null,
            51358,
            79758,
            null,
            26927,
            null,
            66665,
            0,
            107052,
            40694,
            null,
            null,
            107905,
            null,
            60116,
            null,
            69459,
            null,
            40236,
            null,
            null,
            55685,
            149349,
            null,
            42215,
            37895,
            42147,
            null,
            67574,
            null,
            140557,
            null,
            19896,
            null,
            28452,
            26743,
            null,
            null,
            null,
            21292,
            64744,
            null,
            24800,
            null,
            66927,
            6855,
            27614,
            64670,
            6531,
            34430,
            null,
            37893,
            null,
            null,
            null,
            null,
            null,
            null,
            58737,
            null,
            null,
            36413,
            null,
            32980,
            17493,
            null,
            29284,
            null,
            65302,
            null,
            null,
            33595,
            null,
            46182,
            null,
            null,
            49025,
            41501,
            55863,
            24007,
            null,
            22593,
            null,
            null,
            29738,
            98494,
            null,
            null,
            null,
            41104,
            null,
            175145,
            18065,
            0,
            24390,
            null,
            34439,
            0,
            null,
            1829,
            30935,
            null,
            26919,
            null,
            28618,
            19869,
            51615,
            null,
            null,
            null,
            null,
            24655,
            18356,
            null,
            null,
            22434,
            null,
            null,
            41548,
            31230,
            null,
            null,
            37887,
            null,
            null,
            null,
            null,
            null,
            34902,
            134639,
            null,
            23977,
            20923,
            15550,
            35849,
            null,
            null,
            57115,
            null,
            null,
            null,
            null,
            null,
            null,
            null,
            39174,
            null,
            null,
            null,
            null,
            null,
            null,
            null,
            null,
            27762,
            40904,
            null,
            null,
            13903,
            null,
            null,
            null,
            null,
            460,
            null,
            null,
            27230,
            null,
            null,
            null,
            null,
            null,
            13884,
            17643,
            null,
            null,
            null,
            41889,
            null,
            null,
            null,
            null,
            null,
            null,
            null,
            null,
            10618,
            null,
            43425,
            null,
            null,
            null,
            null,
            null,
            null,
            9586,
            null,
            null,
            null,
            null,
            null,
            null,
            8881,
            31465,
            null,
            null,
            34,
            null,
            57338,
            null,
            null,
            null,
            7891,
            null,
            4641,
            null,
            0,
            53307,
            null,
            null,
            null,
            10966,
            null,
            null,
            null,
            null,
            0,
            null,
            null,
            null,
            null,
            null,
            null,
            null,
            21102,
            null,
            null,
            6090,
            null,
            null,
            38104,
            null,
            3920,
            null,
            5186,
            null,
            null,
            12044,
            12,
            null,
            null,
            null,
            null,
            null,
            null,
            6509,
            null,
            null,
            null,
            13683,
            28214,
            null,
            null,
            3885,
            16652,
            27091,
            null,
            null,
            null,
            4355,
            null,
            25157,
            null,
            null,
            null,
            null,
            null,
            null,
            null,
            null,
            null,
            null,
            null,
            null,
            null,
            null,
            null,
            8,
            null,
            2104,
            2006,
            5022,
            2177,
            null,
            1423,
            1423,
            null,
            null,
            0,
            null,
            2117,
            1363,
            null,
            null,
            null,
            null,
            null,
            964,
            null,
            1122,
            null,
            0,
            0,
            null,
            null,
            null,
            null,
            288,
            null,
            null,
            232,
            null,
            0,
            null,
            null,
            null,
            null
           ],
           [
            12625439,
            8794702,
            6428270,
            8233217,
            5399094,
            5253293,
            5968484,
            4347876,
            4773869,
            4579780,
            3142854,
            2400336,
            2843397,
            4516971,
            2752913,
            3826898,
            2172633,
            1809179,
            2297639,
            1794508,
            2562749,
            2882720,
            1426271,
            2494977,
            3590528,
            1561990,
            1014634,
            1039649,
            1823280,
            958685,
            2447072,
            1767404,
            1638490,
            1625766,
            null,
            1586867,
            1564202,
            1474506,
            1302966,
            181518,
            1480942,
            827429,
            616926,
            769986,
            950150,
            1052688,
            2507899,
            1013042,
            543427,
            1328555,
            846358,
            1939560,
            927054,
            66873,
            884062,
            751933,
            1045055,
            null,
            566404,
            421069,
            276771,
            402157,
            819447,
            529193,
            647550,
            544077,
            402752,
            null,
            364339,
            299246,
            648989,
            null,
            408963,
            730985,
            1187584,
            292734,
            828455,
            337168,
            35165,
            113093,
            570962,
            null,
            326341,
            523396,
            null,
            305689,
            318873,
            306963,
            null,
            444341,
            161757,
            237338,
            null,
            378510,
            263343,
            null,
            386400,
            null,
            343867,
            367720,
            186060,
            553672,
            755028,
            280746,
            null,
            299706,
            null,
            null,
            852633,
            656749,
            351745,
            622422,
            426291,
            325487,
            352734,
            351507,
            274003,
            null,
            291798,
            null,
            192792,
            null,
            221770,
            null,
            221929,
            289455,
            357124,
            280829,
            null,
            404499,
            229197,
            390743,
            124468,
            258516,
            274059,
            109504,
            155158,
            240992,
            162132,
            null,
            209752,
            61766,
            286282,
            302219,
            179720,
            155605,
            185038,
            318767,
            null,
            236293,
            120628,
            281412,
            142812,
            238365,
            195092,
            265051,
            242648,
            25366,
            null,
            null,
            192499,
            309352,
            53019,
            196173,
            170677,
            null,
            326633,
            169717,
            73478,
            16963,
            50085,
            46516,
            143390,
            198109,
            23541,
            817,
            null,
            131049,
            null,
            null,
            76789,
            null,
            131120,
            313048,
            null,
            null,
            141323,
            111254,
            318845,
            null,
            null,
            40515,
            null,
            143510,
            113354,
            null,
            285411,
            92950,
            199996,
            141028,
            null,
            202290,
            13494,
            185059,
            352538,
            144372,
            133231,
            null,
            36201,
            174776,
            20715,
            224842,
            142805,
            88539,
            null,
            149412,
            null,
            165854,
            110888,
            73910,
            null,
            null,
            180175,
            null,
            112396,
            null,
            null,
            null,
            61888,
            166043,
            106894,
            null,
            null,
            810019,
            95536,
            147699,
            85598,
            595094,
            40409,
            103434,
            null,
            129798,
            null,
            403222,
            710148,
            null,
            null,
            null,
            106767,
            null,
            83756,
            49160,
            157014,
            465939,
            58645,
            null,
            53940,
            null,
            25156,
            77950,
            189680,
            97646,
            null,
            null,
            null,
            55198,
            182763,
            73002,
            19283,
            null,
            null,
            null,
            80888,
            null,
            130816,
            68374,
            27158,
            null,
            null,
            72118,
            null,
            99105,
            116898,
            90745,
            null,
            null,
            null,
            28705,
            null,
            44745,
            75858,
            null,
            213944,
            null,
            null,
            null,
            null,
            null,
            null,
            null,
            99504,
            71483,
            162752,
            57102,
            68184,
            70311,
            null,
            null,
            null,
            null,
            null,
            57504,
            null,
            93048,
            null,
            44151,
            null,
            160182,
            null,
            29876,
            63265,
            58512,
            null,
            null,
            null,
            148456,
            null,
            null,
            null,
            null,
            null,
            46010,
            null,
            27745,
            null,
            null,
            null,
            null,
            27922,
            69090,
            73886,
            43275,
            20017,
            null,
            123874,
            23087,
            69208,
            null,
            null,
            37827,
            34943,
            null,
            45412,
            93755,
            null,
            9138,
            null,
            55820,
            null,
            null,
            44608,
            null,
            null,
            null,
            null,
            null,
            null,
            null,
            null,
            42077,
            null,
            73943,
            44903,
            null,
            null,
            null,
            36872,
            29566,
            null,
            70614,
            null,
            137785,
            null,
            31047,
            null,
            42373,
            13821,
            null,
            null,
            74861,
            16210,
            31936,
            null,
            29271,
            null,
            100297,
            32116,
            30050,
            null,
            8828,
            51063,
            null,
            16501,
            null,
            null,
            null,
            null,
            null,
            null,
            27973,
            null,
            null,
            24290,
            69369,
            34183,
            7387,
            null,
            36201,
            70958,
            null,
            null,
            80234,
            21085,
            null,
            41725,
            null,
            null,
            null,
            15376,
            null,
            22923,
            null,
            20938,
            38253,
            182938,
            38665,
            83982,
            null,
            null,
            null,
            41139,
            null,
            null,
            35211,
            null,
            23274,
            null,
            36998,
            null,
            36503,
            1893,
            36033,
            null,
            23493,
            null,
            30345,
            null,
            35996,
            null,
            45105,
            61402,
            null,
            24236,
            3664,
            null,
            null,
            22489,
            null,
            null,
            45182,
            25341,
            40819,
            null,
            36528,
            null,
            55113,
            null,
            null,
            null,
            null,
            null,
            null,
            13097,
            19929,
            null,
            17188,
            null,
            null,
            null,
            null,
            null,
            null,
            null,
            null,
            null,
            28786,
            49530,
            null,
            null,
            null,
            null,
            null,
            null,
            47081,
            21508,
            null,
            18656,
            null,
            null,
            5562,
            null,
            null,
            null,
            62018,
            6895,
            null,
            null,
            null,
            null,
            null,
            null,
            null,
            null,
            null,
            null,
            null,
            null,
            91302,
            null,
            null,
            null,
            null,
            null,
            null,
            null,
            null,
            21191,
            10216,
            null,
            null,
            null,
            null,
            null,
            null,
            null,
            null,
            9147,
            null,
            null,
            null,
            null,
            null,
            null,
            8304,
            null,
            null,
            null,
            null,
            null,
            null,
            null,
            null,
            null,
            7530,
            null,
            null,
            null,
            null,
            null,
            32060,
            null,
            10527,
            24638,
            52295,
            null,
            null,
            null,
            null,
            null,
            null,
            null,
            null,
            null,
            null,
            null,
            23141,
            null,
            null,
            3876,
            null,
            null,
            null,
            null,
            null,
            null,
            4949,
            null,
            null,
            12998,
            0,
            null,
            null,
            null,
            null,
            null,
            null,
            null,
            null,
            null,
            6105,
            null,
            null,
            null,
            null,
            3633,
            null,
            null,
            null,
            null,
            null,
            2853,
            null,
            null,
            null,
            null,
            24563,
            null,
            10432,
            3069,
            null,
            null,
            null,
            null,
            null,
            null,
            null,
            null,
            null,
            null,
            null,
            1409,
            1277,
            4126,
            1426,
            null,
            1403,
            1403,
            null,
            null,
            null,
            null,
            null,
            1383,
            null,
            null,
            null,
            null,
            null,
            951,
            1347,
            null,
            null,
            null,
            null,
            null,
            null,
            null,
            null,
            231,
            null,
            null,
            145,
            null,
            0,
            11,
            null,
            2,
            null
           ],
           [
            14564927,
            9418947,
            11702910,
            10184033,
            16982839,
            9180476,
            7534329,
            7532956,
            4413393,
            3967745,
            4512366,
            2273631,
            5517271,
            2643497,
            3858958,
            1807097,
            2157095,
            2120948,
            2696529,
            2162453,
            2052949,
            5796064,
            3455722,
            2198391,
            3395550,
            2301809,
            2160924,
            1331347,
            1458602,
            2403660,
            1459317,
            1964743,
            1655512,
            1106394,
            3780763,
            1696846,
            1197294,
            4058944,
            1057663,
            1302963,
            506658,
            762926,
            1560146,
            1060895,
            2432552,
            541297,
            674944,
            814979,
            2581907,
            1096833,
            575507,
            2443823,
            879849,
            null,
            705728,
            628955,
            null,
            null,
            922222,
            848709,
            261063,
            547865,
            712009,
            597715,
            556296,
            465657,
            896366,
            null,
            314130,
            25869,
            356418,
            1953108,
            515159,
            787547,
            530532,
            453731,
            943827,
            231900,
            40424,
            58328,
            587180,
            null,
            297555,
            512643,
            null,
            224133,
            660263,
            674319,
            null,
            456626,
            174413,
            527659,
            null,
            683320,
            475819,
            146559,
            325756,
            35526,
            364535,
            332270,
            291700,
            497875,
            463057,
            267075,
            null,
            null,
            871032,
            null,
            679774,
            613531,
            322774,
            664413,
            456887,
            274444,
            346753,
            202055,
            330740,
            366249,
            407086,
            null,
            310456,
            null,
            385442,
            null,
            219351,
            186813,
            412622,
            149049,
            null,
            292703,
            296998,
            135583,
            171146,
            112458,
            169154,
            445516,
            243509,
            239262,
            135035,
            null,
            295622,
            629338,
            102351,
            296507,
            169436,
            null,
            189139,
            358849,
            null,
            327052,
            276041,
            280942,
            208553,
            353533,
            414287,
            414114,
            271782,
            78495,
            null,
            null,
            184067,
            146037,
            505788,
            267331,
            126644,
            null,
            111701,
            336144,
            81460,
            16457,
            240112,
            44845,
            169667,
            131859,
            396020,
            11297,
            1318558,
            127724,
            556833,
            null,
            93929,
            181321,
            101253,
            269019,
            257656,
            null,
            125822,
            52494,
            740819,
            null,
            null,
            270182,
            null,
            122040,
            null,
            null,
            169495,
            192028,
            111979,
            170132,
            343301,
            238521,
            11377,
            170988,
            null,
            196595,
            149649,
            404705,
            30888,
            149309,
            103826,
            189308,
            121043,
            156858,
            null,
            148555,
            null,
            116467,
            61399,
            null,
            58099,
            null,
            239332,
            null,
            253568,
            60012,
            null,
            146905,
            240241,
            172127,
            92489,
            852651,
            null,
            11022,
            125151,
            158638,
            87459,
            34697,
            119001,
            74626,
            null,
            159334,
            null,
            null,
            50064,
            null,
            273446,
            null,
            81694,
            null,
            75048,
            57487,
            89805,
            8023,
            124484,
            null,
            206355,
            null,
            42319,
            80140,
            120115,
            83362,
            null,
            71005,
            null,
            60734,
            73451,
            42989,
            456600,
            null,
            null,
            null,
            75356,
            null,
            341996,
            150708,
            114074,
            null,
            null,
            62321,
            31495,
            98971,
            179652,
            102314,
            42356,
            185953,
            null,
            117981,
            null,
            61882,
            55480,
            173471,
            169574,
            null,
            null,
            null,
            null,
            null,
            417815,
            84167,
            93895,
            67039,
            null,
            38816,
            74026,
            69325,
            184735,
            null,
            null,
            null,
            null,
            21088,
            null,
            43602,
            null,
            95279,
            453288,
            null,
            null,
            26835,
            19422,
            49953,
            null,
            null,
            null,
            94785,
            null,
            null,
            126178,
            null,
            null,
            41773,
            98846,
            9005,
            null,
            null,
            null,
            144445,
            27596,
            68938,
            null,
            33308,
            48628,
            null,
            103749,
            72967,
            65760,
            null,
            null,
            38789,
            76724,
            116980,
            39576,
            93548,
            71364,
            106612,
            null,
            null,
            null,
            null,
            26056,
            55079,
            null,
            null,
            null,
            null,
            null,
            null,
            314292,
            33094,
            304880,
            66764,
            6231,
            null,
            null,
            null,
            39594,
            28360,
            null,
            97840,
            null,
            null,
            null,
            20307,
            69542,
            37850,
            56805,
            null,
            null,
            98846,
            6674,
            29667,
            null,
            28813,
            null,
            34091,
            36339,
            34802,
            null,
            43816,
            37043,
            null,
            44298,
            null,
            null,
            null,
            null,
            null,
            null,
            59356,
            null,
            72150,
            null,
            74217,
            32752,
            37027,
            null,
            30888,
            48167,
            null,
            91107,
            126958,
            23376,
            null,
            16689,
            null,
            null,
            null,
            12813,
            null,
            23133,
            null,
            17857,
            60932,
            null,
            35478,
            null,
            null,
            null,
            56896,
            33033,
            null,
            null,
            null,
            null,
            19624,
            null,
            null,
            null,
            43495,
            549,
            27666,
            162777,
            20676,
            28259,
            36993,
            null,
            28921,
            null,
            4195,
            94943,
            null,
            24709,
            18366,
            null,
            null,
            7738,
            41699,
            145850,
            644,
            26595,
            35374,
            null,
            null,
            74,
            83899,
            null,
            40113,
            56264,
            null,
            null,
            null,
            null,
            18100,
            null,
            11792,
            null,
            null,
            null,
            37031,
            null,
            null,
            null,
            119328,
            null,
            26920,
            null,
            null,
            18494,
            null,
            null,
            58876,
            null,
            17515,
            22044,
            null,
            null,
            null,
            null,
            4042,
            null,
            null,
            49237,
            36789,
            686,
            40144,
            null,
            null,
            null,
            null,
            33541,
            null,
            29368,
            null,
            null,
            null,
            null,
            null,
            null,
            null,
            null,
            null,
            null,
            28959,
            null,
            28051,
            18412,
            9414,
            null,
            null,
            null,
            null,
            null,
            null,
            null,
            23093,
            7712,
            null,
            null,
            null,
            null,
            6975,
            null,
            6201,
            null,
            null,
            null,
            null,
            null,
            null,
            null,
            null,
            null,
            6349,
            null,
            null,
            null,
            null,
            null,
            21074,
            null,
            14153,
            16775,
            null,
            null,
            null,
            null,
            null,
            null,
            null,
            null,
            null,
            null,
            null,
            null,
            null,
            null,
            null,
            3836,
            38995,
            null,
            null,
            null,
            null,
            null,
            4173,
            null,
            null,
            null,
            16,
            null,
            null,
            null,
            null,
            null,
            null,
            null,
            null,
            29439,
            6828,
            null,
            null,
            null,
            null,
            2713,
            null,
            null,
            26813,
            null,
            null,
            1797,
            2823,
            null,
            null,
            null,
            null,
            null,
            2414,
            7948,
            null,
            null,
            null,
            null,
            null,
            null,
            null,
            null,
            null,
            null,
            null,
            797,
            1263,
            3893,
            898,
            null,
            1437,
            1437,
            null,
            null,
            null,
            null,
            null,
            1448,
            null,
            null,
            null,
            null,
            null,
            679,
            1333,
            null,
            null,
            null,
            null,
            null,
            null,
            null,
            null,
            580,
            null,
            610,
            82,
            null,
            0,
            null,
            null,
            null,
            0
           ],
           [
            15013833,
            6482284,
            11291678,
            10151125,
            11793393,
            8604676,
            7669436,
            5644206,
            4532773,
            3215242,
            4014072,
            7298924,
            5924004,
            2828147,
            6423428,
            2477202,
            2709173,
            2450489,
            2831356,
            2225121,
            2172696,
            489555,
            4287280,
            1859671,
            1458514,
            2750898,
            3736070,
            1489495,
            1152374,
            2537110,
            1773150,
            1939256,
            1722279,
            999344,
            3881781,
            4071375,
            3347121,
            461527,
            1274788,
            3505691,
            1395097,
            694776,
            2518748,
            1919233,
            2191715,
            77438,
            1172783,
            1410424,
            1080759,
            958476,
            1148336,
            1231787,
            792526,
            1624736,
            791197,
            729668,
            null,
            null,
            960719,
            1266082,
            261874,
            1225895,
            null,
            141589,
            643968,
            406924,
            949332,
            null,
            580263,
            null,
            432324,
            2005049,
            535363,
            947248,
            576540,
            1015194,
            610445,
            545327,
            47936,
            89361,
            null,
            null,
            348533,
            532781,
            null,
            278360,
            562036,
            618302,
            110554,
            428086,
            390288,
            889282,
            null,
            865345,
            382736,
            1088909,
            542803,
            492,
            371031,
            137815,
            874200,
            367928,
            523964,
            262920,
            null,
            null,
            905214,
            1343932,
            null,
            1135396,
            367419,
            606000,
            282881,
            243313,
            375868,
            203515,
            336429,
            724544,
            464700,
            null,
            314335,
            null,
            254121,
            null,
            358762,
            196416,
            426027,
            335535,
            null,
            270891,
            333083,
            246903,
            753883,
            247514,
            207847,
            425472,
            268116,
            208467,
            131182,
            null,
            424206,
            521038,
            93525,
            null,
            381006,
            null,
            388045,
            412025,
            null,
            443244,
            493558,
            217239,
            466796,
            326662,
            465997,
            323231,
            395558,
            78713,
            null,
            null,
            264941,
            188480,
            443414,
            299607,
            96482,
            685870,
            119920,
            406870,
            325054,
            634340,
            220783,
            42622,
            237304,
            170767,
            424940,
            14507,
            null,
            150251,
            363009,
            null,
            120973,
            368496,
            99739,
            275706,
            459384,
            null,
            157328,
            443667,
            null,
            null,
            null,
            409461,
            null,
            139462,
            null,
            null,
            349813,
            402961,
            86189,
            151552,
            367260,
            202936,
            10087,
            175899,
            null,
            256934,
            138853,
            296441,
            null,
            124272,
            null,
            291666,
            147150,
            99632,
            511633,
            265973,
            null,
            112385,
            64031,
            349054,
            59857,
            null,
            null,
            null,
            284339,
            287762,
            null,
            354252,
            259322,
            210291,
            80706,
            null,
            null,
            10935,
            171910,
            156902,
            81148,
            37114,
            162791,
            126548,
            null,
            146797,
            null,
            null,
            null,
            null,
            236120,
            751378,
            99291,
            null,
            82566,
            105152,
            170746,
            null,
            171370,
            null,
            248979,
            null,
            193405,
            null,
            86162,
            76089,
            656330,
            206157,
            null,
            128286,
            120953,
            30539,
            18565,
            307985,
            326927,
            null,
            70939,
            308539,
            null,
            150379,
            123053,
            null,
            378612,
            52879,
            390187,
            124132,
            142108,
            86692,
            90667,
            189849,
            null,
            118131,
            null,
            null,
            62800,
            129735,
            151350,
            null,
            null,
            null,
            null,
            null,
            51257,
            232571,
            113793,
            52648,
            null,
            109941,
            63124,
            61529,
            139402,
            null,
            null,
            null,
            null,
            172148,
            null,
            29713,
            null,
            77685,
            null,
            null,
            null,
            52541,
            16409,
            160730,
            null,
            190469,
            null,
            99888,
            null,
            null,
            137410,
            null,
            null,
            47773,
            92014,
            86028,
            null,
            null,
            153085,
            126438,
            132720,
            51607,
            null,
            33804,
            212264,
            null,
            null,
            82700,
            50436,
            175718,
            null,
            49181,
            133301,
            126415,
            35724,
            null,
            138692,
            136432,
            null,
            null,
            null,
            null,
            88221,
            92124,
            130503,
            null,
            142676,
            null,
            null,
            null,
            null,
            27322,
            null,
            74343,
            41511,
            null,
            null,
            null,
            30192,
            30913,
            null,
            null,
            null,
            null,
            null,
            171810,
            109512,
            46715,
            56878,
            null,
            null,
            92014,
            77485,
            39586,
            65349,
            32488,
            null,
            19235,
            32960,
            34195,
            null,
            45078,
            50725,
            null,
            3508,
            64906,
            100754,
            null,
            null,
            null,
            null,
            14433,
            null,
            115752,
            null,
            78923,
            27295,
            35662,
            215588,
            25236,
            50162,
            null,
            57234,
            null,
            23847,
            null,
            25382,
            null,
            null,
            null,
            9168,
            null,
            24521,
            71992,
            15399,
            41841,
            null,
            22413,
            null,
            null,
            95093,
            68619,
            2009,
            null,
            null,
            null,
            null,
            17398,
            89596,
            null,
            null,
            40175,
            null,
            33376,
            null,
            null,
            66502,
            30446,
            null,
            21952,
            null,
            33167,
            null,
            54188,
            null,
            17703,
            null,
            null,
            6316,
            60898,
            null,
            438,
            33262,
            23510,
            null,
            null,
            64893,
            null,
            138974,
            41895,
            40601,
            null,
            null,
            80640,
            null,
            16897,
            null,
            null,
            128046,
            null,
            null,
            38695,
            null,
            36230,
            null,
            null,
            null,
            29745,
            null,
            null,
            null,
            null,
            null,
            54198,
            null,
            13911,
            19878,
            null,
            null,
            null,
            41621,
            null,
            100024,
            99678,
            50124,
            null,
            null,
            36778,
            32114,
            null,
            48070,
            43285,
            28650,
            null,
            31462,
            null,
            null,
            23298,
            39078,
            null,
            null,
            null,
            null,
            45815,
            null,
            52994,
            null,
            27593,
            16855,
            8332,
            null,
            null,
            null,
            28690,
            null,
            null,
            null,
            26669,
            6837,
            35281,
            null,
            null,
            null,
            18934,
            null,
            5014,
            null,
            31042,
            25593,
            null,
            null,
            null,
            null,
            56721,
            null,
            5629,
            null,
            null,
            27278,
            null,
            null,
            null,
            27339,
            16345,
            null,
            null,
            20240,
            null,
            null,
            null,
            null,
            null,
            null,
            null,
            null,
            null,
            null,
            null,
            16528,
            null,
            3498,
            null,
            null,
            null,
            null,
            null,
            23916,
            3699,
            null,
            null,
            null,
            18,
            null,
            null,
            null,
            null,
            null,
            null,
            null,
            null,
            null,
            7275,
            null,
            null,
            null,
            null,
            2193,
            null,
            null,
            null,
            null,
            12156,
            1354,
            1422,
            null,
            9231,
            null,
            null,
            null,
            4906,
            11812,
            null,
            20988,
            null,
            null,
            null,
            6123,
            null,
            null,
            null,
            null,
            null,
            794,
            1152,
            null,
            677,
            null,
            2716,
            2716,
            null,
            11608,
            null,
            4276,
            null,
            null,
            3450,
            null,
            null,
            null,
            null,
            259,
            1216,
            null,
            null,
            null,
            null,
            null,
            null,
            1454,
            null,
            70,
            1057,
            517,
            null,
            null,
            0,
            null,
            null,
            null,
            0
           ],
           [
            13231477,
            6449133,
            9576416,
            10084071,
            13645082,
            8537390,
            7895746,
            5753435,
            5219444,
            2348445,
            4111806,
            9748064,
            6573751,
            3787465,
            7222181,
            4140719,
            3140643,
            2126929,
            1824766,
            1785479,
            2823353,
            372149,
            4509226,
            1249233,
            1070476,
            3116216,
            2757585,
            1964938,
            986869,
            2342641,
            2913275,
            2118682,
            2425518,
            718605,
            4112746,
            3669006,
            413852,
            452525,
            1337949,
            4555262,
            2045631,
            673705,
            936471,
            2590889,
            1959106,
            62724,
            1589949,
            1220662,
            1394306,
            965768,
            1135390,
            1403345,
            809971,
            1512951,
            735764,
            323085,
            null,
            null,
            1132593,
            1445896,
            666602,
            1956375,
            235647,
            81068,
            1259319,
            581943,
            1037173,
            null,
            636730,
            null,
            599057,
            933119,
            473473,
            89980,
            930764,
            1587258,
            955136,
            714589,
            53127,
            73036,
            null,
            null,
            652833,
            895052,
            null,
            null,
            546591,
            659406,
            3286971,
            392419,
            928586,
            928017,
            262162,
            1149306,
            null,
            1772250,
            641677,
            427,
            351951,
            259149,
            764900,
            314543,
            525214,
            632775,
            2708496,
            null,
            901092,
            1317204,
            null,
            216589,
            352026,
            657612,
            283064,
            235785,
            361675,
            135769,
            326988,
            1216872,
            216831,
            null,
            388391,
            1008238,
            271445,
            null,
            306466,
            172282,
            437797,
            453198,
            null,
            199923,
            392295,
            173109,
            645347,
            117005,
            410414,
            466870,
            694503,
            212185,
            82829,
            null,
            640933,
            528517,
            662323,
            null,
            380988,
            null,
            570604,
            220486,
            null,
            526598,
            459501,
            null,
            486021,
            57930,
            399844,
            263242,
            405305,
            133193,
            1513214,
            null,
            303559,
            441521,
            443220,
            317037,
            82458,
            727512,
            130738,
            493604,
            658300,
            634552,
            69514,
            43158,
            248185,
            199780,
            458708,
            1301227,
            null,
            48930,
            383012,
            1302604,
            146245,
            736054,
            377225,
            254224,
            552294,
            null,
            null,
            634261,
            4484,
            null,
            null,
            442302,
            1161856,
            138463,
            null,
            null,
            293061,
            227164,
            133155,
            235336,
            365522,
            122282,
            9775,
            166536,
            null,
            345262,
            112401,
            336838,
            null,
            233706,
            null,
            313268,
            295587,
            138174,
            496297,
            200585,
            null,
            93280,
            62588,
            504577,
            111156,
            null,
            null,
            917568,
            null,
            560324,
            null,
            384987,
            322035,
            null,
            79223,
            null,
            null,
            11858,
            87705,
            122177,
            null,
            41570,
            487981,
            500491,
            804509,
            131222,
            777446,
            null,
            null,
            null,
            245946,
            null,
            null,
            null,
            56854,
            55520,
            155361,
            null,
            284531,
            null,
            193866,
            696576,
            386030,
            null,
            121892,
            77070,
            null,
            370697,
            null,
            138139,
            259466,
            17904,
            13880,
            319268,
            300051,
            622761,
            67248,
            305634,
            null,
            190501,
            320971,
            null,
            217832,
            null,
            102555,
            139820,
            140442,
            69272,
            429432,
            181872,
            null,
            130096,
            null,
            null,
            46682,
            232122,
            null,
            533921,
            533864,
            null,
            null,
            null,
            53407,
            197997,
            45294,
            49719,
            null,
            167988,
            73315,
            71873,
            165133,
            null,
            488448,
            null,
            null,
            227062,
            null,
            47351,
            null,
            82838,
            null,
            37123,
            447038,
            326531,
            26684,
            124480,
            null,
            245753,
            null,
            83952,
            null,
            421110,
            152648,
            null,
            null,
            53779,
            218715,
            113423,
            null,
            null,
            241004,
            112462,
            194834,
            52531,
            null,
            20612,
            56885,
            null,
            null,
            71524,
            48377,
            194326,
            null,
            50881,
            115131,
            116309,
            null,
            null,
            145775,
            74299,
            null,
            null,
            null,
            null,
            55462,
            184013,
            197397,
            null,
            179535,
            null,
            null,
            null,
            null,
            18972,
            null,
            88903,
            36815,
            null,
            null,
            null,
            34514,
            33069,
            290468,
            null,
            281596,
            null,
            null,
            33172,
            94824,
            35854,
            62638,
            267107,
            265732,
            null,
            66195,
            38725,
            196343,
            33211,
            null,
            37957,
            35638,
            34842,
            null,
            null,
            27089,
            235311,
            null,
            166815,
            130174,
            null,
            228194,
            227737,
            null,
            28847,
            164719,
            38488,
            null,
            null,
            29213,
            11228,
            null,
            26901,
            41759,
            null,
            60699,
            null,
            18461,
            201866,
            23336,
            201050,
            198175,
            null,
            5281,
            null,
            23846,
            114590,
            24848,
            42369,
            null,
            56461,
            null,
            null,
            86382,
            54932,
            2008,
            175776,
            null,
            null,
            null,
            16860,
            82668,
            null,
            null,
            44341,
            125715,
            34913,
            null,
            null,
            67492,
            34482,
            null,
            20106,
            null,
            75174,
            null,
            101414,
            null,
            5574,
            null,
            null,
            4147,
            43866,
            null,
            null,
            null,
            44627,
            null,
            null,
            75962,
            null,
            null,
            54730,
            39766,
            null,
            null,
            52838,
            null,
            16377,
            null,
            null,
            null,
            124545,
            null,
            47818,
            null,
            85717,
            120428,
            null,
            118070,
            31351,
            null,
            115874,
            null,
            null,
            null,
            null,
            111125,
            31846,
            46750,
            null,
            null,
            null,
            60056,
            null,
            null,
            null,
            null,
            null,
            null,
            20628,
            64571,
            null,
            47999,
            51502,
            32336,
            92993,
            32068,
            null,
            null,
            68906,
            52583,
            null,
            null,
            88100,
            87415,
            39799,
            82837,
            null,
            81738,
            26083,
            22763,
            9228,
            78371,
            null,
            null,
            43062,
            null,
            71308,
            70392,
            19283,
            6626,
            32348,
            67112,
            66846,
            null,
            39970,
            65063,
            5933,
            null,
            30487,
            33953,
            null,
            58612,
            null,
            null,
            null,
            null,
            5455,
            56083,
            null,
            26581,
            null,
            null,
            null,
            25753,
            11818,
            null,
            null,
            30826,
            50687,
            50260,
            null,
            49170,
            48500,
            48452,
            47906,
            47821,
            46300,
            45728,
            null,
            25411,
            41693,
            3024,
            null,
            38572,
            null,
            38030,
            null,
            13513,
            3585,
            34864,
            34027,
            null,
            18,
            31727,
            31680,
            31222,
            30878,
            null,
            null,
            null,
            29553,
            null,
            9170,
            null,
            null,
            27892,
            27512,
            2595,
            null,
            null,
            null,
            26138,
            13660,
            816,
            21479,
            null,
            15724,
            24588,
            null,
            null,
            5150,
            null,
            21401,
            null,
            19447,
            null,
            16945,
            10430,
            null,
            null,
            null,
            null,
            13560,
            793,
            996,
            null,
            408,
            null,
            695,
            695,
            11865,
            null,
            null,
            4797,
            null,
            null,
            3578,
            null,
            null,
            null,
            null,
            338,
            1051,
            null,
            4306,
            null,
            null,
            null,
            null,
            1417,
            null,
            null,
            1058,
            539,
            null,
            631,
            41,
            null,
            3,
            null,
            0
           ]
          ]
         },
         "columnwidth": [
          250,
          200,
          120,
          120,
          120,
          120,
          120,
          120,
          120,
          120
         ],
         "header": {
          "align": "center",
          "fill": {
           "color": "rgb(235, 70, 52)"
          },
          "line": {
           "color": "darkslategray"
          },
          "values": [
           "<b>COMPANY</b>",
           "<b>TOTAL_EMISSION</b>",
           "2011",
           "2012",
           "2013",
           "2014",
           "2015",
           "2016",
           "2017",
           "2018"
          ]
         },
         "type": "table"
        }
       ],
       "layout": {
        "margin": {
         "b": 20,
         "l": 0
        },
        "template": {
         "data": {
          "bar": [
           {
            "error_x": {
             "color": "#2a3f5f"
            },
            "error_y": {
             "color": "#2a3f5f"
            },
            "marker": {
             "line": {
              "color": "#E5ECF6",
              "width": 0.5
             }
            },
            "type": "bar"
           }
          ],
          "barpolar": [
           {
            "marker": {
             "line": {
              "color": "#E5ECF6",
              "width": 0.5
             }
            },
            "type": "barpolar"
           }
          ],
          "carpet": [
           {
            "aaxis": {
             "endlinecolor": "#2a3f5f",
             "gridcolor": "white",
             "linecolor": "white",
             "minorgridcolor": "white",
             "startlinecolor": "#2a3f5f"
            },
            "baxis": {
             "endlinecolor": "#2a3f5f",
             "gridcolor": "white",
             "linecolor": "white",
             "minorgridcolor": "white",
             "startlinecolor": "#2a3f5f"
            },
            "type": "carpet"
           }
          ],
          "choropleth": [
           {
            "colorbar": {
             "outlinewidth": 0,
             "ticks": ""
            },
            "type": "choropleth"
           }
          ],
          "contour": [
           {
            "colorbar": {
             "outlinewidth": 0,
             "ticks": ""
            },
            "colorscale": [
             [
              0,
              "#0d0887"
             ],
             [
              0.1111111111111111,
              "#46039f"
             ],
             [
              0.2222222222222222,
              "#7201a8"
             ],
             [
              0.3333333333333333,
              "#9c179e"
             ],
             [
              0.4444444444444444,
              "#bd3786"
             ],
             [
              0.5555555555555556,
              "#d8576b"
             ],
             [
              0.6666666666666666,
              "#ed7953"
             ],
             [
              0.7777777777777778,
              "#fb9f3a"
             ],
             [
              0.8888888888888888,
              "#fdca26"
             ],
             [
              1,
              "#f0f921"
             ]
            ],
            "type": "contour"
           }
          ],
          "contourcarpet": [
           {
            "colorbar": {
             "outlinewidth": 0,
             "ticks": ""
            },
            "type": "contourcarpet"
           }
          ],
          "heatmap": [
           {
            "colorbar": {
             "outlinewidth": 0,
             "ticks": ""
            },
            "colorscale": [
             [
              0,
              "#0d0887"
             ],
             [
              0.1111111111111111,
              "#46039f"
             ],
             [
              0.2222222222222222,
              "#7201a8"
             ],
             [
              0.3333333333333333,
              "#9c179e"
             ],
             [
              0.4444444444444444,
              "#bd3786"
             ],
             [
              0.5555555555555556,
              "#d8576b"
             ],
             [
              0.6666666666666666,
              "#ed7953"
             ],
             [
              0.7777777777777778,
              "#fb9f3a"
             ],
             [
              0.8888888888888888,
              "#fdca26"
             ],
             [
              1,
              "#f0f921"
             ]
            ],
            "type": "heatmap"
           }
          ],
          "heatmapgl": [
           {
            "colorbar": {
             "outlinewidth": 0,
             "ticks": ""
            },
            "colorscale": [
             [
              0,
              "#0d0887"
             ],
             [
              0.1111111111111111,
              "#46039f"
             ],
             [
              0.2222222222222222,
              "#7201a8"
             ],
             [
              0.3333333333333333,
              "#9c179e"
             ],
             [
              0.4444444444444444,
              "#bd3786"
             ],
             [
              0.5555555555555556,
              "#d8576b"
             ],
             [
              0.6666666666666666,
              "#ed7953"
             ],
             [
              0.7777777777777778,
              "#fb9f3a"
             ],
             [
              0.8888888888888888,
              "#fdca26"
             ],
             [
              1,
              "#f0f921"
             ]
            ],
            "type": "heatmapgl"
           }
          ],
          "histogram": [
           {
            "marker": {
             "colorbar": {
              "outlinewidth": 0,
              "ticks": ""
             }
            },
            "type": "histogram"
           }
          ],
          "histogram2d": [
           {
            "colorbar": {
             "outlinewidth": 0,
             "ticks": ""
            },
            "colorscale": [
             [
              0,
              "#0d0887"
             ],
             [
              0.1111111111111111,
              "#46039f"
             ],
             [
              0.2222222222222222,
              "#7201a8"
             ],
             [
              0.3333333333333333,
              "#9c179e"
             ],
             [
              0.4444444444444444,
              "#bd3786"
             ],
             [
              0.5555555555555556,
              "#d8576b"
             ],
             [
              0.6666666666666666,
              "#ed7953"
             ],
             [
              0.7777777777777778,
              "#fb9f3a"
             ],
             [
              0.8888888888888888,
              "#fdca26"
             ],
             [
              1,
              "#f0f921"
             ]
            ],
            "type": "histogram2d"
           }
          ],
          "histogram2dcontour": [
           {
            "colorbar": {
             "outlinewidth": 0,
             "ticks": ""
            },
            "colorscale": [
             [
              0,
              "#0d0887"
             ],
             [
              0.1111111111111111,
              "#46039f"
             ],
             [
              0.2222222222222222,
              "#7201a8"
             ],
             [
              0.3333333333333333,
              "#9c179e"
             ],
             [
              0.4444444444444444,
              "#bd3786"
             ],
             [
              0.5555555555555556,
              "#d8576b"
             ],
             [
              0.6666666666666666,
              "#ed7953"
             ],
             [
              0.7777777777777778,
              "#fb9f3a"
             ],
             [
              0.8888888888888888,
              "#fdca26"
             ],
             [
              1,
              "#f0f921"
             ]
            ],
            "type": "histogram2dcontour"
           }
          ],
          "mesh3d": [
           {
            "colorbar": {
             "outlinewidth": 0,
             "ticks": ""
            },
            "type": "mesh3d"
           }
          ],
          "parcoords": [
           {
            "line": {
             "colorbar": {
              "outlinewidth": 0,
              "ticks": ""
             }
            },
            "type": "parcoords"
           }
          ],
          "pie": [
           {
            "automargin": true,
            "type": "pie"
           }
          ],
          "scatter": [
           {
            "marker": {
             "colorbar": {
              "outlinewidth": 0,
              "ticks": ""
             }
            },
            "type": "scatter"
           }
          ],
          "scatter3d": [
           {
            "line": {
             "colorbar": {
              "outlinewidth": 0,
              "ticks": ""
             }
            },
            "marker": {
             "colorbar": {
              "outlinewidth": 0,
              "ticks": ""
             }
            },
            "type": "scatter3d"
           }
          ],
          "scattercarpet": [
           {
            "marker": {
             "colorbar": {
              "outlinewidth": 0,
              "ticks": ""
             }
            },
            "type": "scattercarpet"
           }
          ],
          "scattergeo": [
           {
            "marker": {
             "colorbar": {
              "outlinewidth": 0,
              "ticks": ""
             }
            },
            "type": "scattergeo"
           }
          ],
          "scattergl": [
           {
            "marker": {
             "colorbar": {
              "outlinewidth": 0,
              "ticks": ""
             }
            },
            "type": "scattergl"
           }
          ],
          "scattermapbox": [
           {
            "marker": {
             "colorbar": {
              "outlinewidth": 0,
              "ticks": ""
             }
            },
            "type": "scattermapbox"
           }
          ],
          "scatterpolar": [
           {
            "marker": {
             "colorbar": {
              "outlinewidth": 0,
              "ticks": ""
             }
            },
            "type": "scatterpolar"
           }
          ],
          "scatterpolargl": [
           {
            "marker": {
             "colorbar": {
              "outlinewidth": 0,
              "ticks": ""
             }
            },
            "type": "scatterpolargl"
           }
          ],
          "scatterternary": [
           {
            "marker": {
             "colorbar": {
              "outlinewidth": 0,
              "ticks": ""
             }
            },
            "type": "scatterternary"
           }
          ],
          "surface": [
           {
            "colorbar": {
             "outlinewidth": 0,
             "ticks": ""
            },
            "colorscale": [
             [
              0,
              "#0d0887"
             ],
             [
              0.1111111111111111,
              "#46039f"
             ],
             [
              0.2222222222222222,
              "#7201a8"
             ],
             [
              0.3333333333333333,
              "#9c179e"
             ],
             [
              0.4444444444444444,
              "#bd3786"
             ],
             [
              0.5555555555555556,
              "#d8576b"
             ],
             [
              0.6666666666666666,
              "#ed7953"
             ],
             [
              0.7777777777777778,
              "#fb9f3a"
             ],
             [
              0.8888888888888888,
              "#fdca26"
             ],
             [
              1,
              "#f0f921"
             ]
            ],
            "type": "surface"
           }
          ],
          "table": [
           {
            "cells": {
             "fill": {
              "color": "#EBF0F8"
             },
             "line": {
              "color": "white"
             }
            },
            "header": {
             "fill": {
              "color": "#C8D4E3"
             },
             "line": {
              "color": "white"
             }
            },
            "type": "table"
           }
          ]
         },
         "layout": {
          "annotationdefaults": {
           "arrowcolor": "#2a3f5f",
           "arrowhead": 0,
           "arrowwidth": 1
          },
          "coloraxis": {
           "colorbar": {
            "outlinewidth": 0,
            "ticks": ""
           }
          },
          "colorscale": {
           "diverging": [
            [
             0,
             "#8e0152"
            ],
            [
             0.1,
             "#c51b7d"
            ],
            [
             0.2,
             "#de77ae"
            ],
            [
             0.3,
             "#f1b6da"
            ],
            [
             0.4,
             "#fde0ef"
            ],
            [
             0.5,
             "#f7f7f7"
            ],
            [
             0.6,
             "#e6f5d0"
            ],
            [
             0.7,
             "#b8e186"
            ],
            [
             0.8,
             "#7fbc41"
            ],
            [
             0.9,
             "#4d9221"
            ],
            [
             1,
             "#276419"
            ]
           ],
           "sequential": [
            [
             0,
             "#0d0887"
            ],
            [
             0.1111111111111111,
             "#46039f"
            ],
            [
             0.2222222222222222,
             "#7201a8"
            ],
            [
             0.3333333333333333,
             "#9c179e"
            ],
            [
             0.4444444444444444,
             "#bd3786"
            ],
            [
             0.5555555555555556,
             "#d8576b"
            ],
            [
             0.6666666666666666,
             "#ed7953"
            ],
            [
             0.7777777777777778,
             "#fb9f3a"
            ],
            [
             0.8888888888888888,
             "#fdca26"
            ],
            [
             1,
             "#f0f921"
            ]
           ],
           "sequentialminus": [
            [
             0,
             "#0d0887"
            ],
            [
             0.1111111111111111,
             "#46039f"
            ],
            [
             0.2222222222222222,
             "#7201a8"
            ],
            [
             0.3333333333333333,
             "#9c179e"
            ],
            [
             0.4444444444444444,
             "#bd3786"
            ],
            [
             0.5555555555555556,
             "#d8576b"
            ],
            [
             0.6666666666666666,
             "#ed7953"
            ],
            [
             0.7777777777777778,
             "#fb9f3a"
            ],
            [
             0.8888888888888888,
             "#fdca26"
            ],
            [
             1,
             "#f0f921"
            ]
           ]
          },
          "colorway": [
           "#636efa",
           "#EF553B",
           "#00cc96",
           "#ab63fa",
           "#FFA15A",
           "#19d3f3",
           "#FF6692",
           "#B6E880",
           "#FF97FF",
           "#FECB52"
          ],
          "font": {
           "color": "#2a3f5f"
          },
          "geo": {
           "bgcolor": "white",
           "lakecolor": "white",
           "landcolor": "#E5ECF6",
           "showlakes": true,
           "showland": true,
           "subunitcolor": "white"
          },
          "hoverlabel": {
           "align": "left"
          },
          "hovermode": "closest",
          "mapbox": {
           "style": "light"
          },
          "paper_bgcolor": "white",
          "plot_bgcolor": "#E5ECF6",
          "polar": {
           "angularaxis": {
            "gridcolor": "white",
            "linecolor": "white",
            "ticks": ""
           },
           "bgcolor": "#E5ECF6",
           "radialaxis": {
            "gridcolor": "white",
            "linecolor": "white",
            "ticks": ""
           }
          },
          "scene": {
           "xaxis": {
            "backgroundcolor": "#E5ECF6",
            "gridcolor": "white",
            "gridwidth": 2,
            "linecolor": "white",
            "showbackground": true,
            "ticks": "",
            "zerolinecolor": "white"
           },
           "yaxis": {
            "backgroundcolor": "#E5ECF6",
            "gridcolor": "white",
            "gridwidth": 2,
            "linecolor": "white",
            "showbackground": true,
            "ticks": "",
            "zerolinecolor": "white"
           },
           "zaxis": {
            "backgroundcolor": "#E5ECF6",
            "gridcolor": "white",
            "gridwidth": 2,
            "linecolor": "white",
            "showbackground": true,
            "ticks": "",
            "zerolinecolor": "white"
           }
          },
          "shapedefaults": {
           "line": {
            "color": "#2a3f5f"
           }
          },
          "ternary": {
           "aaxis": {
            "gridcolor": "white",
            "linecolor": "white",
            "ticks": ""
           },
           "baxis": {
            "gridcolor": "white",
            "linecolor": "white",
            "ticks": ""
           },
           "bgcolor": "#E5ECF6",
           "caxis": {
            "gridcolor": "white",
            "linecolor": "white",
            "ticks": ""
           }
          },
          "title": {
           "x": 0.05
          },
          "xaxis": {
           "automargin": true,
           "gridcolor": "white",
           "linecolor": "white",
           "ticks": "",
           "title": {
            "standoff": 15
           },
           "zerolinecolor": "white",
           "zerolinewidth": 2
          },
          "yaxis": {
           "automargin": true,
           "gridcolor": "white",
           "linecolor": "white",
           "ticks": "",
           "title": {
            "standoff": 15
           },
           "zerolinecolor": "white",
           "zerolinewidth": 2
          }
         }
        },
        "title": {
         "text": "<b>Greenhouse Gas Emissions from the top US Oil & Gas Companies (in METRIC TONS CO2e)</b>"
        },
        "width": 1000
       }
      },
      "text/html": [
       "<div>\n",
       "        \n",
       "        \n",
       "            <div id=\"40e2d26e-ddcb-4287-b9dc-3fec4e6c4066\" class=\"plotly-graph-div\" style=\"height:525px; width:1000px;\"></div>\n",
       "            <script type=\"text/javascript\">\n",
       "                require([\"plotly\"], function(Plotly) {\n",
       "                    window.PLOTLYENV=window.PLOTLYENV || {};\n",
       "                    \n",
       "                if (document.getElementById(\"40e2d26e-ddcb-4287-b9dc-3fec4e6c4066\")) {\n",
       "                    Plotly.newPlot(\n",
       "                        '40e2d26e-ddcb-4287-b9dc-3fec4e6c4066',\n",
       "                        [{\"cells\": {\"align\": \"left\", \"fill\": {\"color\": \"rgb(255, 191, 0)\"}, \"values\": [[\"EXXONMOBIL\", \"CONOCOPHILLIPS\", \"WILLIAMS\", \"KINDER MORGAN\", \"ENERGY TRANSFER PARTNERS\", \"BP AMERICA\", \"ENTERPRISE PRODUCTS PARTNERS\", \"ANADARKO PETROLEUM\", \"EOG RESOURCES\", \"CHESAPEAKE ENERGY\", \"CHEVRON\", \"DCP MIDSTREAM\", \"TARGA RESOURCES\", \"DEVON ENERGY\", \"HILCORP ENERGY\", \"MARATHON OIL\", \"LOEWS\", \"OCCIDENTAL PETROLEUM\", \"SHELL OIL\", \"ENERVEST OPERATING\", \"HESS\", \"SPECTRA ENERGY\", \"ENABLE MIDSTREAM PARTNERS\", \"BHP BILLITON\", \"LINN ENERGY\", \"ONEOK\", \"ENBRIDGE\", \"APACHE\", \"QEP RESOURCES\", \"PIONEER NATURAL RESOURCES USA\", \"WHITING OIL AND GAS\", \"CIMAREX ENERGY\", \"CONTINENTAL RESOURCES\", \"SANDRIDGE ENERGY\", \"MPLX\", \"ENLINK MIDSTREAM\", \"SOUTHWESTERN ENERGY\", \"PHILLIPS 66\", \"ENCANA OIL & GAS (USA)\", \"CHENIERE ENERGY\", \"WPX ENERGY\", \"VAL VERDE GAS GATHERING CO\", \"EQT\", \"DOMINION ENERGY\", \"CALIFORNIA RESOURCES\", \"SAMSON RESOURCES\", \"OASIS PETROLEUM\", \"NEWFIELD EXPLORATION\", \"EP ENERGY E&P CO\", \"REGENCY ENERGY PARTNERS\", \"NOBLE ENERGY\", \"CONCHO RESOURCES\", \"MID-AMERICAN ENERGY HOLDINGS\", \"BERRY PETROLEUM\", \"ANR PIPELINE\", \"STATOIL\", \"TRANSCANADA NORTHERN BORDER\", \"CENTERPOINT ENERGY RESOURCES\", \"PDC ENERGY\", \"ANTERO RESOURCES\", \"STEPHENS PRODUCTION\", \"WTG\", \"HALCON RESOURCES\", \"ATLAS ENERGY GROUP\", \"NORTHERN NATURAL GAS\", \"CABOT\", \"CRESTWOOD MIDSTREAM PARTNERS\", \"PIPECO\", \"LEWIS ENERGY GROUP\", \"BOPCO\", \"SM ENERGY\", \"TC PIPELINES\", \"MURPHY OIL\", \"BREITBURN ENERGY CO\", \"PETRO-HUNT\", \"MERIT ENERGY\", \"FIELDWOOD ENERGY\", \"DENBURY RESOURCES\", \"MARKWEST ENERGY PARTNERS\", \"PENN VIRGINIA\", \"QUESTAR\", \"CROSSTEX ENERGY SERVICES\", \"EXCO RESOURCES\", \"CARRIZO OIL & GAS\", \"TEXAS EASTERN TRANSMISSION\", \"BILL BARRETT\", \"SOUTHERN UTE INDIAN TRIBE\", \"UNIT\", \"HARVEST PIPELINE\", \"VANGUARD NATURAL RESOURCES\", \"DIAMONDBACK ENERGY\", \"NATIONAL FUEL GAS\", \"CNX RESOURCES\", \"FOURPOINT ENERGY\", \"ENERGEN\", \"TRANSCANADA ENERGY USA\", \"ENERPLUS RESOURCES\", \"NISOURCE\", \"ENI PETROLEUM\", \"CHAPARRAL ENERGY\", \"ROCKIES EXPRESS HOLDINGS\", \"SOUTHCROSS ENERGY\", \"SABINE OIL AND GAS\", \"ENDEAVOR ENERGY RESOURCES\", \"FLYWHEEL ENERGY\", \"YATES PETROLEUM\", \"SENTINEL PEAK RESOURCES\", \"TERRA ENERGY PARTNERS\", \"LEGEND NATURAL GAS\", \"CONSOL ENERGY\", \"PACIFIC GAS & ELECTRIC\", \"BROOKFIELD INFRASTRUCTURE PTNR\", \"ENERGY XXI\", \"ESCAMBIA ASSET CO\", \"ULTRA PETROLEUM ENERGY\", \"COMSTOCK RESOURCES\", \"AUX SABLE\", \"SCOUT ENERGY MANAGEMENT\", \"MEMORIAL RESOURCE DEVELOPMENT\", \"TRANSCANADA AMERICAN INVESTMENTS\", \"THUNDER CREEK GAS SERVICES\", \"NORTHERN BORDER PIPELINE\", \"AKA ENERGY GROUP\", \"FOREST OIL\", \"FOUNDATION ENERGY\", \"MACPHERSON OIL\", \"TEMPLAR ENERGY\", \"RANGE RESOURCES\", \"CEDAR BAYOU FRACTIONATORS\", \"BONANZA CREEK ENERGY\", \"LAREDO PETROLEUM\", \"SEMPRA ENERGY\", \"ENEERVEST OPERATING\", \"VECTOR PIPELINE\", \"SLAWSON COMPANIES\", \"MUSTANG FUEL\", \"DTE ENERGY\", \"W & T OFFSHORE\", \"KAISER-FRANCIS OIL\", \"ACCESS MIDSTREAM PARTNERS\", \"PARSLEY ENERGY\", \"SEMGAS\", \"ALTA MESA SERVICES\", \"VERESEN\", \"HUNT CONSOLIDATED\", \"TALISMAN ENERGY USA\", \"CRESCENT POINT ENERGY US\", \"INDIGO MINERALS\", \"KODIAK OIL& GAS\", \"GALESI GROUP\", \"MATADOR PRODUCTION\", \"SWIFT ENERGY OPERATING\", \"BLUESTONE NATURAL RESOURCES\", \"MIDSTATES PETROLEUM COMPANY\", \"ROSETTA RESOURCES OPERATING\", \"CASTLETON COMMODITIES INTERNATIONAL\", \"JONAH ENERGY HOLDINGS\", \"MDU RESOURCES GROUP\", \"MIDCOAST ENERGY\", \"COPANO ENERGY\", \"TALLGRASS ENERGY\", \"GULFPORT ENERGY\", \"AETHON ENERGY\", \"JONES ENERGY HOLDINGS\", \"PERMIAN BASIN\", \"ANDEAVOR\", \"FREEPORT-MCMORAN\", \"SOUTHLAND ROYALTY\", \"CAERUS OIL AND GAS\", \"TOTAL E&P USA\", \"WA MONCRIEF JR\", \"EAGLE ROCK ENERGY PARTNERS\", \"AZURE MIDSTREAM ENERGY\", \"SENECA RESOURCES\", \"SUMMIT MIDSTREAM PARTNERS\", \"ECOELECTRICA\", \"TEP ROCKY MOUNTAIN\", \"NORTEX MIDSTREAM PARTNERS\", \"EVERGREEN ENTERPRISE HOLDINGS\", \"DIVERSIFIED GAS & OIL\", \"GEOSOUTHERN ENERGY\", \"EAGLECLAW MIDSTREAM SERVICES\", \"RESOLUTE ENERGY\", \"LEGACY RESERVES OPERATING\", \"LUCID ENERGY DELAWARE\", \"EFS MIDSTREAM\", \"STONE ENERGY\", \"COVEY PARK ENERGY\", \"TESORO\", \"ALGONQUIN GAS TRANSMISSION\", \"COG OPERATING\", \"LARAMIE ENERGY\", \"EQUITRANS MIDSTREAM\", \"APPROACH RESOURCES\", \"GREAT LAKES GAS TRANSMISSION\", \"PANHANDLE EASTERN PIPE LINE\", \"TAPSTONE ENERGY\", \"BLUE RACER MIDSTREAM\", \"DUGAN PRODUCTION\", \"TEXAS PETROLEUM INVESTMENT\", \"REPSOL OIL & GAS USA\", \"COMPASS PRODUCTION PARTNERS\", \"QUANTUM RESOURCES MANAGEMENT\", \"SHERIDAN PRODUCTION COMAPNY\", \"UNIT PETROLEUM\", \"NORTHERN COLORADO OIL & GAS HOLDINGS\", \"VALENCE OPERATING\", \"TECOLOTE ENERGY\", \"XTO ENERGY\", \"SANCHEZ OIL AND GAS\", \"PLAINS EXPLORATION & PRODUCTION\", \"TANOS EXPLORATION II\", \"PLAINS ALL AMERICAN GP\", \"PENNSYLVANIA GENERAL ENERGY COMPANY\", \"CONTURA ENERGY\", \"AMERICAN MIDSTREAM PARTNERS\", \"FLORIDA GAS TRANSMISSION\", \"TRENDWELL ENERGY\", \"NADEL & GUSSMAN\", \"EXTRACTION OIL & GAS\", \"MORGAN STANLEY\", \"FAMCOR OIL\", \"TRIANGLE USA PETROLEUM\", \"SN EF MAVERICK\", \"LUCID ENERGY WESTEX\", \"JAGGED PEAK ENERGY\", \"NFR ENERGY\", \"LOGOS RESOURCES II\", \"HOWARD ENERGY PARTNERS\", \"ALL AMERICAN OIL AND GAS\", \"JORDAN DEVELOPMENT CORP\", \"TRANSCANADA/COLUMBIA PIPELINE GROUP\", \"PREMIER NATURAL RESOURCES\", \"ENCINO ENERGY\", \"PRUET PRODUCTION\", \"URSA RESOURCES GROUP\", \"REX ENERGY OPERATING\", \"GAS TRANSMISSION SERVICES COMPANY\", \"NAVITAS MIDSTREAM\", \"LIME ROCK RESOURCES\", \"BRUIN E&P PARTNERS\", \"LLOG EXPLORATION OFFSHORE\", \"MAVERICK NATURAL RESOURCES\", \"AMERICAN ENERGY PARTNERS\", \"COLUMBIA PIPELINE GROUP\", \"SWEPI\", \"CRESTONE PEAK RESOURCES\", \"BRUIN E&P OPERATING\", \"CLAYTON WILLIAMS ENERGY\", \"RKI\", \"CORONADO MIDSTREAM\", \"WEST BAY EXPLORATION\", \"WHITE OAK ENERGY\", \"WESTERN REFINING\", \"FDL OPERATING\", \"PVR MIDSTREAM\", \"JAMES LAKE MIDSTREAM\", \"EQUINOR US HOLDINGS\", \"CENTENNIAL RESOURCE PRODUCTION\", \"ARUBA PETROLEUM\", \"BLACKBRUSH O & G\", \"DOW CHEMICAL\", \"DIVERSIFIED OIL & GAS\", \"CAPROCK PERMIAN PROCESSING\", \"HILAND PARTNERS\", \"CHIEF OIL & GAS\", \"ASCENT RESOURCES\", \"GOODRICH PETROLEUM\", \"FREEPORT LNG DEVELOPMENT\", \"OAK RIDGE NATURAL RESOURCES\", \"FAIRWAY RESOURCES\", \"BCE-MACH\", \"MUSKEGON DEVELOPMENT\", \"PEMBINA PIPELINE\", \"RICE ENERGY\", \"VINE OIL & GAS\", \"ARENA ENERGY\", \"SOUTHERN UNION GAS SERVICES\", \"TIMBER CREEK OPERATING\", \"VENOCO\", \"NEXTERA ENERGY RESOURCES\", \"DISCOVERY NATURAL RESOURCES\", \"LIBERTY RESOURCES\", \"PETROBRAS AMERICA\", \"CALLON PETROLEUM\", \"COX OIL\", \"MIDMAR GAS\", \"SAVANT ALASKA\", \"MILAGRO EXPLORATION\", \"AGL RESOURCES\", \"TELLUS ENERGY GROUP\", \"PERMIAN RESOURCES\", \"TENAWA HAVEN PROCESSING\", \"KRAKEN OIL & GAS\", \"SURGE OPERATING\", \"P&S PROJECT I\", \"COPREX\", \"LOE\", \"WEST TEXAS GAS\", \"WILDHORSE RESOURCES\", \"PETRO HARVESTER OIL & GAS\", \"IROQUOIS GAS TRANSMISSION SYSTEM\", \"PSI MIDSTREAM PARTNERS\", \"URBAN OIL & GAS GROUP\", \"DUNCAN OIL PROPERTIES\", \"CMS ENERGY\", \"DAVIS GAS PROCESSING\", \"HOOVER ENERGY PARTNERS\", \"TENAWA RESOURCE MANAGEMENT\", \"DYNAMIC OFFSHORE RESOURCES\", \"SUPERIOR PIPELINE\", \"SEQUITUR EAST TEXAS\", \"WGR OPERATING\", \"FORMOSA PLASTICS CORP USA\", \"WILDHORSE RESOUCES\", \"ENERGY CORP OF AMERICA\", \"REM\", \"SANGUINE GAS EXPLORATION\", \"ROCKCLIFF ENERGY II\", \"TALOS ENERGY\", \"BURNETT OIL CO\", \"VITRUVIAN EXPLORATION\", \"BRAVO NATURAL GAS\", \"SRC ENERGY\", \"BAYTEX ENERGY USA\", \"PAXTON RESOURCES\", \"SAMUEL GARY JR. ASSOCIATES\", \"MAGNOLIA OIL & GAS OPERATING\", \"BLACKBEARD OPERATING\", \"OCCIDENTIAL PETROLEUM\", \"EPL OIL & GAS\", \"ATMOS ENERGY\", \"CAISSE DE DEPOT ET PLACEMENT DU QUEBEC\", \"EAGLERIDGE OPERATING\", \"TRUNKLINE GAS\", \"ENERVEST OPERATING, LLC\", \"ENDURING RESOURCES\", \"ROWDY PIPELINE\", \"HAWKWOOD ENERGY MANAGEMENT LLC 220\", \"CROSS TIMBERS ENERGY\", \"QUICKSILVER RESOURCES\", \"HELIS OIL AND GAS COMPANY\", \"KINETICA PARTNERS\", \"INTEGRYS ENERGY GROUP\", \"VANTAGE ENERGY\", \"SUMMIT PETROLEUM\", \"PENNSYLVANIA LAND RESOURCES HOLDING COMPANY\", \"ARD OPERATING\", \"ENOGEX HOLDINGS\", \"JMA ENERGY COMPANY\", \"WHITE ROCK OIL & GAS\", \"NATURAL GAS PARTNERS\", \"AUGUSTUS ENERGY RESOURCES\", \"SAGA PETROLEUM\", \"ENVEN ENERGY VENTURES\", \"WARREN RESOURCES\", \"PACIFIC ENERGY ALASKA OPERATING\", \"SBM OFFSHORE\", \"TGGT HOLDINGS\", \"ACADIAN GAS PIPELINE SYSTEM\", \"THE SINCLAIR COS\", \"SILVERBACK MIDSTREAM\", \"NINE POINT ENERGY HOLDINGS\", \"ELM RIDGE EXPLORATION COMPANY\", \"JAY-BEE OIL & GAS\", \"PATARA OIL & GAS\", \"TRISTREAM ENERGY\", \"SHERIDAN PRODUCTION COMPANY\", \"BENEDUM GAS PARTNERS\", \"EQUAL ENERGY\", \"BC OPERATING\", \"WEC ENERGY GROUP\", \"COOK INLET ENERGY\", \"J-W OPERATING\", \"LE NORMAN OPERATING\", \"MARLIN MIDSTREAM\", \"MEDUSA SPAR\", \"NAFTEX OPERATING\", \"LAMBDA ENERGY RESOURCES\", \"WILDCAT MIDSTREAM CADDO\", \"HIGHPOINT RESOURCES\", \"PARALLEL ENERGY\", \"ZENERGY\", \"MOUNTAINEER KEYSTONE\", \"FOUR WINDS MIDSTREAM\", \"ANKOR ENERGY\", \"ASRCEX\", \"ROAN RESOURCES\", \"MIDDLE FORK ENERGY PARTNERS\", \"GENERAL ELECTRIC\", \"BLACK HILLS\", \"ERG RESOURCES\", \"PER MANAGER\", \"LUFF EXPLORATION\", \"ATP OIL & GAS\", \"ABRAXAS PETROLEUM\", \"MARUBENI INTERNATIONAL\", \"TRC CYPRESS GROUP\", \"ARROWHEAD PIPELINE\", \"MONARCH NATURAL GAS\", \"BAYSWATER EXPLORATION & PRODUCTION\", \"CARBON NATURAL GAS\", \"WARD PETROLEUM\", \"CANTIUM\", \"DURANGO MIDSTREAM\", \"FIML NATURAL RESOURCES\", \"COGENT MIDSTREAM WESTEX\", \"GRADE 6 OIL\", \"TALCO MIDSTREAM ASSETS\", \"MUREX PETROLEUM\", \"SUNDANCE ENERGY\", \"WHITE STAR PETROLEUM\", \"MUNICIPAL LIGHT & POWER\", \"RSP PERMIAN\", \"PXP OFFSHORE\", \"MONCRIEF PARTNERS\", \"CORE APPALACHIA OPERATING\", \"ZPZ DELAWARE I\", \"SK PLYMOUTH\", \"GASCO ENERGY\", \"SHD OIL & GAS\", \"BADLANDS ENERGY\", \"J CLEO THOMPSON & JAMES CLEO THOMPSON JR\", \"NHIP II BISON HOLDINGS\", \"BOC 220 GULF COAST BASIN ONSHORE\", \"NOBLE MIDSTREAM SERVICES\", \"CROWHEART ENERGY\", \"ENERGY RESOURCE TECHNOLOGY\", \"KASH OIL & GAS - BASIN 220\", \"EGAN HUB STORAGE\", \"CARRERA GAS GATHERING\", \"VAQUERO PERMIAN GATHERING\", \"LOUIS DREYFUS CORP\", \"NEWARK E&P OPERATING\", \"BRAVO NATURAL RESOURCES\", \"MACQUARIE INFRASTRUCTURE CO\", \"BBX OPERATING\", \"MANTI EXPLORATION OPERATING\", \"BLACK BEAR MIDSTREAM HOLDINGS\", \"NBL MIDSTREAM HOLDINGS\", \"KOCH INDUSTRIES\", \"SILVERBOW RESOURCES\", \"NAVAJO NATION OIL AND GAS\", \"GDF SUEZ ENERGY NA\", \"EXTERRAN HOLDINGS\", \"LP 224\", \"GULF PINE ENERGY OPERATING\", \"NON-EXXONMOBIL INTERESTS\", \"CORDILLERA ENERGY PARTNERS III\", \"STERLING ENERGY GROUP\", \"DJ RESOURCES\", \"NATIONAL GRID USA\", \"TRANSCANDA/COLUMBIA PIPELINE GROUP\", \"MCELVAIN ENERGY\", \"VERDUN OIL\", \"HOLMES WESTERN OIL\", \"PLAINS NATURAL GAS STORAGE\", \"CAELUS ENERGY\", \"ALPHA NATURAL RESOURCES\", \"GULFTEX ENERGY III\", \"SYNERGY RESOURCES\", \"LONESTAR RESOURCES\", \"ROSEWOOD RESOURCES\", \"OXY\", \"COSTAR MIDSTREAM\", \"CARDINAL MIDSTREAM\", \"FASKEN OIL AND RANCH\", \"TENRGYS\", \"TEP REX HOLDINGS\", \"CMO\", \"TECPETROL\", \"PINTAIL OIL & GAS\", \"NUEVO MIDSTREAM\", \"BENNU OIL & GAS\", \"SOUTHERN CO GAS\", \"AGAVE ENERGY HOLDINGS\", \"LONGFELLOW ENERGY\", \"CRIMSON RESOURCE MANAGEMENT\", \"RESOURCE ENERGY\", \"INERGY WEST COAST\", \"SK E&P\", \"TOMPC\", \"TEXAS KEYSTONE\", \"NGL VENTURES\", \"MAGNUM HUNTER RESOURCES\", \"NISKA GAS STORAGE\", \"BRAZOS MIDSTREAM\", \"ELK PETROLEUM\", \"PLAINS LPG SERVICES\", \"WOODFORD EXPRESS\", \"KEY PRODUCTION\", \"PARADOX RESOURCES\", \"NORTHERN PIPELINE BORDER\", \"DART OIL & GAS\", \"SK NEMAHA\", \"EAGLE PETROLEUM\", \"SHORELINE ENERGY\", \"CATARINA MIDSTREAM\", \"PANTHER ENERGY\", \"RISE ENERGY PARTNERS\", \"IPR-GDF SUEZ NORTH AMERICA\", \"ENGIE NORTH AMERICA\", \"STANOLIND PRODUCTION\", \"PEAK EXPLORATION & PRODUCTION\", \"GENESIS ENERGY\", \"ENRIDGE\", \"AMERICAN EAGLE ENERGY\", \"AIRCRAFT SERVICES CORPORATION (GE ENTITY)\", \"SAGE NATURAL RESOURCES\", \"MOON HINES TIGRETT OPERATING COMPANY\", \"ELK PETROLEUM MADDEN GAS & CO2\", \"S2 ENERGY OPERATING\", \"AKIN BEENE RESOURCES\", \"TANA EXPLORATION CO\", \"TAQA USA\", \"SILVER CREEK OIL & GAS\", \"ARSENAL RESOURCES\", \"DESTIN PIPELINE COMPANY\", \"31 GROUP\", \"NORTHEAST NATURAL ENERGY\", \"DIVIDE CREEK GATHERING SYSTEM\", \"ROBERTSON-FINLEY RESOURCES\", \"SIGNAL HILL PETROLEUM\", \"EAST TENNESSEE NATURAL GAS\", \"NORTHWESTERN ENERGY\", \"1804\", \"BKV OPERATING\", \"SWG PIPELINE\", \"EDF TRADING RESOURCES\", \"ECLIPSE RESOURCES\", \"VERDAD RESOURCES\", \"BLUECREST ENERGY\", \"EDGEMARC ENERGY HOLDINGS\", \"KINGFISHER MIDSTREAM\", \"KREWE ENERGY\", \"TEXLAND PETROLEUM\", \"EARTHSTONE OPERATING\", \"JOHNSON AND LINDLEY\", \"HG ENERGY II APPALACHIA\", \"TEXSTAR MIDSTREAM SERVICES\", \"PROSPECT CAPITAL\", \"CATAMOUNT ENERGY PARTNERS\", \"KERR MCGEE GATHERING\", \"DE3 OPERATING\", \"PARADIGM ENERGY PARTNERS\", \"UTICA GAS SERVICES\", \"RESOURCE STRATEGIES\", \"WALTER OIL & GAS\", \"HINKLE OIL & GAS\", \"CHISHOLM ENERGY OPERATING\", \"PORT PARRE INVESTMENTS, LLC D/B/A BOBCAT GAS STORA\", \"WOLD ENERGY PARTNERS\", \"VENADO OPERATING CO\", \"LEED PETROLEUM\", \"RANCH WESTEX JV\", \"DGP TAURUS FIELD SERVICES\", \"STARTEX FIELD SERVICES\", \"PILLSBURY, WINTHROP, SHAW, PITTMAN\", \"EPIC MIDSTREAM\", \"PEAK POWDER RIVER RESOURCES\", \"CROWN ENERGY PARTNERS\", \"ALLIANCE PETROLEUM\", \"E&B NATURAL RESOURCES\", \"RUDY RESOURCES\", \"ROCKALL ENERGY\", \"MARITIMES & NORTHEAST PIPELINE\", \"BRIDGE ENERGY\", \"PARALLEL PETROLEUM\", \"FL RICH GAS SERVICES\", \"SAMUEL GARY JR ASSOCIATES\", \"HENRY RESOURCES\", \"M3 OHIO GATHERING\", \"STINGRAY PIPELINE CO\", \"PENNTEX MIDSTREAM PARTNERS\", \"TALL OAK MIDSTREAM\", \"ANSCHUTZ EXPLORATION\", \"AMPLIFY ENERGY\", \"CLASSIC HYDROCARBONS\", \"BALLARD PETROLEUM HOLDINGS\", \"VAQUERO PERMIAN PROCESSING\", \"IACX ENERGY\", \"CITATION OIL & GAS\", \"TRIUMPH ENERGY PARTNERS\", \"AUSTRALIS TMS\", \"NORTHWOODS ENERGY\", \"HUNTINGTON ENERGY\", \"ROCKPOINT GAS STORAGE PARTNERS\", \"EXELON\", \"PHILIP T SHARPLES TRUST\", \"EAGLECLAW MISTREAM SERVICES\", \"JKLM ENERGY\", \"PORT BARRE INVESTMENTS, LLC D/B/A BOBCAT GAS STORA\", \"MICOAST ENERGY\", \"T-C OIL\", \"ORX RESOURCES\", \"PENSARELI\", \"RECOIL RESOURCES OPERATING\", \"OWN RESOURCES OPERATING\", \"ANDERSON ENERGY\", \"SCANA\", \"MEDALLION MIDSTREAM 2\", \"MIDSTREAM ENERGY PARTNERS USA\", \"MISSION CREEK OPCO\", \"BLUEFIN RESOURCES\", \"SOUTHWEST GAS STORAGE\", \"NORTH BAJA PIPELINE\", \"ERGON\", \"NORTH SHORE E&P\", \"DGP TAURUS FIELD, SERVICES\", \"MAERSK OIL GULF OF MEXICO FOUR\", \"MARSH OIL & GAS\", \"FELIX ENERGY\", \"AXIA ENERGY II\", \"MP GULF OF MEXICO\", \"UNION EXPLORATION PARTNERS\", \"GLOBAL INFRASTRUCTURE PARTNERS - A\", \"HAWKWOOD ENERGY MANAGEMENT, LLC 220\", \"TEXAS COASTAL VENTURES\", \"SOUTHWESTERN PRODUCTION\", \"TEX MONCRIEF EXPLORACOUNT II\", \"JAYNE WRIGHTSMAN\", \"MISSOURI RIVER RESOURCES\", \"OAK VALLEY OPERATING\", \"WELLS FARGO ENERGY CAPITAL\", \"MLCJR\", \"CGAS PROPERTIES\", \"PRIME OPERATING\", \"GIP-B1 MASTER PTNR\", \"FPL GROUP\", \"CONFLUENCE DJ\", \"RIM OPERATING\", \"UTAH GAS\", \"CAMBRIAN MANAGEMENT\", \"KKR\", \"WINFIELD RESOURCES\", \"RICOCHET ENERGY\", \"CELERO ENERGY II\", \"COSTARMIDSTREAM\", \"MANAGER GLOBAL MARKET DEVELOPMENT, GAS AND POWER MAR\", \"BEACON WEST ENERGY GROUP\", \"HARVEST ENERGY\", \"SHARPLES ASSOCIATES\", \"ARP RANGELY PRODUCTION\", \"DABB ENERGY\", \"COLEMAN OIL AND GAS\", \"MOBIL PRODUCING TEXAS & NEW MEXICO\", \"ARIEL EXPLORATION\", \"PETROBAL OMEGA 1\", \"CORTERRA ENERGY\", \"MIDLAND OIL AND GAS\", \"TRUE OIL\", \"ELEANOR WHITCOMB, ROBERT KEADY, & LINDA K. BOYD TRUSTEES\", \"GEO R BROWN PARTNERSHIP\", \"MMGJ COLORADO\", \"TRUNKLINE LNG\", \"BTA\", \"TREY RESOURCES\", \"LYDA HUNT BUNKER TRUST-MARY MORELAND HUNT\", \"OLDHAM FAMILY\", \"ELEANOR WHITCOMB, ROBERT KEADY, & LINDA K BOYD TRUSTEES\", \"OMIMEX\", \"SOUTHERN NATURAL GAS CO\", \"FUELS ACQUISITION\", \"BLACK ELK ENERGY OFFSHORE OPERATIONS\", \"S NATURAL GAS CO\", \"CHROMA OPERATING\", \"BEPCO\", \"TRINITY CO2\", \"BERKSHIRE HATHAWAY\", \"MOUNTAINEER GAS HOLDINGS\", \"WTGKS GP\", \"LANDRETH COMPANY STOCKHOLDERS\", \"TEXAS AMERICAN RESOURCES\", \"PUBLIC SERVICE ENTERPRISE GROUP\", \"QTL US TERMINAL\", \"NORTHERN NEW ENGLAND ENERGY\", \"GOLDEN PASS LNG TERMINAL INVESTMENTS\", \"LIQUEFIED NATURAL GAS\"], [107609706.0, 79690393.0, 67282683.0, 64213701.0, 62582671.0, 53698184.0, 53464072.0, 42910935.0, 38207985.0, 34064838.0, 29646552.0, 28958037.0, 27810023.0, 27511980.0, 23349963.0, 21344222.0, 20333595.0, 19371615.0, 18471403.0, 17407748.0, 17312082.0, 16496448.0, 15841589.0, 15279649.0, 15209601.0, 15181177.0, 14305588.0, 13451183.0, 13434674.0, 13038806.0, 12871741.0, 12821437.0, 12816016.0, 11839697.0, 11775290.0, 11402728.0, 11231504.0, 10966396.0, 10829839.0, 9902848.0, 9643116.0, 9218104.0, 8688334.0, 8568066.0, 8424983.0, 8324601.0, 8051828.0, 7802713.0, 7607254.0, 7562150.0, 7534970.0, 7018515.0, 6943058.0, 6938663.0, 6627704.0, 6215382.0, 6185272.0, 6157742.0, 6089354.0, 6046702.0, 5904439.0, 5886031.0, 5490438.0, 5447503.0, 5384160.0, 5255725.0, 5247104.0, 5234774.0, 5098587.0, 5075809.0, 4994778.0, 4891276.0, 4869539.0, 4819427.0, 4807376.0, 4653899.0, 4588119.0, 4218574.0, 4152230.0, 4080618.0, 3950034.0, 3868853.0, 3681208.0, 3679627.0, 3629553.0, 3540943.0, 3474810.0, 3445855.0, 3397525.0, 3260417.0, 3145314.0, 3141766.0, 3108248.0, 3076481.0, 3060597.0, 3007718.0, 2991569.0, 2932350.0, 2896544.0, 2832744.0, 2821545.0, 2807769.0, 2744050.0, 2712940.0, 2708496.0, 2703883.0, 2677338.0, 2661136.0, 2644886.0, 2637959.0, 2619516.0, 2550447.0, 2484579.0, 2438916.0, 2399577.0, 2360597.0, 2309747.0, 2307665.0, 2254647.0, 2232208.0, 2228672.0, 2199694.0, 2153348.0, 2117904.0, 2113420.0, 2091660.0, 2066811.0, 2022274.0, 2019056.0, 2018957.0, 2009380.0, 2007069.0, 2002264.0, 1977150.0, 1945168.0, 1941559.0, 1909196.0, 1902367.0, 1895828.0, 1895629.0, 1875446.0, 1828446.0, 1786406.0, 1783355.0, 1781883.0, 1780464.0, 1765448.0, 1760964.0, 1730589.0, 1710051.0, 1698300.0, 1660595.0, 1622746.0, 1621904.0, 1612185.0, 1574014.0, 1520454.0, 1520135.0, 1513214.0, 1510088.0, 1465255.0, 1455968.0, 1445441.0, 1435983.0, 1422560.0, 1413382.0, 1409067.0, 1406335.0, 1362721.0, 1360959.0, 1358850.0, 1358257.0, 1342300.0, 1340039.0, 1328863.0, 1328011.0, 1318558.0, 1303852.0, 1302854.0, 1302604.0, 1297627.0, 1285871.0, 1284913.0, 1275226.0, 1269334.0, 1267341.0, 1242319.0, 1241676.0, 1204476.0, 1197416.0, 1193770.0, 1189724.0, 1161856.0, 1149419.0, 1127900.0, 1124373.0, 1122780.0, 1118183.0, 1093638.0, 1091213.0, 1076083.0, 1064390.0, 1064199.0, 1064053.0, 1059132.0, 1050958.0, 1050081.0, 1037984.0, 1035003.0, 1029456.0, 1022507.0, 1019084.0, 1016537.0, 1015991.0, 1007930.0, 1005463.0, 951998.0, 943368.0, 931497.0, 927541.0, 925807.0, 920699.0, 918105.0, 917568.0, 912102.0, 908098.0, 886374.0, 886144.0, 883486.0, 882350.0, 855401.0, 852651.0, 845466.0, 843834.0, 836007.0, 829500.0, 820036.0, 810190.0, 810182.0, 805099.0, 804509.0, 795772.0, 777446.0, 771767.0, 760212.0, 756415.0, 755512.0, 751378.0, 749278.0, 746921.0, 735693.0, 735511.0, 725352.0, 723729.0, 718089.0, 711202.0, 703140.0, 696576.0, 690209.0, 688294.0, 666295.0, 661441.0, 656330.0, 647859.0, 641355.0, 637450.0, 636633.0, 633942.0, 628693.0, 627253.0, 626978.0, 622761.0, 619410.0, 614173.0, 611376.0, 609095.0, 604778.0, 603121.0, 596444.0, 594353.0, 587269.0, 582532.0, 579100.0, 569966.0, 562455.0, 557674.0, 557606.0, 555731.0, 553005.0, 542568.0, 537125.0, 535328.0, 534868.0, 533921.0, 533864.0, 525933.0, 525933.0, 525546.0, 522479.0, 514735.0, 513742.0, 512221.0, 495680.0, 494622.0, 490254.0, 489945.0, 489270.0, 488568.0, 488448.0, 487911.0, 485396.0, 477802.0, 470484.0, 465351.0, 461398.0, 460117.0, 453288.0, 449250.0, 447038.0, 447036.0, 444996.0, 442683.0, 442653.0, 436222.0, 428139.0, 427081.0, 423640.0, 421110.0, 416236.0, 414639.0, 414540.0, 412084.0, 409575.0, 406839.0, 397926.0, 394282.0, 394089.0, 383345.0, 383072.0, 379416.0, 379251.0, 378362.0, 377566.0, 374091.0, 373782.0, 373431.0, 373190.0, 370044.0, 369404.0, 361389.0, 360099.0, 359704.0, 359429.0, 357775.0, 355831.0, 353408.0, 350097.0, 349144.0, 348881.0, 347202.0, 342543.0, 331216.0, 327900.0, 327491.0, 322211.0, 320010.0, 317633.0, 317205.0, 314292.0, 312740.0, 304880.0, 303953.0, 302153.0, 302101.0, 301253.0, 297115.0, 295956.0, 291305.0, 290468.0, 283956.0, 281596.0, 278342.0, 276584.0, 276232.0, 273878.0, 273535.0, 267572.0, 267107.0, 265732.0, 265721.0, 264320.0, 262910.0, 261692.0, 259951.0, 259681.0, 258507.0, 253623.0, 250125.0, 249596.0, 247841.0, 244552.0, 235311.0, 233857.0, 231721.0, 230928.0, 229052.0, 228194.0, 227737.0, 227717.0, 227501.0, 227420.0, 226390.0, 224238.0, 222509.0, 220629.0, 217094.0, 215588.0, 213652.0, 211046.0, 210182.0, 209040.0, 207192.0, 206697.0, 201866.0, 201519.0, 201050.0, 198175.0, 197905.0, 194724.0, 190001.0, 187964.0, 186582.0, 186036.0, 183395.0, 182938.0, 182755.0, 182476.0, 182312.0, 181475.0, 180447.0, 178574.0, 175776.0, 175145.0, 175117.0, 174802.0, 174396.0, 172264.0, 169324.0, 167059.0, 164514.0, 162986.0, 162923.0, 162777.0, 162262.0, 162253.0, 160884.0, 159316.0, 158590.0, 158075.0, 157641.0, 156345.0, 155602.0, 154174.0, 150974.0, 150744.0, 148482.0, 148446.0, 146463.0, 145850.0, 145663.0, 145635.0, 144330.0, 142742.0, 141492.0, 140929.0, 139012.0, 138974.0, 136738.0, 136631.0, 135767.0, 134639.0, 133478.0, 130224.0, 129810.0, 129018.0, 128641.0, 128046.0, 124545.0, 124408.0, 123544.0, 122304.0, 121947.0, 120428.0, 119328.0, 118070.0, 116802.0, 116406.0, 115874.0, 115287.0, 114684.0, 113622.0, 113074.0, 111125.0, 110353.0, 110180.0, 107885.0, 106917.0, 105075.0, 101677.0, 100123.0, 100024.0, 99678.0, 99361.0, 98807.0, 98559.0, 97550.0, 96685.0, 96475.0, 96069.0, 94787.0, 94527.0, 92993.0, 92898.0, 92826.0, 92621.0, 92204.0, 91661.0, 91302.0, 89776.0, 88100.0, 87415.0, 85614.0, 82837.0, 81953.0, 81738.0, 81727.0, 79221.0, 78434.0, 78371.0, 74521.0, 72401.0, 71752.0, 71627.0, 71308.0, 70392.0, 69045.0, 68540.0, 67629.0, 67112.0, 66846.0, 66344.0, 65879.0, 65063.0, 62750.0, 62507.0, 61529.0, 59546.0, 59074.0, 58612.0, 57338.0, 57140.0, 56721.0, 56472.0, 56424.0, 56083.0, 54458.0, 53859.0, 53388.0, 53307.0, 53134.0, 53092.0, 52843.0, 52379.0, 52295.0, 51066.0, 50687.0, 50260.0, 50218.0, 49170.0, 48500.0, 48452.0, 47906.0, 47821.0, 46300.0, 45728.0, 44243.0, 41939.0, 41693.0, 39630.0, 38995.0, 38572.0, 38104.0, 38030.0, 37831.0, 37429.0, 37082.0, 34864.0, 34027.0, 32036.0, 31765.0, 31727.0, 31680.0, 31222.0, 30878.0, 30864.0, 30642.0, 30404.0, 29553.0, 29439.0, 29378.0, 28922.0, 28214.0, 27892.0, 27512.0, 27451.0, 27269.0, 27091.0, 26813.0, 26138.0, 25816.0, 25729.0, 25724.0, 25157.0, 24955.0, 24588.0, 24563.0, 23706.0, 22902.0, 22829.0, 21401.0, 20988.0, 19447.0, 18910.0, 16945.0, 16553.0, 15943.0, 15667.0, 14962.0, 14851.0, 13560.0, 13425.0, 13054.0, 13041.0, 12862.0, 12286.0, 12259.0, 12259.0, 11865.0, 11608.0, 9170.0, 9073.0, 8828.0, 8299.0, 7028.0, 6737.0, 6552.0, 6153.0, 6121.0, 5965.0, 4947.0, 4320.0, 4306.0, 3853.0, 3194.0, 3064.0, 3062.0, 2871.0, 2431.0, 2378.0, 2115.0, 1666.0, 1228.0, 631.0, 41.0, 11.0, 3.0, 2.0, 0.0], [11883563.0, 13725695.0, 9389094.0, 6642763.0, 1932428.0, 5842378.0, 5933711.0, 4978620.0, 3695422.0, 5033750.0, 4180645.0, 1354784.0, 1785376.0, 3482375.0, 336100.0, 2267509.0, 2606437.0, 2544273.0, 2279286.0, 3684014.0, 1270567.0, 1879007.0, null, 1210422.0, 635729.0, 1134057.0, 1111918.0, 2428865.0, 1845588.0, 1303824.0, 592394.0, 856288.0, 2192998.0, 829685.0, null, null, 1041234.0, 101337.0, 1350629.0, 62314.0, null, 1656408.0, 1746374.0, 421532.0, null, 1702370.0, null, 1021013.0, null, 778928.0, 908756.0, null, 839683.0, 988729.0, null, 479390.0, null, 2076453.0, 563736.0, 332787.0, 1750915.0, 383429.0, 225701.0, 638611.0, 449455.0, 1078783.0, 593852.0, 1217488.0, 265486.0, 458509.0, 652634.0, null, 180678.0, 565149.0, 239197.0, 285810.0, null, 1479987.0, 756867.0, 2915183.0, 762675.0, 831698.0, 622976.0, 103518.0, 1356622.0, 897008.0, 370363.0, 475893.0, null, 446373.0, null, 61733.0, 585841.0, null, 543344.0, null, 219771.0, 1010232.0, 442874.0, 747118.0, null, 103359.0, null, 288166.0, null, 781794.0, null, null, 246452.0, null, 262329.0, null, 241513.0, 345230.0, 283572.0, 277321.0, 255818.0, null, 132827.0, 2232208.0, 229145.0, 1191456.0, 243101.0, 711871.0, 199421.0, 253094.0, null, 273786.0, 426180.0, 91709.0, 151683.0, 203496.0, null, 344757.0, 161507.0, 34970.0, 199849.0, 201550.0, 842079.0, 192493.0, null, null, 176289.0, 289067.0, 65866.0, 300037.0, null, 40434.0, 182475.0, null, null, 173091.0, null, 142574.0, null, null, null, 552945.0, null, 747083.0, null, 50682.0, null, 46728.0, 215068.0, null, 16297.0, null, 40520.0, 12647.0, 276226.0, 271353.0, null, 121855.0, null, 0.0, null, 253026.0, null, null, 260843.0, null, 244095.0, 2941.0, null, null, 188570.0, null, null, 263868.0, 242593.0, null, null, 120972.0, 430047.0, 1124373.0, null, null, 189557.0, 89450.0, null, null, 307378.0, 189537.0, null, 13045.0, 111890.0, null, 892071.0, 60341.0, 335385.0, null, 58191.0, 111767.0, null, null, 713056.0, 121569.0, 74096.0, null, 70050.0, 233968.0, null, null, null, null, 265361.0, null, null, null, 130024.0, null, 0.0, null, 68814.0, null, 179404.0, null, null, null, null, null, null, null, null, null, null, null, 105240.0, 30839.0, null, 117722.0, 29501.0, null, null, 246907.0, null, null, null, 269168.0, null, 82716.0, null, null, 63989.0, 21438.0, null, 135515.0, 22344.0, null, null, null, 80956.0, null, null, null, 5418.0, 603121.0, null, 191278.0, null, null, null, null, null, null, 257508.0, null, 147501.0, 117621.0, 53417.0, null, null, null, null, 173591.0, 173591.0, 124805.0, null, null, null, 65149.0, 114706.0, null, 53328.0, 32248.0, null, 162695.0, null, 287525.0, null, null, 62272.0, 63966.0, 223709.0, 43878.0, null, null, null, null, 58041.0, null, 155072.0, null, 40620.0, null, 94458.0, null, null, 87274.0, 114729.0, 38920.0, null, null, 397926.0, null, null, null, null, null, 45690.0, 101565.0, null, 102058.0, null, 30329.0, null, null, 170641.0, 52078.0, null, null, 71126.0, null, null, null, 137274.0, 79620.0, null, null, 28698.0, null, null, null, null, 87023.0, 170638.0, 71232.0, null, 54295.0, null, null, 29070.0, 37106.0, 162378.0, 76145.0, 39714.0, 41515.0, null, null, null, null, 110890.0, null, null, null, null, null, null, null, 28434.0, null, null, 41023.0, 83491.0, null, 33356.0, 41437.0, 79509.0, 52778.0, null, null, 42605.0, null, null, 44572.0, null, null, 227717.0, null, null, null, 66809.0, null, null, 44641.0, null, 18583.0, null, 44624.0, null, null, 38339.0, null, 19292.0, null, null, 91877.0, 38597.0, 51756.0, 26447.0, null, 27160.0, null, null, null, null, 59695.0, null, null, 7365.0, null, null, null, 65352.0, 24686.0, null, 30849.0, 167059.0, null, null, null, null, 32759.0, null, null, 54412.0, null, 79665.0, null, null, null, 32162.0, 33717.0, null, 148482.0, 18338.0, null, null, null, null, null, null, null, null, null, null, null, null, 29337.0, null, null, 50133.0, 14205.0, 46992.0, 28025.0, null, null, null, null, 40147.0, null, null, null, null, null, null, null, 58442.0, 54678.0, 113622.0, null, null, null, null, 25262.0, null, 105075.0, null, 31887.0, null, null, null, null, 23756.0, null, null, null, null, null, null, null, null, 30461.0, 30565.0, null, null, null, null, null, null, null, null, null, null, null, null, 9876.0, null, null, 72401.0, null, 71627.0, null, null, null, 9702.0, null, null, null, 28090.0, null, null, 10352.0, null, null, null, 30976.0, null, null, 29547.0, null, null, 7987.0, null, 30947.0, null, 13590.0, null, null, null, null, null, null, null, null, null, 50218.0, null, null, null, null, null, null, null, null, null, null, 5674.0, null, null, null, null, 14728.0, null, 5249.0, null, null, null, 1014.0, null, null, null, null, 30864.0, 30642.0, 17889.0, null, null, null, null, null, null, null, 4529.0, null, null, null, null, null, 4480.0, null, null, null, null, null, 23706.0, null, null, null, null, null, 8291.0, null, null, 15943.0, 7206.0, null, 7788.0, null, 2912.0, 1869.0, null, 2240.0, 12286.0, 1567.0, 1567.0, null, null, 4291.0, null, 1972.0, 1744.0, null, 6737.0, null, null, 6121.0, 648.0, null, 1187.0, null, 3584.0, 2971.0, 542.0, 1040.0, null, null, 413.0, null, null, 350.0, null, 0.0, null, null, null, null], [14835260.0, 11477010.0, 6990798.0, 5718302.0, 4347338.0, 5410240.0, 6019395.0, 4753681.0, 4154040.0, 4439068.0, 3415817.0, 1640147.0, 1469321.0, 3719335.0, 414368.0, 2303059.0, 2804937.0, 3225471.0, 2244231.0, 1814306.0, 2153409.0, 1826602.0, null, 1756491.0, 1033607.0, 1280192.0, 1314109.0, 2086446.0, 1886376.0, 1066111.0, 611830.0, 1125322.0, 886860.0, 3672802.0, null, null, 1125771.0, 1595024.0, 1497257.0, 62003.0, 1451440.0, 1626172.0, 267937.0, 565465.0, null, 1855882.0, 265196.0, 665450.0, 650616.0, 686506.0, 830778.0, null, 991557.0, 1141904.0, 1227978.0, 839739.0, 1837939.0, 2156012.0, 671980.0, 679646.0, 1317019.0, 498036.0, 1186408.0, 1094985.0, 488365.0, 1249440.0, 371014.0, 1152100.0, 658189.0, 2064516.0, 736013.0, null, 618143.0, 484997.0, 220617.0, 349143.0, null, 197116.0, 710226.0, 351583.0, 685398.0, 885175.0, 502128.0, 208732.0, 796805.0, 982411.0, 364839.0, 710972.0, null, 397581.0, null, 57648.0, 446103.0, null, 497699.0, null, 168039.0, 759185.0, 360074.0, 403428.0, 305725.0, 67578.0, null, 312226.0, null, 608644.0, null, null, 298726.0, null, 338415.0, null, 232586.0, 315722.0, 160879.0, 256365.0, 248505.0, null, 275448.0, null, 376669.0, null, 311730.0, 702707.0, 294691.0, 286881.0, null, 213078.0, 500639.0, 248172.0, 222304.0, 287162.0, null, 333844.0, 178852.0, 40636.0, 75538.0, 232608.0, 221801.0, 675070.0, null, null, 96266.0, 285708.0, 230602.0, 622886.0, 110949.0, 99211.0, 591106.0, null, 105977.0, 207719.0, 44427.0, 158248.0, null, 38916.0, null, 245706.0, null, 763005.0, 168733.0, 50611.0, null, 112798.0, 257667.0, null, 18771.0, null, 34196.0, 15621.0, 250812.0, 247298.0, null, 123277.0, null, 47.0, null, 167482.0, null, null, 234016.0, null, 157075.0, 3076.0, null, 324084.0, 210951.0, null, null, 273541.0, 289382.0, null, null, 152705.0, 245629.0, null, null, null, 106216.0, 94242.0, null, null, 331577.0, 107749.0, null, 31258.0, 108067.0, null, 21368.0, 42729.0, 448693.0, null, 65440.0, 100437.0, null, 37448.0, 47998.0, 114240.0, 167369.0, null, 249583.0, 178772.0, 64325.0, null, null, null, 338017.0, null, null, null, 141448.0, null, 279561.0, null, 73278.0, null, 134199.0, 34065.0, null, null, null, 68416.0, null, null, null, 169888.0, null, null, 114322.0, 46916.0, null, 158136.0, 47639.0, null, null, 190355.0, null, null, null, 110269.0, null, 82124.0, null, null, 154259.0, 43381.0, null, 144695.0, 21662.0, null, null, null, 84558.0, null, null, null, 4934.0, null, null, 72190.0, null, null, null, 45964.0, null, null, 300098.0, 52950.0, 127093.0, 99742.0, 64958.0, null, null, null, null, 152862.0, 152862.0, 108197.0, null, null, null, 65980.0, 111663.0, null, 68658.0, 34234.0, null, 187316.0, null, 200386.0, null, null, null, null, 237689.0, 39745.0, null, 18217.0, null, null, 58259.0, null, 151516.0, null, 153374.0, null, 117489.0, null, null, 174241.0, 154046.0, 73395.0, null, null, null, 394282.0, null, null, null, null, 124224.0, 25622.0, null, 100148.0, null, 21862.0, null, null, 198763.0, 49241.0, null, null, 62883.0, null, null, null, 212823.0, 80445.0, 348881.0, 120684.0, 36318.0, null, null, 113064.0, null, 131419.0, 146995.0, 83801.0, null, 55139.0, null, null, 36032.0, 62405.0, 138875.0, 96305.0, 39587.0, 44905.0, null, null, null, null, 165694.0, null, null, 37560.0, 25494.0, null, null, null, 25016.0, null, null, 31943.0, 176190.0, null, 43887.0, 23892.0, 85397.0, 52897.0, null, null, 43610.0, null, null, 57839.0, null, null, null, null, null, null, 47863.0, null, 32699.0, 40534.0, null, 21368.0, null, 61089.0, null, null, 17342.0, null, 16193.0, null, null, 31026.0, 38448.0, 37060.0, 18338.0, null, 28192.0, null, null, null, null, 66942.0, null, null, 6048.0, null, null, 72042.0, 77803.0, 22576.0, null, 33258.0, null, null, null, null, null, 29910.0, null, null, 69211.0, null, 78410.0, null, null, null, 23775.0, 31516.0, 73376.0, null, 30707.0, null, null, null, null, null, null, null, null, null, null, null, null, 36637.0, null, null, 26208.0, 10830.0, 56561.0, 15919.0, null, null, null, null, 42712.0, null, null, null, null, null, null, null, 38351.0, 60006.0, null, null, null, null, null, 27386.0, null, null, null, 25544.0, null, null, null, null, 28214.0, null, null, 35717.0, null, null, null, null, null, 23078.0, 24029.0, null, null, null, null, null, null, null, null, null, null, null, null, 10975.0, null, null, null, null, null, null, null, null, 8873.0, null, null, null, 16433.0, null, null, 9427.0, null, null, null, 27941.0, null, null, 27593.0, null, null, 7304.0, null, 15196.0, null, 18293.0, null, null, null, null, null, null, null, null, null, null, null, null, null, null, null, null, null, null, null, null, 6621.0, null, null, null, null, 13508.0, null, 4800.0, null, null, null, 36.0, null, null, null, null, null, null, 2065.0, null, null, null, 8190.0, null, null, null, 4124.0, null, null, null, null, null, 5175.0, null, null, null, null, null, null, null, null, null, null, null, 4258.0, null, null, null, 5165.0, 7879.0, 7025.0, null, 2391.0, 2181.0, null, 2587.0, null, 1589.0, 1589.0, null, null, 2356.0, null, 2302.0, 1115.0, null, null, 6552.0, 6153.0, null, 1053.0, null, 1148.0, null, 269.0, 223.0, 1016.0, 1043.0, null, 2320.0, 95.0, null, null, 244.0, null, 0.0, null, null, null, null], [12883495.0, 12938759.0, 6234089.0, 6262773.0, 4124251.0, 5843165.0, 6289954.0, 4934024.0, 5424472.0, 5279464.0, 3062550.0, 1992208.0, 1548662.0, 3586185.0, 757024.0, 2200350.0, 2615463.0, 2892330.0, 2258233.0, 1926554.0, 1959737.0, 1687367.0, 178223.0, 2355406.0, 1078008.0, 1480251.0, 1185442.0, 1557766.0, 2134862.0, 1122002.0, 871100.0, 1404040.0, 937394.0, 1424342.0, null, null, 1091301.0, 1467255.0, 1480743.0, 59473.0, 1401980.0, 1449151.0, 612890.0, 573065.0, null, 1643799.0, 938103.0, 674838.0, 742130.0, 604790.0, 1113284.0, null, 865894.0, 1540782.0, 1257781.0, 1389454.0, 1884956.0, 1925277.0, 631332.0, 526084.0, 1090865.0, 420033.0, 1139706.0, 1590579.0, 629006.0, 530533.0, 492415.0, 1397105.0, 1034519.0, 1546246.0, 754509.0, null, 1254250.0, 451020.0, 169870.0, 375659.0, 428083.0, 304298.0, 1052590.0, 285998.0, 672946.0, 624973.0, 566745.0, 469560.0, 720144.0, 552871.0, 325896.0, null, null, 315654.0, 355523.0, 148172.0, 1243059.0, null, 457752.0, null, 197165.0, 607180.0, 331504.0, 284037.0, 225952.0, 269244.0, null, 329778.0, null, 602436.0, null, null, 303708.0, null, 299507.0, null, 244785.0, 357847.0, 226674.0, 337844.0, 285988.0, null, 131269.0, null, 230890.0, null, 225818.0, 334162.0, 260937.0, 332566.0, 167323.0, 178219.0, 486091.0, 213436.0, 122680.0, 266742.0, 123788.0, 299867.0, 167842.0, 305677.0, 98300.0, 229775.0, 161255.0, 453677.0, null, null, 154369.0, 299090.0, 189919.0, 430870.0, 156850.0, 91735.0, 957008.0, null, 111206.0, 272474.0, 121884.0, 76542.0, 90766.0, 97967.0, null, 215748.0, null, null, 178865.0, 129128.0, null, 26710.0, 248781.0, null, 335059.0, null, 64971.0, 14420.0, 143074.0, 322842.0, 313106.0, 170477.0, null, 26.0, null, 218355.0, null, null, 329662.0, null, 121770.0, 2800.0, null, 458773.0, 220562.0, null, null, 293837.0, 286073.0, null, null, 159050.0, 179803.0, null, null, null, 159986.0, 103299.0, null, null, 366371.0, 32924.0, 397808.0, 34051.0, 152508.0, null, 25191.0, 72637.0, 64836.0, null, 97272.0, 118632.0, null, 42180.0, 81313.0, 113071.0, 184664.0, null, 175064.0, 209217.0, 214503.0, null, null, null, 282996.0, null, null, 167194.0, 98044.0, null, 278031.0, null, 105460.0, 116256.0, 114184.0, 33099.0, null, null, null, 59782.0, null, null, null, 266643.0, null, null, 117845.0, 208870.0, 437469.0, 133406.0, 16196.0, null, null, 273940.0, null, null, null, 70720.0, null, 84084.0, null, null, 205063.0, 74162.0, null, 102737.0, 37179.0, null, null, null, 82325.0, null, 138564.0, null, 4521.0, null, null, 72134.0, 28994.0, null, null, 69044.0, null, null, null, 52325.0, 109201.0, 110457.0, 94746.0, null, null, null, null, 112976.0, 112976.0, 178609.0, null, null, 32096.0, 73943.0, 57033.0, null, 54590.0, 55134.0, null, 138557.0, null, null, 234370.0, null, 51577.0, 111375.0, null, 35617.0, null, 90481.0, null, null, 179521.0, null, 136065.0, null, 234145.0, null, 110073.0, null, null, 153124.0, 145765.0, 57194.0, null, null, null, null, null, null, null, 64763.0, 94480.0, 50097.0, 29827.0, 87921.0, null, 22419.0, 67567.0, null, null, 51773.0, null, null, 53350.0, 90714.0, null, null, null, 66594.0, null, 119466.0, 22486.0, null, null, 106522.0, null, 41452.0, null, 92713.0, null, 41605.0, null, null, 51906.0, 53241.0, null, 82450.0, 37588.0, 40830.0, null, 47928.0, null, null, null, null, null, 44731.0, 25193.0, null, null, null, 23014.0, 58252.0, null, 38402.0, null, null, 32472.0, 23293.0, 20020.0, 37913.0, 44202.0, null, 45442.0, null, null, 126641.0, null, null, null, 38155.0, 62701.0, null, 48863.0, null, 31507.0, 23122.0, null, 25191.0, null, 39167.0, null, null, 30652.0, null, 12720.0, null, null, 25977.0, 33540.0, 45322.0, 24749.0, null, 29049.0, null, null, null, null, 55675.0, null, null, 45868.0, null, null, 49799.0, 31647.0, 25588.0, null, 33780.0, null, null, 33000.0, null, null, 28505.0, null, null, 15824.0, null, null, null, null, null, 24637.0, 22078.0, 77368.0, null, 36277.0, null, null, 57851.0, 29207.0, null, 142742.0, 67077.0, null, null, null, null, null, 34891.0, null, null, 16809.0, 12549.0, 9915.0, 19868.0, null, null, 67293.0, null, 39445.0, null, null, null, null, null, 27702.0, null, null, null, null, null, null, null, null, 27475.0, 47357.0, null, null, 19185.0, null, null, null, null, 38548.0, null, null, 33528.0, null, null, null, null, null, 25403.0, 20384.0, null, null, null, 47887.0, null, null, null, null, null, null, null, null, 9775.0, null, 31096.0, null, null, null, null, null, null, 10057.0, null, null, null, 21821.0, null, null, 8638.0, 31042.0, null, null, 123.0, null, null, null, null, 56472.0, 8279.0, null, 3674.0, null, 21505.0, null, null, null, null, null, null, null, null, null, null, null, null, null, null, null, null, null, null, null, null, 7011.0, null, null, null, null, 5675.0, null, 5441.0, null, null, 6994.0, 30651.0, null, null, null, null, null, null, 3941.0, null, null, null, 7049.0, null, null, null, 3779.0, 10617.0, null, null, null, null, 4899.0, null, null, null, null, null, null, null, null, null, null, null, 6361.0, null, null, null, 3296.0, 7083.0, 30.0, null, 2225.0, 2310.0, null, 2449.0, null, 1429.0, 1429.0, null, null, 2523.0, null, 2437.0, 1246.0, null, null, null, null, null, 1073.0, null, 863.0, null, null, null, 1506.0, 979.0, null, 111.0, 701.0, null, null, 175.0, null, 0.0, null, null, null, null], [12571712.0, 10403863.0, 5669428.0, 6937417.0, 4358246.0, 5026566.0, 6153017.0, 4966137.0, 5994572.0, 5201344.0, 3206442.0, 2249943.0, 2148241.0, 2948005.0, 1584991.0, 2321388.0, 2127214.0, 2201996.0, 2039363.0, 2015313.0, 2316622.0, 1562984.0, 1984867.0, 2155058.0, 2947189.0, 1555764.0, 1024906.0, 1552677.0, 2146723.0, 1304773.0, 2203603.0, 1645702.0, 1356965.0, 1462759.0, null, 378634.0, 1450729.0, 1355278.0, 1527844.0, 173624.0, 1361368.0, 1527537.0, 428842.0, 667001.0, 891460.0, 1388403.0, 902954.0, 982305.0, 614109.0, 1142294.0, 976561.0, null, 836524.0, 62688.0, 1025194.0, 1073158.0, 1417322.0, null, 640368.0, 526429.0, 279330.0, 452241.0, 1171520.0, 773763.0, 710201.0, 398368.0, 504200.0, 1468081.0, 1244931.0, 681423.0, 814834.0, null, 883510.0, 762501.0, 952272.0, 294370.0, 822173.0, 408189.0, 1455895.0, 194036.0, 670873.0, 1527007.0, 364097.0, 433945.0, 755982.0, 300471.0, 325949.0, null, null, 379337.0, 1134747.0, 291917.0, 571083.0, null, 439904.0, null, 509958.0, 519308.0, 330708.0, 301207.0, 173008.0, 633570.0, 476787.0, 339254.0, null, 411303.0, null, null, 263593.0, 15694.0, 325301.0, null, 316572.0, 341088.0, 291422.0, 596221.0, 251276.0, null, 334688.0, null, 185994.0, null, 239921.0, 369164.0, 251863.0, 374153.0, 265918.0, 138580.0, 606146.0, 297624.0, 261140.0, 303331.0, 183632.0, 263189.0, 375493.0, 112914.0, 174223.0, 337528.0, 159515.0, 574389.0, 304933.0, 87787.0, 215001.0, 310764.0, 184346.0, 271066.0, 164823.0, 219457.0, 0.0, 176864.0, 131389.0, 227718.0, 152253.0, 268050.0, 46199.0, 171493.0, 205161.0, 189969.0, null, null, 172591.0, 140157.0, null, 169599.0, 224783.0, null, 349948.0, null, 84742.0, 15959.0, 108244.0, 339623.0, 230648.0, 223915.0, 25654.0, 90.0, null, 207035.0, null, null, 35170.0, null, 52636.0, 154412.0, null, 484484.0, 197763.0, null, 140328.0, 366170.0, 375722.0, 27264.0, null, 173217.0, 159067.0, null, 25000.0, 203080.0, 106560.0, 106174.0, null, 298361.0, 14140.0, 35361.0, 308786.0, 29441.0, 143482.0, null, 29284.0, 171686.0, 49052.0, null, 89049.0, 201952.0, null, 161310.0, 109631.0, 106502.0, 206462.0, null, 201998.0, 298742.0, 219770.0, null, 261799.0, null, null, null, null, 166695.0, 126573.0, null, 287874.0, null, 108153.0, 127828.0, 138044.0, 34551.0, null, null, null, 100423.0, null, 368545.0, null, 319884.0, null, null, 124119.0, 460296.0, null, 58928.0, 59090.0, 249767.0, 79059.0, null, null, null, 43299.0, 80047.0, 148446.0, 78350.0, null, null, 218044.0, 116112.0, null, 86561.0, 39180.0, null, null, null, 77140.0, null, null, 49133.0, 4649.0, null, null, 71433.0, 34038.0, 120504.0, null, 105935.0, null, null, null, 55543.0, 169210.0, 108121.0, 83184.0, null, null, null, null, 86504.0, 86504.0, 113935.0, null, null, 129160.0, 66260.0, 49526.0, 120775.0, 35029.0, 95291.0, null, null, null, null, 251026.0, null, 356635.0, 76296.0, null, 40924.0, null, 143247.0, null, 11253.0, 23395.0, 49008.0, null, null, null, null, 101620.0, null, null, null, null, 53240.0, null, 170638.0, null, null, null, null, null, 72487.0, 40971.0, 70079.0, 9945.0, 83964.0, 146159.0, 48543.0, 71842.0, null, null, 31619.0, null, null, 51358.0, 79758.0, null, 26927.0, null, 66665.0, 0.0, 107052.0, 40694.0, null, null, 107905.0, null, 60116.0, null, 69459.0, null, 40236.0, null, null, 55685.0, 149349.0, null, 42215.0, 37895.0, 42147.0, null, 67574.0, null, 140557.0, null, 19896.0, null, 28452.0, 26743.0, null, null, null, 21292.0, 64744.0, null, 24800.0, null, 66927.0, 6855.0, 27614.0, 64670.0, 6531.0, 34430.0, null, 37893.0, null, null, null, null, null, null, 58737.0, null, null, 36413.0, null, 32980.0, 17493.0, null, 29284.0, null, 65302.0, null, null, 33595.0, null, 46182.0, null, null, 49025.0, 41501.0, 55863.0, 24007.0, null, 22593.0, null, null, 29738.0, 98494.0, null, null, null, 41104.0, null, 175145.0, 18065.0, 0.0, 24390.0, null, 34439.0, 0.0, null, 1829.0, 30935.0, null, 26919.0, null, 28618.0, 19869.0, 51615.0, null, null, null, null, 24655.0, 18356.0, null, null, 22434.0, null, null, 41548.0, 31230.0, null, null, 37887.0, null, null, null, null, null, 34902.0, 134639.0, null, 23977.0, 20923.0, 15550.0, 35849.0, null, null, 57115.0, null, null, null, null, null, null, null, 39174.0, null, null, null, null, null, null, null, null, 27762.0, 40904.0, null, null, 13903.0, null, null, null, null, 460.0, null, null, 27230.0, null, null, null, null, null, 13884.0, 17643.0, null, null, null, 41889.0, null, null, null, null, null, null, null, null, 10618.0, null, 43425.0, null, null, null, null, null, null, 9586.0, null, null, null, null, null, null, 8881.0, 31465.0, null, null, 34.0, null, 57338.0, null, null, null, 7891.0, null, 4641.0, null, 0.0, 53307.0, null, null, null, 10966.0, null, null, null, null, 0.0, null, null, null, null, null, null, null, 21102.0, null, null, 6090.0, null, null, 38104.0, null, 3920.0, null, 5186.0, null, null, 12044.0, 12.0, null, null, null, null, null, null, 6509.0, null, null, null, 13683.0, 28214.0, null, null, 3885.0, 16652.0, 27091.0, null, null, null, 4355.0, null, 25157.0, null, null, null, null, null, null, null, null, null, null, null, null, null, null, null, 8.0, null, 2104.0, 2006.0, 5022.0, 2177.0, null, 1423.0, 1423.0, null, null, 0.0, null, 2117.0, 1363.0, null, null, null, null, null, 964.0, null, 1122.0, null, 0.0, 0.0, null, null, null, null, 288.0, null, null, 232.0, null, 0.0, null, null, null, null], [12625439.0, 8794702.0, 6428270.0, 8233217.0, 5399094.0, 5253293.0, 5968484.0, 4347876.0, 4773869.0, 4579780.0, 3142854.0, 2400336.0, 2843397.0, 4516971.0, 2752913.0, 3826898.0, 2172633.0, 1809179.0, 2297639.0, 1794508.0, 2562749.0, 2882720.0, 1426271.0, 2494977.0, 3590528.0, 1561990.0, 1014634.0, 1039649.0, 1823280.0, 958685.0, 2447072.0, 1767404.0, 1638490.0, 1625766.0, null, 1586867.0, 1564202.0, 1474506.0, 1302966.0, 181518.0, 1480942.0, 827429.0, 616926.0, 769986.0, 950150.0, 1052688.0, 2507899.0, 1013042.0, 543427.0, 1328555.0, 846358.0, 1939560.0, 927054.0, 66873.0, 884062.0, 751933.0, 1045055.0, null, 566404.0, 421069.0, 276771.0, 402157.0, 819447.0, 529193.0, 647550.0, 544077.0, 402752.0, null, 364339.0, 299246.0, 648989.0, null, 408963.0, 730985.0, 1187584.0, 292734.0, 828455.0, 337168.0, 35165.0, 113093.0, 570962.0, null, 326341.0, 523396.0, null, 305689.0, 318873.0, 306963.0, null, 444341.0, 161757.0, 237338.0, null, 378510.0, 263343.0, null, 386400.0, null, 343867.0, 367720.0, 186060.0, 553672.0, 755028.0, 280746.0, null, 299706.0, null, null, 852633.0, 656749.0, 351745.0, 622422.0, 426291.0, 325487.0, 352734.0, 351507.0, 274003.0, null, 291798.0, null, 192792.0, null, 221770.0, null, 221929.0, 289455.0, 357124.0, 280829.0, null, 404499.0, 229197.0, 390743.0, 124468.0, 258516.0, 274059.0, 109504.0, 155158.0, 240992.0, 162132.0, null, 209752.0, 61766.0, 286282.0, 302219.0, 179720.0, 155605.0, 185038.0, 318767.0, null, 236293.0, 120628.0, 281412.0, 142812.0, 238365.0, 195092.0, 265051.0, 242648.0, 25366.0, null, null, 192499.0, 309352.0, 53019.0, 196173.0, 170677.0, null, 326633.0, 169717.0, 73478.0, 16963.0, 50085.0, 46516.0, 143390.0, 198109.0, 23541.0, 817.0, null, 131049.0, null, null, 76789.0, null, 131120.0, 313048.0, null, null, 141323.0, 111254.0, 318845.0, null, null, 40515.0, null, 143510.0, 113354.0, null, 285411.0, 92950.0, 199996.0, 141028.0, null, 202290.0, 13494.0, 185059.0, 352538.0, 144372.0, 133231.0, null, 36201.0, 174776.0, 20715.0, 224842.0, 142805.0, 88539.0, null, 149412.0, null, 165854.0, 110888.0, 73910.0, null, null, 180175.0, null, 112396.0, null, null, null, 61888.0, 166043.0, 106894.0, null, null, 810019.0, 95536.0, 147699.0, 85598.0, 595094.0, 40409.0, 103434.0, null, 129798.0, null, 403222.0, 710148.0, null, null, null, 106767.0, null, 83756.0, 49160.0, 157014.0, 465939.0, 58645.0, null, 53940.0, null, 25156.0, 77950.0, 189680.0, 97646.0, null, null, null, 55198.0, 182763.0, 73002.0, 19283.0, null, null, null, 80888.0, null, 130816.0, 68374.0, 27158.0, null, null, 72118.0, null, 99105.0, 116898.0, 90745.0, null, null, null, 28705.0, null, 44745.0, 75858.0, null, 213944.0, null, null, null, null, null, null, null, 99504.0, 71483.0, 162752.0, 57102.0, 68184.0, 70311.0, null, null, null, null, null, 57504.0, null, 93048.0, null, 44151.0, null, 160182.0, null, 29876.0, 63265.0, 58512.0, null, null, null, 148456.0, null, null, null, null, null, 46010.0, null, 27745.0, null, null, null, null, 27922.0, 69090.0, 73886.0, 43275.0, 20017.0, null, 123874.0, 23087.0, 69208.0, null, null, 37827.0, 34943.0, null, 45412.0, 93755.0, null, 9138.0, null, 55820.0, null, null, 44608.0, null, null, null, null, null, null, null, null, 42077.0, null, 73943.0, 44903.0, null, null, null, 36872.0, 29566.0, null, 70614.0, null, 137785.0, null, 31047.0, null, 42373.0, 13821.0, null, null, 74861.0, 16210.0, 31936.0, null, 29271.0, null, 100297.0, 32116.0, 30050.0, null, 8828.0, 51063.0, null, 16501.0, null, null, null, null, null, null, 27973.0, null, null, 24290.0, 69369.0, 34183.0, 7387.0, null, 36201.0, 70958.0, null, null, 80234.0, 21085.0, null, 41725.0, null, null, null, 15376.0, null, 22923.0, null, 20938.0, 38253.0, 182938.0, 38665.0, 83982.0, null, null, null, 41139.0, null, null, 35211.0, null, 23274.0, null, 36998.0, null, 36503.0, 1893.0, 36033.0, null, 23493.0, null, 30345.0, null, 35996.0, null, 45105.0, 61402.0, null, 24236.0, 3664.0, null, null, 22489.0, null, null, 45182.0, 25341.0, 40819.0, null, 36528.0, null, 55113.0, null, null, null, null, null, null, 13097.0, 19929.0, null, 17188.0, null, null, null, null, null, null, null, null, null, 28786.0, 49530.0, null, null, null, null, null, null, 47081.0, 21508.0, null, 18656.0, null, null, 5562.0, null, null, null, 62018.0, 6895.0, null, null, null, null, null, null, null, null, null, null, null, null, 91302.0, null, null, null, null, null, null, null, null, 21191.0, 10216.0, null, null, null, null, null, null, null, null, 9147.0, null, null, null, null, null, null, 8304.0, null, null, null, null, null, null, null, null, null, 7530.0, null, null, null, null, null, 32060.0, null, 10527.0, 24638.0, 52295.0, null, null, null, null, null, null, null, null, null, null, null, 23141.0, null, null, 3876.0, null, null, null, null, null, null, 4949.0, null, null, 12998.0, 0.0, null, null, null, null, null, null, null, null, null, 6105.0, null, null, null, null, 3633.0, null, null, null, null, null, 2853.0, null, null, null, null, 24563.0, null, 10432.0, 3069.0, null, null, null, null, null, null, null, null, null, null, null, 1409.0, 1277.0, 4126.0, 1426.0, null, 1403.0, 1403.0, null, null, null, null, null, 1383.0, null, null, null, null, null, 951.0, 1347.0, null, null, null, null, null, null, null, null, 231.0, null, null, 145.0, null, 0.0, 11.0, null, 2.0, null], [14564927.0, 9418947.0, 11702910.0, 10184033.0, 16982839.0, 9180476.0, 7534329.0, 7532956.0, 4413393.0, 3967745.0, 4512366.0, 2273631.0, 5517271.0, 2643497.0, 3858958.0, 1807097.0, 2157095.0, 2120948.0, 2696529.0, 2162453.0, 2052949.0, 5796064.0, 3455722.0, 2198391.0, 3395550.0, 2301809.0, 2160924.0, 1331347.0, 1458602.0, 2403660.0, 1459317.0, 1964743.0, 1655512.0, 1106394.0, 3780763.0, 1696846.0, 1197294.0, 4058944.0, 1057663.0, 1302963.0, 506658.0, 762926.0, 1560146.0, 1060895.0, 2432552.0, 541297.0, 674944.0, 814979.0, 2581907.0, 1096833.0, 575507.0, 2443823.0, 879849.0, null, 705728.0, 628955.0, null, null, 922222.0, 848709.0, 261063.0, 547865.0, 712009.0, 597715.0, 556296.0, 465657.0, 896366.0, null, 314130.0, 25869.0, 356418.0, 1953108.0, 515159.0, 787547.0, 530532.0, 453731.0, 943827.0, 231900.0, 40424.0, 58328.0, 587180.0, null, 297555.0, 512643.0, null, 224133.0, 660263.0, 674319.0, null, 456626.0, 174413.0, 527659.0, null, 683320.0, 475819.0, 146559.0, 325756.0, 35526.0, 364535.0, 332270.0, 291700.0, 497875.0, 463057.0, 267075.0, null, null, 871032.0, null, 679774.0, 613531.0, 322774.0, 664413.0, 456887.0, 274444.0, 346753.0, 202055.0, 330740.0, 366249.0, 407086.0, null, 310456.0, null, 385442.0, null, 219351.0, 186813.0, 412622.0, 149049.0, null, 292703.0, 296998.0, 135583.0, 171146.0, 112458.0, 169154.0, 445516.0, 243509.0, 239262.0, 135035.0, null, 295622.0, 629338.0, 102351.0, 296507.0, 169436.0, null, 189139.0, 358849.0, null, 327052.0, 276041.0, 280942.0, 208553.0, 353533.0, 414287.0, 414114.0, 271782.0, 78495.0, null, null, 184067.0, 146037.0, 505788.0, 267331.0, 126644.0, null, 111701.0, 336144.0, 81460.0, 16457.0, 240112.0, 44845.0, 169667.0, 131859.0, 396020.0, 11297.0, 1318558.0, 127724.0, 556833.0, null, 93929.0, 181321.0, 101253.0, 269019.0, 257656.0, null, 125822.0, 52494.0, 740819.0, null, null, 270182.0, null, 122040.0, null, null, 169495.0, 192028.0, 111979.0, 170132.0, 343301.0, 238521.0, 11377.0, 170988.0, null, 196595.0, 149649.0, 404705.0, 30888.0, 149309.0, 103826.0, 189308.0, 121043.0, 156858.0, null, 148555.0, null, 116467.0, 61399.0, null, 58099.0, null, 239332.0, null, 253568.0, 60012.0, null, 146905.0, 240241.0, 172127.0, 92489.0, 852651.0, null, 11022.0, 125151.0, 158638.0, 87459.0, 34697.0, 119001.0, 74626.0, null, 159334.0, null, null, 50064.0, null, 273446.0, null, 81694.0, null, 75048.0, 57487.0, 89805.0, 8023.0, 124484.0, null, 206355.0, null, 42319.0, 80140.0, 120115.0, 83362.0, null, 71005.0, null, 60734.0, 73451.0, 42989.0, 456600.0, null, null, null, 75356.0, null, 341996.0, 150708.0, 114074.0, null, null, 62321.0, 31495.0, 98971.0, 179652.0, 102314.0, 42356.0, 185953.0, null, 117981.0, null, 61882.0, 55480.0, 173471.0, 169574.0, null, null, null, null, null, 417815.0, 84167.0, 93895.0, 67039.0, null, 38816.0, 74026.0, 69325.0, 184735.0, null, null, null, null, 21088.0, null, 43602.0, null, 95279.0, 453288.0, null, null, 26835.0, 19422.0, 49953.0, null, null, null, 94785.0, null, null, 126178.0, null, null, 41773.0, 98846.0, 9005.0, null, null, null, 144445.0, 27596.0, 68938.0, null, 33308.0, 48628.0, null, 103749.0, 72967.0, 65760.0, null, null, 38789.0, 76724.0, 116980.0, 39576.0, 93548.0, 71364.0, 106612.0, null, null, null, null, 26056.0, 55079.0, null, null, null, null, null, null, 314292.0, 33094.0, 304880.0, 66764.0, 6231.0, null, null, null, 39594.0, 28360.0, null, 97840.0, null, null, null, 20307.0, 69542.0, 37850.0, 56805.0, null, null, 98846.0, 6674.0, 29667.0, null, 28813.0, null, 34091.0, 36339.0, 34802.0, null, 43816.0, 37043.0, null, 44298.0, null, null, null, null, null, null, 59356.0, null, 72150.0, null, 74217.0, 32752.0, 37027.0, null, 30888.0, 48167.0, null, 91107.0, 126958.0, 23376.0, null, 16689.0, null, null, null, 12813.0, null, 23133.0, null, 17857.0, 60932.0, null, 35478.0, null, null, null, 56896.0, 33033.0, null, null, null, null, 19624.0, null, null, null, 43495.0, 549.0, 27666.0, 162777.0, 20676.0, 28259.0, 36993.0, null, 28921.0, null, 4195.0, 94943.0, null, 24709.0, 18366.0, null, null, 7738.0, 41699.0, 145850.0, 644.0, 26595.0, 35374.0, null, null, 74.0, 83899.0, null, 40113.0, 56264.0, null, null, null, null, 18100.0, null, 11792.0, null, null, null, 37031.0, null, null, null, 119328.0, null, 26920.0, null, null, 18494.0, null, null, 58876.0, null, 17515.0, 22044.0, null, null, null, null, 4042.0, null, null, 49237.0, 36789.0, 686.0, 40144.0, null, null, null, null, 33541.0, null, 29368.0, null, null, null, null, null, null, null, null, null, null, 28959.0, null, 28051.0, 18412.0, 9414.0, null, null, null, null, null, null, null, 23093.0, 7712.0, null, null, null, null, 6975.0, null, 6201.0, null, null, null, null, null, null, null, null, null, 6349.0, null, null, null, null, null, 21074.0, null, 14153.0, 16775.0, null, null, null, null, null, null, null, null, null, null, null, null, null, null, null, 3836.0, 38995.0, null, null, null, null, null, 4173.0, null, null, null, 16.0, null, null, null, null, null, null, null, null, 29439.0, 6828.0, null, null, null, null, 2713.0, null, null, 26813.0, null, null, 1797.0, 2823.0, null, null, null, null, null, 2414.0, 7948.0, null, null, null, null, null, null, null, null, null, null, null, 797.0, 1263.0, 3893.0, 898.0, null, 1437.0, 1437.0, null, null, null, null, null, 1448.0, null, null, null, null, null, 679.0, 1333.0, null, null, null, null, null, null, null, null, 580.0, null, 610.0, 82.0, null, 0.0, null, null, null, 0.0], [15013833.0, 6482284.0, 11291678.0, 10151125.0, 11793393.0, 8604676.0, 7669436.0, 5644206.0, 4532773.0, 3215242.0, 4014072.0, 7298924.0, 5924004.0, 2828147.0, 6423428.0, 2477202.0, 2709173.0, 2450489.0, 2831356.0, 2225121.0, 2172696.0, 489555.0, 4287280.0, 1859671.0, 1458514.0, 2750898.0, 3736070.0, 1489495.0, 1152374.0, 2537110.0, 1773150.0, 1939256.0, 1722279.0, 999344.0, 3881781.0, 4071375.0, 3347121.0, 461527.0, 1274788.0, 3505691.0, 1395097.0, 694776.0, 2518748.0, 1919233.0, 2191715.0, 77438.0, 1172783.0, 1410424.0, 1080759.0, 958476.0, 1148336.0, 1231787.0, 792526.0, 1624736.0, 791197.0, 729668.0, null, null, 960719.0, 1266082.0, 261874.0, 1225895.0, null, 141589.0, 643968.0, 406924.0, 949332.0, null, 580263.0, null, 432324.0, 2005049.0, 535363.0, 947248.0, 576540.0, 1015194.0, 610445.0, 545327.0, 47936.0, 89361.0, null, null, 348533.0, 532781.0, null, 278360.0, 562036.0, 618302.0, 110554.0, 428086.0, 390288.0, 889282.0, null, 865345.0, 382736.0, 1088909.0, 542803.0, 492.0, 371031.0, 137815.0, 874200.0, 367928.0, 523964.0, 262920.0, null, null, 905214.0, 1343932.0, null, 1135396.0, 367419.0, 606000.0, 282881.0, 243313.0, 375868.0, 203515.0, 336429.0, 724544.0, 464700.0, null, 314335.0, null, 254121.0, null, 358762.0, 196416.0, 426027.0, 335535.0, null, 270891.0, 333083.0, 246903.0, 753883.0, 247514.0, 207847.0, 425472.0, 268116.0, 208467.0, 131182.0, null, 424206.0, 521038.0, 93525.0, null, 381006.0, null, 388045.0, 412025.0, null, 443244.0, 493558.0, 217239.0, 466796.0, 326662.0, 465997.0, 323231.0, 395558.0, 78713.0, null, null, 264941.0, 188480.0, 443414.0, 299607.0, 96482.0, 685870.0, 119920.0, 406870.0, 325054.0, 634340.0, 220783.0, 42622.0, 237304.0, 170767.0, 424940.0, 14507.0, null, 150251.0, 363009.0, null, 120973.0, 368496.0, 99739.0, 275706.0, 459384.0, null, 157328.0, 443667.0, null, null, null, 409461.0, null, 139462.0, null, null, 349813.0, 402961.0, 86189.0, 151552.0, 367260.0, 202936.0, 10087.0, 175899.0, null, 256934.0, 138853.0, 296441.0, null, 124272.0, null, 291666.0, 147150.0, 99632.0, 511633.0, 265973.0, null, 112385.0, 64031.0, 349054.0, 59857.0, null, null, null, 284339.0, 287762.0, null, 354252.0, 259322.0, 210291.0, 80706.0, null, null, 10935.0, 171910.0, 156902.0, 81148.0, 37114.0, 162791.0, 126548.0, null, 146797.0, null, null, null, null, 236120.0, 751378.0, 99291.0, null, 82566.0, 105152.0, 170746.0, null, 171370.0, null, 248979.0, null, 193405.0, null, 86162.0, 76089.0, 656330.0, 206157.0, null, 128286.0, 120953.0, 30539.0, 18565.0, 307985.0, 326927.0, null, 70939.0, 308539.0, null, 150379.0, 123053.0, null, 378612.0, 52879.0, 390187.0, 124132.0, 142108.0, 86692.0, 90667.0, 189849.0, null, 118131.0, null, null, 62800.0, 129735.0, 151350.0, null, null, null, null, null, 51257.0, 232571.0, 113793.0, 52648.0, null, 109941.0, 63124.0, 61529.0, 139402.0, null, null, null, null, 172148.0, null, 29713.0, null, 77685.0, null, null, null, 52541.0, 16409.0, 160730.0, null, 190469.0, null, 99888.0, null, null, 137410.0, null, null, 47773.0, 92014.0, 86028.0, null, null, 153085.0, 126438.0, 132720.0, 51607.0, null, 33804.0, 212264.0, null, null, 82700.0, 50436.0, 175718.0, null, 49181.0, 133301.0, 126415.0, 35724.0, null, 138692.0, 136432.0, null, null, null, null, 88221.0, 92124.0, 130503.0, null, 142676.0, null, null, null, null, 27322.0, null, 74343.0, 41511.0, null, null, null, 30192.0, 30913.0, null, null, null, null, null, 171810.0, 109512.0, 46715.0, 56878.0, null, null, 92014.0, 77485.0, 39586.0, 65349.0, 32488.0, null, 19235.0, 32960.0, 34195.0, null, 45078.0, 50725.0, null, 3508.0, 64906.0, 100754.0, null, null, null, null, 14433.0, null, 115752.0, null, 78923.0, 27295.0, 35662.0, 215588.0, 25236.0, 50162.0, null, 57234.0, null, 23847.0, null, 25382.0, null, null, null, 9168.0, null, 24521.0, 71992.0, 15399.0, 41841.0, null, 22413.0, null, null, 95093.0, 68619.0, 2009.0, null, null, null, null, 17398.0, 89596.0, null, null, 40175.0, null, 33376.0, null, null, 66502.0, 30446.0, null, 21952.0, null, 33167.0, null, 54188.0, null, 17703.0, null, null, 6316.0, 60898.0, null, 438.0, 33262.0, 23510.0, null, null, 64893.0, null, 138974.0, 41895.0, 40601.0, null, null, 80640.0, null, 16897.0, null, null, 128046.0, null, null, 38695.0, null, 36230.0, null, null, null, 29745.0, null, null, null, null, null, 54198.0, null, 13911.0, 19878.0, null, null, null, 41621.0, null, 100024.0, 99678.0, 50124.0, null, null, 36778.0, 32114.0, null, 48070.0, 43285.0, 28650.0, null, 31462.0, null, null, 23298.0, 39078.0, null, null, null, null, 45815.0, null, 52994.0, null, 27593.0, 16855.0, 8332.0, null, null, null, 28690.0, null, null, null, 26669.0, 6837.0, 35281.0, null, null, null, 18934.0, null, 5014.0, null, 31042.0, 25593.0, null, null, null, null, 56721.0, null, 5629.0, null, null, 27278.0, null, null, null, 27339.0, 16345.0, null, null, 20240.0, null, null, null, null, null, null, null, null, null, null, null, 16528.0, null, 3498.0, null, null, null, null, null, 23916.0, 3699.0, null, null, null, 18.0, null, null, null, null, null, null, null, null, null, 7275.0, null, null, null, null, 2193.0, null, null, null, null, 12156.0, 1354.0, 1422.0, null, 9231.0, null, null, null, 4906.0, 11812.0, null, 20988.0, null, null, null, 6123.0, null, null, null, null, null, 794.0, 1152.0, null, 677.0, null, 2716.0, 2716.0, null, 11608.0, null, 4276.0, null, null, 3450.0, null, null, null, null, 259.0, 1216.0, null, null, null, null, null, null, 1454.0, null, 70.0, 1057.0, 517.0, null, null, 0.0, null, null, null, 0.0], [13231477.0, 6449133.0, 9576416.0, 10084071.0, 13645082.0, 8537390.0, 7895746.0, 5753435.0, 5219444.0, 2348445.0, 4111806.0, 9748064.0, 6573751.0, 3787465.0, 7222181.0, 4140719.0, 3140643.0, 2126929.0, 1824766.0, 1785479.0, 2823353.0, 372149.0, 4509226.0, 1249233.0, 1070476.0, 3116216.0, 2757585.0, 1964938.0, 986869.0, 2342641.0, 2913275.0, 2118682.0, 2425518.0, 718605.0, 4112746.0, 3669006.0, 413852.0, 452525.0, 1337949.0, 4555262.0, 2045631.0, 673705.0, 936471.0, 2590889.0, 1959106.0, 62724.0, 1589949.0, 1220662.0, 1394306.0, 965768.0, 1135390.0, 1403345.0, 809971.0, 1512951.0, 735764.0, 323085.0, null, null, 1132593.0, 1445896.0, 666602.0, 1956375.0, 235647.0, 81068.0, 1259319.0, 581943.0, 1037173.0, null, 636730.0, null, 599057.0, 933119.0, 473473.0, 89980.0, 930764.0, 1587258.0, 955136.0, 714589.0, 53127.0, 73036.0, null, null, 652833.0, 895052.0, null, null, 546591.0, 659406.0, 3286971.0, 392419.0, 928586.0, 928017.0, 262162.0, 1149306.0, null, 1772250.0, 641677.0, 427.0, 351951.0, 259149.0, 764900.0, 314543.0, 525214.0, 632775.0, 2708496.0, null, 901092.0, 1317204.0, null, 216589.0, 352026.0, 657612.0, 283064.0, 235785.0, 361675.0, 135769.0, 326988.0, 1216872.0, 216831.0, null, 388391.0, 1008238.0, 271445.0, null, 306466.0, 172282.0, 437797.0, 453198.0, null, 199923.0, 392295.0, 173109.0, 645347.0, 117005.0, 410414.0, 466870.0, 694503.0, 212185.0, 82829.0, null, 640933.0, 528517.0, 662323.0, null, 380988.0, null, 570604.0, 220486.0, null, 526598.0, 459501.0, null, 486021.0, 57930.0, 399844.0, 263242.0, 405305.0, 133193.0, 1513214.0, null, 303559.0, 441521.0, 443220.0, 317037.0, 82458.0, 727512.0, 130738.0, 493604.0, 658300.0, 634552.0, 69514.0, 43158.0, 248185.0, 199780.0, 458708.0, 1301227.0, null, 48930.0, 383012.0, 1302604.0, 146245.0, 736054.0, 377225.0, 254224.0, 552294.0, null, null, 634261.0, 4484.0, null, null, 442302.0, 1161856.0, 138463.0, null, null, 293061.0, 227164.0, 133155.0, 235336.0, 365522.0, 122282.0, 9775.0, 166536.0, null, 345262.0, 112401.0, 336838.0, null, 233706.0, null, 313268.0, 295587.0, 138174.0, 496297.0, 200585.0, null, 93280.0, 62588.0, 504577.0, 111156.0, null, null, 917568.0, null, 560324.0, null, 384987.0, 322035.0, null, 79223.0, null, null, 11858.0, 87705.0, 122177.0, null, 41570.0, 487981.0, 500491.0, 804509.0, 131222.0, 777446.0, null, null, null, 245946.0, null, null, null, 56854.0, 55520.0, 155361.0, null, 284531.0, null, 193866.0, 696576.0, 386030.0, null, 121892.0, 77070.0, null, 370697.0, null, 138139.0, 259466.0, 17904.0, 13880.0, 319268.0, 300051.0, 622761.0, 67248.0, 305634.0, null, 190501.0, 320971.0, null, 217832.0, null, 102555.0, 139820.0, 140442.0, 69272.0, 429432.0, 181872.0, null, 130096.0, null, null, 46682.0, 232122.0, null, 533921.0, 533864.0, null, null, null, 53407.0, 197997.0, 45294.0, 49719.0, null, 167988.0, 73315.0, 71873.0, 165133.0, null, 488448.0, null, null, 227062.0, null, 47351.0, null, 82838.0, null, 37123.0, 447038.0, 326531.0, 26684.0, 124480.0, null, 245753.0, null, 83952.0, null, 421110.0, 152648.0, null, null, 53779.0, 218715.0, 113423.0, null, null, 241004.0, 112462.0, 194834.0, 52531.0, null, 20612.0, 56885.0, null, null, 71524.0, 48377.0, 194326.0, null, 50881.0, 115131.0, 116309.0, null, null, 145775.0, 74299.0, null, null, null, null, 55462.0, 184013.0, 197397.0, null, 179535.0, null, null, null, null, 18972.0, null, 88903.0, 36815.0, null, null, null, 34514.0, 33069.0, 290468.0, null, 281596.0, null, null, 33172.0, 94824.0, 35854.0, 62638.0, 267107.0, 265732.0, null, 66195.0, 38725.0, 196343.0, 33211.0, null, 37957.0, 35638.0, 34842.0, null, null, 27089.0, 235311.0, null, 166815.0, 130174.0, null, 228194.0, 227737.0, null, 28847.0, 164719.0, 38488.0, null, null, 29213.0, 11228.0, null, 26901.0, 41759.0, null, 60699.0, null, 18461.0, 201866.0, 23336.0, 201050.0, 198175.0, null, 5281.0, null, 23846.0, 114590.0, 24848.0, 42369.0, null, 56461.0, null, null, 86382.0, 54932.0, 2008.0, 175776.0, null, null, null, 16860.0, 82668.0, null, null, 44341.0, 125715.0, 34913.0, null, null, 67492.0, 34482.0, null, 20106.0, null, 75174.0, null, 101414.0, null, 5574.0, null, null, 4147.0, 43866.0, null, null, null, 44627.0, null, null, 75962.0, null, null, 54730.0, 39766.0, null, null, 52838.0, null, 16377.0, null, null, null, 124545.0, null, 47818.0, null, 85717.0, 120428.0, null, 118070.0, 31351.0, null, 115874.0, null, null, null, null, 111125.0, 31846.0, 46750.0, null, null, null, 60056.0, null, null, null, null, null, null, 20628.0, 64571.0, null, 47999.0, 51502.0, 32336.0, 92993.0, 32068.0, null, null, 68906.0, 52583.0, null, null, 88100.0, 87415.0, 39799.0, 82837.0, null, 81738.0, 26083.0, 22763.0, 9228.0, 78371.0, null, null, 43062.0, null, 71308.0, 70392.0, 19283.0, 6626.0, 32348.0, 67112.0, 66846.0, null, 39970.0, 65063.0, 5933.0, null, 30487.0, 33953.0, null, 58612.0, null, null, null, null, 5455.0, 56083.0, null, 26581.0, null, null, null, 25753.0, 11818.0, null, null, 30826.0, 50687.0, 50260.0, null, 49170.0, 48500.0, 48452.0, 47906.0, 47821.0, 46300.0, 45728.0, null, 25411.0, 41693.0, 3024.0, null, 38572.0, null, 38030.0, null, 13513.0, 3585.0, 34864.0, 34027.0, null, 18.0, 31727.0, 31680.0, 31222.0, 30878.0, null, null, null, 29553.0, null, 9170.0, null, null, 27892.0, 27512.0, 2595.0, null, null, null, 26138.0, 13660.0, 816.0, 21479.0, null, 15724.0, 24588.0, null, null, 5150.0, null, 21401.0, null, 19447.0, null, 16945.0, 10430.0, null, null, null, null, 13560.0, 793.0, 996.0, null, 408.0, null, 695.0, 695.0, 11865.0, null, null, 4797.0, null, null, 3578.0, null, null, null, null, 338.0, 1051.0, null, 4306.0, null, null, null, null, 1417.0, null, null, 1058.0, 539.0, null, 631.0, 41.0, null, 3.0, null, 0.0]]}, \"columnwidth\": [250, 200, 120, 120, 120, 120, 120, 120, 120, 120], \"header\": {\"align\": \"center\", \"fill\": {\"color\": \"rgb(235, 70, 52)\"}, \"line\": {\"color\": \"darkslategray\"}, \"values\": [\"<b>COMPANY</b>\", \"<b>TOTAL_EMISSION</b>\", \"2011\", \"2012\", \"2013\", \"2014\", \"2015\", \"2016\", \"2017\", \"2018\"]}, \"type\": \"table\"}],\n",
       "                        {\"margin\": {\"b\": 20, \"l\": 0}, \"template\": {\"data\": {\"bar\": [{\"error_x\": {\"color\": \"#2a3f5f\"}, \"error_y\": {\"color\": \"#2a3f5f\"}, \"marker\": {\"line\": {\"color\": \"#E5ECF6\", \"width\": 0.5}}, \"type\": \"bar\"}], \"barpolar\": [{\"marker\": {\"line\": {\"color\": \"#E5ECF6\", \"width\": 0.5}}, \"type\": \"barpolar\"}], \"carpet\": [{\"aaxis\": {\"endlinecolor\": \"#2a3f5f\", \"gridcolor\": \"white\", \"linecolor\": \"white\", \"minorgridcolor\": \"white\", \"startlinecolor\": \"#2a3f5f\"}, \"baxis\": {\"endlinecolor\": \"#2a3f5f\", \"gridcolor\": \"white\", \"linecolor\": \"white\", \"minorgridcolor\": \"white\", \"startlinecolor\": \"#2a3f5f\"}, \"type\": \"carpet\"}], \"choropleth\": [{\"colorbar\": {\"outlinewidth\": 0, \"ticks\": \"\"}, \"type\": \"choropleth\"}], \"contour\": [{\"colorbar\": {\"outlinewidth\": 0, \"ticks\": \"\"}, \"colorscale\": [[0.0, \"#0d0887\"], [0.1111111111111111, \"#46039f\"], [0.2222222222222222, \"#7201a8\"], [0.3333333333333333, \"#9c179e\"], [0.4444444444444444, \"#bd3786\"], [0.5555555555555556, \"#d8576b\"], [0.6666666666666666, \"#ed7953\"], [0.7777777777777778, \"#fb9f3a\"], [0.8888888888888888, \"#fdca26\"], [1.0, \"#f0f921\"]], \"type\": \"contour\"}], \"contourcarpet\": [{\"colorbar\": {\"outlinewidth\": 0, \"ticks\": \"\"}, \"type\": \"contourcarpet\"}], \"heatmap\": [{\"colorbar\": {\"outlinewidth\": 0, \"ticks\": \"\"}, \"colorscale\": [[0.0, \"#0d0887\"], [0.1111111111111111, \"#46039f\"], [0.2222222222222222, \"#7201a8\"], [0.3333333333333333, \"#9c179e\"], [0.4444444444444444, \"#bd3786\"], [0.5555555555555556, \"#d8576b\"], [0.6666666666666666, \"#ed7953\"], [0.7777777777777778, \"#fb9f3a\"], [0.8888888888888888, \"#fdca26\"], [1.0, \"#f0f921\"]], \"type\": \"heatmap\"}], \"heatmapgl\": [{\"colorbar\": {\"outlinewidth\": 0, \"ticks\": \"\"}, \"colorscale\": [[0.0, \"#0d0887\"], [0.1111111111111111, \"#46039f\"], [0.2222222222222222, \"#7201a8\"], [0.3333333333333333, \"#9c179e\"], [0.4444444444444444, \"#bd3786\"], [0.5555555555555556, \"#d8576b\"], [0.6666666666666666, \"#ed7953\"], [0.7777777777777778, \"#fb9f3a\"], [0.8888888888888888, \"#fdca26\"], [1.0, \"#f0f921\"]], \"type\": \"heatmapgl\"}], \"histogram\": [{\"marker\": {\"colorbar\": {\"outlinewidth\": 0, \"ticks\": \"\"}}, \"type\": \"histogram\"}], \"histogram2d\": [{\"colorbar\": {\"outlinewidth\": 0, \"ticks\": \"\"}, \"colorscale\": [[0.0, \"#0d0887\"], [0.1111111111111111, \"#46039f\"], [0.2222222222222222, \"#7201a8\"], [0.3333333333333333, \"#9c179e\"], [0.4444444444444444, \"#bd3786\"], [0.5555555555555556, \"#d8576b\"], [0.6666666666666666, \"#ed7953\"], [0.7777777777777778, \"#fb9f3a\"], [0.8888888888888888, \"#fdca26\"], [1.0, \"#f0f921\"]], \"type\": \"histogram2d\"}], \"histogram2dcontour\": [{\"colorbar\": {\"outlinewidth\": 0, \"ticks\": \"\"}, \"colorscale\": [[0.0, \"#0d0887\"], [0.1111111111111111, \"#46039f\"], [0.2222222222222222, \"#7201a8\"], [0.3333333333333333, \"#9c179e\"], [0.4444444444444444, \"#bd3786\"], [0.5555555555555556, \"#d8576b\"], [0.6666666666666666, \"#ed7953\"], [0.7777777777777778, \"#fb9f3a\"], [0.8888888888888888, \"#fdca26\"], [1.0, \"#f0f921\"]], \"type\": \"histogram2dcontour\"}], \"mesh3d\": [{\"colorbar\": {\"outlinewidth\": 0, \"ticks\": \"\"}, \"type\": \"mesh3d\"}], \"parcoords\": [{\"line\": {\"colorbar\": {\"outlinewidth\": 0, \"ticks\": \"\"}}, \"type\": \"parcoords\"}], \"pie\": [{\"automargin\": true, \"type\": \"pie\"}], \"scatter\": [{\"marker\": {\"colorbar\": {\"outlinewidth\": 0, \"ticks\": \"\"}}, \"type\": \"scatter\"}], \"scatter3d\": [{\"line\": {\"colorbar\": {\"outlinewidth\": 0, \"ticks\": \"\"}}, \"marker\": {\"colorbar\": {\"outlinewidth\": 0, \"ticks\": \"\"}}, \"type\": \"scatter3d\"}], \"scattercarpet\": [{\"marker\": {\"colorbar\": {\"outlinewidth\": 0, \"ticks\": \"\"}}, \"type\": \"scattercarpet\"}], \"scattergeo\": [{\"marker\": {\"colorbar\": {\"outlinewidth\": 0, \"ticks\": \"\"}}, \"type\": \"scattergeo\"}], \"scattergl\": [{\"marker\": {\"colorbar\": {\"outlinewidth\": 0, \"ticks\": \"\"}}, \"type\": \"scattergl\"}], \"scattermapbox\": [{\"marker\": {\"colorbar\": {\"outlinewidth\": 0, \"ticks\": \"\"}}, \"type\": \"scattermapbox\"}], \"scatterpolar\": [{\"marker\": {\"colorbar\": {\"outlinewidth\": 0, \"ticks\": \"\"}}, \"type\": \"scatterpolar\"}], \"scatterpolargl\": [{\"marker\": {\"colorbar\": {\"outlinewidth\": 0, \"ticks\": \"\"}}, \"type\": \"scatterpolargl\"}], \"scatterternary\": [{\"marker\": {\"colorbar\": {\"outlinewidth\": 0, \"ticks\": \"\"}}, \"type\": \"scatterternary\"}], \"surface\": [{\"colorbar\": {\"outlinewidth\": 0, \"ticks\": \"\"}, \"colorscale\": [[0.0, \"#0d0887\"], [0.1111111111111111, \"#46039f\"], [0.2222222222222222, \"#7201a8\"], [0.3333333333333333, \"#9c179e\"], [0.4444444444444444, \"#bd3786\"], [0.5555555555555556, \"#d8576b\"], [0.6666666666666666, \"#ed7953\"], [0.7777777777777778, \"#fb9f3a\"], [0.8888888888888888, \"#fdca26\"], [1.0, \"#f0f921\"]], \"type\": \"surface\"}], \"table\": [{\"cells\": {\"fill\": {\"color\": \"#EBF0F8\"}, \"line\": {\"color\": \"white\"}}, \"header\": {\"fill\": {\"color\": \"#C8D4E3\"}, \"line\": {\"color\": \"white\"}}, \"type\": \"table\"}]}, \"layout\": {\"annotationdefaults\": {\"arrowcolor\": \"#2a3f5f\", \"arrowhead\": 0, \"arrowwidth\": 1}, \"coloraxis\": {\"colorbar\": {\"outlinewidth\": 0, \"ticks\": \"\"}}, \"colorscale\": {\"diverging\": [[0, \"#8e0152\"], [0.1, \"#c51b7d\"], [0.2, \"#de77ae\"], [0.3, \"#f1b6da\"], [0.4, \"#fde0ef\"], [0.5, \"#f7f7f7\"], [0.6, \"#e6f5d0\"], [0.7, \"#b8e186\"], [0.8, \"#7fbc41\"], [0.9, \"#4d9221\"], [1, \"#276419\"]], \"sequential\": [[0.0, \"#0d0887\"], [0.1111111111111111, \"#46039f\"], [0.2222222222222222, \"#7201a8\"], [0.3333333333333333, \"#9c179e\"], [0.4444444444444444, \"#bd3786\"], [0.5555555555555556, \"#d8576b\"], [0.6666666666666666, \"#ed7953\"], [0.7777777777777778, \"#fb9f3a\"], [0.8888888888888888, \"#fdca26\"], [1.0, \"#f0f921\"]], \"sequentialminus\": [[0.0, \"#0d0887\"], [0.1111111111111111, \"#46039f\"], [0.2222222222222222, \"#7201a8\"], [0.3333333333333333, \"#9c179e\"], [0.4444444444444444, \"#bd3786\"], [0.5555555555555556, \"#d8576b\"], [0.6666666666666666, \"#ed7953\"], [0.7777777777777778, \"#fb9f3a\"], [0.8888888888888888, \"#fdca26\"], [1.0, \"#f0f921\"]]}, \"colorway\": [\"#636efa\", \"#EF553B\", \"#00cc96\", \"#ab63fa\", \"#FFA15A\", \"#19d3f3\", \"#FF6692\", \"#B6E880\", \"#FF97FF\", \"#FECB52\"], \"font\": {\"color\": \"#2a3f5f\"}, \"geo\": {\"bgcolor\": \"white\", \"lakecolor\": \"white\", \"landcolor\": \"#E5ECF6\", \"showlakes\": true, \"showland\": true, \"subunitcolor\": \"white\"}, \"hoverlabel\": {\"align\": \"left\"}, \"hovermode\": \"closest\", \"mapbox\": {\"style\": \"light\"}, \"paper_bgcolor\": \"white\", \"plot_bgcolor\": \"#E5ECF6\", \"polar\": {\"angularaxis\": {\"gridcolor\": \"white\", \"linecolor\": \"white\", \"ticks\": \"\"}, \"bgcolor\": \"#E5ECF6\", \"radialaxis\": {\"gridcolor\": \"white\", \"linecolor\": \"white\", \"ticks\": \"\"}}, \"scene\": {\"xaxis\": {\"backgroundcolor\": \"#E5ECF6\", \"gridcolor\": \"white\", \"gridwidth\": 2, \"linecolor\": \"white\", \"showbackground\": true, \"ticks\": \"\", \"zerolinecolor\": \"white\"}, \"yaxis\": {\"backgroundcolor\": \"#E5ECF6\", \"gridcolor\": \"white\", \"gridwidth\": 2, \"linecolor\": \"white\", \"showbackground\": true, \"ticks\": \"\", \"zerolinecolor\": \"white\"}, \"zaxis\": {\"backgroundcolor\": \"#E5ECF6\", \"gridcolor\": \"white\", \"gridwidth\": 2, \"linecolor\": \"white\", \"showbackground\": true, \"ticks\": \"\", \"zerolinecolor\": \"white\"}}, \"shapedefaults\": {\"line\": {\"color\": \"#2a3f5f\"}}, \"ternary\": {\"aaxis\": {\"gridcolor\": \"white\", \"linecolor\": \"white\", \"ticks\": \"\"}, \"baxis\": {\"gridcolor\": \"white\", \"linecolor\": \"white\", \"ticks\": \"\"}, \"bgcolor\": \"#E5ECF6\", \"caxis\": {\"gridcolor\": \"white\", \"linecolor\": \"white\", \"ticks\": \"\"}}, \"title\": {\"x\": 0.05}, \"xaxis\": {\"automargin\": true, \"gridcolor\": \"white\", \"linecolor\": \"white\", \"ticks\": \"\", \"title\": {\"standoff\": 15}, \"zerolinecolor\": \"white\", \"zerolinewidth\": 2}, \"yaxis\": {\"automargin\": true, \"gridcolor\": \"white\", \"linecolor\": \"white\", \"ticks\": \"\", \"title\": {\"standoff\": 15}, \"zerolinecolor\": \"white\", \"zerolinewidth\": 2}}}, \"title\": {\"text\": \"<b>Greenhouse Gas Emissions from the top US Oil & Gas Companies (in METRIC TONS CO2e)</b>\"}, \"width\": 1000},\n",
       "                        {\"responsive\": true}\n",
       "                    ).then(function(){\n",
       "                            \n",
       "var gd = document.getElementById('40e2d26e-ddcb-4287-b9dc-3fec4e6c4066');\n",
       "var x = new MutationObserver(function (mutations, observer) {{\n",
       "        var display = window.getComputedStyle(gd).display;\n",
       "        if (!display || display === 'none') {{\n",
       "            console.log([gd, 'removed!']);\n",
       "            Plotly.purge(gd);\n",
       "            observer.disconnect();\n",
       "        }}\n",
       "}});\n",
       "\n",
       "// Listen for the removal of the full notebook cells\n",
       "var notebookContainer = gd.closest('#notebook-container');\n",
       "if (notebookContainer) {{\n",
       "    x.observe(notebookContainer, {childList: true});\n",
       "}}\n",
       "\n",
       "// Listen for the clearing of the current output cell\n",
       "var outputEl = gd.closest('.output');\n",
       "if (outputEl) {{\n",
       "    x.observe(outputEl, {childList: true});\n",
       "}}\n",
       "\n",
       "                        })\n",
       "                };\n",
       "                });\n",
       "            </script>\n",
       "        </div>"
      ]
     },
     "metadata": {},
     "output_type": "display_data"
    }
   ],
   "source": [
    "df_fig2=df_aggByYearComp[['COMPANY', 'REPORTING_YEAR', 'GHG_CONTRIBUTION']].groupby(['COMPANY', 'REPORTING_YEAR'])\\\n",
    ".sum().reset_index()\\\n",
    ".pivot_table(values='GHG_CONTRIBUTION',index='COMPANY',columns='REPORTING_YEAR').reset_index()\n",
    "\n",
    "df_fig2.to_csv('PlotlyFig2.csv',index=False)\n",
    "df_fig2=pd.read_csv('PlotlyFig2.csv')\n",
    "\n",
    "df_fig2['TOTAL_EMISSION']=df_fig2.sum(axis=1)\n",
    "df_fig2=df_fig2.sort_values('TOTAL_EMISSION', ascending=False).reset_index().drop('index',axis=1)\n",
    "\n",
    "#Plotly table plot reference: https://plotly.com/python/table/\n",
    "\n",
    "fig2 = go.Figure(data=[go.Table(columnwidth = [250,200,120,120,120,120,120,120,120,120],\n",
    "    header=dict(values=['<b>COMPANY</b>', '<b>TOTAL_EMISSION</b>' ,'2011', '2012', '2013', '2014', '2015', '2016', '2017', '2018'],\n",
    "                line_color='darkslategray',\n",
    "                fill_color='rgb(235, 70, 52)',\n",
    "                align='center'),\n",
    "    cells=dict(values=[df_fig2['COMPANY'],df_fig2['TOTAL_EMISSION'],df_fig2['2011'],df_fig2['2012'],df_fig2['2013'],df_fig2['2014'],df_fig2['2015'],df_fig2['2016'],df_fig2['2017'],df_fig2['2018']],\n",
    "               fill_color='rgb(255, 191, 0)',\n",
    "               align='left'))\n",
    "])\n",
    "fig2.update_layout(title={'text':'<b>Greenhouse Gas Emissions from the top US Oil & Gas Companies (in METRIC TONS CO2e)</b>'},\n",
    "                    #font=dict(#family=\"Courier New, monospace\",size=18 #,color=\"#7f7f7f\"),\n",
    "                   width=1000,\n",
    "                   margin=dict(l=0,b=20)\n",
    "                  )\n",
    "\n",
    "#fig2.show()\n",
    "py.offline.iplot(fig2)"
   ]
  },
  {
   "cell_type": "markdown",
   "metadata": {},
   "source": [
    "### Fig-3: An Interactive chart - Emission trends between 2009 and 2018 from the top US emitters"
   ]
  },
  {
   "cell_type": "code",
   "execution_count": 15,
   "metadata": {},
   "outputs": [
    {
     "data": {
      "application/vnd.jupyter.widget-view+json": {
       "model_id": "3d368fd936c342beb9be5a4662ddd7f3",
       "version_major": 2,
       "version_minor": 0
      },
      "text/plain": [
       "interactive(children=(IntSlider(value=7, continuous_update=False, description='Top N Companies:', max=678, min…"
      ]
     },
     "metadata": {},
     "output_type": "display_data"
    }
   ],
   "source": [
    "df_fig3=df_fig2.copy()\n",
    "df_fig3=df_fig3[['COMPANY', '2011', '2012', '2013', '2014', '2015', '2016', '2017', '2018']]\n",
    "\n",
    "x=['2011', '2012', '2013', '2014', '2015', '2016', '2017', '2018']\n",
    "\n",
    "layout3=go.Layout(title='<b>GHG Emission trends between 2009 and 2018 from the top US emittors</b>',\n",
    "                  xaxis = dict(title = 'REPORT YEAR'),\n",
    "                  yaxis = dict(title = 'Emission Quantity in Metric Tons (CO2e)'),\n",
    "                  margin=dict(l=0)\n",
    "                  )\n",
    "# in this figure we're going to use ipywidgets 'interact' decorator for interactivity.\n",
    "@interact(numComp=widgets.IntSlider(value=7,min=1,max=len(df_fig3.COMPANY.unique()), step=1,description='Top N Companies:',\n",
    "                          disabled=False,\n",
    "                          continuous_update=False,\n",
    "                          orientation='horizontal',\n",
    "                          readout=True,\n",
    "                          readout_format='d'))\n",
    "def update_fig(numComp):\n",
    "    fig3=go.Figure(layout=layout3)\n",
    "    for i in range(numComp):\n",
    "        fig3.add_scatter(x=x,\n",
    "                      y=df_fig3.loc[i][['2011', '2012', '2013', '2014', '2015', '2016', '2017', '2018']],\n",
    "                      mode='lines+markers',\n",
    "                      name=df_fig3.loc[i]['COMPANY']\n",
    "                     )\n",
    "    fig3.show()\n"
   ]
  },
  {
   "cell_type": "markdown",
   "metadata": {},
   "source": [
    "This chart can be used to compare GHG emissions between top US Oil and Gas companies from 2011 to 2018. \n",
    "<br>Companies are sorted in GHG emission volume descending order.\n",
    "<br>Use the slider bar to select the number of companies to compare"
   ]
  },
  {
   "cell_type": "markdown",
   "metadata": {},
   "source": [
    "### Fig-4: An Interactive chart to compare emissions between different companies and sectors"
   ]
  },
  {
   "cell_type": "markdown",
   "metadata": {},
   "source": [
    "##### Widgets used:\n",
    "1. Company - Dropdown - Multiple Selection\n",
    "2. GAS - Checkbox\n",
    "3. Sector - Checkbox\n",
    "<br>Code reference: https://stackoverflow.com/questions/12096252/use-a-list-of-values-to-select-rows-from-a-pandas-dataframe"
   ]
  },
  {
   "cell_type": "code",
   "execution_count": 16,
   "metadata": {},
   "outputs": [
    {
     "data": {
      "application/vnd.jupyter.widget-view+json": {
       "model_id": "2b0944b756f64fc09d8644c837a50306",
       "version_major": 2,
       "version_minor": 0
      },
      "text/plain": [
       "VBox(children=(HBox(children=(SelectMultiple(description='Company:', options=('HILCORP ENERGY', 'EXXONMOBIL', …"
      ]
     },
     "metadata": {},
     "output_type": "display_data"
    }
   ],
   "source": [
    "df_fig4=df_EmissionByGasSec.copy()\n",
    "cols=['COMPANY', 'REPORTING_YEAR', 'GAS', 'SECTOR', 'GHG_CONTRIBUTION']\n",
    "groupby_cols=['COMPANY','REPORTING_YEAR']\n",
    "\n",
    "x=['2011', '2012', '2013', '2014', '2015', '2016', '2017', '2018']\n",
    "\n",
    "y_title='Emission Quantity in Metric Tons (CO2e)'\n",
    "\n",
    "layout4=go.Layout(title='<b>Comparision of emissions from diffrent US Upstream and Midstream Oil & Gas companies</b>',\n",
    "                yaxis = dict(title = y_title),\n",
    "                xaxis = dict(title = 'Report Year')\n",
    "                )\n",
    "cols=['COMPANY', 'REPORTING_YEAR', 'GAS', 'SECTOR', 'GHG_CONTRIBUTION']\n",
    "groupby_cols=['COMPANY','REPORTING_YEAR']\n",
    "\n",
    "#Widgets\n",
    "comp_selection=widgets.SelectMultiple(options=list(df_fig4.COMPANY.unique()), description='Company:')\n",
    "sec_selection=widgets.SelectMultiple(options=list(df_fig4.SECTOR.unique()),  description='Sector:')\n",
    "gas_selection=widgets.SelectMultiple(options=list(df_fig4.GAS.unique()), description='GHG Gas:')\n",
    "\n",
    "container = widgets.HBox(children=[comp_selection,sec_selection,gas_selection])\n",
    "\n",
    "trace1=go.Scatter(x=x, y=df_fig4[cols].groupby('REPORTING_YEAR').sum()['GHG_CONTRIBUTION'], name='All companies')\n",
    "fig4=go.FigureWidget(trace1,layout=layout4)\n",
    "\n",
    "#action method\n",
    "def update_plot(change):\n",
    "    yaxis_title=y_title\n",
    "    df_fig4selection=df_fig4\n",
    "    #Clean previous selection\n",
    "    fig4.data=[]\n",
    "    #filter sector selection - if nothing selected then we assume all sectors are selected\n",
    "    if(len(sec_selection.value)==0):\n",
    "        pass\n",
    "    else:\n",
    "        df_fig4selection = df_fig4selection[df_fig4selection['SECTOR'].isin(list(sec_selection.value))]\n",
    "    \n",
    "    #filter gas selection - If nothing selected then we assume all gases are selected\n",
    "    if(len(gas_selection.value)==0):\n",
    "        pass\n",
    "    else:\n",
    "        df_fig4selection = df_fig4selection[df_fig4selection['GAS'].isin(list(gas_selection.value))]\n",
    "    \n",
    "    #If no company is selected then we will plot a graph with all companies\n",
    "    if (len(comp_selection.value)==0):\n",
    "        fig4.add_scatter(x=x,\n",
    "                           y=df_fig4selection[cols].groupby('REPORTING_YEAR').sum()['GHG_CONTRIBUTION'],\n",
    "                           name='All companies'\n",
    "                          )\n",
    "    for company in comp_selection.value:\n",
    "        fig4.add_scatter(x=x,\n",
    "                           y=df_fig4selection[df_fig4selection['COMPANY']==company][cols].groupby(groupby_cols).sum()['GHG_CONTRIBUTION'],\n",
    "                           name=company\n",
    "                          )\n",
    "comp_selection.observe(update_plot, names=\"value\")\n",
    "sec_selection.observe(update_plot, names=\"value\")\n",
    "gas_selection.observe(update_plot, names=\"value\")\n",
    "widgets.VBox([container,fig4])"
   ]
  },
  {
   "cell_type": "markdown",
   "metadata": {},
   "source": [
    "This tool can be used Study of emission from multiple companies’ individual sectors and GHG gas types\n",
    "<br>Use below interactive chart to drilldown into individual sectors and GHG gas types"
   ]
  },
  {
   "cell_type": "markdown",
   "metadata": {},
   "source": [
    "### Fig 5: A 4X4 Subplots to show\n",
    "    1. Emission by sector\n",
    "    2. Emissions by GHG Gas Type\n",
    "    3. Number of operators by sector and total operators\n",
    "    4. Total emissions"
   ]
  },
  {
   "cell_type": "code",
   "execution_count": 19,
   "metadata": {},
   "outputs": [
    {
     "data": {
      "application/vnd.plotly.v1+json": {
       "config": {
        "plotlyServerURL": "https://plot.ly"
       },
       "data": [
        {
         "name": "Midstream",
         "type": "scatter",
         "x": [
          "2011",
          "2012",
          "2013",
          "2014",
          "2015",
          "2016",
          "2017",
          "2018"
         ],
         "xaxis": "x2",
         "y": [
          85785450.76926672,
          86178633.1263348,
          83884538.76156461,
          84415710.62346415,
          83226186.89579973,
          155082178.2502937,
          158632996.97707963,
          174393274.77289605
         ],
         "yaxis": "y2"
        },
        {
         "name": "Upstream",
         "type": "scatter",
         "x": [
          "2011",
          "2012",
          "2013",
          "2014",
          "2015",
          "2016",
          "2017",
          "2018"
         ],
         "xaxis": "x2",
         "y": [
          97431341.37000005,
          98987226.26600005,
          104157368.26399998,
          107964856.65099998,
          108151545.46809994,
          91982341.93759997,
          99592678.34490003,
          115176450.39219998
         ],
         "yaxis": "y2"
        },
        {
         "name": "CH4",
         "type": "scatter",
         "x": [
          "2011",
          "2012",
          "2013",
          "2014",
          "2015",
          "2016",
          "2017",
          "2018"
         ],
         "xaxis": "x3",
         "y": [
          68087992.02631314,
          64740004.60936252,
          62125916.88546609,
          58486972.438956626,
          56321316.22198709,
          78220137.20387313,
          72340530.07535896,
          75148890.85059923
         ],
         "yaxis": "y3"
        },
        {
         "name": "CO2",
         "type": "scatter",
         "x": [
          "2011",
          "2012",
          "2013",
          "2014",
          "2015",
          "2016",
          "2017",
          "2018"
         ],
         "xaxis": "x3",
         "y": [
          115034280.82266638,
          120340867.58535779,
          125831773.81223367,
          133801547.04651369,
          134955057.0871785,
          168728759.25110054,
          185765603.4604354,
          214277513.94571415
         ],
         "yaxis": "y3"
        },
        {
         "name": "N2O",
         "type": "scatter",
         "x": [
          "2011",
          "2012",
          "2013",
          "2014",
          "2015",
          "2016",
          "2017",
          "2018"
         ],
         "xaxis": "x3",
         "y": [
          94519.29028726,
          84987.19761442,
          84216.32786486001,
          92047.7889939,
          101359.05473408,
          115623.73292002005,
          119541.78618524999,
          143320.36878264006
         ],
         "yaxis": "y3"
        },
        {
         "name": "Midstream",
         "type": "scatter",
         "x": [
          "2011",
          "2012",
          "2013",
          "2014",
          "2015",
          "2016",
          "2017",
          "2018"
         ],
         "xaxis": "x4",
         "y": [
          173,
          170,
          178,
          186,
          162,
          211,
          231,
          258
         ],
         "yaxis": "y4"
        },
        {
         "name": "Upstream",
         "type": "scatter",
         "x": [
          "2011",
          "2012",
          "2013",
          "2014",
          "2015",
          "2016",
          "2017",
          "2018"
         ],
         "xaxis": "x4",
         "y": [
          197,
          211,
          223,
          241,
          242,
          248,
          262,
          296
         ],
         "yaxis": "y4"
        },
        {
         "name": "Total Emission volumes",
         "type": "scatter",
         "x": [
          "2011",
          "2012",
          "2013",
          "2014",
          "2015",
          "2016",
          "2017",
          "2018"
         ],
         "xaxis": "x",
         "y": [
          183216792.13926694,
          185165859.3923348,
          188041907.02556452,
          192380567.27446422,
          191377732.3638997,
          247064520.18789366,
          258225675.32197958,
          289569725.165096
         ],
         "yaxis": "y"
        }
       ],
       "layout": {
        "annotations": [
         {
          "font": {
           "size": 16
          },
          "showarrow": false,
          "text": "Total Emissions",
          "x": 0.23,
          "xanchor": "center",
          "xref": "paper",
          "y": 1,
          "yanchor": "bottom",
          "yref": "paper"
         },
         {
          "font": {
           "size": 16
          },
          "showarrow": false,
          "text": "Emissions by Sector",
          "x": 0.77,
          "xanchor": "center",
          "xref": "paper",
          "y": 1,
          "yanchor": "bottom",
          "yref": "paper"
         },
         {
          "font": {
           "size": 16
          },
          "showarrow": false,
          "text": "Emissions by GHG Gas type",
          "x": 0.23,
          "xanchor": "center",
          "xref": "paper",
          "y": 0.45,
          "yanchor": "bottom",
          "yref": "paper"
         },
         {
          "font": {
           "size": 16
          },
          "showarrow": false,
          "text": "Number of Operators in each sector",
          "x": 0.77,
          "xanchor": "center",
          "xref": "paper",
          "y": 0.45,
          "yanchor": "bottom",
          "yref": "paper"
         }
        ],
        "height": 700,
        "margin": {
         "l": 0
        },
        "template": {
         "data": {
          "bar": [
           {
            "error_x": {
             "color": "#2a3f5f"
            },
            "error_y": {
             "color": "#2a3f5f"
            },
            "marker": {
             "line": {
              "color": "#E5ECF6",
              "width": 0.5
             }
            },
            "type": "bar"
           }
          ],
          "barpolar": [
           {
            "marker": {
             "line": {
              "color": "#E5ECF6",
              "width": 0.5
             }
            },
            "type": "barpolar"
           }
          ],
          "carpet": [
           {
            "aaxis": {
             "endlinecolor": "#2a3f5f",
             "gridcolor": "white",
             "linecolor": "white",
             "minorgridcolor": "white",
             "startlinecolor": "#2a3f5f"
            },
            "baxis": {
             "endlinecolor": "#2a3f5f",
             "gridcolor": "white",
             "linecolor": "white",
             "minorgridcolor": "white",
             "startlinecolor": "#2a3f5f"
            },
            "type": "carpet"
           }
          ],
          "choropleth": [
           {
            "colorbar": {
             "outlinewidth": 0,
             "ticks": ""
            },
            "type": "choropleth"
           }
          ],
          "contour": [
           {
            "colorbar": {
             "outlinewidth": 0,
             "ticks": ""
            },
            "colorscale": [
             [
              0,
              "#0d0887"
             ],
             [
              0.1111111111111111,
              "#46039f"
             ],
             [
              0.2222222222222222,
              "#7201a8"
             ],
             [
              0.3333333333333333,
              "#9c179e"
             ],
             [
              0.4444444444444444,
              "#bd3786"
             ],
             [
              0.5555555555555556,
              "#d8576b"
             ],
             [
              0.6666666666666666,
              "#ed7953"
             ],
             [
              0.7777777777777778,
              "#fb9f3a"
             ],
             [
              0.8888888888888888,
              "#fdca26"
             ],
             [
              1,
              "#f0f921"
             ]
            ],
            "type": "contour"
           }
          ],
          "contourcarpet": [
           {
            "colorbar": {
             "outlinewidth": 0,
             "ticks": ""
            },
            "type": "contourcarpet"
           }
          ],
          "heatmap": [
           {
            "colorbar": {
             "outlinewidth": 0,
             "ticks": ""
            },
            "colorscale": [
             [
              0,
              "#0d0887"
             ],
             [
              0.1111111111111111,
              "#46039f"
             ],
             [
              0.2222222222222222,
              "#7201a8"
             ],
             [
              0.3333333333333333,
              "#9c179e"
             ],
             [
              0.4444444444444444,
              "#bd3786"
             ],
             [
              0.5555555555555556,
              "#d8576b"
             ],
             [
              0.6666666666666666,
              "#ed7953"
             ],
             [
              0.7777777777777778,
              "#fb9f3a"
             ],
             [
              0.8888888888888888,
              "#fdca26"
             ],
             [
              1,
              "#f0f921"
             ]
            ],
            "type": "heatmap"
           }
          ],
          "heatmapgl": [
           {
            "colorbar": {
             "outlinewidth": 0,
             "ticks": ""
            },
            "colorscale": [
             [
              0,
              "#0d0887"
             ],
             [
              0.1111111111111111,
              "#46039f"
             ],
             [
              0.2222222222222222,
              "#7201a8"
             ],
             [
              0.3333333333333333,
              "#9c179e"
             ],
             [
              0.4444444444444444,
              "#bd3786"
             ],
             [
              0.5555555555555556,
              "#d8576b"
             ],
             [
              0.6666666666666666,
              "#ed7953"
             ],
             [
              0.7777777777777778,
              "#fb9f3a"
             ],
             [
              0.8888888888888888,
              "#fdca26"
             ],
             [
              1,
              "#f0f921"
             ]
            ],
            "type": "heatmapgl"
           }
          ],
          "histogram": [
           {
            "marker": {
             "colorbar": {
              "outlinewidth": 0,
              "ticks": ""
             }
            },
            "type": "histogram"
           }
          ],
          "histogram2d": [
           {
            "colorbar": {
             "outlinewidth": 0,
             "ticks": ""
            },
            "colorscale": [
             [
              0,
              "#0d0887"
             ],
             [
              0.1111111111111111,
              "#46039f"
             ],
             [
              0.2222222222222222,
              "#7201a8"
             ],
             [
              0.3333333333333333,
              "#9c179e"
             ],
             [
              0.4444444444444444,
              "#bd3786"
             ],
             [
              0.5555555555555556,
              "#d8576b"
             ],
             [
              0.6666666666666666,
              "#ed7953"
             ],
             [
              0.7777777777777778,
              "#fb9f3a"
             ],
             [
              0.8888888888888888,
              "#fdca26"
             ],
             [
              1,
              "#f0f921"
             ]
            ],
            "type": "histogram2d"
           }
          ],
          "histogram2dcontour": [
           {
            "colorbar": {
             "outlinewidth": 0,
             "ticks": ""
            },
            "colorscale": [
             [
              0,
              "#0d0887"
             ],
             [
              0.1111111111111111,
              "#46039f"
             ],
             [
              0.2222222222222222,
              "#7201a8"
             ],
             [
              0.3333333333333333,
              "#9c179e"
             ],
             [
              0.4444444444444444,
              "#bd3786"
             ],
             [
              0.5555555555555556,
              "#d8576b"
             ],
             [
              0.6666666666666666,
              "#ed7953"
             ],
             [
              0.7777777777777778,
              "#fb9f3a"
             ],
             [
              0.8888888888888888,
              "#fdca26"
             ],
             [
              1,
              "#f0f921"
             ]
            ],
            "type": "histogram2dcontour"
           }
          ],
          "mesh3d": [
           {
            "colorbar": {
             "outlinewidth": 0,
             "ticks": ""
            },
            "type": "mesh3d"
           }
          ],
          "parcoords": [
           {
            "line": {
             "colorbar": {
              "outlinewidth": 0,
              "ticks": ""
             }
            },
            "type": "parcoords"
           }
          ],
          "pie": [
           {
            "automargin": true,
            "type": "pie"
           }
          ],
          "scatter": [
           {
            "marker": {
             "colorbar": {
              "outlinewidth": 0,
              "ticks": ""
             }
            },
            "type": "scatter"
           }
          ],
          "scatter3d": [
           {
            "line": {
             "colorbar": {
              "outlinewidth": 0,
              "ticks": ""
             }
            },
            "marker": {
             "colorbar": {
              "outlinewidth": 0,
              "ticks": ""
             }
            },
            "type": "scatter3d"
           }
          ],
          "scattercarpet": [
           {
            "marker": {
             "colorbar": {
              "outlinewidth": 0,
              "ticks": ""
             }
            },
            "type": "scattercarpet"
           }
          ],
          "scattergeo": [
           {
            "marker": {
             "colorbar": {
              "outlinewidth": 0,
              "ticks": ""
             }
            },
            "type": "scattergeo"
           }
          ],
          "scattergl": [
           {
            "marker": {
             "colorbar": {
              "outlinewidth": 0,
              "ticks": ""
             }
            },
            "type": "scattergl"
           }
          ],
          "scattermapbox": [
           {
            "marker": {
             "colorbar": {
              "outlinewidth": 0,
              "ticks": ""
             }
            },
            "type": "scattermapbox"
           }
          ],
          "scatterpolar": [
           {
            "marker": {
             "colorbar": {
              "outlinewidth": 0,
              "ticks": ""
             }
            },
            "type": "scatterpolar"
           }
          ],
          "scatterpolargl": [
           {
            "marker": {
             "colorbar": {
              "outlinewidth": 0,
              "ticks": ""
             }
            },
            "type": "scatterpolargl"
           }
          ],
          "scatterternary": [
           {
            "marker": {
             "colorbar": {
              "outlinewidth": 0,
              "ticks": ""
             }
            },
            "type": "scatterternary"
           }
          ],
          "surface": [
           {
            "colorbar": {
             "outlinewidth": 0,
             "ticks": ""
            },
            "colorscale": [
             [
              0,
              "#0d0887"
             ],
             [
              0.1111111111111111,
              "#46039f"
             ],
             [
              0.2222222222222222,
              "#7201a8"
             ],
             [
              0.3333333333333333,
              "#9c179e"
             ],
             [
              0.4444444444444444,
              "#bd3786"
             ],
             [
              0.5555555555555556,
              "#d8576b"
             ],
             [
              0.6666666666666666,
              "#ed7953"
             ],
             [
              0.7777777777777778,
              "#fb9f3a"
             ],
             [
              0.8888888888888888,
              "#fdca26"
             ],
             [
              1,
              "#f0f921"
             ]
            ],
            "type": "surface"
           }
          ],
          "table": [
           {
            "cells": {
             "fill": {
              "color": "#EBF0F8"
             },
             "line": {
              "color": "white"
             }
            },
            "header": {
             "fill": {
              "color": "#C8D4E3"
             },
             "line": {
              "color": "white"
             }
            },
            "type": "table"
           }
          ]
         },
         "layout": {
          "annotationdefaults": {
           "arrowcolor": "#2a3f5f",
           "arrowhead": 0,
           "arrowwidth": 1
          },
          "coloraxis": {
           "colorbar": {
            "outlinewidth": 0,
            "ticks": ""
           }
          },
          "colorscale": {
           "diverging": [
            [
             0,
             "#8e0152"
            ],
            [
             0.1,
             "#c51b7d"
            ],
            [
             0.2,
             "#de77ae"
            ],
            [
             0.3,
             "#f1b6da"
            ],
            [
             0.4,
             "#fde0ef"
            ],
            [
             0.5,
             "#f7f7f7"
            ],
            [
             0.6,
             "#e6f5d0"
            ],
            [
             0.7,
             "#b8e186"
            ],
            [
             0.8,
             "#7fbc41"
            ],
            [
             0.9,
             "#4d9221"
            ],
            [
             1,
             "#276419"
            ]
           ],
           "sequential": [
            [
             0,
             "#0d0887"
            ],
            [
             0.1111111111111111,
             "#46039f"
            ],
            [
             0.2222222222222222,
             "#7201a8"
            ],
            [
             0.3333333333333333,
             "#9c179e"
            ],
            [
             0.4444444444444444,
             "#bd3786"
            ],
            [
             0.5555555555555556,
             "#d8576b"
            ],
            [
             0.6666666666666666,
             "#ed7953"
            ],
            [
             0.7777777777777778,
             "#fb9f3a"
            ],
            [
             0.8888888888888888,
             "#fdca26"
            ],
            [
             1,
             "#f0f921"
            ]
           ],
           "sequentialminus": [
            [
             0,
             "#0d0887"
            ],
            [
             0.1111111111111111,
             "#46039f"
            ],
            [
             0.2222222222222222,
             "#7201a8"
            ],
            [
             0.3333333333333333,
             "#9c179e"
            ],
            [
             0.4444444444444444,
             "#bd3786"
            ],
            [
             0.5555555555555556,
             "#d8576b"
            ],
            [
             0.6666666666666666,
             "#ed7953"
            ],
            [
             0.7777777777777778,
             "#fb9f3a"
            ],
            [
             0.8888888888888888,
             "#fdca26"
            ],
            [
             1,
             "#f0f921"
            ]
           ]
          },
          "colorway": [
           "#636efa",
           "#EF553B",
           "#00cc96",
           "#ab63fa",
           "#FFA15A",
           "#19d3f3",
           "#FF6692",
           "#B6E880",
           "#FF97FF",
           "#FECB52"
          ],
          "font": {
           "color": "#2a3f5f"
          },
          "geo": {
           "bgcolor": "white",
           "lakecolor": "white",
           "landcolor": "#E5ECF6",
           "showlakes": true,
           "showland": true,
           "subunitcolor": "white"
          },
          "hoverlabel": {
           "align": "left"
          },
          "hovermode": "closest",
          "mapbox": {
           "style": "light"
          },
          "paper_bgcolor": "white",
          "plot_bgcolor": "#E5ECF6",
          "polar": {
           "angularaxis": {
            "gridcolor": "white",
            "linecolor": "white",
            "ticks": ""
           },
           "bgcolor": "#E5ECF6",
           "radialaxis": {
            "gridcolor": "white",
            "linecolor": "white",
            "ticks": ""
           }
          },
          "scene": {
           "xaxis": {
            "backgroundcolor": "#E5ECF6",
            "gridcolor": "white",
            "gridwidth": 2,
            "linecolor": "white",
            "showbackground": true,
            "ticks": "",
            "zerolinecolor": "white"
           },
           "yaxis": {
            "backgroundcolor": "#E5ECF6",
            "gridcolor": "white",
            "gridwidth": 2,
            "linecolor": "white",
            "showbackground": true,
            "ticks": "",
            "zerolinecolor": "white"
           },
           "zaxis": {
            "backgroundcolor": "#E5ECF6",
            "gridcolor": "white",
            "gridwidth": 2,
            "linecolor": "white",
            "showbackground": true,
            "ticks": "",
            "zerolinecolor": "white"
           }
          },
          "shapedefaults": {
           "line": {
            "color": "#2a3f5f"
           }
          },
          "ternary": {
           "aaxis": {
            "gridcolor": "white",
            "linecolor": "white",
            "ticks": ""
           },
           "baxis": {
            "gridcolor": "white",
            "linecolor": "white",
            "ticks": ""
           },
           "bgcolor": "#E5ECF6",
           "caxis": {
            "gridcolor": "white",
            "linecolor": "white",
            "ticks": ""
           }
          },
          "title": {
           "x": 0.05
          },
          "xaxis": {
           "automargin": true,
           "gridcolor": "white",
           "linecolor": "white",
           "ticks": "",
           "title": {
            "standoff": 15
           },
           "zerolinecolor": "white",
           "zerolinewidth": 2
          },
          "yaxis": {
           "automargin": true,
           "gridcolor": "white",
           "linecolor": "white",
           "ticks": "",
           "title": {
            "standoff": 15
           },
           "zerolinecolor": "white",
           "zerolinewidth": 2
          }
         }
        },
        "title": {
         "text": "<b>GHG Emission volume between 2011 to 2018 - (in METRIC TONS CO2e)</b>"
        },
        "xaxis": {
         "anchor": "y",
         "domain": [
          0,
          0.46
         ]
        },
        "xaxis2": {
         "anchor": "y2",
         "domain": [
          0.54,
>>>>>>> 93408164100b50f9c18f08bac33889fde229f9d1
          1
        </a>
</form>
  </li>

  <li>
      <div class="js-toggler-container js-social-container starring-container ">
    <form class="starred js-social-form" action="/rafeesumich/591-GHGFromOilandGasSystems/unstar" accept-charset="UTF-8" method="post"><input type="hidden" name="authenticity_token" value="lqOXNEQ4iFoKUb6RIsAeDizw4UGvoBInWVfznxO9+LYCwsv2O0EisIk/EsWWydxT8TWgRvetmzjZ8g1sPGOmkA==" />
      <input type="hidden" name="context" value="repository"></input>
      <button type="submit" class="btn btn-sm btn-with-count js-toggler-target" aria-label="Unstar this repository" title="Unstar rafeesumich/591-GHGFromOilandGasSystems" data-hydro-click="{&quot;event_type&quot;:&quot;repository.click&quot;,&quot;payload&quot;:{&quot;target&quot;:&quot;UNSTAR_BUTTON&quot;,&quot;repository_id&quot;:258839918,&quot;originating_url&quot;:&quot;https://github.com/rafeesumich/591-GHGFromOilandGasSystems/blob/master/EmissionsProject-Report-MasterNotebook.ipynb&quot;,&quot;user_id&quot;:55701967}}" data-hydro-click-hmac="d77a7477ddf957402ed4a7ad73cf02e04023d14d42e972604cd381c268a32761" data-ga-click="Repository, click unstar button, action:blob#show; text:Unstar">        <svg height="16" class="octicon octicon-star v-align-text-bottom" vertical_align="text_bottom" viewBox="0 0 14 16" version="1.1" width="14" aria-hidden="true"><path fill-rule="evenodd" d="M14 6l-4.9-.64L7 1 4.9 5.36 0 6l3.6 3.26L2.67 14 7 11.67 11.33 14l-.93-4.74L14 6z"></path></svg>

        Unstar
</button>        <a class="social-count js-social-count" href="/rafeesumich/591-GHGFromOilandGasSystems/stargazers"
           aria-label="0 users starred this repository">
           0
        </a>
</form>
    <form class="unstarred js-social-form" action="/rafeesumich/591-GHGFromOilandGasSystems/star" accept-charset="UTF-8" method="post"><input type="hidden" name="authenticity_token" value="EGM9yCuliqmWTrZjzCba5TibBxY/B8WUWR9WpwndX9VcCfOF+zG+puj/ep26l5jLstBM9TD4POFZMWFf17KpFg==" />
      <input type="hidden" name="context" value="repository"></input>
      <button type="submit" class="btn btn-sm btn-with-count js-toggler-target" aria-label="Unstar this repository" title="Star rafeesumich/591-GHGFromOilandGasSystems" data-hydro-click="{&quot;event_type&quot;:&quot;repository.click&quot;,&quot;payload&quot;:{&quot;target&quot;:&quot;STAR_BUTTON&quot;,&quot;repository_id&quot;:258839918,&quot;originating_url&quot;:&quot;https://github.com/rafeesumich/591-GHGFromOilandGasSystems/blob/master/EmissionsProject-Report-MasterNotebook.ipynb&quot;,&quot;user_id&quot;:55701967}}" data-hydro-click-hmac="d5d26524957505531e8a75cfdcd8671b8404ce33e63f21b37b987830750ed149" data-ga-click="Repository, click star button, action:blob#show; text:Star">        <svg height="16" class="octicon octicon-star v-align-text-bottom" vertical_align="text_bottom" viewBox="0 0 14 16" version="1.1" width="14" aria-hidden="true"><path fill-rule="evenodd" d="M14 6l-4.9-.64L7 1 4.9 5.36 0 6l3.6 3.26L2.67 14 7 11.67 11.33 14l-.93-4.74L14 6z"></path></svg>

        Star
</button>        <a class="social-count js-social-count" href="/rafeesumich/591-GHGFromOilandGasSystems/stargazers"
           aria-label="0 users starred this repository">
          0
        </a>
</form>  </div>

  </li>

  <li>
          <!-- '"` --><!-- </textarea></xmp> --></option></form><form class="btn-with-count" action="/rafeesumich/591-GHGFromOilandGasSystems/fork" accept-charset="UTF-8" method="post"><input type="hidden" name="authenticity_token" value="IKeoTSZ8ulIsYoWmThFvracae/Zoj3Ml7+pq9JpP+2hUcw+O0H0kU3ydtum3kNJ98tqjciEauFZNHF7wyThjqg==" />
            <button class="btn btn-sm btn-with-count" data-hydro-click="{&quot;event_type&quot;:&quot;repository.click&quot;,&quot;payload&quot;:{&quot;target&quot;:&quot;FORK_BUTTON&quot;,&quot;repository_id&quot;:258839918,&quot;originating_url&quot;:&quot;https://github.com/rafeesumich/591-GHGFromOilandGasSystems/blob/master/EmissionsProject-Report-MasterNotebook.ipynb&quot;,&quot;user_id&quot;:55701967}}" data-hydro-click-hmac="371dc4dff1f6739233713228f8eaa5a4cd380a13174e9e5a81689fc802d97a16" data-ga-click="Repository, show fork modal, action:blob#show; text:Fork" type="submit" title="Fork your own copy of rafeesumich/591-GHGFromOilandGasSystems to your account" aria-label="Fork your own copy of rafeesumich/591-GHGFromOilandGasSystems to your account">              <svg class="octicon octicon-repo-forked v-align-text-bottom" viewBox="0 0 10 16" version="1.1" width="10" height="16" aria-hidden="true"><path fill-rule="evenodd" d="M8 1a1.993 1.993 0 00-1 3.72V6L5 8 3 6V4.72A1.993 1.993 0 002 1a1.993 1.993 0 00-1 3.72V6.5l3 3v1.78A1.993 1.993 0 005 15a1.993 1.993 0 001-3.72V9.5l3-3V4.72A1.993 1.993 0 008 1zM2 4.2C1.34 4.2.8 3.65.8 3c0-.65.55-1.2 1.2-1.2.65 0 1.2.55 1.2 1.2 0 .65-.55 1.2-1.2 1.2zm3 10c-.66 0-1.2-.55-1.2-1.2 0-.65.55-1.2 1.2-1.2.65 0 1.2.55 1.2 1.2 0 .65-.55 1.2-1.2 1.2zm3-10c-.66 0-1.2-.55-1.2-1.2 0-.65.55-1.2 1.2-1.2.65 0 1.2.55 1.2 1.2 0 .65-.55 1.2-1.2 1.2z"></path></svg>
              Fork
</button></form>
    <a href="/rafeesumich/591-GHGFromOilandGasSystems/network/members" class="social-count"
       aria-label="0 users forked this repository">
      0
    </a>
  </li>
</ul>

    </div>
      <nav class="js-repo-nav js-sidenav-container-pjax clearfix hx_reponav reponav p-responsive d-none d-lg-block container-lg"
     itemscope
     itemtype="http://schema.org/BreadcrumbList"
    aria-label="Repository"
     data-pjax="#js-repo-pjax-container">
  <ul class="list-style-none">
    <li  itemscope itemtype="http://schema.org/ListItem" itemprop="itemListElement">
      <a class="js-selected-navigation-item selected reponav-item" itemprop="url" data-hotkey="g c" aria-current="page" data-selected-links="repo_source repo_downloads repo_commits repo_releases repo_tags repo_branches repo_packages repo_deployments /rafeesumich/591-GHGFromOilandGasSystems" href="/rafeesumich/591-GHGFromOilandGasSystems">
        <div class="d-inline"><svg class="octicon octicon-code" viewBox="0 0 14 16" version="1.1" width="14" height="16" aria-hidden="true"><path fill-rule="evenodd" d="M9.5 3L8 4.5 11.5 8 8 11.5 9.5 13 14 8 9.5 3zm-5 0L0 8l4.5 5L6 11.5 2.5 8 6 4.5 4.5 3z"></path></svg></div>
        <span itemprop="name">Code</span>
        <meta itemprop="position" content="1">
</a>    </li>

      <li  itemscope itemtype="http://schema.org/ListItem" itemprop="itemListElement">
        <a itemprop="url" data-hotkey="g i" class="js-selected-navigation-item reponav-item" data-selected-links="repo_issues repo_labels repo_milestones /rafeesumich/591-GHGFromOilandGasSystems/issues" href="/rafeesumich/591-GHGFromOilandGasSystems/issues">
          <div class="d-inline"><svg class="octicon octicon-issue-opened" viewBox="0 0 14 16" version="1.1" width="14" height="16" aria-hidden="true"><path fill-rule="evenodd" d="M7 2.3c3.14 0 5.7 2.56 5.7 5.7s-2.56 5.7-5.7 5.7A5.71 5.71 0 011.3 8c0-3.14 2.56-5.7 5.7-5.7zM7 1C3.14 1 0 4.14 0 8s3.14 7 7 7 7-3.14 7-7-3.14-7-7-7zm1 3H6v5h2V4zm0 6H6v2h2v-2z"></path></svg></div>
          <span itemprop="name">Issues</span>
          <span class="Counter">0</span>
          <meta itemprop="position" content="2">
</a>      </li>

    <li  itemscope itemtype="http://schema.org/ListItem" itemprop="itemListElement">
      <a data-hotkey="g p" data-skip-pjax="true" itemprop="url" class="js-selected-navigation-item reponav-item" data-selected-links="repo_pulls checks /rafeesumich/591-GHGFromOilandGasSystems/pulls" href="/rafeesumich/591-GHGFromOilandGasSystems/pulls">
        <div class="d-inline"><svg class="octicon octicon-git-pull-request" viewBox="0 0 12 16" version="1.1" width="12" height="16" aria-hidden="true"><path fill-rule="evenodd" d="M11 11.28V5c-.03-.78-.34-1.47-.94-2.06C9.46 2.35 8.78 2.03 8 2H7V0L4 3l3 3V4h1c.27.02.48.11.69.31.21.2.3.42.31.69v6.28A1.993 1.993 0 0010 15a1.993 1.993 0 001-3.72zm-1 2.92c-.66 0-1.2-.55-1.2-1.2 0-.65.55-1.2 1.2-1.2.65 0 1.2.55 1.2 1.2 0 .65-.55 1.2-1.2 1.2zM4 3c0-1.11-.89-2-2-2a1.993 1.993 0 00-1 3.72v6.56A1.993 1.993 0 002 15a1.993 1.993 0 001-3.72V4.72c.59-.34 1-.98 1-1.72zm-.8 10c0 .66-.55 1.2-1.2 1.2-.65 0-1.2-.55-1.2-1.2 0-.65.55-1.2 1.2-1.2.65 0 1.2.55 1.2 1.2zM2 4.2C1.34 4.2.8 3.65.8 3c0-.65.55-1.2 1.2-1.2.65 0 1.2.55 1.2 1.2 0 .65-.55 1.2-1.2 1.2z"></path></svg></div>
        <span itemprop="name">Pull requests</span>
        <span class="Counter">0</span>
        <meta itemprop="position" content="4">
</a>    </li>


      <li itemscope itemtype="http://schema.org/ListItem" itemprop="itemListElement" class="position-relative float-left ">
        <a data-hotkey="g w" data-skip-pjax="true" class="js-selected-navigation-item reponav-item" data-selected-links="repo_actions /rafeesumich/591-GHGFromOilandGasSystems/actions" href="/rafeesumich/591-GHGFromOilandGasSystems/actions">
          <div class="d-inline"><svg class="octicon octicon-play" viewBox="0 0 14 16" version="1.1" width="14" height="16" aria-hidden="true"><path fill-rule="evenodd" d="M14 8A7 7 0 110 8a7 7 0 0114 0zm-8.223 3.482l4.599-3.066a.5.5 0 000-.832L5.777 4.518A.5.5 0 005 4.934v6.132a.5.5 0 00.777.416z"></path></svg></div>
          Actions
</a>
      </li>

      <li >
        <a data-hotkey="g b" class="js-selected-navigation-item reponav-item" data-selected-links="repo_projects new_repo_project repo_project /rafeesumich/591-GHGFromOilandGasSystems/projects" href="/rafeesumich/591-GHGFromOilandGasSystems/projects">
          <div class="d-inline"><svg class="octicon octicon-project" viewBox="0 0 15 16" version="1.1" width="15" height="16" aria-hidden="true"><path fill-rule="evenodd" d="M10 12h3V2h-3v10zm-4-2h3V2H6v8zm-4 4h3V2H2v12zm-1 1h13V1H1v14zM14 0H1a1 1 0 00-1 1v14a1 1 0 001 1h13a1 1 0 001-1V1a1 1 0 00-1-1z"></path></svg></div>
          Projects
          <span class="Counter">0</span>
</a>      </li>

      <li >
        <a class="js-selected-navigation-item reponav-item" data-hotkey="g w" data-selected-links="repo_wiki /rafeesumich/591-GHGFromOilandGasSystems/wiki" href="/rafeesumich/591-GHGFromOilandGasSystems/wiki">
          <div class="d-inline"><svg class="octicon octicon-book" viewBox="0 0 16 16" version="1.1" width="16" height="16" aria-hidden="true"><path fill-rule="evenodd" d="M3 5h4v1H3V5zm0 3h4V7H3v1zm0 2h4V9H3v1zm11-5h-4v1h4V5zm0 2h-4v1h4V7zm0 2h-4v1h4V9zm2-6v9c0 .55-.45 1-1 1H9.5l-1 1-1-1H2c-.55 0-1-.45-1-1V3c0-.55.45-1 1-1h5.5l1 1 1-1H15c.55 0 1 .45 1 1zm-8 .5L7.5 3H2v9h6V3.5zm7-.5H9.5l-.5.5V12h6V3z"></path></svg></div>
          Wiki
</a>      </li>

      <li >
        <a data-skip-pjax="true" class="js-selected-navigation-item reponav-item" data-selected-links="security overview alerts policy token_scanning code_scanning /rafeesumich/591-GHGFromOilandGasSystems/security" href="/rafeesumich/591-GHGFromOilandGasSystems/security">
          <div class="d-inline"><svg class="octicon octicon-shield" viewBox="0 0 14 16" version="1.1" width="14" height="16" aria-hidden="true"><path fill-rule="evenodd" d="M0 2l7-2 7 2v6.02C14 12.69 8.69 16 7 16c-1.69 0-7-3.31-7-7.98V2zm1 .75L7 1l6 1.75v5.268C13 12.104 8.449 15 7 15c-1.449 0-6-2.896-6-6.982V2.75zm1 .75L7 2v12c-1.207 0-5-2.482-5-5.985V3.5z"></path></svg></div>
          Security
              <span class="Counter js-security-tab-count" data-url="/rafeesumich/591-GHGFromOilandGasSystems/security/overall-count" hidden></span>
</a>      </li>

      <li >
        <a class="js-selected-navigation-item reponav-item" data-selected-links="repo_graphs repo_contributors dependency_graph dependabot_updates pulse people /rafeesumich/591-GHGFromOilandGasSystems/pulse" href="/rafeesumich/591-GHGFromOilandGasSystems/pulse">
          <div class="d-inline"><svg class="octicon octicon-graph" viewBox="0 0 16 16" version="1.1" width="16" height="16" aria-hidden="true"><path fill-rule="evenodd" d="M16 14v1H0V0h1v14h15zM5 13H3V8h2v5zm4 0H7V3h2v10zm4 0h-2V6h2v7z"></path></svg></div>
          Insights
</a>      </li>


  </ul>
</nav>

  <div class="reponav-wrapper reponav-small d-lg-none">
  <nav class="reponav js-reponav text-center no-wrap"
       itemscope
       itemtype="http://schema.org/BreadcrumbList">

    <span itemscope itemtype="http://schema.org/ListItem" itemprop="itemListElement">
      <a class="js-selected-navigation-item selected reponav-item" itemprop="url" aria-current="page" data-selected-links="repo_source repo_downloads repo_commits repo_releases repo_tags repo_branches repo_packages repo_deployments /rafeesumich/591-GHGFromOilandGasSystems" href="/rafeesumich/591-GHGFromOilandGasSystems">
        <span itemprop="name">Code</span>
        <meta itemprop="position" content="1">
</a>    </span>

      <span itemscope itemtype="http://schema.org/ListItem" itemprop="itemListElement">
        <a itemprop="url" class="js-selected-navigation-item reponav-item" data-selected-links="repo_issues repo_labels repo_milestones /rafeesumich/591-GHGFromOilandGasSystems/issues" href="/rafeesumich/591-GHGFromOilandGasSystems/issues">
          <span itemprop="name">Issues</span>
          <span class="Counter">0</span>
          <meta itemprop="position" content="2">
</a>      </span>

    <span itemscope itemtype="http://schema.org/ListItem" itemprop="itemListElement">
      <a itemprop="url" class="js-selected-navigation-item reponav-item" data-selected-links="repo_pulls checks /rafeesumich/591-GHGFromOilandGasSystems/pulls" href="/rafeesumich/591-GHGFromOilandGasSystems/pulls">
        <span itemprop="name">Pull requests</span>
        <span class="Counter">0</span>
        <meta itemprop="position" content="4">
</a>    </span>


      <span itemscope itemtype="http://schema.org/ListItem" itemprop="itemListElement">
        <a itemprop="url" class="js-selected-navigation-item reponav-item" data-selected-links="repo_projects new_repo_project repo_project /rafeesumich/591-GHGFromOilandGasSystems/projects" href="/rafeesumich/591-GHGFromOilandGasSystems/projects">
          <span itemprop="name">Projects</span>
          <span class="Counter">0</span>
          <meta itemprop="position" content="5">
</a>      </span>

      <span itemscope itemtype="http://schema.org/ListItem" itemprop="itemListElement">
        <a itemprop="url" class="js-selected-navigation-item reponav-item" data-selected-links="repo_actions /rafeesumich/591-GHGFromOilandGasSystems/actions" href="/rafeesumich/591-GHGFromOilandGasSystems/actions">
          <span itemprop="name">Actions</span>
          <meta itemprop="position" content="6">
</a>      </span>

      <span itemscope itemtype="http://schema.org/ListItem" itemprop="itemListElement">
        <a itemprop="url" class="js-selected-navigation-item reponav-item" data-selected-links="repo_wiki /rafeesumich/591-GHGFromOilandGasSystems/wiki" href="/rafeesumich/591-GHGFromOilandGasSystems/wiki">
          <span itemprop="name">Wiki</span>
          <meta itemprop="position" content="7">
</a>      </span>

      <a itemprop="url" class="js-selected-navigation-item reponav-item" data-selected-links="security overview alerts policy token_scanning code_scanning /rafeesumich/591-GHGFromOilandGasSystems/security" href="/rafeesumich/591-GHGFromOilandGasSystems/security">
        <span itemprop="name">Security</span>
            <span class="Counter js-security-deferred-tab-count" hidden></span>
        <meta itemprop="position" content="8">
</a>
      <a class="js-selected-navigation-item reponav-item" data-selected-links="pulse /rafeesumich/591-GHGFromOilandGasSystems/pulse" href="/rafeesumich/591-GHGFromOilandGasSystems/pulse">
        Pulse
</a>
      <span itemscope itemtype="http://schema.org/ListItem" itemprop="itemListElement">
        <a itemprop="url" class="js-selected-navigation-item reponav-item" data-selected-links="community /rafeesumich/591-GHGFromOilandGasSystems/community" href="/rafeesumich/591-GHGFromOilandGasSystems/community">
          Community
</a>      </span>

  </nav>
</div>


  </div>

  

  <include-fragment class="js-notification-shelf-include-fragment" data-base-src="https://github.com/notifications/beta/shelf"></include-fragment>


<div class="container-lg clearfix new-discussion-timeline  p-responsive">
  <div class="repository-content ">

    
    

  


    <a class="d-none js-permalink-shortcut" data-hotkey="y" href="/rafeesumich/591-GHGFromOilandGasSystems/blob/93408164100b50f9c18f08bac33889fde229f9d1/EmissionsProject-Report-MasterNotebook.ipynb">Permalink</a>

    <!-- blob contrib key: blob_contributors:v22:556aab79ac15cb05d4021660bcadc65c -->
    

    <div class="d-flex flex-items-start flex-shrink-0 flex-column flex-md-row pb-3">
      <span class="d-flex flex-justify-between width-full width-md-auto">
        
<details class="details-reset details-overlay branch-select-menu " id="branch-select-menu">
  <summary class="btn css-truncate btn-sm"
           data-hotkey="w"
           title="Switch branches or tags">
    <i>Branch:</i>
    <span class="css-truncate-target" data-menu-button>master</span>
    <span class="dropdown-caret"></span>
  </summary>

  <details-menu class="SelectMenu SelectMenu--hasFilter" src="/rafeesumich/591-GHGFromOilandGasSystems/refs/master/EmissionsProject-Report-MasterNotebook.ipynb?source_action=show&amp;source_controller=blob" preload>
    <div class="SelectMenu-modal">
      <include-fragment class="SelectMenu-loading" aria-label="Menu is loading">
        <svg class="octicon octicon-octoface anim-pulse" height="32" viewBox="0 0 16 16" version="1.1" width="32" aria-hidden="true"><path fill-rule="evenodd" d="M14.7 5.34c.13-.32.55-1.59-.13-3.31 0 0-1.05-.33-3.44 1.3-1-.28-2.07-.32-3.13-.32s-2.13.04-3.13.32c-2.39-1.64-3.44-1.3-3.44-1.3-.68 1.72-.26 2.99-.13 3.31C.49 6.21 0 7.33 0 8.69 0 13.84 3.33 15 7.98 15S16 13.84 16 8.69c0-1.36-.49-2.48-1.3-3.35zM8 14.02c-3.3 0-5.98-.15-5.98-3.35 0-.76.38-1.48 1.02-2.07 1.07-.98 2.9-.46 4.96-.46 2.07 0 3.88-.52 4.96.46.65.59 1.02 1.3 1.02 2.07 0 3.19-2.68 3.35-5.98 3.35zM5.49 9.01c-.66 0-1.2.8-1.2 1.78s.54 1.79 1.2 1.79c.66 0 1.2-.8 1.2-1.79s-.54-1.78-1.2-1.78zm5.02 0c-.66 0-1.2.79-1.2 1.78s.54 1.79 1.2 1.79c.66 0 1.2-.8 1.2-1.79s-.53-1.78-1.2-1.78z"></path></svg>
      </include-fragment>
    </div>
  </details-menu>
</details>

        <div class="BtnGroup flex-shrink-0 d-md-none">
          <a href="/rafeesumich/591-GHGFromOilandGasSystems/find/master"
                class="js-pjax-capture-input btn btn-sm BtnGroup-item"
                data-pjax
                data-hotkey="t">
            Find file
          </a>
          <clipboard-copy value="EmissionsProject-Report-MasterNotebook.ipynb" class="btn btn-sm BtnGroup-item">
            Copy path
          </clipboard-copy>
        </div>
      </span>
      <h2 id="blob-path" class="breadcrumb flex-auto min-width-0 text-normal flex-md-self-center ml-md-2 mr-md-3 my-2 my-md-0">
        <span class="js-repo-root text-bold"><span class="js-path-segment d-inline-block wb-break-all"><a data-pjax="true" href="/rafeesumich/591-GHGFromOilandGasSystems"><span>591-GHGFromOilandGasSystems</span></a></span></span><span class="separator">/</span><strong class="final-path">EmissionsProject-Report-MasterNotebook.ipynb</strong>
      </h2>

      <div class="BtnGroup flex-shrink-0 d-none d-md-inline-block">
        <a href="/rafeesumich/591-GHGFromOilandGasSystems/find/master"
              class="js-pjax-capture-input btn btn-sm BtnGroup-item"
              data-pjax
              data-hotkey="t">
          Find file
        </a>
        <clipboard-copy value="EmissionsProject-Report-MasterNotebook.ipynb" class="btn btn-sm BtnGroup-item">
          Copy path
        </clipboard-copy>
      </div>
    </div>



    
  <div class="Box Box--condensed d-flex flex-column flex-shrink-0 mb-3">
      <div class="Box-body d-flex flex-justify-between bg-blue-light flex-column flex-md-row flex-items-start flex-md-items-center">
        <span class="pr-md-4 f6">
          <a rel="author" data-skip-pjax="true" data-hovercard-type="user" data-hovercard-url="/users/rafeesumich/hovercard" data-octo-click="hovercard-link-click" data-octo-dimensions="link_type:self" href="/rafeesumich"><img class="avatar avatar-user" src="https://avatars3.githubusercontent.com/u/55704682?s=40&amp;v=4" width="20" height="20" alt="@rafeesumich" /></a>
          <a class="text-bold link-gray-dark lh-default v-align-middle" rel="author" data-hovercard-type="user" data-hovercard-url="/users/rafeesumich/hovercard" data-octo-click="hovercard-link-click" data-octo-dimensions="link_type:self" href="/rafeesumich">rafeesumich</a>
            <span class="lh-default v-align-middle">
              <a data-pjax="true" title="Added the data processing methods

Added the data processing methods" class="link-gray" href="/rafeesumich/591-GHGFromOilandGasSystems/commit/93408164100b50f9c18f08bac33889fde229f9d1">Added the data processing methods</a>
            </span>
        </span>
        <span class="d-inline-block flex-shrink-0 v-align-bottom f6 mt-2 mt-md-0">
          <a class="pr-2 text-mono link-gray" href="/rafeesumich/591-GHGFromOilandGasSystems/commit/93408164100b50f9c18f08bac33889fde229f9d1" data-pjax>9340816</a>
          <relative-time datetime="2020-05-23T02:04:16Z" class="no-wrap">May 22, 2020</relative-time>
        </span>
      </div>

    <div class="Box-body d-flex flex-items-center flex-auto f6 border-bottom-0 flex-wrap" >
      <details class="details-reset details-overlay details-overlay-dark lh-default text-gray-dark float-left mr-2" id="blob_contributors_box">
        <summary class="btn-link">
          <span><strong>1</strong> contributor</span>
        </summary>
        <details-dialog
          class="Box Box--overlay d-flex flex-column anim-fade-in fast"
          aria-label="Users who have contributed to this file"
          src="/rafeesumich/591-GHGFromOilandGasSystems/contributors-list/master/EmissionsProject-Report-MasterNotebook.ipynb" preload>
          <div class="Box-header">
            <button class="Box-btn-octicon btn-octicon float-right" type="button" aria-label="Close dialog" data-close-dialog>
              <svg class="octicon octicon-x" viewBox="0 0 12 16" version="1.1" width="12" height="16" aria-hidden="true"><path fill-rule="evenodd" d="M7.48 8l3.75 3.75-1.48 1.48L6 9.48l-3.75 3.75-1.48-1.48L4.52 8 .77 4.25l1.48-1.48L6 6.52l3.75-3.75 1.48 1.48L7.48 8z"></path></svg>
            </button>
            <h3 class="Box-title">
              Users who have contributed to this file
            </h3>
          </div>
          <include-fragment class="octocat-spinner my-3" aria-label="Loading..."></include-fragment>
        </details-dialog>
      </details>
    </div>
  </div>






    <div class="Box mt-3 position-relative
      ">
      
<div class="Box-header py-2 d-flex flex-column flex-shrink-0 flex-md-row flex-md-items-center">
  <div class="text-mono f6 flex-auto pr-3 flex-order-2 flex-md-order-1 mt-2 mt-md-0">

      18295 lines (18295 sloc)
      <span class="file-info-divider"></span>
    557 KB
  </div>

  <div class="d-flex py-1 py-md-0 flex-auto flex-order-1 flex-md-order-2 flex-sm-grow-0 flex-justify-between">
      <div class="BtnGroup">
        <a class="btn btn-sm BtnGroup-item tooltipped tooltipped tooltipped-n source "
          href="/rafeesumich/591-GHGFromOilandGasSystems/blob/master/EmissionsProject-Report-MasterNotebook.ipynb?short_path=1ad6020" aria-label="Display the source blob">
          <svg class="octicon octicon-code" viewBox="0 0 14 16" version="1.1" width="14" height="16" aria-hidden="true"><path fill-rule="evenodd" d="M9.5 3L8 4.5 11.5 8 8 11.5 9.5 13 14 8 9.5 3zm-5 0L0 8l4.5 5L6 11.5 2.5 8 6 4.5 4.5 3z"></path></svg>
        </a>
        <a class="btn btn-sm BtnGroup-item tooltipped tooltipped-n rendered selected"
          href="/rafeesumich/591-GHGFromOilandGasSystems/blob/master/EmissionsProject-Report-MasterNotebook.ipynb" aria-label="Display the rendered blob">
          <svg class="octicon octicon-file" viewBox="0 0 12 16" version="1.1" width="12" height="16" aria-hidden="true"><path fill-rule="evenodd" d="M6 5H2V4h4v1zM2 8h7V7H2v1zm0 2h7V9H2v1zm0 2h7v-1H2v1zm10-7.5V14c0 .55-.45 1-1 1H1c-.55 0-1-.45-1-1V2c0-.55.45-1 1-1h7.5L12 4.5zM11 5L8 2H1v12h10V5z"></path></svg>
        </a>
      </div>

    <div class="BtnGroup">
      <a id="raw-url" class="btn btn-sm BtnGroup-item" href="/rafeesumich/591-GHGFromOilandGasSystems/raw/master/EmissionsProject-Report-MasterNotebook.ipynb">Raw</a>
        <a class="btn btn-sm js-update-url-with-hash BtnGroup-item" data-hotkey="b" href="/rafeesumich/591-GHGFromOilandGasSystems/blame/master/EmissionsProject-Report-MasterNotebook.ipynb">Blame</a>
      <a rel="nofollow" class="btn btn-sm BtnGroup-item" href="/rafeesumich/591-GHGFromOilandGasSystems/commits/master/EmissionsProject-Report-MasterNotebook.ipynb">History</a>
    </div>


    <div>
          <a class="btn-octicon tooltipped tooltipped-nw js-remove-unless-platform"
             data-platforms="windows,mac"
             href="https://desktop.github.com"
             aria-label="Open this file in GitHub Desktop"
             data-ga-click="Repository, open with desktop">
              <svg class="octicon octicon-device-desktop" viewBox="0 0 16 16" version="1.1" width="16" height="16" aria-hidden="true"><path fill-rule="evenodd" d="M15 2H1c-.55 0-1 .45-1 1v9c0 .55.45 1 1 1h5.34c-.25.61-.86 1.39-2.34 2h8c-1.48-.61-2.09-1.39-2.34-2H15c.55 0 1-.45 1-1V3c0-.55-.45-1-1-1zm0 9H1V3h14v8z"></path></svg>
          </a>

          <!-- '"` --><!-- </textarea></xmp> --></option></form><form class="inline-form js-update-url-with-hash" action="/rafeesumich/591-GHGFromOilandGasSystems/edit/master/EmissionsProject-Report-MasterNotebook.ipynb" accept-charset="UTF-8" method="post"><input type="hidden" name="authenticity_token" value="ucpXMzAVhN5h1EzDX0Wy4KEgbZ0DBktFLemaM4UnLFjv2A4HVb48zQ5aJ0donT9MpYAb2xxwEjLM9RJt+f4Ayg==" />
            <button class="btn-octicon tooltipped tooltipped-nw" type="submit"
              aria-label="Edit this file" data-hotkey="e" data-disable-with>
              <svg class="octicon octicon-pencil" viewBox="0 0 14 16" version="1.1" width="14" height="16" aria-hidden="true"><path fill-rule="evenodd" d="M0 12v3h3l8-8-3-3-8 8zm3 2H1v-2h1v1h1v1zm10.3-9.3L12 6 9 3l1.3-1.3a.996.996 0 011.41 0l1.59 1.59c.39.39.39 1.02 0 1.41z"></path></svg>
            </button>
</form>
          <!-- '"` --><!-- </textarea></xmp> --></option></form><form class="inline-form" action="/rafeesumich/591-GHGFromOilandGasSystems/delete/master/EmissionsProject-Report-MasterNotebook.ipynb" accept-charset="UTF-8" method="post"><input type="hidden" name="authenticity_token" value="FTgfPCy5+FihygnyYvPLclK1XZWyoAWudmn8wrb+zYAzuhIJSISo3v/BqPmUXJNnSurabzfi6pFxZaGYDGNteQ==" />
            <button class="btn-octicon btn-octicon-danger tooltipped tooltipped-nw" type="submit"
              aria-label="Delete this file" data-disable-with>
              <svg class="octicon octicon-trashcan" viewBox="0 0 12 16" version="1.1" width="12" height="16" aria-hidden="true"><path fill-rule="evenodd" d="M11 2H9c0-.55-.45-1-1-1H5c-.55 0-1 .45-1 1H2c-.55 0-1 .45-1 1v1c0 .55.45 1 1 1v9c0 .55.45 1 1 1h7c.55 0 1-.45 1-1V5c.55 0 1-.45 1-1V3c0-.55-.45-1-1-1zm-1 12H3V5h1v8h1V5h1v8h1V5h1v8h1V5h1v9zm1-10H2V3h9v1z"></path></svg>
            </button>
</form>    </div>
  </div>
</div>



      

  <div itemprop="text" class="Box-body p-0 blob-wrapper data type-jupyter-notebook ">
      
  <div class="render-wrapper ">
    <div class="render-container is-render-pending js-render-target  "
      data-identity="d13fe221-34c3-48b0-9cbd-ac312af7a7a9"
      data-host="https://render.githubusercontent.com"
      data-type="ipynb">
      <img class="octospinner mx-auto" alt="" src="https://github.githubassets.com/images/spinners/octocat-spinner-128.gif" width="64" height="64" />
      <div class="render-viewer-error">Sorry, something went wrong. <a href="https://github.com/rafeesumich/591-GHGFromOilandGasSystems/blob/master/EmissionsProject-Report-MasterNotebook.ipynb">Reload?</a></div>
      <div class="render-viewer-fatal">Sorry, we cannot display this file.</div>
      <div class="render-viewer-invalid">Sorry, this file is invalid so it cannot be displayed.</div>
      <iframe class="render-viewer " src="https://render.githubusercontent.com/view/ipynb?commit=93408164100b50f9c18f08bac33889fde229f9d1&amp;enc_url=68747470733a2f2f7261772e67697468756275736572636f6e74656e742e636f6d2f726166656573756d6963682f3539312d47484746726f6d4f696c616e6447617353797374656d732f393334303831363431303062353066396331386630386261633333383839666465323239663964312f456d697373696f6e7350726f6a6563742d5265706f72742d4d61737465724e6f7465626f6f6b2e6970796e62&amp;nwo=rafeesumich%2F591-GHGFromOilandGasSystems&amp;path=EmissionsProject-Report-MasterNotebook.ipynb&amp;repository_id=258839918&amp;repository_type=Repository#d13fe221-34c3-48b0-9cbd-ac312af7a7a9" sandbox="allow-scripts allow-same-origin allow-top-navigation" title="File display">
          Viewer requires iframe.
      </iframe>
    </div>
  </div>

  </div>

    </div>

  

  <details class="details-reset details-overlay details-overlay-dark">
    <summary data-hotkey="l" aria-label="Jump to line"></summary>
    <details-dialog class="Box Box--overlay d-flex flex-column anim-fade-in fast linejump" aria-label="Jump to line">
      <!-- '"` --><!-- </textarea></xmp> --></option></form><form class="js-jump-to-line-form Box-body d-flex" action="" accept-charset="UTF-8" method="get">
        <input class="form-control flex-auto mr-3 linejump-input js-jump-to-line-field" type="text" placeholder="Jump to line&hellip;" aria-label="Jump to line" autofocus>
        <button type="submit" class="btn" data-close-dialog>Go</button>
</form>    </details-dialog>
  </details>



  </div>
</div>

    </main>
  </div>
  

  </div>

        
<div class="footer container-lg width-full p-responsive" role="contentinfo">
  <div class="position-relative d-flex flex-row-reverse flex-lg-row flex-wrap flex-lg-nowrap flex-justify-center flex-lg-justify-between pt-6 pb-2 mt-6 f6 text-gray border-top border-gray-light ">
    <ul class="list-style-none d-flex flex-wrap col-12 col-lg-5 flex-justify-center flex-lg-justify-between mb-2 mb-lg-0">
      <li class="mr-3 mr-lg-0">&copy; 2020 GitHub, Inc.</li>
        <li class="mr-3 mr-lg-0"><a data-ga-click="Footer, go to terms, text:terms" href="https://github.com/site/terms">Terms</a></li>
        <li class="mr-3 mr-lg-0"><a data-ga-click="Footer, go to privacy, text:privacy" href="https://github.com/site/privacy">Privacy</a></li>
        <li class="mr-3 mr-lg-0"><a data-ga-click="Footer, go to security, text:security" href="https://github.com/security">Security</a></li>
        <li class="mr-3 mr-lg-0"><a href="https://githubstatus.com/" data-ga-click="Footer, go to status, text:status">Status</a></li>
        <li><a data-ga-click="Footer, go to help, text:help" href="https://help.github.com">Help</a></li>

    </ul>

    <a aria-label="Homepage" title="GitHub" class="footer-octicon d-none d-lg-block mx-lg-4" href="https://github.com">
      <svg height="24" class="octicon octicon-mark-github" viewBox="0 0 16 16" version="1.1" width="24" aria-hidden="true"><path fill-rule="evenodd" d="M8 0C3.58 0 0 3.58 0 8c0 3.54 2.29 6.53 5.47 7.59.4.07.55-.17.55-.38 0-.19-.01-.82-.01-1.49-2.01.37-2.53-.49-2.69-.94-.09-.23-.48-.94-.82-1.13-.28-.15-.68-.52-.01-.53.63-.01 1.08.58 1.23.82.72 1.21 1.87.87 2.33.66.07-.52.28-.87.51-1.07-1.78-.2-3.64-.89-3.64-3.95 0-.87.31-1.59.82-2.15-.08-.2-.36-1.02.08-2.12 0 0 .67-.21 2.2.82.64-.18 1.32-.27 2-.27.68 0 1.36.09 2 .27 1.53-1.04 2.2-.82 2.2-.82.44 1.1.16 1.92.08 2.12.51.56.82 1.27.82 2.15 0 3.07-1.87 3.75-3.65 3.95.29.25.54.73.54 1.48 0 1.07-.01 1.93-.01 2.2 0 .21.15.46.55.38A8.013 8.013 0 0016 8c0-4.42-3.58-8-8-8z"></path></svg>
</a>
   <ul class="list-style-none d-flex flex-wrap col-12 col-lg-5 flex-justify-center flex-lg-justify-between mb-2 mb-lg-0">
        <li class="mr-3 mr-lg-0"><a data-ga-click="Footer, go to contact, text:contact" href="https://github.com/contact">Contact GitHub</a></li>
        <li class="mr-3 mr-lg-0"><a href="https://github.com/pricing" data-ga-click="Footer, go to Pricing, text:Pricing">Pricing</a></li>
      <li class="mr-3 mr-lg-0"><a href="https://developer.github.com" data-ga-click="Footer, go to api, text:api">API</a></li>
      <li class="mr-3 mr-lg-0"><a href="https://training.github.com" data-ga-click="Footer, go to training, text:training">Training</a></li>
        <li class="mr-3 mr-lg-0"><a href="https://github.blog" data-ga-click="Footer, go to blog, text:blog">Blog</a></li>
        <li><a data-ga-click="Footer, go to about, text:about" href="https://github.com/about">About</a></li>
    </ul>
  </div>
  <div class="d-flex flex-justify-center pb-6">
    <span class="f6 text-gray-light"></span>
  </div>
</div>



  <div id="ajax-error-message" class="ajax-error-message flash flash-error">
    <svg class="octicon octicon-alert" viewBox="0 0 16 16" version="1.1" width="16" height="16" aria-hidden="true"><path fill-rule="evenodd" d="M8.893 1.5c-.183-.31-.52-.5-.887-.5s-.703.19-.886.5L.138 13.499a.98.98 0 000 1.001c.193.31.53.501.886.501h13.964c.367 0 .704-.19.877-.5a1.03 1.03 0 00.01-1.002L8.893 1.5zm.133 11.497H6.987v-2.003h2.039v2.003zm0-3.004H6.987V5.987h2.039v4.006z"></path></svg>
    <button type="button" class="flash-close js-ajax-error-dismiss" aria-label="Dismiss error">
      <svg class="octicon octicon-x" viewBox="0 0 12 16" version="1.1" width="12" height="16" aria-hidden="true"><path fill-rule="evenodd" d="M7.48 8l3.75 3.75-1.48 1.48L6 9.48l-3.75 3.75-1.48-1.48L4.52 8 .77 4.25l1.48-1.48L6 6.52l3.75-3.75 1.48 1.48L7.48 8z"></path></svg>
    </button>
    You can’t perform that action at this time.
  </div>


    <script crossorigin="anonymous" async="async" integrity="sha512-WcQmT2vhcClFVOaaAJV/M+HqsJ2Gq/myvl6F3gCVBxykazXTs+i5fvxncSXwyG1CSfcrqmLFw/R/bmFYzprX2A==" type="application/javascript" id="js-conditional-compat" data-src="https://github.githubassets.com/assets/compat-bootstrap-59c4264f.js"></script>
    <script crossorigin="anonymous" integrity="sha512-Y86V8OBlvF6I/7e56GKOOt80Yg1RTGA09uqFFX18aiBtevLbKGxB7sVpCn79fukppFIBqyBTB/s6l0Bhn0kidQ==" type="application/javascript" src="https://github.githubassets.com/assets/environment-bootstrap-63ce95f0.js"></script>
    <script crossorigin="anonymous" async="async" integrity="sha512-ASMgX6+DJ9LVZX/3Fj0RzibSpfigU83ubvsxxwriojWmuBM3faUp1108gypkhXpqLHEBQhIhjlzDOejzOFd0gA==" type="application/javascript" src="https://github.githubassets.com/assets/vendor-0123205f.js"></script>
    <script crossorigin="anonymous" async="async" integrity="sha512-+6Nd4aRFaWfNCioCSh16u4syBFdf0v/NceXHXkq09bWpEe5bbFHuNcTynuDOFo1rxyzp/d++LXUHy71vQuvVug==" type="application/javascript" src="https://github.githubassets.com/assets/frameworks-fba35de1.js"></script>
    
    <script crossorigin="anonymous" async="async" integrity="sha512-itwYIoc2+ZxRc9Us7Efw4Z6vlNNYS59N2hYQk7plNwD2rjvLq04WT64SOo9HPWe1pas8G8LCEGLT4+rApPrYgg==" type="application/javascript" src="https://github.githubassets.com/assets/github-bootstrap-8adc1822.js"></script>
    
        <script crossorigin="anonymous" async="async" integrity="sha512-urN6bhHnHu4C12A+cTH3dOp+CwLaycy2HUXr95hvu5pbYRdF8z6iR+UQcTZutQ6mZG3Njluw2MTZVCNmwcqh8g==" type="application/javascript" data-module-id="./randomColor.js" data-src="https://github.githubassets.com/assets/randomColor-bab37a6e.js"></script>
        <script crossorigin="anonymous" async="async" integrity="sha512-3Vk1NFIOm+TBUMM6pTA6DCUwwLLnc/QIT8jpENm71InvSU8O4p2plDagpst1tH1l+9jOBnneaXZnAskA9a2b3w==" type="application/javascript" data-module-id="./gist-vendor.js" data-src="https://github.githubassets.com/assets/gist-vendor-dd593534.js"></script>
        <script crossorigin="anonymous" async="async" integrity="sha512-4GcSWGoe36+BoWho4gtJcByZe8j43w+lt2/PDe3rmBxRVSgD29YipDwuIywe8fvOd2b2CszBqaPGxSznUtE3Xg==" type="application/javascript" data-module-id="./drag-drop.js" data-src="https://github.githubassets.com/assets/drag-drop-e0671258.js"></script>
    
    
  <div class="js-stale-session-flash flash flash-warn flash-banner" hidden
    >
    <svg class="octicon octicon-alert" viewBox="0 0 16 16" version="1.1" width="16" height="16" aria-hidden="true"><path fill-rule="evenodd" d="M8.893 1.5c-.183-.31-.52-.5-.887-.5s-.703.19-.886.5L.138 13.499a.98.98 0 000 1.001c.193.31.53.501.886.501h13.964c.367 0 .704-.19.877-.5a1.03 1.03 0 00.01-1.002L8.893 1.5zm.133 11.497H6.987v-2.003h2.039v2.003zm0-3.004H6.987V5.987h2.039v4.006z"></path></svg>
    <span class="js-stale-session-flash-signed-in" hidden>You signed in with another tab or window. <a href="">Reload</a> to refresh your session.</span>
    <span class="js-stale-session-flash-signed-out" hidden>You signed out in another tab or window. <a href="">Reload</a> to refresh your session.</span>
  </div>
  <template id="site-details-dialog">
  <details class="details-reset details-overlay details-overlay-dark lh-default text-gray-dark hx_rsm" open>
    <summary role="button" aria-label="Close dialog"></summary>
    <details-dialog class="Box Box--overlay d-flex flex-column anim-fade-in fast hx_rsm-dialog hx_rsm-modal">
      <button class="Box-btn-octicon m-0 btn-octicon position-absolute right-0 top-0" type="button" aria-label="Close dialog" data-close-dialog>
        <svg class="octicon octicon-x" viewBox="0 0 12 16" version="1.1" width="12" height="16" aria-hidden="true"><path fill-rule="evenodd" d="M7.48 8l3.75 3.75-1.48 1.48L6 9.48l-3.75 3.75-1.48-1.48L4.52 8 .77 4.25l1.48-1.48L6 6.52l3.75-3.75 1.48 1.48L7.48 8z"></path></svg>
      </button>
      <div class="octocat-spinner my-6 js-details-dialog-spinner"></div>
    </details-dialog>
  </details>
</template>

  <div class="Popover js-hovercard-content position-absolute" style="display: none; outline: none;" tabindex="0">
  <div class="Popover-message Popover-message--bottom-left Popover-message--large Box box-shadow-large" style="width:360px;">
  </div>
</div>


  </body>
</html>

