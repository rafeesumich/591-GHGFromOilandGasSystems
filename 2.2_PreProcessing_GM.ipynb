{
 "cells": [
  {
   "cell_type": "markdown",
   "metadata": {},
   "source": [
    "# Data Acquisition and Pre-Processing\n",
    "## Gregory Myers\n",
    "<a id='top'></a>"
   ]
  },
  {
   "cell_type": "markdown",
   "metadata": {},
   "source": [
    "# Hydrocarbon Production and Greenhouse Gas Emissions Data Acquisition and Pre-Processing.\n",
    "Data will be obtained from Energy Information Administration (EIA) eia.gov  \n",
    "and the Scripps Institution of Oceanography (SIO) at the University of California, San Diego. scrippsco2.ucsd.edu  \n",
    "The emissions data is focused on the Greenhouse Gases (GHG) Carbon Dioxide (CO2), Methane (CH4) and Nitrous Oxide (N2O).  \n",
    "\n",
    "**The following datasets are queried directly by API from the EIA website in JSON format (product, date range)**\n",
    "* Annual U.S. Crude Oil Production (EIA)  1859-2019\n",
    "* Annual U.S. Natural Gas Production (EIA)  1936-2019\n",
    "* Annual U.S. Natural Gas, Vented and Flared (EIA)  1936-2018\n",
    "* Annual U.S. Natural Gas Sector CO2 Emissions (EIA)  1980-2017\n",
    "* Annual U.S. Crude Oil Sector CO2 Emissions (EIA)  1980-2017\n",
    "* Annual U.S. Industrial CO2 Emissions (EIA)  1980-2017\n",
    "\n",
    "\n",
    "**The Scripps datasets are manually downloaded from ucsd.edu in text format (product, date range)**\n",
    "* Annual Atmospheric CO2 Concentration (SIO)  1958-2019\n",
    "* Annual Atmospheric CH4 Concentration (SIO)  1983-2019\n",
    "* Annual Atmospheric N2O Concentration (SIO)  2001-2019"
   ]
  },
  {
   "cell_type": "markdown",
   "metadata": {},
   "source": [
    "**EIA Data**  \n",
    "The EIA JSON data contains considerable redundency in the data mostly in the form of metadata. The primary  \n",
    "component of interest is a list field that contains the date and product data which is processed in pandas  \n",
    "to extract the required data and save to CSV in two formats; comma (,) and pipe (|) seperated.  \n",
    "\n",
    "The EIA production data records crude oil volumes in units of thousand barrels of oil and emissions data  \n",
    "in metric tons of CO2 equivilent.\n",
    "\n",
    "**SIO Data**  \n",
    "The SIO text files containing the GHG concentration data are read into a pandas dataframe, skipping comment lines  \n",
    "and importing only the space seperated data. A header is added and the the data is ready for export, again to  \n",
    "CSV in two formats as above.  \n",
    "\n",
    "The SIO concentratin data is recorded in Parts Per Million (ppm) for CO2 gas and Parts Per Billion (ppb) for CH4 and N2O.  \n",
    "\n",
    "**Final Product** \n",
    "In total nine datasets are produced by this notebook in two formats for a total of 18 CSV files.  \n",
    "\n",
    "[Return to Introduction](1_Introduction.ipynb)"
   ]
  },
  {
   "cell_type": "code",
   "execution_count": 1,
   "metadata": {},
   "outputs": [],
   "source": [
    "import pandas as pd\n",
    "import requests\n",
    "import json"
   ]
  },
  {
   "cell_type": "code",
   "execution_count": 2,
   "metadata": {},
   "outputs": [],
   "source": [
    "# helper command for specific jupyter lab extension\n",
    "%config IPCompleter.greedy=True"
   ]
  },
  {
   "cell_type": "markdown",
   "metadata": {},
   "source": [
    "### Data folder variables for coding simplification.  \n",
    "The data_591 folder is the location for the analysis ready CSV data. Note that these CSV files will use the PIPE symbol ( | ) as the seperator.  \n",
    "The remaining folders will hold the raw JSON and intermediate CSV files."
   ]
  },
  {
   "cell_type": "code",
   "execution_count": 3,
   "metadata": {},
   "outputs": [],
   "source": [
    "data_591 = './'\n",
    "data_eia = 'data_eia/'\n",
    "data_scripps = 'data_Scripps/'"
   ]
  },
  {
   "cell_type": "markdown",
   "metadata": {},
   "source": [
    "### Here we will update some pandas options to improve the on screen readability of the dataframe listings."
   ]
  },
  {
   "cell_type": "code",
   "execution_count": 4,
   "metadata": {},
   "outputs": [],
   "source": [
    "pd.set_option('expand_frame_repr', True)\n",
    "pd.set_option('colheader_justify', 'right')\n",
    "pd.set_option('precision', 12)\n",
    "\n",
    "# Link for reformatting pandas from exponential formatting to standard decimal\n",
    "# https://stackoverflow.com/questions/21137150/format-suppress-scientific-notation-from-python-pandas-aggregation-results\n",
    "# pd.set_option('display.float_format', lambda x: f'{x:.1f}')\n",
    "\n",
    "pd.set_option('max_rows', 250)\n",
    "pd.set_option('display.width', 200)\n",
    "pd.set_option('max_columns', 100)\n",
    "pd.set_option('max_colwidth', 50)\n",
    "pd.set_option('column_space', 40)"
   ]
  },
  {
   "cell_type": "markdown",
   "metadata": {},
   "source": [
    "### EIA API Query Strings"
   ]
  },
  {
   "cell_type": "markdown",
   "metadata": {},
   "source": [
    "Natural Gas and Crude Oil Annual Production  \n",
    "\n",
    "[Top of Page](#top)"
   ]
  },
  {
   "cell_type": "code",
   "execution_count": 23,
   "metadata": {},
   "outputs": [],
   "source": [
    "us_gas_annual = \"http://api.eia.gov/series/?api_key=95c8b4b9cc5b48a195376f74b841d16c&series_id=NG.N9010US2.A\"\n",
    "us_oil_annual = \"http://api.eia.gov/series/?api_key=95c8b4b9cc5b48a195376f74b841d16c&series_id=PET.MCRFPUS1.A\""
   ]
  },
  {
   "cell_type": "markdown",
   "metadata": {},
   "source": [
    "Natural Gas and Crude Oil Sectors, CO2 Emissions"
   ]
  },
  {
   "cell_type": "code",
   "execution_count": 24,
   "metadata": {},
   "outputs": [],
   "source": [
    "us_gas_emiss = \"http://api.eia.gov/series/?api_key=95c8b4b9cc5b48a195376f74b841d16c&series_id=EMISS.CO2-TOTV-TT-NG-US.A\"\n",
    "us_oil_emiss = \"http://api.eia.gov/series/?api_key=95c8b4b9cc5b48a195376f74b841d16c&series_id=EMISS.CO2-TOTV-TT-PE-US.A\""
   ]
  },
  {
   "cell_type": "markdown",
   "metadata": {},
   "source": [
    "Natural Gas Venting and Flaring"
   ]
  },
  {
   "cell_type": "code",
   "execution_count": 25,
   "metadata": {},
   "outputs": [],
   "source": [
    "us_flared_annual = \"http://api.eia.gov/series/?api_key=95c8b4b9cc5b48a195376f74b841d16c&series_id=NG.N9040US2.A\""
   ]
  },
  {
   "cell_type": "markdown",
   "metadata": {},
   "source": [
    "Industrial CO2 data Query"
   ]
  },
  {
   "cell_type": "code",
   "execution_count": 26,
   "metadata": {},
   "outputs": [],
   "source": [
    "us_CO2_industrial = \"http://api.eia.gov/series/?api_key=95c8b4b9cc5b48a195376f74b841d16c&series_id=EMISS.CO2-TOTV-IC-TO-US.A\""
   ]
  },
  {
   "cell_type": "markdown",
   "metadata": {},
   "source": [
    "Enable one query dict() for processing by the following active cell."
   ]
  },
  {
   "cell_type": "code",
   "execution_count": 27,
   "metadata": {},
   "outputs": [],
   "source": [
    "# eia_queries = {'US_OIL_ANNUAL': us_oil_annual}\n",
    "# eia_queries = {'US_GAS_ANNUAL': us_gas_annual, 'US_FLARED_ANNUAL': us_flared_annual}\n",
    "eia_queries = {'US_GAS_EMISS': us_gas_emiss, 'US_OIL_EMISS': us_oil_emiss, 'US_CO2_INDUSTRIAL': us_CO2_industrial}"
   ]
  },
  {
   "cell_type": "markdown",
   "metadata": {},
   "source": [
    "### API Query Execution  \n",
    "The following cell will iterate the query dict(), retrieving the respective JSON file for the query. The JSON files saved to the ___data_eia___ folder as source data.  \n",
    "Each retrieved and saved query will be printed to STDOUT to verify the query process.  \n",
    "\n",
    "[Top of Page](#top)"
   ]
  },
  {
   "cell_type": "code",
   "execution_count": 28,
   "metadata": {},
   "outputs": [
    {
     "name": "stdout",
     "output_type": "stream",
     "text": [
      "US_GAS_EMISS.json http://api.eia.gov/series/?api_key=95c8b4b9cc5b48a195376f74b841d16c&series_id=EMISS.CO2-TOTV-TT-NG-US.A\n",
      "US_OIL_EMISS.json http://api.eia.gov/series/?api_key=95c8b4b9cc5b48a195376f74b841d16c&series_id=EMISS.CO2-TOTV-TT-PE-US.A\n",
      "US_CO2_INDUSTRIAL.json http://api.eia.gov/series/?api_key=95c8b4b9cc5b48a195376f74b841d16c&series_id=EMISS.CO2-TOTV-IC-TO-US.A\n"
     ]
    }
   ],
   "source": [
    "for key, query in eia_queries.items():\n",
    "    data = requests.get(query)\n",
    "    if data.status_code == 200:\n",
    "        with open('../data_eia/' + key + '.json', 'w') as j_out:\n",
    "            json.dump(data.json(), j_out)\n",
    "            print(key+'.json', query)"
   ]
  },
  {
   "cell_type": "markdown",
   "metadata": {},
   "source": [
    "#### An external directory listing to confirm the contents of our data folder."
   ]
  },
  {
   "cell_type": "code",
   "execution_count": 1,
   "metadata": {},
   "outputs": [
    {
     "name": "stdout",
     "output_type": "stream",
     "text": [
      "-rw-r--r-- 1 gmyers gmyers  637 May 20 23:23 data_eia/us_co2_industrial.csv\n",
      "-rw-r--r-- 1 gmyers gmyers 1449 May 20 23:22 data_eia/US_CO2_INDUSTRIAL.json\n",
      "-rw-r--r-- 1 gmyers gmyers 1840 May 20 23:18 data_eia/us_flared_annual.csv\n",
      "-rw-r--r-- 1 gmyers gmyers 1960 May 20 23:17 data_eia/US_FLARED_ANNUAL.json\n",
      "-rw-r--r-- 1 gmyers gmyers 2174 May 20 23:18 data_eia/us_gas_annual.csv\n",
      "-rw-r--r-- 1 gmyers gmyers 2139 May 20 23:17 data_eia/US_GAS_ANNUAL.json\n",
      "-rw-r--r-- 1 gmyers gmyers  643 May 20 23:23 data_eia/us_gas_emiss.csv\n",
      "-rw-r--r-- 1 gmyers gmyers 1469 May 20 23:22 data_eia/US_GAS_EMISS.json\n",
      "-rw-r--r-- 1 gmyers gmyers 2286 May 20 23:21 data_eia/us_oil_annual.csv\n",
      "-rw-r--r-- 1 gmyers gmyers 3394 May 20 23:21 data_eia/US_OIL_ANNUAL.json\n",
      "-rw-r--r-- 1 gmyers gmyers  651 May 20 23:23 data_eia/us_oil_emiss.csv\n",
      "-rw-r--r-- 1 gmyers gmyers 1475 May 20 23:22 data_eia/US_OIL_EMISS.json\n"
     ]
    }
   ],
   "source": [
    "!ls data_eia/* -laF"
   ]
  },
  {
   "cell_type": "code",
   "execution_count": 2,
   "metadata": {},
   "outputs": [
    {
     "name": "stdout",
     "output_type": "stream",
     "text": [
      "-rw-r--r-- 1 gmyers gmyers 19765 May 15 12:06 data_Scripps/atmos_conc_ch4.csv\n",
      "-rw-r--r-- 1 gmyers gmyers 34803 May 15 12:05 data_Scripps/atmos_conc_co2_csv\n",
      "-rw-r--r-- 1 gmyers gmyers  9875 May 15 12:06 data_Scripps/atmos_conc_n2o.csv\n",
      "-rw-r--r-- 1 gmyers gmyers 40512 Apr 11 15:50 data_Scripps/ch4_mm_gl.txt\n",
      "-rw-r--r-- 1 gmyers gmyers 51579 Apr 11 15:55 data_Scripps/co2_mm_mlo.txt\n",
      "-rw-r--r-- 1 gmyers gmyers 22576 Apr 11 16:01 data_Scripps/n2o_mm_gl.txt\n"
     ]
    }
   ],
   "source": [
    "!ls data_Scripps/* -laF"
   ]
  },
  {
   "cell_type": "markdown",
   "metadata": {},
   "source": [
    "### Begin processing the downloaded JSON data  \n",
    "Read each dataset in the query dict() into a pandas dataframe. Each dataframe will be referenced from a key/value pair in a dict dedicated for the process."
   ]
  },
  {
   "cell_type": "code",
   "execution_count": 29,
   "metadata": {},
   "outputs": [],
   "source": [
    "df_data = {}\n",
    "\n",
    "for key in eia_queries.keys():\n",
    "    with open('../data_eia/' + key + '.json', 'r') as j_in:\n",
    "        data = json.load(j_in)\n",
    "        df_data[key] = pd.DataFrame(data['series']).explode('data')"
   ]
  },
  {
   "cell_type": "markdown",
   "metadata": {},
   "source": [
    "#### Quick data inspection"
   ]
  },
  {
   "cell_type": "code",
   "execution_count": 30,
   "metadata": {
    "scrolled": true
   },
   "outputs": [
    {
     "name": "stdout",
     "output_type": "stream",
     "text": [
      "US_GAS_EMISS                    series_id                                               name                    units  f unitsshort                                        description copyright  \\\n",
      "0  EMISS.CO2-TOTV-TT-NG-US.A  Total carbon dioxide emissions from all sector...  million metric tons CO2  A    mmt CO2  See http://www.eia.gov/environment/emissions/s...      None   \n",
      "0  EMISS.CO2-TOTV-TT-NG-US.A  Total carbon dioxide emissions from all sector...  million metric tons CO2  A    mmt CO2  See http://www.eia.gov/environment/emissions/s...      None   \n",
      "0  EMISS.CO2-TOTV-TT-NG-US.A  Total carbon dioxide emissions from all sector...  million metric tons CO2  A    mmt CO2  See http://www.eia.gov/environment/emissions/s...      None   \n",
      "0  EMISS.CO2-TOTV-TT-NG-US.A  Total carbon dioxide emissions from all sector...  million metric tons CO2  A    mmt CO2  See http://www.eia.gov/environment/emissions/s...      None   \n",
      "0  EMISS.CO2-TOTV-TT-NG-US.A  Total carbon dioxide emissions from all sector...  million metric tons CO2  A    mmt CO2  See http://www.eia.gov/environment/emissions/s...      None   \n",
      "0  EMISS.CO2-TOTV-TT-NG-US.A  Total carbon dioxide emissions from all sector...  million metric tons CO2  A    mmt CO2  See http://www.eia.gov/environment/emissions/s...      None   \n",
      "0  EMISS.CO2-TOTV-TT-NG-US.A  Total carbon dioxide emissions from all sector...  million metric tons CO2  A    mmt CO2  See http://www.eia.gov/environment/emissions/s...      None   \n",
      "0  EMISS.CO2-TOTV-TT-NG-US.A  Total carbon dioxide emissions from all sector...  million metric tons CO2  A    mmt CO2  See http://www.eia.gov/environment/emissions/s...      None   \n",
      "0  EMISS.CO2-TOTV-TT-NG-US.A  Total carbon dioxide emissions from all sector...  million metric tons CO2  A    mmt CO2  See http://www.eia.gov/environment/emissions/s...      None   \n",
      "0  EMISS.CO2-TOTV-TT-NG-US.A  Total carbon dioxide emissions from all sector...  million metric tons CO2  A    mmt CO2  See http://www.eia.gov/environment/emissions/s...      None   \n",
      "0  EMISS.CO2-TOTV-TT-NG-US.A  Total carbon dioxide emissions from all sector...  million metric tons CO2  A    mmt CO2  See http://www.eia.gov/environment/emissions/s...      None   \n",
      "0  EMISS.CO2-TOTV-TT-NG-US.A  Total carbon dioxide emissions from all sector...  million metric tons CO2  A    mmt CO2  See http://www.eia.gov/environment/emissions/s...      None   \n",
      "0  EMISS.CO2-TOTV-TT-NG-US.A  Total carbon dioxide emissions from all sector...  million metric tons CO2  A    mmt CO2  See http://www.eia.gov/environment/emissions/s...      None   \n",
      "0  EMISS.CO2-TOTV-TT-NG-US.A  Total carbon dioxide emissions from all sector...  million metric tons CO2  A    mmt CO2  See http://www.eia.gov/environment/emissions/s...      None   \n",
      "0  EMISS.CO2-TOTV-TT-NG-US.A  Total carbon dioxide emissions from all sector...  million metric tons CO2  A    mmt CO2  See http://www.eia.gov/environment/emissions/s...      None   \n",
      "0  EMISS.CO2-TOTV-TT-NG-US.A  Total carbon dioxide emissions from all sector...  million metric tons CO2  A    mmt CO2  See http://www.eia.gov/environment/emissions/s...      None   \n",
      "0  EMISS.CO2-TOTV-TT-NG-US.A  Total carbon dioxide emissions from all sector...  million metric tons CO2  A    mmt CO2  See http://www.eia.gov/environment/emissions/s...      None   \n",
      "0  EMISS.CO2-TOTV-TT-NG-US.A  Total carbon dioxide emissions from all sector...  million metric tons CO2  A    mmt CO2  See http://www.eia.gov/environment/emissions/s...      None   \n",
      "0  EMISS.CO2-TOTV-TT-NG-US.A  Total carbon dioxide emissions from all sector...  million metric tons CO2  A    mmt CO2  See http://www.eia.gov/environment/emissions/s...      None   \n",
      "0  EMISS.CO2-TOTV-TT-NG-US.A  Total carbon dioxide emissions from all sector...  million metric tons CO2  A    mmt CO2  See http://www.eia.gov/environment/emissions/s...      None   \n",
      "0  EMISS.CO2-TOTV-TT-NG-US.A  Total carbon dioxide emissions from all sector...  million metric tons CO2  A    mmt CO2  See http://www.eia.gov/environment/emissions/s...      None   \n",
      "0  EMISS.CO2-TOTV-TT-NG-US.A  Total carbon dioxide emissions from all sector...  million metric tons CO2  A    mmt CO2  See http://www.eia.gov/environment/emissions/s...      None   \n",
      "0  EMISS.CO2-TOTV-TT-NG-US.A  Total carbon dioxide emissions from all sector...  million metric tons CO2  A    mmt CO2  See http://www.eia.gov/environment/emissions/s...      None   \n",
      "0  EMISS.CO2-TOTV-TT-NG-US.A  Total carbon dioxide emissions from all sector...  million metric tons CO2  A    mmt CO2  See http://www.eia.gov/environment/emissions/s...      None   \n",
      "0  EMISS.CO2-TOTV-TT-NG-US.A  Total carbon dioxide emissions from all sector...  million metric tons CO2  A    mmt CO2  See http://www.eia.gov/environment/emissions/s...      None   \n",
      "0  EMISS.CO2-TOTV-TT-NG-US.A  Total carbon dioxide emissions from all sector...  million metric tons CO2  A    mmt CO2  See http://www.eia.gov/environment/emissions/s...      None   \n",
      "0  EMISS.CO2-TOTV-TT-NG-US.A  Total carbon dioxide emissions from all sector...  million metric tons CO2  A    mmt CO2  See http://www.eia.gov/environment/emissions/s...      None   \n",
      "0  EMISS.CO2-TOTV-TT-NG-US.A  Total carbon dioxide emissions from all sector...  million metric tons CO2  A    mmt CO2  See http://www.eia.gov/environment/emissions/s...      None   \n",
      "0  EMISS.CO2-TOTV-TT-NG-US.A  Total carbon dioxide emissions from all sector...  million metric tons CO2  A    mmt CO2  See http://www.eia.gov/environment/emissions/s...      None   \n",
      "0  EMISS.CO2-TOTV-TT-NG-US.A  Total carbon dioxide emissions from all sector...  million metric tons CO2  A    mmt CO2  See http://www.eia.gov/environment/emissions/s...      None   \n",
      "0  EMISS.CO2-TOTV-TT-NG-US.A  Total carbon dioxide emissions from all sector...  million metric tons CO2  A    mmt CO2  See http://www.eia.gov/environment/emissions/s...      None   \n",
      "0  EMISS.CO2-TOTV-TT-NG-US.A  Total carbon dioxide emissions from all sector...  million metric tons CO2  A    mmt CO2  See http://www.eia.gov/environment/emissions/s...      None   \n",
      "0  EMISS.CO2-TOTV-TT-NG-US.A  Total carbon dioxide emissions from all sector...  million metric tons CO2  A    mmt CO2  See http://www.eia.gov/environment/emissions/s...      None   \n",
      "0  EMISS.CO2-TOTV-TT-NG-US.A  Total carbon dioxide emissions from all sector...  million metric tons CO2  A    mmt CO2  See http://www.eia.gov/environment/emissions/s...      None   \n",
      "0  EMISS.CO2-TOTV-TT-NG-US.A  Total carbon dioxide emissions from all sector...  million metric tons CO2  A    mmt CO2  See http://www.eia.gov/environment/emissions/s...      None   \n",
      "0  EMISS.CO2-TOTV-TT-NG-US.A  Total carbon dioxide emissions from all sector...  million metric tons CO2  A    mmt CO2  See http://www.eia.gov/environment/emissions/s...      None   \n",
      "0  EMISS.CO2-TOTV-TT-NG-US.A  Total carbon dioxide emissions from all sector...  million metric tons CO2  A    mmt CO2  See http://www.eia.gov/environment/emissions/s...      None   \n",
      "0  EMISS.CO2-TOTV-TT-NG-US.A  Total carbon dioxide emissions from all sector...  million metric tons CO2  A    mmt CO2  See http://www.eia.gov/environment/emissions/s...      None   \n",
      "\n",
      "                                        source iso3166 geography start   end                   updated                 data  \n",
      "0  EIA, U.S. Energy Information Administration  USA-US    USA-US  1980  2017  2019-10-30T13:20:11-0400  [2017, 1487.751178]  \n",
      "0  EIA, U.S. Energy Information Administration  USA-US    USA-US  1980  2017  2019-10-30T13:20:11-0400   [2016, 1505.97207]  \n",
      "0  EIA, U.S. Energy Information Administration  USA-US    USA-US  1980  2017  2019-10-30T13:20:11-0400  [2015, 1494.870856]  \n",
      "0  EIA, U.S. Energy Information Administration  USA-US    USA-US  1980  2017  2019-10-30T13:20:11-0400   [2014, 1452.23261]  \n",
      "0  EIA, U.S. Energy Information Administration  USA-US    USA-US  1980  2017  2019-10-30T13:20:11-0400   [2013, 1421.55713]  \n",
      "0  EIA, U.S. Energy Information Administration  USA-US    USA-US  1980  2017  2019-10-30T13:20:11-0400  [2012, 1384.126865]  \n",
      "0  EIA, U.S. Energy Information Administration  USA-US    USA-US  1980  2017  2019-10-30T13:20:11-0400   [2011, 1324.63536]  \n",
      "0  EIA, U.S. Energy Information Administration  USA-US    USA-US  1980  2017  2019-10-30T13:20:11-0400   [2010, 1304.49545]  \n",
      "0  EIA, U.S. Energy Information Administration  USA-US    USA-US  1980  2017  2019-10-30T13:20:11-0400  [2009, 1244.172003]  \n",
      "0  EIA, U.S. Energy Information Administration  USA-US    USA-US  1980  2017  2019-10-30T13:20:11-0400  [2008, 1265.641799]  \n",
      "0  EIA, U.S. Energy Information Administration  USA-US    USA-US  1980  2017  2019-10-30T13:20:11-0400  [2007, 1257.032545]  \n",
      "0  EIA, U.S. Energy Information Administration  USA-US    USA-US  1980  2017  2019-10-30T13:20:11-0400   [2006, 1180.55044]  \n",
      "0  EIA, U.S. Energy Information Administration  USA-US    USA-US  1980  2017  2019-10-30T13:20:11-0400  [2005, 1197.880305]  \n",
      "0  EIA, U.S. Energy Information Administration  USA-US    USA-US  1980  2017  2019-10-30T13:20:11-0400  [2004, 1216.576658]  \n",
      "0  EIA, U.S. Energy Information Administration  USA-US    USA-US  1980  2017  2019-10-30T13:20:11-0400  [2003, 1211.469057]  \n",
      "0  EIA, U.S. Energy Information Administration  USA-US    USA-US  1980  2017  2019-10-30T13:20:11-0400  [2002, 1248.032948]  \n",
      "0  EIA, U.S. Energy Information Administration  USA-US    USA-US  1980  2017  2019-10-30T13:20:11-0400  [2001, 1208.387314]  \n",
      "0  EIA, U.S. Energy Information Administration  USA-US    USA-US  1980  2017  2019-10-30T13:20:11-0400  [2000, 1264.958654]  \n",
      "0  EIA, U.S. Energy Information Administration  USA-US    USA-US  1980  2017  2019-10-30T13:20:11-0400  [1999, 1218.228241]  \n",
      "0  EIA, U.S. Energy Information Administration  USA-US    USA-US  1980  2017  2019-10-30T13:20:11-0400   [1998, 1217.55297]  \n",
      "0  EIA, U.S. Energy Information Administration  USA-US    USA-US  1980  2017  2019-10-30T13:20:11-0400  [1997, 1242.168424]  \n",
      "0  EIA, U.S. Energy Information Administration  USA-US    USA-US  1980  2017  2019-10-30T13:20:11-0400  [1996, 1230.826971]  \n",
      "0  EIA, U.S. Energy Information Administration  USA-US    USA-US  1980  2017  2019-10-30T13:20:11-0400  [1995, 1208.130502]  \n",
      "0  EIA, U.S. Energy Information Administration  USA-US    USA-US  1980  2017  2019-10-30T13:20:11-0400  [1994, 1157.172918]  \n",
      "0  EIA, U.S. Energy Information Administration  USA-US    USA-US  1980  2017  2019-10-30T13:20:11-0400  [1993, 1131.227954]  \n",
      "0  EIA, U.S. Energy Information Administration  USA-US    USA-US  1980  2017  2019-10-30T13:20:11-0400  [1992, 1103.018747]  \n",
      "0  EIA, U.S. Energy Information Administration  USA-US    USA-US  1980  2017  2019-10-30T13:20:11-0400   [1991, 1066.19292]  \n",
      "0  EIA, U.S. Energy Information Administration  USA-US    USA-US  1980  2017  2019-10-30T13:20:11-0400  [1990, 1045.299429]  \n",
      "0  EIA, U.S. Energy Information Administration  USA-US    USA-US  1980  2017  2019-10-30T13:20:11-0400  [1989, 1043.379332]  \n",
      "0  EIA, U.S. Energy Information Administration  USA-US    USA-US  1980  2017  2019-10-30T13:20:11-0400   [1988, 982.500081]  \n",
      "0  EIA, U.S. Energy Information Administration  USA-US    USA-US  1980  2017  2019-10-30T13:20:11-0400   [1987, 939.514555]  \n",
      "0  EIA, U.S. Energy Information Administration  USA-US    USA-US  1980  2017  2019-10-30T13:20:11-0400    [1986, 884.90834]  \n",
      "0  EIA, U.S. Energy Information Administration  USA-US    USA-US  1980  2017  2019-10-30T13:20:11-0400   [1985, 944.516797]  \n",
      "0  EIA, U.S. Energy Information Administration  USA-US    USA-US  1980  2017  2019-10-30T13:20:11-0400   [1984, 979.452725]  \n",
      "0  EIA, U.S. Energy Information Administration  USA-US    USA-US  1980  2017  2019-10-30T13:20:11-0400   [1983, 918.337059]  \n",
      "0  EIA, U.S. Energy Information Administration  USA-US    USA-US  1980  2017  2019-10-30T13:20:11-0400   [1982, 980.220426]  \n",
      "0  EIA, U.S. Energy Information Administration  USA-US    USA-US  1980  2017  2019-10-30T13:20:11-0400  [1981, 1054.822954]  \n",
      "0  EIA, U.S. Energy Information Administration  USA-US    USA-US  1980  2017  2019-10-30T13:20:11-0400  [1980, 1078.961049]  \n",
      "US_OIL_EMISS                    series_id                                               name                    units  f unitsshort                                        description copyright  \\\n",
      "0  EMISS.CO2-TOTV-TT-PE-US.A  Total carbon dioxide emissions from all sector...  million metric tons CO2  A    mmt CO2  See http://www.eia.gov/environment/emissions/s...      None   \n",
      "0  EMISS.CO2-TOTV-TT-PE-US.A  Total carbon dioxide emissions from all sector...  million metric tons CO2  A    mmt CO2  See http://www.eia.gov/environment/emissions/s...      None   \n",
      "0  EMISS.CO2-TOTV-TT-PE-US.A  Total carbon dioxide emissions from all sector...  million metric tons CO2  A    mmt CO2  See http://www.eia.gov/environment/emissions/s...      None   \n",
      "0  EMISS.CO2-TOTV-TT-PE-US.A  Total carbon dioxide emissions from all sector...  million metric tons CO2  A    mmt CO2  See http://www.eia.gov/environment/emissions/s...      None   \n",
      "0  EMISS.CO2-TOTV-TT-PE-US.A  Total carbon dioxide emissions from all sector...  million metric tons CO2  A    mmt CO2  See http://www.eia.gov/environment/emissions/s...      None   \n",
      "0  EMISS.CO2-TOTV-TT-PE-US.A  Total carbon dioxide emissions from all sector...  million metric tons CO2  A    mmt CO2  See http://www.eia.gov/environment/emissions/s...      None   \n",
      "0  EMISS.CO2-TOTV-TT-PE-US.A  Total carbon dioxide emissions from all sector...  million metric tons CO2  A    mmt CO2  See http://www.eia.gov/environment/emissions/s...      None   \n",
      "0  EMISS.CO2-TOTV-TT-PE-US.A  Total carbon dioxide emissions from all sector...  million metric tons CO2  A    mmt CO2  See http://www.eia.gov/environment/emissions/s...      None   \n",
      "0  EMISS.CO2-TOTV-TT-PE-US.A  Total carbon dioxide emissions from all sector...  million metric tons CO2  A    mmt CO2  See http://www.eia.gov/environment/emissions/s...      None   \n",
      "0  EMISS.CO2-TOTV-TT-PE-US.A  Total carbon dioxide emissions from all sector...  million metric tons CO2  A    mmt CO2  See http://www.eia.gov/environment/emissions/s...      None   \n",
      "0  EMISS.CO2-TOTV-TT-PE-US.A  Total carbon dioxide emissions from all sector...  million metric tons CO2  A    mmt CO2  See http://www.eia.gov/environment/emissions/s...      None   \n",
      "0  EMISS.CO2-TOTV-TT-PE-US.A  Total carbon dioxide emissions from all sector...  million metric tons CO2  A    mmt CO2  See http://www.eia.gov/environment/emissions/s...      None   \n",
      "0  EMISS.CO2-TOTV-TT-PE-US.A  Total carbon dioxide emissions from all sector...  million metric tons CO2  A    mmt CO2  See http://www.eia.gov/environment/emissions/s...      None   \n",
      "0  EMISS.CO2-TOTV-TT-PE-US.A  Total carbon dioxide emissions from all sector...  million metric tons CO2  A    mmt CO2  See http://www.eia.gov/environment/emissions/s...      None   \n",
      "0  EMISS.CO2-TOTV-TT-PE-US.A  Total carbon dioxide emissions from all sector...  million metric tons CO2  A    mmt CO2  See http://www.eia.gov/environment/emissions/s...      None   \n",
      "0  EMISS.CO2-TOTV-TT-PE-US.A  Total carbon dioxide emissions from all sector...  million metric tons CO2  A    mmt CO2  See http://www.eia.gov/environment/emissions/s...      None   \n",
      "0  EMISS.CO2-TOTV-TT-PE-US.A  Total carbon dioxide emissions from all sector...  million metric tons CO2  A    mmt CO2  See http://www.eia.gov/environment/emissions/s...      None   \n",
      "0  EMISS.CO2-TOTV-TT-PE-US.A  Total carbon dioxide emissions from all sector...  million metric tons CO2  A    mmt CO2  See http://www.eia.gov/environment/emissions/s...      None   \n",
      "0  EMISS.CO2-TOTV-TT-PE-US.A  Total carbon dioxide emissions from all sector...  million metric tons CO2  A    mmt CO2  See http://www.eia.gov/environment/emissions/s...      None   \n",
      "0  EMISS.CO2-TOTV-TT-PE-US.A  Total carbon dioxide emissions from all sector...  million metric tons CO2  A    mmt CO2  See http://www.eia.gov/environment/emissions/s...      None   \n",
      "0  EMISS.CO2-TOTV-TT-PE-US.A  Total carbon dioxide emissions from all sector...  million metric tons CO2  A    mmt CO2  See http://www.eia.gov/environment/emissions/s...      None   \n",
      "0  EMISS.CO2-TOTV-TT-PE-US.A  Total carbon dioxide emissions from all sector...  million metric tons CO2  A    mmt CO2  See http://www.eia.gov/environment/emissions/s...      None   \n",
      "0  EMISS.CO2-TOTV-TT-PE-US.A  Total carbon dioxide emissions from all sector...  million metric tons CO2  A    mmt CO2  See http://www.eia.gov/environment/emissions/s...      None   \n",
      "0  EMISS.CO2-TOTV-TT-PE-US.A  Total carbon dioxide emissions from all sector...  million metric tons CO2  A    mmt CO2  See http://www.eia.gov/environment/emissions/s...      None   \n",
      "0  EMISS.CO2-TOTV-TT-PE-US.A  Total carbon dioxide emissions from all sector...  million metric tons CO2  A    mmt CO2  See http://www.eia.gov/environment/emissions/s...      None   \n",
      "0  EMISS.CO2-TOTV-TT-PE-US.A  Total carbon dioxide emissions from all sector...  million metric tons CO2  A    mmt CO2  See http://www.eia.gov/environment/emissions/s...      None   \n",
      "0  EMISS.CO2-TOTV-TT-PE-US.A  Total carbon dioxide emissions from all sector...  million metric tons CO2  A    mmt CO2  See http://www.eia.gov/environment/emissions/s...      None   \n",
      "0  EMISS.CO2-TOTV-TT-PE-US.A  Total carbon dioxide emissions from all sector...  million metric tons CO2  A    mmt CO2  See http://www.eia.gov/environment/emissions/s...      None   \n",
      "0  EMISS.CO2-TOTV-TT-PE-US.A  Total carbon dioxide emissions from all sector...  million metric tons CO2  A    mmt CO2  See http://www.eia.gov/environment/emissions/s...      None   \n",
      "0  EMISS.CO2-TOTV-TT-PE-US.A  Total carbon dioxide emissions from all sector...  million metric tons CO2  A    mmt CO2  See http://www.eia.gov/environment/emissions/s...      None   \n",
      "0  EMISS.CO2-TOTV-TT-PE-US.A  Total carbon dioxide emissions from all sector...  million metric tons CO2  A    mmt CO2  See http://www.eia.gov/environment/emissions/s...      None   \n",
      "0  EMISS.CO2-TOTV-TT-PE-US.A  Total carbon dioxide emissions from all sector...  million metric tons CO2  A    mmt CO2  See http://www.eia.gov/environment/emissions/s...      None   \n",
      "0  EMISS.CO2-TOTV-TT-PE-US.A  Total carbon dioxide emissions from all sector...  million metric tons CO2  A    mmt CO2  See http://www.eia.gov/environment/emissions/s...      None   \n",
      "0  EMISS.CO2-TOTV-TT-PE-US.A  Total carbon dioxide emissions from all sector...  million metric tons CO2  A    mmt CO2  See http://www.eia.gov/environment/emissions/s...      None   \n",
      "0  EMISS.CO2-TOTV-TT-PE-US.A  Total carbon dioxide emissions from all sector...  million metric tons CO2  A    mmt CO2  See http://www.eia.gov/environment/emissions/s...      None   \n",
      "0  EMISS.CO2-TOTV-TT-PE-US.A  Total carbon dioxide emissions from all sector...  million metric tons CO2  A    mmt CO2  See http://www.eia.gov/environment/emissions/s...      None   \n",
      "0  EMISS.CO2-TOTV-TT-PE-US.A  Total carbon dioxide emissions from all sector...  million metric tons CO2  A    mmt CO2  See http://www.eia.gov/environment/emissions/s...      None   \n",
      "0  EMISS.CO2-TOTV-TT-PE-US.A  Total carbon dioxide emissions from all sector...  million metric tons CO2  A    mmt CO2  See http://www.eia.gov/environment/emissions/s...      None   \n",
      "\n",
      "                                        source iso3166 geography start   end                   updated                 data  \n",
      "0  EIA, U.S. Energy Information Administration  USA-US    USA-US  1980  2017  2019-10-30T13:20:11-0400  [2017, 2358.303907]  \n",
      "0  EIA, U.S. Energy Information Administration  USA-US    USA-US  1980  2017  2019-10-30T13:20:11-0400  [2016, 2339.574284]  \n",
      "0  EIA, U.S. Energy Information Administration  USA-US    USA-US  1980  2017  2019-10-30T13:20:11-0400  [2015, 2315.089236]  \n",
      "0  EIA, U.S. Energy Information Administration  USA-US    USA-US  1980  2017  2019-10-30T13:20:11-0400  [2014, 2269.261121]  \n",
      "0  EIA, U.S. Energy Information Administration  USA-US    USA-US  1980  2017  2019-10-30T13:20:11-0400  [2013, 2245.773111]  \n",
      "0  EIA, U.S. Energy Information Administration  USA-US    USA-US  1980  2017  2019-10-30T13:20:11-0400   [2012, 2203.21337]  \n",
      "0  EIA, U.S. Energy Information Administration  USA-US    USA-US  1980  2017  2019-10-30T13:20:11-0400  [2011, 2263.908163]  \n",
      "0  EIA, U.S. Energy Information Administration  USA-US    USA-US  1980  2017  2019-10-30T13:20:11-0400  [2010, 2307.248979]  \n",
      "0  EIA, U.S. Energy Information Administration  USA-US    USA-US  1980  2017  2019-10-30T13:20:11-0400  [2009, 2270.519998]  \n",
      "0  EIA, U.S. Energy Information Administration  USA-US    USA-US  1980  2017  2019-10-30T13:20:11-0400  [2008, 2405.014475]  \n",
      "0  EIA, U.S. Energy Information Administration  USA-US    USA-US  1980  2017  2019-10-30T13:20:11-0400  [2007, 2574.937499]  \n",
      "0  EIA, U.S. Energy Information Administration  USA-US    USA-US  1980  2017  2019-10-30T13:20:11-0400   [2006, 2586.15495]  \n",
      "0  EIA, U.S. Energy Information Administration  USA-US    USA-US  1980  2017  2019-10-30T13:20:11-0400  [2005, 2615.131236]  \n",
      "0  EIA, U.S. Energy Information Administration  USA-US    USA-US  1980  2017  2019-10-30T13:20:11-0400  [2004, 2599.400667]  \n",
      "0  EIA, U.S. Energy Information Administration  USA-US    USA-US  1980  2017  2019-10-30T13:20:11-0400  [2003, 2515.187119]  \n",
      "0  EIA, U.S. Energy Information Administration  USA-US    USA-US  1980  2017  2019-10-30T13:20:11-0400   [2002, 2465.22533]  \n",
      "0  EIA, U.S. Energy Information Administration  USA-US    USA-US  1980  2017  2019-10-30T13:20:11-0400  [2001, 2465.975894]  \n",
      "0  EIA, U.S. Energy Information Administration  USA-US    USA-US  1980  2017  2019-10-30T13:20:11-0400  [2000, 2458.654258]  \n",
      "0  EIA, U.S. Energy Information Administration  USA-US    USA-US  1980  2017  2019-10-30T13:20:11-0400  [1999, 2415.616244]  \n",
      "0  EIA, U.S. Energy Information Administration  USA-US    USA-US  1980  2017  2019-10-30T13:20:11-0400  [1998, 2369.725527]  \n",
      "0  EIA, U.S. Energy Information Administration  USA-US    USA-US  1980  2017  2019-10-30T13:20:11-0400   [1997, 2331.12937]  \n",
      "0  EIA, U.S. Energy Information Administration  USA-US    USA-US  1980  2017  2019-10-30T13:20:11-0400  [1996, 2301.649115]  \n",
      "0  EIA, U.S. Energy Information Administration  USA-US    USA-US  1980  2017  2019-10-30T13:20:11-0400  [1995, 2221.305078]  \n",
      "0  EIA, U.S. Energy Information Administration  USA-US    USA-US  1980  2017  2019-10-30T13:20:11-0400    [1994, 2231.2191]  \n",
      "0  EIA, U.S. Energy Information Administration  USA-US    USA-US  1980  2017  2019-10-30T13:20:11-0400  [1993, 2187.024827]  \n",
      "0  EIA, U.S. Energy Information Administration  USA-US    USA-US  1980  2017  2019-10-30T13:20:11-0400  [1992, 2170.857294]  \n",
      "0  EIA, U.S. Energy Information Administration  USA-US    USA-US  1980  2017  2019-10-30T13:20:11-0400  [1991, 2137.360133]  \n",
      "0  EIA, U.S. Energy Information Administration  USA-US    USA-US  1980  2017  2019-10-30T13:20:11-0400  [1990, 2186.905034]  \n",
      "0  EIA, U.S. Energy Information Administration  USA-US    USA-US  1980  2017  2019-10-30T13:20:11-0400  [1989, 2241.399596]  \n",
      "0  EIA, U.S. Energy Information Administration  USA-US    USA-US  1980  2017  2019-10-30T13:20:11-0400  [1988, 2241.170133]  \n",
      "0  EIA, U.S. Energy Information Administration  USA-US    USA-US  1980  2017  2019-10-30T13:20:11-0400   [1987, 2141.42665]  \n",
      "0  EIA, U.S. Energy Information Administration  USA-US    USA-US  1980  2017  2019-10-30T13:20:11-0400   [1986, 2117.04094]  \n",
      "0  EIA, U.S. Energy Information Administration  USA-US    USA-US  1980  2017  2019-10-30T13:20:11-0400  [1985, 2026.186593]  \n",
      "0  EIA, U.S. Energy Information Administration  USA-US    USA-US  1980  2017  2019-10-30T13:20:11-0400  [1984, 2041.729184]  \n",
      "0  EIA, U.S. Energy Information Administration  USA-US    USA-US  1980  2017  2019-10-30T13:20:11-0400  [1983, 1991.337313]  \n",
      "0  EIA, U.S. Energy Information Administration  USA-US    USA-US  1980  2017  2019-10-30T13:20:11-0400  [1982, 2007.802289]  \n",
      "0  EIA, U.S. Energy Information Administration  USA-US    USA-US  1980  2017  2019-10-30T13:20:11-0400  [1981, 2129.505799]  \n",
      "0  EIA, U.S. Energy Information Administration  USA-US    USA-US  1980  2017  2019-10-30T13:20:11-0400  [1980, 2291.393128]  \n",
      "US_CO2_INDUSTRIAL                    series_id                                               name                    units  f unitsshort                                        description copyright  \\\n",
      "0  EMISS.CO2-TOTV-IC-TO-US.A  Industrial carbon dioxide emissions, all fuels...  million metric tons CO2  A    mmt CO2  See http://www.eia.gov/environment/emissions/s...      None   \n",
      "0  EMISS.CO2-TOTV-IC-TO-US.A  Industrial carbon dioxide emissions, all fuels...  million metric tons CO2  A    mmt CO2  See http://www.eia.gov/environment/emissions/s...      None   \n",
      "0  EMISS.CO2-TOTV-IC-TO-US.A  Industrial carbon dioxide emissions, all fuels...  million metric tons CO2  A    mmt CO2  See http://www.eia.gov/environment/emissions/s...      None   \n",
      "0  EMISS.CO2-TOTV-IC-TO-US.A  Industrial carbon dioxide emissions, all fuels...  million metric tons CO2  A    mmt CO2  See http://www.eia.gov/environment/emissions/s...      None   \n",
      "0  EMISS.CO2-TOTV-IC-TO-US.A  Industrial carbon dioxide emissions, all fuels...  million metric tons CO2  A    mmt CO2  See http://www.eia.gov/environment/emissions/s...      None   \n",
      "0  EMISS.CO2-TOTV-IC-TO-US.A  Industrial carbon dioxide emissions, all fuels...  million metric tons CO2  A    mmt CO2  See http://www.eia.gov/environment/emissions/s...      None   \n",
      "0  EMISS.CO2-TOTV-IC-TO-US.A  Industrial carbon dioxide emissions, all fuels...  million metric tons CO2  A    mmt CO2  See http://www.eia.gov/environment/emissions/s...      None   \n",
      "0  EMISS.CO2-TOTV-IC-TO-US.A  Industrial carbon dioxide emissions, all fuels...  million metric tons CO2  A    mmt CO2  See http://www.eia.gov/environment/emissions/s...      None   \n",
      "0  EMISS.CO2-TOTV-IC-TO-US.A  Industrial carbon dioxide emissions, all fuels...  million metric tons CO2  A    mmt CO2  See http://www.eia.gov/environment/emissions/s...      None   \n",
      "0  EMISS.CO2-TOTV-IC-TO-US.A  Industrial carbon dioxide emissions, all fuels...  million metric tons CO2  A    mmt CO2  See http://www.eia.gov/environment/emissions/s...      None   \n",
      "0  EMISS.CO2-TOTV-IC-TO-US.A  Industrial carbon dioxide emissions, all fuels...  million metric tons CO2  A    mmt CO2  See http://www.eia.gov/environment/emissions/s...      None   \n",
      "0  EMISS.CO2-TOTV-IC-TO-US.A  Industrial carbon dioxide emissions, all fuels...  million metric tons CO2  A    mmt CO2  See http://www.eia.gov/environment/emissions/s...      None   \n",
      "0  EMISS.CO2-TOTV-IC-TO-US.A  Industrial carbon dioxide emissions, all fuels...  million metric tons CO2  A    mmt CO2  See http://www.eia.gov/environment/emissions/s...      None   \n",
      "0  EMISS.CO2-TOTV-IC-TO-US.A  Industrial carbon dioxide emissions, all fuels...  million metric tons CO2  A    mmt CO2  See http://www.eia.gov/environment/emissions/s...      None   \n",
      "0  EMISS.CO2-TOTV-IC-TO-US.A  Industrial carbon dioxide emissions, all fuels...  million metric tons CO2  A    mmt CO2  See http://www.eia.gov/environment/emissions/s...      None   \n",
      "0  EMISS.CO2-TOTV-IC-TO-US.A  Industrial carbon dioxide emissions, all fuels...  million metric tons CO2  A    mmt CO2  See http://www.eia.gov/environment/emissions/s...      None   \n",
      "0  EMISS.CO2-TOTV-IC-TO-US.A  Industrial carbon dioxide emissions, all fuels...  million metric tons CO2  A    mmt CO2  See http://www.eia.gov/environment/emissions/s...      None   \n",
      "0  EMISS.CO2-TOTV-IC-TO-US.A  Industrial carbon dioxide emissions, all fuels...  million metric tons CO2  A    mmt CO2  See http://www.eia.gov/environment/emissions/s...      None   \n",
      "0  EMISS.CO2-TOTV-IC-TO-US.A  Industrial carbon dioxide emissions, all fuels...  million metric tons CO2  A    mmt CO2  See http://www.eia.gov/environment/emissions/s...      None   \n",
      "0  EMISS.CO2-TOTV-IC-TO-US.A  Industrial carbon dioxide emissions, all fuels...  million metric tons CO2  A    mmt CO2  See http://www.eia.gov/environment/emissions/s...      None   \n",
      "0  EMISS.CO2-TOTV-IC-TO-US.A  Industrial carbon dioxide emissions, all fuels...  million metric tons CO2  A    mmt CO2  See http://www.eia.gov/environment/emissions/s...      None   \n",
      "0  EMISS.CO2-TOTV-IC-TO-US.A  Industrial carbon dioxide emissions, all fuels...  million metric tons CO2  A    mmt CO2  See http://www.eia.gov/environment/emissions/s...      None   \n",
      "0  EMISS.CO2-TOTV-IC-TO-US.A  Industrial carbon dioxide emissions, all fuels...  million metric tons CO2  A    mmt CO2  See http://www.eia.gov/environment/emissions/s...      None   \n",
      "0  EMISS.CO2-TOTV-IC-TO-US.A  Industrial carbon dioxide emissions, all fuels...  million metric tons CO2  A    mmt CO2  See http://www.eia.gov/environment/emissions/s...      None   \n",
      "0  EMISS.CO2-TOTV-IC-TO-US.A  Industrial carbon dioxide emissions, all fuels...  million metric tons CO2  A    mmt CO2  See http://www.eia.gov/environment/emissions/s...      None   \n",
      "0  EMISS.CO2-TOTV-IC-TO-US.A  Industrial carbon dioxide emissions, all fuels...  million metric tons CO2  A    mmt CO2  See http://www.eia.gov/environment/emissions/s...      None   \n",
      "0  EMISS.CO2-TOTV-IC-TO-US.A  Industrial carbon dioxide emissions, all fuels...  million metric tons CO2  A    mmt CO2  See http://www.eia.gov/environment/emissions/s...      None   \n",
      "0  EMISS.CO2-TOTV-IC-TO-US.A  Industrial carbon dioxide emissions, all fuels...  million metric tons CO2  A    mmt CO2  See http://www.eia.gov/environment/emissions/s...      None   \n",
      "0  EMISS.CO2-TOTV-IC-TO-US.A  Industrial carbon dioxide emissions, all fuels...  million metric tons CO2  A    mmt CO2  See http://www.eia.gov/environment/emissions/s...      None   \n",
      "0  EMISS.CO2-TOTV-IC-TO-US.A  Industrial carbon dioxide emissions, all fuels...  million metric tons CO2  A    mmt CO2  See http://www.eia.gov/environment/emissions/s...      None   \n",
      "0  EMISS.CO2-TOTV-IC-TO-US.A  Industrial carbon dioxide emissions, all fuels...  million metric tons CO2  A    mmt CO2  See http://www.eia.gov/environment/emissions/s...      None   \n",
      "0  EMISS.CO2-TOTV-IC-TO-US.A  Industrial carbon dioxide emissions, all fuels...  million metric tons CO2  A    mmt CO2  See http://www.eia.gov/environment/emissions/s...      None   \n",
      "0  EMISS.CO2-TOTV-IC-TO-US.A  Industrial carbon dioxide emissions, all fuels...  million metric tons CO2  A    mmt CO2  See http://www.eia.gov/environment/emissions/s...      None   \n",
      "0  EMISS.CO2-TOTV-IC-TO-US.A  Industrial carbon dioxide emissions, all fuels...  million metric tons CO2  A    mmt CO2  See http://www.eia.gov/environment/emissions/s...      None   \n",
      "0  EMISS.CO2-TOTV-IC-TO-US.A  Industrial carbon dioxide emissions, all fuels...  million metric tons CO2  A    mmt CO2  See http://www.eia.gov/environment/emissions/s...      None   \n",
      "0  EMISS.CO2-TOTV-IC-TO-US.A  Industrial carbon dioxide emissions, all fuels...  million metric tons CO2  A    mmt CO2  See http://www.eia.gov/environment/emissions/s...      None   \n",
      "0  EMISS.CO2-TOTV-IC-TO-US.A  Industrial carbon dioxide emissions, all fuels...  million metric tons CO2  A    mmt CO2  See http://www.eia.gov/environment/emissions/s...      None   \n",
      "0  EMISS.CO2-TOTV-IC-TO-US.A  Industrial carbon dioxide emissions, all fuels...  million metric tons CO2  A    mmt CO2  See http://www.eia.gov/environment/emissions/s...      None   \n",
      "\n",
      "                                        source iso3166 geography start   end                   updated                 data  \n",
      "0  EIA, U.S. Energy Information Administration  USA-US    USA-US  1980  2017  2019-10-30T13:20:11-0400   [2017, 993.786965]  \n",
      "0  EIA, U.S. Energy Information Administration  USA-US    USA-US  1980  2017  2019-10-30T13:20:11-0400   [2016, 968.546972]  \n",
      "0  EIA, U.S. Energy Information Administration  USA-US    USA-US  1980  2017  2019-10-30T13:20:11-0400   [2015, 974.001416]  \n",
      "0  EIA, U.S. Energy Information Administration  USA-US    USA-US  1980  2017  2019-10-30T13:20:11-0400   [2014, 988.493963]  \n",
      "0  EIA, U.S. Energy Information Administration  USA-US    USA-US  1980  2017  2019-10-30T13:20:11-0400   [2013, 984.991344]  \n",
      "0  EIA, U.S. Energy Information Administration  USA-US    USA-US  1980  2017  2019-10-30T13:20:11-0400    [2012, 956.27326]  \n",
      "0  EIA, U.S. Energy Information Administration  USA-US    USA-US  1980  2017  2019-10-30T13:20:11-0400   [2011, 944.930622]  \n",
      "0  EIA, U.S. Energy Information Administration  USA-US    USA-US  1980  2017  2019-10-30T13:20:11-0400    [2010, 940.85347]  \n",
      "0  EIA, U.S. Energy Information Administration  USA-US    USA-US  1980  2017  2019-10-30T13:20:11-0400   [2009, 859.462142]  \n",
      "0  EIA, U.S. Energy Information Administration  USA-US    USA-US  1980  2017  2019-10-30T13:20:11-0400   [2008, 970.962101]  \n",
      "0  EIA, U.S. Energy Information Administration  USA-US    USA-US  1980  2017  2019-10-30T13:20:11-0400  [2007, 1012.544171]  \n",
      "0  EIA, U.S. Energy Information Administration  USA-US    USA-US  1980  2017  2019-10-30T13:20:11-0400  [2006, 1020.683598]  \n",
      "0  EIA, U.S. Energy Information Administration  USA-US    USA-US  1980  2017  2019-10-30T13:20:11-0400  [2005, 1013.708645]  \n",
      "0  EIA, U.S. Energy Information Administration  USA-US    USA-US  1980  2017  2019-10-30T13:20:11-0400  [2004, 1057.969796]  \n",
      "0  EIA, U.S. Energy Information Administration  USA-US    USA-US  1980  2017  2019-10-30T13:20:11-0400     [2003, 1034.958]  \n",
      "0  EIA, U.S. Energy Information Administration  USA-US    USA-US  1980  2017  2019-10-30T13:20:11-0400  [2002, 1039.637338]  \n",
      "0  EIA, U.S. Energy Information Administration  USA-US    USA-US  1980  2017  2019-10-30T13:20:11-0400  [2001, 1052.873413]  \n",
      "0  EIA, U.S. Energy Information Administration  USA-US    USA-US  1980  2017  2019-10-30T13:20:11-0400  [2000, 1086.240564]  \n",
      "0  EIA, U.S. Energy Information Administration  USA-US    USA-US  1980  2017  2019-10-30T13:20:11-0400  [1999, 1082.733667]  \n",
      "0  EIA, U.S. Energy Information Administration  USA-US    USA-US  1980  2017  2019-10-30T13:20:11-0400  [1998, 1115.183666]  \n",
      "0  EIA, U.S. Energy Information Administration  USA-US    USA-US  1980  2017  2019-10-30T13:20:11-0400  [1997, 1163.831454]  \n",
      "0  EIA, U.S. Energy Information Administration  USA-US    USA-US  1980  2017  2019-10-30T13:20:11-0400  [1996, 1149.657984]  \n",
      "0  EIA, U.S. Energy Information Administration  USA-US    USA-US  1980  2017  2019-10-30T13:20:11-0400  [1995, 1116.565545]  \n",
      "0  EIA, U.S. Energy Information Administration  USA-US    USA-US  1980  2017  2019-10-30T13:20:11-0400  [1994, 1104.905789]  \n",
      "0  EIA, U.S. Energy Information Administration  USA-US    USA-US  1980  2017  2019-10-30T13:20:11-0400  [1993, 1085.491917]  \n",
      "0  EIA, U.S. Energy Information Administration  USA-US    USA-US  1980  2017  2019-10-30T13:20:11-0400  [1992, 1087.545623]  \n",
      "0  EIA, U.S. Energy Information Administration  USA-US    USA-US  1980  2017  2019-10-30T13:20:11-0400  [1991, 1051.996135]  \n",
      "0  EIA, U.S. Energy Information Administration  USA-US    USA-US  1980  2017  2019-10-30T13:20:11-0400  [1990, 1079.404654]  \n",
      "0  EIA, U.S. Energy Information Administration  USA-US    USA-US  1980  2017  2019-10-30T13:20:11-0400  [1989, 1054.221809]  \n",
      "0  EIA, U.S. Energy Information Administration  USA-US    USA-US  1980  2017  2019-10-30T13:20:11-0400  [1988, 1052.552918]  \n",
      "0  EIA, U.S. Energy Information Administration  USA-US    USA-US  1980  2017  2019-10-30T13:20:11-0400    [1987, 998.40543]  \n",
      "0  EIA, U.S. Energy Information Administration  USA-US    USA-US  1980  2017  2019-10-30T13:20:11-0400   [1986, 970.401356]  \n",
      "0  EIA, U.S. Energy Information Administration  USA-US    USA-US  1980  2017  2019-10-30T13:20:11-0400   [1985, 995.666866]  \n",
      "0  EIA, U.S. Energy Information Administration  USA-US    USA-US  1980  2017  2019-10-30T13:20:11-0400  [1984, 1043.743777]  \n",
      "0  EIA, U.S. Energy Information Administration  USA-US    USA-US  1980  2017  2019-10-30T13:20:11-0400    [1983, 952.57514]  \n",
      "0  EIA, U.S. Energy Information Administration  USA-US    USA-US  1980  2017  2019-10-30T13:20:11-0400   [1982, 1000.25875]  \n",
      "0  EIA, U.S. Energy Information Administration  USA-US    USA-US  1980  2017  2019-10-30T13:20:11-0400  [1981, 1144.074754]  \n",
      "0  EIA, U.S. Energy Information Administration  USA-US    USA-US  1980  2017  2019-10-30T13:20:11-0400  [1980, 1233.703009]  \n"
     ]
    }
   ],
   "source": [
    "for key in eia_queries.keys():\n",
    "    print(key, df_data[key])"
   ]
  },
  {
   "cell_type": "markdown",
   "metadata": {},
   "source": [
    "### Product Processing Blocks\n",
    "Each product to be processed is broken into seperate blocks below due to the slight differences  \n",
    "either in product units of measure or in the case of the Scripps data, small differences in the  \n",
    "file content. When possible product processing is combined to reduce code duplication.  \n",
    "\n",
    "[Top of Page](#top)"
   ]
  },
  {
   "cell_type": "markdown",
   "metadata": {},
   "source": [
    "## Crude Oil Block"
   ]
  },
  {
   "cell_type": "code",
   "execution_count": null,
   "metadata": {},
   "outputs": [],
   "source": [
    "df_oil = df_data['US_OIL_ANNUAL'][['unitsshort','data']]\n",
    "\n",
    "df_oil = pd.DataFrame(df_oil.data.values.tolist(), index=df_oil.index, columns=['Year', 'MBBLS'])\n",
    "\n",
    "df_oil = df_oil.astype({'Year': 'int64', 'MBBLS': 'float64'})\n",
    "\n",
    "df_oil['Year'] = pd.to_datetime(df_oil['Year'], format='%Y')\n",
    "\n",
    "df_oil.reset_index(drop=True, inplace=True,)\n",
    "\n",
    "df_oil['Year'] = pd.DatetimeIndex(df_oil['Year']).year\n",
    "\n",
    "df_oil.head(20)"
   ]
  },
  {
   "cell_type": "code",
   "execution_count": null,
   "metadata": {},
   "outputs": [],
   "source": [
    "df_oil.to_csv(data_eia+'us_oil_annual.csv', header=True, index=False, )\n",
    "df_oil.to_csv(data_591+'us_oil_annual.csv', header=True, index=False, sep='|')"
   ]
  },
  {
   "cell_type": "markdown",
   "metadata": {},
   "source": [
    "## Natural Gas and Vented/Flared Block"
   ]
  },
  {
   "cell_type": "code",
   "execution_count": 13,
   "metadata": {},
   "outputs": [],
   "source": [
    "for key in eia_queries.keys():\n",
    "\n",
    "    name = key.lower()\n",
    "\n",
    "    df_gas = df_data[key][['unitsshort','data']]\n",
    "\n",
    "    df_gas = df_gas[['unitsshort', 'data']]\n",
    "\n",
    "    df_gas = pd.DataFrame(df_gas.data.values.tolist(), index=df_gas.index, columns=['Year', 'MMCF'])\n",
    "\n",
    "    df_gas = df_gas.astype({'Year': 'int64', 'MMCF': 'float64'})\n",
    "\n",
    "    df_gas['Year'] = pd.to_datetime(df_gas['Year'], format='%Y')\n",
    "\n",
    "    df_gas.reset_index(drop=True, inplace=True)\n",
    "\n",
    "    df_gas['Year']=pd.DatetimeIndex(df_gas['Year']).year\n",
    "\n",
    "    df_gas['MBOE'] = (df_gas['MMCF'].values / 6000 * 1000)\n",
    "\n",
    "    df_gas['MBOE'] = df_gas['MBOE'].round(1)\n",
    "\n",
    "    df_gas.head(20)\n",
    "\n",
    "    df_gas.to_csv(data_eia + name+'.csv', header=True, index=False)\n",
    "    df_gas.to_csv(data_591 + name+'.csv', header=True, index=False, sep='|')"
   ]
  },
  {
   "cell_type": "markdown",
   "metadata": {},
   "source": [
    "## Natural Gas, Oil, and Industrial Emissions Block"
   ]
  },
  {
   "cell_type": "code",
   "execution_count": null,
   "metadata": {},
   "outputs": [],
   "source": [
    "for key in eia_queries.keys():\n",
    "\n",
    "    name = key.lower()\n",
    "\n",
    "    df_em = df_data[key][['unitsshort','data']]\n",
    "\n",
    "    df_em = pd.DataFrame(df_em.data.values.tolist(), index=df_em.index, columns=['Year', 'mmt CO2'])\n",
    "\n",
    "    df_em = df_em.astype({'Year': 'int64', 'mmt CO2': 'float64'})\n",
    "\n",
    "    df_em['Year'] = pd.to_datetime(df_em['Year'], format='%Y')\n",
    "\n",
    "    df_em.rename(columns={'mmt CO2': 'mmt_CO2'}, inplace=True)\n",
    "\n",
    "    df_em.reset_index(drop=True, inplace=True,)\n",
    "\n",
    "    df_em['Year'] = pd.DatetimeIndex(df_em['Year']).year\n",
    "\n",
    "    print(name, df_em.head(20))\n",
    "\n",
    "    df_em.to_csv(data_eia+name+'.csv', header=True, index=False, )\n",
    "    df_em.to_csv(data_591+name+'.csv', header=True, index=False, sep='|')"
   ]
  },
  {
   "cell_type": "markdown",
   "metadata": {},
   "source": [
    "## Scripps Atomospheric Concentrations Block"
   ]
  },
  {
   "cell_type": "markdown",
   "metadata": {},
   "source": [
    "### All Scripps (SIO) data was obtained from noaa.gov\n",
    "https://www.esrl.noaa.gov/gmd/ccgg/trends/data.html  \n",
    "\n",
    "Because the production data is based on yearly totals, the concentration value<br>used is taken from the December reading as the summation of the current year.  \n",
    "\n",
    "[Top of Page](#top)"
   ]
  },
  {
   "cell_type": "markdown",
   "metadata": {},
   "source": [
    "**CO2 URL ->** ftp://aftp.cmdl.noaa.gov/products/trends/co2/co2_mm_mlo.txt"
   ]
  },
  {
   "cell_type": "code",
   "execution_count": 33,
   "metadata": {},
   "outputs": [],
   "source": [
    "header = ['Year', 'month', 'decimal_date', 'average_ppm', 'interpolated_ppm', 'trend_ppm', 'num_days']\n",
    "\n",
    "df_co2 = pd.read_csv(data_scripps+'co2_mm_mlo.txt', delimiter=r'\\s+', comment='#', names=header)\n",
    "\n",
    "df_co2.sort_values(by=['Year', 'month'], ascending=False, inplace=True)\n",
    "\n",
    "df_co2.head()"
   ]
  },
  {
   "cell_type": "code",
   "execution_count": 35,
   "metadata": {},
   "outputs": [],
   "source": [
    "df_co2.to_csv(data_scripps + 'atmos_conc_co2_csv', header=True, index=False, sep=',')\n",
    "df_co2.to_csv(data_591 + 'atmos_conc_co2.csv', header=True, index=False, sep='|')"
   ]
  },
  {
   "cell_type": "markdown",
   "metadata": {},
   "source": [
    "## Scripps CH4 Concentration Block"
   ]
  },
  {
   "cell_type": "markdown",
   "metadata": {},
   "source": [
    "**CH4 URL ->** ftp://aftp.cmdl.noaa.gov/products/trends/ch4/ch4_mm_gl.txt  "
   ]
  },
  {
   "cell_type": "code",
   "execution_count": 36,
   "metadata": {},
   "outputs": [],
   "source": [
    "header = ['Year', 'month', 'decimal_date', 'average_ppb', 'average_unc', 'trend_ppb', 'trend_unc']\n",
    "\n",
    "df_ch4 = pd.read_csv(data_scripps+'ch4_mm_gl.txt', delimiter=r'\\s+', comment='#', names=header)\n",
    "\n",
    "df_ch4.sort_values(by=['Year', 'month'], ascending=False, inplace=True)\n",
    "\n",
    "df_ch4.head()"
   ]
  },
  {
   "cell_type": "code",
   "execution_count": 38,
   "metadata": {},
   "outputs": [],
   "source": [
    "df_ch4.to_csv(data_scripps + 'atmos_conc_ch4.csv', header=True, index=False, sep=',')\n",
    "df_ch4.to_csv(data_591 + 'atmos_conc_ch4.csv', header=True, index=False, sep='|')"
   ]
  },
  {
   "cell_type": "markdown",
   "metadata": {},
   "source": [
    "## Scripps N2O Concentration Block"
   ]
  },
  {
   "cell_type": "markdown",
   "metadata": {},
   "source": [
    "**N2O URL ->** ftp://aftp.cmdl.noaa.gov/products/trends/n2o/n2o_mm_gl.txt"
   ]
  },
  {
   "cell_type": "code",
   "execution_count": 39,
   "metadata": {},
   "outputs": [],
   "source": [
    "header = ['Year', 'month', 'decimal_date', 'average_ppb', 'average_unc', 'trend_ppb', 'trend_unc']\n",
    "\n",
    "df_n2o = pd.read_csv(data_scripps+'n2o_mm_gl.txt', delimiter=r'\\s+', comment='#', names=header)\n",
    "\n",
    "df_n2o.sort_values(by=['Year', 'month'], ascending=False, inplace=True)\n",
    "\n",
    "df_n2o.head()"
   ]
  },
  {
   "cell_type": "code",
   "execution_count": 41,
   "metadata": {},
   "outputs": [],
   "source": [
    "df_n2o.to_csv(data_scripps + 'atmos_conc_n2o.csv', header=True, index=False, sep=',')\n",
    "df_n2o.to_csv(data_591 + 'atmos_conc_n2o.csv', header=True, index=False, sep='|')"
   ]
  },
  {
   "cell_type": "markdown",
   "metadata": {},
   "source": [
    "### End of processing\n",
    "\n",
    "[Top of Page](#top)"
   ]
  },
  {
   "cell_type": "code",
   "execution_count": null,
   "metadata": {},
   "outputs": [],
   "source": []
  }
 ],
 "metadata": {
  "kernelspec": {
   "display_name": "Python 3",
   "language": "python",
   "name": "python3"
  },
  "language_info": {
   "codemirror_mode": {
    "name": "ipython",
    "version": 3
   },
   "file_extension": ".py",
   "mimetype": "text/x-python",
   "name": "python",
   "nbconvert_exporter": "python",
   "pygments_lexer": "ipython3",
   "version": "3.7.6"
  }
 },
 "nbformat": 4,
 "nbformat_minor": 4
}
