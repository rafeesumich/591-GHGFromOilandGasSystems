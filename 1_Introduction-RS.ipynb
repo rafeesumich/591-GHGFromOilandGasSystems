{
 "cells": [
  {
   "cell_type": "markdown",
   "metadata": {},
   "source": [
    "<a id='1_rs'></a>"
   ]
  },
  {
   "cell_type": "markdown",
   "metadata": {},
   "source": [
    "# SIADS 591-592 Milestone 1 Project\n",
    "## Greenhouse Gas (GHG) Emissions from Upstream and Midstream US Oil and Gas Operations\n",
    "\n",
    "By Rafee Shaik and Gregory Myers\n",
    "<br>April-May 2020"
   ]
  },
  {
   "cell_type": "markdown",
   "metadata": {},
   "source": [
    "<a id='toc'></a>"
   ]
  },
  {
   "cell_type": "markdown",
   "metadata": {},
   "source": [
    "## Table of Contents  \n",
    "* [Project Overview](#project_overview)\n",
    "* [Project Motivation](#project_motivation)  \n",
    "* [Contributing Efforts](#contributions)  \n",
    "* [Project Data Sourcing](#data_sources)  \n",
    "* [Data Manipulation](#data_manipulation)  \n",
    "* [Analysis and Visualization](#analysis)  "
   ]
  },
  {
   "cell_type": "markdown",
   "metadata": {},
   "source": [
    "<a id='project_overview'></a>"
   ]
  },
  {
   "cell_type": "markdown",
   "metadata": {},
   "source": [
    "## Project Overview\n",
    "* The purpose of this project is to examine established Greenhouse Gas (GHG) Emissions data and determine if there is a correlation between accelerated hydrocarbon (Crude oil and Natural gas) production through horizontal drilling and hydraulic fracturing in the most recent decade and GHG emissions rates.  \n",
    "* If a correlation is found, additional analysis may be able to reveal the causal source. The project will focus on three GHGs, Carbon-Dioxide (CO2), Methane (CH4), and Nitrous-Oxide (N2O).  \n",
    "\n",
    "[Top of Page](#1_rs)"
   ]
  },
  {
   "cell_type": "markdown",
   "metadata": {},
   "source": [
    "<a id='project_motivation'></a>"
   ]
  },
  {
   "cell_type": "markdown",
   "metadata": {},
   "source": [
    "## Project Motivation: \n",
    "There has been an increase in US hydrocarbons production since the shale boom that started in 2007/2008 (Fig-1). US hydrocarbon production in the US increased steadily since then, this increase in production led to an increase in GHG emissions from Upstream and Midstream operations of Oil and Gas companies.  \n",
    "\n",
    "It is in every stakeholder's interest to control these emissions while optimizing the production. These stakeholders include the operating company, environmental protection agencies, and local and federal governments.  \n",
    "\n",
    "The goal of the study is to find any correlation between increased hydrocarbon production and industry sector GHG emissions? Does the correlation apply to the industry as a whole or one or more individual components?  \n",
    "\n",
    "This study can also lead to identifying the opportunities to improve the pipeline infrastructure and invest in pneumatic devices that can detect and prevent hydrocarbon emissions.  \n",
    "\n",
    "Both the project team members work in the Oil and Gas industry and are intrigued to find opportunities to reduce GHG emissions while optimizing the production.  \n",
    "\n",
    "[Top of Page](#top)"
   ]
  },
  {
   "cell_type": "markdown",
   "metadata": {},
   "source": [
    "<a id='contributions'></a>\n",
    "## Project Work Contributions\n",
    "The Greenhouse Gas Emissions investigation team is composed of Rafee Shaik and Greg Myers, UMSI MADS students. Both members have professional backgrounds in domestic Crude Oil and Natural Gas production.  \n",
    "\n",
    "Rafee Shaik has the title of Project Lead for this analysis  \n",
    "\n",
    "\n",
    "Gregory Myers has contributed the collection and processing of natural gas and crude oil production data, atmospheric GHG data, energy and industrial sectors emissions data. In addition to the data collection process Gregory has also contributed the following to the project: historical production and GHG concentration visualizations, production versus sector emissions, and industry top GHG emitters visualizations. Finally preparation of the skeletal layout of the JupyterLab notebook presentation which will also receive significant contribution from Rafee Shaik.  \n",
    "\n",
    "[Top of Page](#top)"
   ]
  },
  {
   "cell_type": "markdown",
   "metadata": {},
   "source": [
    "<a id='data_sources'></a>\n",
    "## Project Data Sourcing"
   ]
  },
  {
   "cell_type": "markdown",
   "metadata": {},
   "source": [
    "Production data has been sources from the Energy Information Administration (EIA) with annual production records dating back to 1859 and 1936 for crude oil and natural gas repsectively. The data was drawn from the EIA via public API and presented in JSON format. \n",
    "\n",
    "\n",
    "[Top of Page](#top)"
   ]
  },
  {
   "cell_type": "markdown",
   "metadata": {},
   "source": [
    "<a id=data_manipulation></a>\n",
    "## Data Manipulation\n",
    "\n",
    "[Pre-Processing, Rafee Shaik](2_PreProcessing_RS.ipynb)  \n",
    "\n",
    "\n",
    "\n",
    "[Pre-Processing, Gregory Myers](2.2_PreProcessing_GM.ipynb)  \n"
   ]
  },
  {
   "cell_type": "markdown",
   "metadata": {},
   "source": [
    "<a id='analysis'></a>\n",
    "## Data Analysis and Visualization\n",
    "#### Rafee Shaik\n",
    "\n",
    "The data analysis and visualization notebooks can be found here.\n",
    "\n",
    "\n",
    "\n",
    "\n",
    "#### Gregory Myers\n",
    "\n",
    "[EIA Data Plots, Gregory Myers](3.2_EIA_Plots_GM.ipynb)  \n",
    "\n",
    "\n"
   ]
  },
  {
   "cell_type": "markdown",
   "metadata": {},
   "source": [
    "[Top of Page](#1_rs_top)"
   ]
  },
  {
   "cell_type": "code",
   "execution_count": null,
   "metadata": {},
   "outputs": [],
   "source": []
  }
 ],
 "metadata": {
  "kernelspec": {
   "display_name": "Python 3",
   "language": "python",
   "name": "python3"
  },
  "language_info": {
   "codemirror_mode": {
    "name": "ipython",
    "version": 3
   },
   "file_extension": ".py",
   "mimetype": "text/x-python",
   "name": "python",
   "nbconvert_exporter": "python",
   "pygments_lexer": "ipython3",
   "version": "3.7.6"
  }
 },
 "nbformat": 4,
 "nbformat_minor": 4
}
