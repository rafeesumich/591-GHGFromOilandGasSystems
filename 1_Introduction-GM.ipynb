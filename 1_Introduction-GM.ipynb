{
 "cells": [
  {
   "cell_type": "markdown",
   "metadata": {},
   "source": [
    "<a id='1-gm'></a>"
   ]
  },
  {
   "cell_type": "markdown",
   "metadata": {},
   "source": [
    "# Effects of Enhanced Hydrocarbon Extraction Technologies on Greenhouse Gas Emissions from Upstream and Midstream Oil and Gas Industry"
   ]
  },
  {
   "cell_type": "markdown",
   "metadata": {},
   "source": [
    "## Table of Contents  \n",
    "* [Project Motivation](#project_motivation)  \n",
    "* [Contributing Efforts](#contributions)  \n",
    "* [Project Data Sourcing](#data_sources)  \n",
    "* [Data Manipulation](#data_manipulation)  \n",
    "* [Historical Analysis and Visualization](#gm_analysis)  \n",
    "* [Data Analysis and Visualization](#rs_analysis)"
   ]
  },
  {
   "cell_type": "markdown",
   "metadata": {},
   "source": [
    "<a id='project_motivation'></a>"
   ]
  },
  {
   "cell_type": "markdown",
   "metadata": {},
   "source": [
    "## Project Motivation"
   ]
  },
  {
   "cell_type": "markdown",
   "metadata": {},
   "source": [
    "The purpose of this project is to examine established Greenhouse Gas (GHG) Emissions data\n",
    "and determine if there is a correlation between accelerated hydrocarbon (Crude oil and Natural\n",
    "gas) production through horizontal drilling and hydraulic fracturing in the most recent decade\n",
    "and GHG emissions rates. If a correlation is found, additional analysis may be able to reveal the\n",
    "causal source. The project will focus on three GHGs, Carbon-Dioxide (CO2), Methane (CH4), and\n",
    "Nitrous-Oxide (N2O).  \n",
    "\n",
    "The analysis of this project is likely to create more questions than answers. The primary reason for this is that energy production, usage, and the associated emissions is a very complicated environment with many moving parts. While some component factors may be increasing in usage or emissions, others may be seeing improvements in efficiency and utilization."
   ]
  },
  {
   "cell_type": "markdown",
   "metadata": {},
   "source": [
    "[Top of Page](#top)\n",
    "<a id='contributions'></a>"
   ]
  },
  {
   "cell_type": "markdown",
   "metadata": {},
   "source": [
    "## Project Work Contributions\n",
    "The Greenhouse Gas Emissions investigation team is composed of **Rafee Shaik** and **Gregory Myers**, **UMSI MADS** students. Both members have professional backgrounds in domestic Crude Oil and Natural Gas production.  \n",
    "\n",
    "### Rafee Shaik\n",
    "Rafee Shaik has the title of Project Lead for this analysis  \n",
    "\n",
    "### Gregory Myers\n",
    "Gregory Myers has contributed the collection and processing of natural gas and crude oil production data, atmospheric GHG data, energy and industrial sectors emissions data. In addition to the data collection process Gregory has also contributed the following to the project: historical production and GHG concentration visualizations, production versus sector emissions, and industry top GHG emitters visualizations. Finally, preparation of the skeletal layout of the JupyterLab notebook presentation which will also receive significant contribution from Rafee Shaik.  \n"
   ]
  },
  {
   "cell_type": "markdown",
   "metadata": {},
   "source": [
    "[Top of Page](#top)\n",
    "<a id='data_sources'></a>"
   ]
  },
  {
   "cell_type": "markdown",
   "metadata": {},
   "source": [
    "## Project Data Sourcing"
   ]
  },
  {
   "cell_type": "markdown",
   "metadata": {},
   "source": [
    "### Rafee Shaik\n",
    "\n",
    "\n",
    "### Gregory Myers\n",
    "Data has been obtained from Energy Information Administration (EIA) eia.gov and  \n",
    "the Scripps Institution of Oceanography (SIO) at the University of California, San Diego. scrippsco2.ucsd.edu  \n",
    "The emissions data is focused on the Greenhouse Gases (GHG) Carbon-Dioxide (CO2), Methane (CH4) and Nitrous-Oxide (N2O).  \n",
    "\n",
    "**The following datasets are queried directly by API from the EIA website in JSON format (product, date range)**\n",
    "* Annual U.S. Crude Oil Production (EIA)  1859-2019\n",
    "* Annual U.S. Natural Gas Production (EIA)  1936-2019\n",
    "* Annual U.S. Natural Gas, Vented and Flared (EIA)  1936-2018\n",
    "* Annual U.S. Natural Gas Sector CO2 Emissions (EIA)  1980-2017\n",
    "* Annual U.S. Crude Oil Sector CO2 Emissions (EIA)  1980-2017\n",
    "* Annual U.S. Industrial CO2 Emissions (EIA)  1980-2017  \n",
    "\n",
    "The data was drawn from the EIA public API and presented in JSON format.  \n",
    "\n",
    "**The Scripps datasets are manually downloaded from noaa.gov in text format (product, date range)**\n",
    "* Annual Atmospheric CO2 Concentration (SIO)  1958-2019\n",
    "* Annual Atmospheric CH4 Concentration (SIO)  1983-2019\n",
    "* Annual Atmospheric N2O Concentration (SIO)  2001-2019\n"
   ]
  },
  {
   "cell_type": "markdown",
   "metadata": {},
   "source": [
    "[Top of Page](#top)\n",
    "<a id=data_manipulation></a>"
   ]
  },
  {
   "cell_type": "markdown",
   "metadata": {},
   "source": [
    "## Data Manipulation\n",
    "\n",
    "### Rafee Shaik\n",
    "\n",
    "explanation here\n",
    "\n",
    "[Pre-Processing, Rafee Shaik](2.1_PreProcessing_RS.ipynb)  \n",
    "\n",
    "\n",
    "### Gregory Myers\n",
    "**EIA Data**  \n",
    "The EIA JSON data contains considerable redundency in the data mostly in the form of metadata. The primary  \n",
    "component of interest is a list field that contains the date and product data which is processed in pandas  \n",
    "to extract the required data and save to CSV in two formats; comma (,) and pipe (|) seperated.  \n",
    "\n",
    "The EIA production data records crude oil volumes in units of thousand barrels of oil and emissions data  \n",
    "in metric tons of CO2 equivilent.\n",
    "\n",
    "**SIO Data**  \n",
    "The SIO text files containing the GHG concentration data are read into a pandas dataframe, skipping comment lines  \n",
    "and importing only the space seperated data. A header is added and the the data is ready for export, again to  \n",
    "CSV in two formats as above.  \n",
    "\n",
    "The SIO concentratin data is recorded in Parts Per Million (ppm) for CO2 gas and Parts Per Billion (ppb) for CH4 and N2O.  \n",
    "\n",
    "**Final Product** \n",
    "In total nine datasets are produced by this notebook in two formats for a total of 18 CSV files.  \n",
    "[Pre-Processing, Gregory Myers](2.2_PreProcessing_GM.ipynb)  \n"
   ]
  },
  {
   "cell_type": "markdown",
   "metadata": {},
   "source": [
    "[Top of Page](#top)\n",
    "<a id='gm_analysis'></a>"
   ]
  },
  {
   "cell_type": "markdown",
   "metadata": {},
   "source": [
    "## History, Visualizations, and Analysis"
   ]
  },
  {
   "cell_type": "markdown",
   "metadata": {},
   "source": [
    "#### Gregory Myers\n",
    "\n",
    "The U.S. hydrocarbon extraction industry sees it beginings 1825 when a well began producing natural gas in Fredonia, New York (Morris, 2016. In 1859 Edwin Drake and the Seneca Oil Company drilled the first U.S. commercial oil well in Pennsylvania (Aoghs.org, 2016). From that time on the U.S. has been firmly committed to the exploration and production of natural gas and crude oil as plentiful sources of energy and a multitude of other products. [Production History](3.2_EIA_Plots_GM.ipynb/#prod_history)  \n",
    "\n",
    "\n",
    "The primary by-product of hyrocarbon or fossil fuel combustion is Carbon-Dioxide (CO2) gas. The Scripps Institution of Oceanography has since the late 1950's collected data on CO2 concentrations in the atmosphere. The evidence is irrefutable that CO2 levels have risen since that first data point was taken in  \n",
    "[CO2 Concentration](3.2_EIA_Plots_GM.ipynb/#co2_conc)  \n",
    "\n",
    "\n",
    "[EIA Data Plots, Gregory Myers](3.2_EIA_Plots_GM.ipynb)  "
   ]
  },
  {
   "cell_type": "markdown",
   "metadata": {},
   "source": [
    "<a id='rs_analysis'></a>"
   ]
  },
  {
   "cell_type": "markdown",
   "metadata": {},
   "source": [
    "#### Rafee Shaik\n",
    "\n",
    "The data analysis and visualization notebooks can be found here."
   ]
  },
  {
   "cell_type": "markdown",
   "metadata": {},
   "source": [
    "[Top of Page](#top)"
   ]
  },
  {
   "cell_type": "markdown",
   "metadata": {},
   "source": [
    "#### References\n",
    "Aoghs.org. (2016, 04 16). First American Oil Well. Retrieved from American Oil & Gas Historical Society: https://www.aoghs.org/petroleum-pioneers/american-oil-history/  \n",
    "Morris, G. D. (2016, 12 28). First Gas Well In US Was 1825 In New York. Retrieved from hartenergy.com: https://www.hartenergy.com/exclusives/first-gas-well-us-was-1825-new-york-29483  \n"
   ]
  },
  {
   "cell_type": "code",
   "execution_count": null,
   "metadata": {},
   "outputs": [],
   "source": []
  }
 ],
 "metadata": {
  "kernelspec": {
   "display_name": "Python 3",
   "language": "python",
   "name": "python3"
  },
  "language_info": {
   "codemirror_mode": {
    "name": "ipython",
    "version": 3
   },
   "file_extension": ".py",
   "mimetype": "text/x-python",
   "name": "python",
   "nbconvert_exporter": "python",
   "pygments_lexer": "ipython3",
   "version": "3.7.6"
  }
 },
 "nbformat": 4,
 "nbformat_minor": 4
}
