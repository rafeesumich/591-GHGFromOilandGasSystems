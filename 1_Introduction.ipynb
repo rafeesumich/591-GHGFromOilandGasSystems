{
 "cells": [
  {
   "cell_type": "markdown",
   "metadata": {},
   "source": [
    "<a id='1'></a>"
   ]
  },
  {
   "cell_type": "markdown",
   "metadata": {},
   "source": [
    "# SIADS 591-592 Milestone 1 Project\n",
    "## Greenhouse Gas (GHG) Emissions from Upstream and Midstream US Oil and Gas Operations\n",
    "\n",
    "By Rafee Shaik and Gregory Myers<br>April-May 2020"
   ]
  },
  {
   "cell_type": "markdown",
   "metadata": {},
   "source": [
    "## Table of Contents  "
   ]
  },
  {
   "cell_type": "markdown",
   "metadata": {},
   "source": [
    "* [Document Viewing Suggestions](1_Introduction.ipynb/#doc_view)\n",
    "* [Project Overview](1_Introduction.ipynb/#project_overview)\n",
    "* [Project Motivation](1_Introduction.ipynb/#project_motivation)\n",
    "* [Contributing Efforts](1_Introduction.ipynb/#contributions)\n",
    "* [Project Data Sourcing](1_Introduction.ipynb/#data_sources)\n",
    "* [Data Manipulation](1_Introduction.ipynb/#data_manipulation)\n",
    "* [Historical Analysis and Visualization](1_Introduction.ipynb/#gm_analysis)\n",
    "* [Data Analysis and Visualization](1_Introduction.ipynb/#rs_analysis)"
   ]
  },
  {
   "cell_type": "markdown",
   "metadata": {},
   "source": [
    "<a id='doc_view'></a>"
   ]
  },
  {
   "cell_type": "markdown",
   "metadata": {},
   "source": [
    "## Document Viewing Suggestions  \n",
    "\n",
    "This document is best viewed using **JupyterLab** version 2.1.x."
   ]
  },
  {
   "cell_type": "markdown",
   "metadata": {},
   "source": [
    "[Top of Page](1_Introduction.ipynb/#1)"
   ]
  },
  {
   "cell_type": "markdown",
   "metadata": {},
   "source": [
    "## Project Overview\n",
    "* The purpose of this project is to examine established Greenhouse Gas (GHG) Emissions data and determine if there is a correlation between accelerated hydrocarbon (Crude oil and Natural gas) production through horizontal drilling and hydraulic fracturing in the most recent decade and GHG emissions rates.  \n",
    "* If a correlation is found, additional analysis may be able to reveal the causal source. The project will focus on three GHGs, Carbon-Dioxide (CO2), Methane (CH4), and Nitrous-Oxide (N2O).  "
   ]
  },
  {
   "cell_type": "markdown",
   "metadata": {},
   "source": [
    "[Top of Page](1_Introduction.ipynb/#1)\n",
    "<a id='project_motivation'></a>"
   ]
  },
  {
   "cell_type": "markdown",
   "metadata": {},
   "source": [
    "## Project Motivation: \n",
    "There has been an increase in US hydrocarbons production since the shale boom that started in 2007/2008 (Fig-1). US hydrocarbon production in the US increased steadily since then, this increase in production led to an increase in GHG emissions from Upstream and Midstream operations of Oil and Gas companies.  \n",
    "\n",
    "It is in every stakeholder's interest to control these emissions while optimizing the production. These stakeholders include the operating company, environmental protection agencies, and local and federal governments.  \n",
    "\n",
    "The goal of the study is to find any correlation between increased hydrocarbon production and industry sector GHG emissions? Does the correlation apply to the industry as a whole or one or more individual components?  \n",
    "\n",
    "This study can also lead to identifying the opportunities to improve the pipeline infrastructure and invest in pneumatic devices that can detect and prevent hydrocarbon emissions.  \n",
    "\n",
    "Both the project team members work in the Oil and Gas industry and are intrigued to find opportunities to reduce GHG emissions while optimizing the production."
   ]
  },
  {
   "cell_type": "markdown",
   "metadata": {},
   "source": [
    "<a id='contributions'></a>"
   ]
  },
  {
   "cell_type": "markdown",
   "metadata": {},
   "source": [
    "[Top of Page](1_Introduction.ipynb/#1)"
   ]
  },
  {
   "cell_type": "markdown",
   "metadata": {},
   "source": [
    "## Project Work Contributions  \n",
    "\n",
    "The Greenhouse Gas Emissions investigation team is composed of **Rafee Shaik** and **Gregory Myers**, **UMSI MADS** students. Both members have professional backgrounds in domestic Crude Oil and Natural Gas production. \n",
    "\n",
    "### Rafee Shaik\n",
    "Rafee Shaik has the title of Project Lead for this analysis  \n",
    "\n",
    "### Gregory Myers\n",
    "Gregory Myers has contributed the collection and processing of natural gas and crude oil production data, atmospheric GHG data, energy and industrial sectors emissions data. In addition to the data collection process Gregory has also contributed the following to the project: historical production and GHG concentration visualizations, production versus sector emissions, and industry top GHG emitters visualizations. Finally, preparation of the skeletal layout of the JupyterLab notebook presentation which will also receive significant contribution from Rafee Shaik."
   ]
  },
  {
   "cell_type": "markdown",
   "metadata": {},
   "source": [
    "[Top of Page](1_Introduction.ipynb/#1)\n",
    "<a id='data_sources'></a>"
   ]
  },
  {
   "cell_type": "markdown",
   "metadata": {},
   "source": [
    "## Project Data Sourcing  \n",
    "### Rafee Shaik  \n",
    "<b>Greenhouse Gas Emissions Data</b>\n",
    "<br><b>Source:</b> US Oil and Gas Upstream (Exploration & Production) and Midstream (Pipelines and Storage) facilities can be accessed from the U.S. Environmental Protection Agency (EPA) FLIGHT database.\n",
    "<br><b>Location:</b> https://ghgdata.epa.gov/ghgp/main.do\n",
    "<br><b>Access Method:</b> Facility Level Information on GreenHouse gases Tool (FLIGHT) database can be accessed through the website: https://ghgdata.epa.gov/ghgp/main.do Download the data in excel format after selecting appropriate filters.\n",
    "<br><b>Format:</b>  Excel spreadsheets \n",
    "<br><b>Dataset Size:</b> Six excel spreadsheets with a total of 41K records.\n",
    "<br><b>Time Period:</b> This data covers emissions from upsteam and midsteam Oil & Gas operations between 2011 and 2018.\n",
    "\n",
    "### Gregory Myers\n",
    "\n",
    "**Crude Oil and Natural Gas Production**  \n",
    "**Name:** Crude Oil and Natural Gas Production U.S. Field Production of Crude Oil, U.S. Natural Gas Gross Withdrawals; Yearly  \n",
    "**Source:** Energy Information Administration (EIA) datastore  \n",
    "**Location:** https://www.eia.gov/opendata/qb.php?category=371  \n",
    "**Access Method:** API query  \n",
    "**Format:** _JSON_  \n",
    "**Statistics**  \n",
    "* Annual U.S. Crude Oil Production, 1859-2019, 4kb\n",
    "* Annual U.S. Natural Gas Production, 1936-2019, 3kb\n",
    "* Annual U.S. Natural Gas, Vented and Flared, 1936-2018, 2kb\n",
    "* Annual U.S. Natural Gas Sector CO2 Emissions, 1980-2017, 2kb\n",
    "* Annual U.S. Crude Oil Sector CO2 Emissions, 1980-2017, 2kb\n",
    "* Annual U.S. Industrial CO2 Emissions, 1980-2017, 2kb  \n",
    "\n",
    "**Greenhouse Gas Atmospheric Concentration Data**  \n",
    "**Name:** Trends in CO2, CH4, and N2O  \n",
    "**Source:** NOAA Global Monitoring Laboratory  \n",
    "**Location:** https://www.esrl.noaa.gov/gmd/ccgg/trends/data.html  \n",
    "_Original data collected by the Scripps Institution of Oceanography, UCSD (SIO)_   \n",
    "**Access Method:** Manuel download  \n",
    "**Format:** _TEXT_  \n",
    "**Statistics**  \n",
    "* Annual Atmospheric CO2 Concentration, 1958-2019, 51kb\n",
    "* Annual Atmospheric CH4 Concentration, 1983-2019, 40kb,\n",
    "* Annual Atmospheric N2O Concentration, 2001-2019, 23kb"
   ]
  },
  {
   "cell_type": "markdown",
   "metadata": {},
   "source": [
    "[Top of Page](1_Introduction.ipynb/#1)\n",
    "<a id=data_manipulation></a>"
   ]
  },
  {
   "cell_type": "markdown",
   "metadata": {},
   "source": [
    "## Data Manipulation\n",
    "\n",
    "#### Rafee Shaik, Emissions Data:\n",
    "1. CH4 and N2O emissions are represented in CO2 equivalent quantities.\n",
    "2. Data is present in multiple sheets, a sheet for each year. Load each of these files into a separate data frame and flag what type of gas and which sector it is.\n",
    "3. Aggregate the emission quantities by the parent company\n",
    "4. Combine all the six datasets into a single data frame. Fill ‘NaN’ values with zero\n",
    "\n",
    "\n",
    "[Pre-Processing, Rafee Shaik](2_PreProcessing_RS.ipynb)  \n",
    "\n",
    "\n",
    "#### Gregory Myers\n",
    "**EIA Data**  \n",
    "The EIA JSON data contains considerable redundency in the JSON data mostly in the form of metadata. The primary component of interest is a list field that contains the date and product data which is processed in pandas to extract the required data and save to CSV in two formats; comma (,) and pipe (|) seperated.  \n",
    "\n",
    "The EIA production data records crude oil volumes in units of thousand barrels of oil and emissions data  \n",
    "in metric tons of CO2 equivilent.\n",
    "\n",
    "1. Save API query results to a JSON file as an immutable source data reference.\n",
    "2. Import JSON data (crude & gas) into Pandas data frames.\n",
    "3. Perform Explode operations to separate date and production data.\n",
    "4. Transform Date column into a DateTime data type.\n",
    "5. Create and populate a product type column and drop unused columns.\n",
    "6. Append crude and gas data frames (long-format).\n",
    "7. Save the data frame in CSV format as a source for continued analysis.\n",
    "\n",
    "\n",
    "**SIO Data**  \n",
    "The SIO text files containing the GHG concentration data are read into a pandas dataframe, skipping comment lines  \n",
    "and importing only the space seperated data. A header is added and the the data is ready for export, again to  \n",
    "CSV in two formats as above.  \n",
    "\n",
    "The SIO concentratin data is recorded in Parts Per Million (ppm) for CO2 gas and Parts Per Billion (ppb) for CH4 and N2O.  \n",
    "\n",
    "**Final Product** \n",
    "In total nine datasets are produced by this notebook in two formats for a total of 18 CSV files.  \n",
    "[Pre-Processing, Gregory Myers](2.2_PreProcessing_GM.ipynb)  \n",
    "\n",
    "\n",
    "### Data Integration:\n",
    "Each of the individaul dataset will be available for integration into one or more pandas dataframes as required by the particular analysis.  \n",
    "\n",
    "Combine the above two datasets (Emissions and Production volumes) by the year, with this combined dataset we can compare greenhouse gas emission volumes with O&G production volumes."
   ]
  },
  {
   "cell_type": "markdown",
   "metadata": {},
   "source": [
    "<a id='analysis'></a>"
   ]
  },
  {
   "cell_type": "markdown",
   "metadata": {},
   "source": []
  },
  {
   "cell_type": "markdown",
   "metadata": {},
   "source": [
    "## History, Production and Emissions Visualizations  \n",
    "#### Gregory Myers  \n",
    "\n",
    "The U.S. hydrocarbon extraction industry sees it beginings 1825 when a well began producing natural gas in Fredonia, New York (Morris, 2016. In 1859 ([Fig-3.2.1](3.2_Analysis_Plots_GM.ipynb/#fig_3_2_1)) Edwin Drake and the Seneca Oil Company drilled the first U.S. commercial oil well in Pennsylvania (Aoghs.org, 2016). From that time on the U.S. has been firmly committed to the exploration and production of natural gas and crude oil as plentiful sources of energy and a multitude of other products.  \n",
    "\n",
    "The primary by-product of hyrocarbon or fossil fuel combustion is Carbon-Dioxide (CO2) gas. The Scripps Institution of Oceanography has since the late 1950's collected data on CO2 concentrations in the atmosphere ([Fig-3.2.2](3.2_Analysis_Plots_GM.ipynb/#fig_3_2_2)). Based on the emperical data evidence, the rise in atmospheric CO2 levels since that first measurement was taken in 1958 is irrefutable.  \n",
    "\n",
    "Since 2011, Energy sector CO2, CH4, and N2O GHG Emissions have been track on a per company basis ([Fig-3.2.3](3.2_Analysis_Plots_GM.ipynb/#fig_3_2_3)). This data allows the industry to self-monitor as well as governmental and public monitoring of GHG emissions.  \n",
    "\n",
    "[Analysis_Plots, Gregory Myers](3.2_Analysis_Plots_GM.ipynb/#3_2_top)"
   ]
  },
  {
   "cell_type": "markdown",
   "metadata": {},
   "source": [
    "## Analysis and Visualization  \n",
    "#### Rafee Shaik  \n",
    "###### Summary of visualizations:  \n",
    "In this notebook we genearted 8 visualizations, seven of them are time-series line+scatter plots and a Summary table (fig-2) showing emissions from each company between 2011 and 2018.  \n",
    "* [Fig-3.1](3.1_Analysis_Plots_RS.ipynb/#fig-3_1): Trend line of total GHG emissions from US Oil and Gas Companies between 2011 and 2018.  \n",
    "* [Fig-3.2](3.1_Analysis_Plots_RS.ipynb/#fig-3_2): A table showing GHG Emissions from individual US Oil and Gas Producers between 2011 and 2018  \n",
    "* Fig-3: An Interactive chart - Emission trends between 2009 and 2018 from the top US emitters  \n",
    "* Fig-4: An Interactive chart to compare emissions between different companies and sectors  \n",
    "* Fig-5: A 4X4 Subplots to show, Emissions by sector, GHG Gas Type, Number of Operators(companies) in each sector and Total emissions  \n",
    "* Fig-6: An interactive chart to compare Emissions from Upstream and Midstream Sectors VS Crude Oil and Natural Gas Production  \n",
    "* Fig-7: A histogram to identify the common emission quantity range from US Oil & Gas companies  \n",
    "* Fig-8: A line chart with predicted 2019 GHG Emission  \n",
    "\n",
    "We prepared a linear regression model between between Hydrocarbon production and GHG emission volumes; We will use this model to estimate the future emissions based on production volume.  "
   ]
  },
  {
   "cell_type": "markdown",
   "metadata": {},
   "source": [
    "[Top of Page](1_Introduction.ipynb/#1)"
   ]
  },
  {
   "cell_type": "markdown",
   "metadata": {},
   "source": [
    "#### References  \n",
    "\n",
    "Aoghs.org. (2016, 04 16). First American Oil Well. Retrieved from American Oil & Gas Historical Society: https://www.aoghs.org/petroleum-pioneers/american-oil-history/  \n",
    "Morris, G. D. (2016, 12 28). First Gas Well In US Was 1825 In New York. Retrieved from hartenergy.com: https://www.hartenergy.com/exclusives/first-gas-well-us-was-1825-new-york-29483  \n"
   ]
  }
 ],
 "metadata": {
  "kernelspec": {
   "display_name": "Python 3",
   "language": "python",
   "name": "python3"
  },
  "language_info": {
   "codemirror_mode": {
    "name": "ipython",
    "version": 3
   },
   "file_extension": ".py",
   "mimetype": "text/x-python",
   "name": "python",
   "nbconvert_exporter": "python",
   "pygments_lexer": "ipython3",
   "version": "3.7.6"
  }
 },
 "nbformat": 4,
 "nbformat_minor": 4
}
