{
 "cells": [
  {
   "cell_type": "markdown",
   "metadata": {},
   "source": [
    "<a id='top'></a>"
   ]
  },
  {
   "cell_type": "markdown",
   "metadata": {},
   "source": [
    "# Effects of Enhanced Hydrocarbon Extraction Technologies on Greenhouse Gas Emissions from Upstream and Midstream Oil and Gas Industry"
   ]
  },
  {
   "cell_type": "markdown",
   "metadata": {},
   "source": [
    "## Table of Contents  \n",
    "* [Project Motivation](#project_motivation)  \n",
    "* [Contributing Efforts](#contributions)  \n",
    "* [Project Data Sourcing](#data_sources)  \n",
    "* [Data Manipulation](#data_manipulation)  \n",
    "* [Analysis and Visualization](#analysis)  "
   ]
  },
  {
   "cell_type": "markdown",
   "metadata": {},
   "source": [
<<<<<<< HEAD
    "* [Document Viewing Suggestions](1_Introduction.ipynb/#doc_view)\n",
    "* [Project Overview](1_Introduction.ipynb/#project_overview)\n",
    "* [Project Motivation](1_Introduction.ipynb/#project_motivation)\n",
    "* [Contributing Efforts](1_Introduction.ipynb/#contributions)\n",
    "* [Project Data Sourcing](1_Introduction.ipynb/#data_sources)\n",
    "* [Data Manipulation](1_Introduction.ipynb/#data_manipulation)\n",
    "* [Historical Perspectives and Visualizations](1_Introduction.ipynb/#gm_analysis)\n",
    "* [Primary Analysis and Visualizations](1_Introduction.ipynb/#rs_analysis)"
=======
    "<a id='project_motivation'></a>"
>>>>>>> parent of c608776... Merge branch 'master' of https://github.com/rafeesumich/591-GHGFromOilandGasSystems
   ]
  },
  {
   "cell_type": "markdown",
   "metadata": {},
   "source": [
    "## Project Motivation"
   ]
  },
  {
   "cell_type": "markdown",
   "metadata": {},
   "source": [
    "The purpose of this project is to examine established Greenhouse Gas (GHG) Emissions data\n",
    "and determine if there is a correlation between accelerated hydrocarbon (Crude oil and Natural\n",
    "gas) production through horizontal drilling and hydraulic fracturing in the most recent decade\n",
    "and GHG emissions rates. If a correlation is found, additional analysis may be able to reveal the\n",
    "causal source. The project will focus on three GHGs, Carbon-Dioxide (CO2), Methane (CH4), and\n",
    "Nitrous-Oxide (N2O).  \n",
    "\n",
<<<<<<< HEAD
    "This document is best viewed using **JupyterLab** version 2.1.x."
   ]
  },
  {
   "cell_type": "markdown",
   "metadata": {},
   "source": [
    "[Top of Page](1_Introduction.ipynb/#top)"
=======
    "The analysis of this project is likely to create more questions than answers. The primary reason for this is that energy production, usage, and the associated emissions is a very complicated environment with many moving parts. While some component factors may be increasing in usage or emissions, others may be seeing improvements in efficiency and utilization."
>>>>>>> parent of c608776... Merge branch 'master' of https://github.com/rafeesumich/591-GHGFromOilandGasSystems
   ]
  },
  {
   "cell_type": "markdown",
   "metadata": {},
   "source": [
<<<<<<< HEAD
    "## Project Overview\n",
    "The Oil and Natural Gas industry consists of three sectors, **Upstream** sector that focuses on Exploring and Producing (E&P) Hydrocarbons, **Midstream** sector focuses on Transportation and storage facilities, and **Downstream** sector will process raw materials such as crude oil and convert it into consumer products like gasoline.  \n",
    "\n",
    "Enhanced hydrocarbon extraction methods, that include horizontal drilling and fracking boosted Crude Oil and Natural Gas Production in the US since 2007. The purpose of this project is to examine Greenhouse Gas (GHG) Emissions from upstream and midstream sectors of the industry and determine if there is a correlation between accelerated hydrocarbon (Crude oil and Natural gas) production in the most recent decade and GHG emissions rates. If a correlation is found, additional analysis may be able to reveal the causal source. The project will focus on three GHGs, Carbon-Dioxide (CO2), Methane (CH4), and Nitrous-Oxide (N2O)."
   ]
  },
  {
   "cell_type": "markdown",
   "metadata": {},
   "source": [
    "[Top of Page](1_Introduction.ipynb/#top)\n",
    "<a id='project_motivation'></a>"
=======
    "[Top of Page](#top)\n",
    "<a id='contributions'></a>"
>>>>>>> parent of c608776... Merge branch 'master' of https://github.com/rafeesumich/591-GHGFromOilandGasSystems
   ]
  },
  {
   "cell_type": "markdown",
   "metadata": {},
   "source": [
    "## Project Work Contributions\n",
    "The Greenhouse Gas Emissions investigation team is composed of **Rafee Shaik** and **Gregory Myers**, **UMSI MADS** students. Both members have professional backgrounds in domestic Crude Oil and Natural Gas production.  \n",
    "\n",
    "### Rafee Shaik\n",
    "Rafee Shaik has the title of Project Lead for this analysis  \n",
    "\n",
    "### Gregory Myers\n",
    "Gregory Myers has contributed the collection and processing of natural gas and crude oil production data, atmospheric GHG data, energy and industrial sectors emissions data. In addition to the data collection process Gregory has also contributed the following to the project: historical production and GHG concentration visualizations, production versus sector emissions, and industry top GHG emitters visualizations. Finally, preparation of the skeletal layout of the JupyterLab notebook presentation which will also receive significant contribution from Rafee Shaik.  \n"
   ]
  },
  {
   "cell_type": "markdown",
   "metadata": {},
   "source": [
    "[Top of Page](#top)\n",
    "<a id='data_sources'></a>"
   ]
  },
  {
   "cell_type": "markdown",
   "metadata": {},
   "source": [
<<<<<<< HEAD
    "[Top of Page](1_Introduction.ipynb/#top)"
=======
    "## Project Data Sourcing"
>>>>>>> parent of c608776... Merge branch 'master' of https://github.com/rafeesumich/591-GHGFromOilandGasSystems
   ]
  },
  {
   "cell_type": "markdown",
   "metadata": {},
   "source": [
    "### Rafee Shaik\n",
    "\n",
    "### Gregory Myers\n",
<<<<<<< HEAD
    "Gregory Myers has contributed the collection and processing of natural gas and crude oil production data, atmospheric GHG data, energy and industrial sectors emissions data. In addition to the data collection process Gregory has also contributed the following to the project: historical production and GHG concentration visualizations, production versus sector emissions, and industry top GHG emitters visualizations. Finally, preparation of the skeletal layout of the JupyterLab notebook presentation which will also receive significant contribution from Rafee Shaik."
   ]
  },
  {
   "cell_type": "markdown",
   "metadata": {},
   "source": [
    "[Top of Page](1_Introduction.ipynb/#top)\n",
    "<a id='data_sources'></a>"
   ]
  },
  {
   "cell_type": "markdown",
   "metadata": {},
   "source": [
    "## Data Sources  \n",
    "### Rafee Shaik  \n",
    "**Greenhouse Gas Emissions Data**  \n",
    "\n",
    "**Source:** US Oil and Gas Upstream (Exploration & Production) and Midstream (Pipelines and Storage) facilities can be accessed from the U.S. Environmental Protection Agency (EPA) FLIGHT database.  \n",
    "**Location:** [https://ghgdata.epa.gov/ghgp/main.do](https://ghgdata.epa.gov/ghgp/main.do)  \n",
    "**Access Method:** Facility Level Information on GreenHouse gases Tool (FLIGHT) database can be accessed through the website: [https://ghgdata.epa.gov/ghgp/main.do](https://ghgdata.epa.gov/ghgp/main.do) Download the data in excel format after selecting appropriate filters.  \n",
    "**Format:** Excel spreadsheets  \n",
    "**Dataset Size:** Six excel spreadsheets with a total of 41K records.  \n",
    "**Time Period:** This data covers emissions from upsteam and midsteam Oil & Gas operations between 2011 and 2018.  \n",
=======
    "Data has been obtained from Energy Information Administration (EIA) eia.gov  \n",
    "and the Scripps Institution of Oceanography (SIO) at the University of California, San Diego. scrippsco2.ucsd.edu  \n",
    "The emissions data is focused on the Greenhouse Gases (GHG) Carbon Dioxide (CO2), Methane (CH4) and Nitrous Oxide (N2O).  \n",
>>>>>>> parent of c608776... Merge branch 'master' of https://github.com/rafeesumich/591-GHGFromOilandGasSystems
    "\n",
    "**The following datasets are queried directly by API from the EIA website in JSON format (product, date range)**\n",
    "* Annual U.S. Crude Oil Production (EIA)  1859-2019\n",
    "* Annual U.S. Natural Gas Production (EIA)  1936-2019\n",
    "* Annual U.S. Natural Gas, Vented and Flared (EIA)  1936-2018\n",
    "* Annual U.S. Natural Gas Sector CO2 Emissions (EIA)  1980-2017\n",
    "* Annual U.S. Crude Oil Sector CO2 Emissions (EIA)  1980-2017\n",
    "* Annual U.S. Industrial CO2 Emissions (EIA)  1980-2017  \n",
    "\n",
<<<<<<< HEAD
    "**Crude Oil and Natural Gas Production**  \n",
    "\n",
    "**Name:** Crude Oil and Natural Gas Production U.S. Field Production of Crude Oil, U.S. Natural Gas Gross Withdrawals; Yearly  \n",
    "**Source:** Energy Information Administration (EIA) datastore  \n",
    "**Location:** [https://www.eia.gov/opendata/qb.php?category=371](https://www.eia.gov/opendata/qb.php?category=371)  \n",
    "**Access Method:** API query  \n",
    "**Format:** _JSON_  \n",
    "**Statistics**  \n",
    "* Annual U.S. Crude Oil Production, 1859-2019, 4kb\n",
    "* Annual U.S. Natural Gas Production, 1936-2019, 3kb\n",
    "* Annual U.S. Natural Gas, Vented and Flared, 1936-2018, 2kb\n",
    "* Annual U.S. Natural Gas Sector CO2 Emissions, 1980-2017, 2kb\n",
    "* Annual U.S. Crude Oil Sector CO2 Emissions, 1980-2017, 2kb\n",
    "* Annual U.S. Industrial CO2 Emissions, 1980-2017, 2kb  \n",
    "\n",
    "**Greenhouse Gas Atmospheric Concentration Data**  \n",
    "\n",
    "**Name:** Trends in CO2, CH4, and N2O  \n",
    "**Source:** NOAA Global Monitoring Laboratory  \n",
    "**Location:** [https://www.esrl.noaa.gov/gmd/ccgg/trends/data.html](https://www.esrl.noaa.gov/gmd/ccgg/trends/data.html)  \n",
    "_Original data collected by the Scripps Institution of Oceanography, UCSD (SIO)_   \n",
    "**Access Method:** Manuel download  \n",
    "**Format:** _TEXT_  \n",
    "**Statistics**  \n",
    "* Annual Atmospheric CO2 Concentration, 1958-2019, 51kb\n",
    "* Annual Atmospheric CH4 Concentration, 1983-2019, 40kb,\n",
    "* Annual Atmospheric N2O Concentration, 2001-2019, 23kb"
=======
    "The data was drawn from the EIA public API and presented in JSON format.  \n",
    "\n",
    "**The Scripps datasets are manually downloaded from noaa.gov in text format (product, date range)**\n",
    "* Annual Atmospheric CO2 Concentration (SIO)  1958-2019\n",
    "* Annual Atmospheric CH4 Concentration (SIO)  1983-2019\n",
    "* Annual Atmospheric N2O Concentration (SIO)  2001-2019\n"
>>>>>>> parent of c608776... Merge branch 'master' of https://github.com/rafeesumich/591-GHGFromOilandGasSystems
   ]
  },
  {
   "cell_type": "markdown",
   "metadata": {},
   "source": [
<<<<<<< HEAD
    "[Top of Page](1_Introduction.ipynb/#top)\n",
=======
    "[Top of Page](top)\n",
>>>>>>> parent of c608776... Merge branch 'master' of https://github.com/rafeesumich/591-GHGFromOilandGasSystems
    "<a id=data_manipulation></a>"
   ]
  },
  {
   "cell_type": "markdown",
   "metadata": {},
   "source": [
    "## Data Manipulation\n",
    "\n",
<<<<<<< HEAD
    "#### Rafee Shaik\n",
    "\n",
    "### Emissions Data Processing:\n",
    "1. **Data Acquisition**:<br/>\n",
    "Data that was downloaded from EPA is in Excel spreadsheet format. All together we have 6 excel spreadsheets.   \n",
    "    a. EPA Emission reports are separated by the industry sector (upstream and midstream) and GHG gas type (CO2, CH4, and N2O).   \n",
    "    b. Within each excel we have a separate worksheet for each reporting year, starting from  2011 to 2018.  \n",
    "2. **Parsing Excel spreadsheets**:<br/>\n",
    "    Pandas’ **read_excel** module is useful in parsing excel spreadsheets. Read_excel module can read multiple worksheets within an excel book. The option **\"sheet_name=’null’\"** is useful to read all sheets from an excel. Read_excel() returns a named dictionary containing worksheet name as key and corresponding data in a dataframe as value.  \n",
    "    a. Iterate through each data frame in the dictionary, add three columns,  \n",
    "    b. reporting_year with value from dictionary key,  \n",
    "    c. GHG Gas type with the value from part of the source file name, and  \n",
    "    d. Industry sector with the value from part of the source file name.  \n",
    "    e. Do the same for all six excel spreadsheets.  \n",
    "    f. Combine all dataframes into a single dataframe using pandas.concat() method.\n",
    "3. **Processing the data**:<br/>\n",
    "Each row represents a facility operated under single company ownership or joint venture between multiple companies. So we need to separate the joint ventures and create a row for each company, calculate their portion of emission based on joint venture percentages.  \n",
    "\n",
    "    We use regular expressions to parse out the company name and partnership percentages into separate columns.\n",
    "    For example:  \n",
    "`\"SHELL OIL CO (51.8%); EXXONMOBIL CORP (48.2%)\"`  \n",
    "\n",
    "    Here is the regular expression used to parse the company names and partnership percentages:  \n",
    "`regex=r'(?P<PARENT_COMPANY>[-\\w\\s\\d,&./()#]+)([\\(])(?P<CONTRIBUTION>[\\(\\d.]+)([%\\)]*)'`  \n",
    "\n",
    "    Melt this single row into multiple rows that represent a separate row for each partner company. Use the method **‘explode’** to separate the individual companies.Convert partnership percentage and emission quantity from text type to numeric type. Replace non-numeric values with zero ‘0’  \n",
    "\n",
    "4. **Aggregation**:<br/>\n",
    "    We applied different levels of aggregations in our analysis. Data has attributes representing Company Name, Reporting Year, Gas type, and Industry sector.  \n",
    "    a.\tGHG Gas type analysis: Data were separated by GHG gas type (CO2, CH4, and N2O), all these emission quantities are represented in CO2 equivalents. We will sum them up by the Company and Gas type within the reporting year to compare the emissions of different gas types.  \n",
    "    b.\tCompany level emissions: Each company can operate multiple facilities across the US, we will sum the emissions from the facilities operated by the same company within a reporting year. This data will be used to compare the emissions from different companies over the period of time.  \n",
    "    c.\tSector level emissions: Data will be aggregated by the industry sector within the reporting year.  \n",
    "    d.\tYearly GHG emissions: We will sum up the emissions from all companies, sectors, and gas types within the reporting year\n",
    "\n",
    "5. **Joining Emissions data with other dataset**:<br/>\n",
    "    Reporting_year is be used as joining key when joining Emissions dataset with other datasets in the analysis such as Yearly Crude Oil and Natural Gas Production and Emissions from other Industries.\n",
    "\n",
    "6. **Challenges**:<br/>\n",
    "    a. Over the period of time companies report their emissions with different names, like ‘Conoco Phillips’, ‘ConocoPhillips’, ‘ConocoPhillips Company’ all these company names represent ‘ConocoPhillips’  \n",
    "    b. We used a third-party library ‘cleanco’ to clean up the company names, this library helped to remove the company type suffixes, like ‘LLC’, ‘Co’, etc.  \n",
    "    c. We performed company name lookup to standardize the company names. We put these company name lookup table in a CSV file.  \n",
    "7. Saving aggregated data for Analysis and visualizations:<br/>\n",
    "    Aggregated emissions data will be saved in 'Emissions_aggregatedData.csv' CSV file\n",
    "\n",
    "[Pre-Processing Notebook, Rafee Shaik](2.1_PreProcessing_RS.ipynb/#top)  \n",
=======
    "### Rafee Shaik\n",
    "\n",
    "explanation here\n",
    "\n",
    "[Pre-Processing, Rafee Shaik](2_PreProcessing_RS.ipynb)  \n",
>>>>>>> parent of c608776... Merge branch 'master' of https://github.com/rafeesumich/591-GHGFromOilandGasSystems
    "\n",
    "\n",
    "### Gregory Myers\n",
    "**EIA Data**  \n",
    "The EIA JSON data contains considerable redundency in the data mostly in the form of metadata. The primary  \n",
    "component of interest is a list field that contains the date and product data which is processed in pandas  \n",
    "to extract the required data and save to CSV in two formats; comma (,) and pipe (|) seperated.  \n",
    "\n",
    "The EIA production data records crude oil volumes in units of thousand barrels of oil and emissions data  \n",
    "in metric tons of CO2 equivilent.\n",
    "\n",
    "**SIO Data**  \n",
    "The SIO text files containing the GHG concentration data are read into a pandas dataframe, skipping comment lines  \n",
    "and importing only the space seperated data. A header is added and the the data is ready for export, again to  \n",
    "CSV in two formats as above.  \n",
    "\n",
    "The SIO concentratin data is recorded in Parts Per Million (ppm) for CO2 gas and Parts Per Billion (ppb) for CH4 and N2O.  \n",
    "\n",
    "**Final Product** \n",
    "In total nine datasets are produced by this notebook in two formats for a total of 18 CSV files.  \n",
<<<<<<< HEAD
    "[Pre-Processing Notebook, Gregory Myers](2.2_PreProcessing_GM.ipynb/#top)  \n",
    "\n",
    "\n",
    "### Data Integration:\n",
    "Combine the above two datasets (Emissions and Production volumes) by the Reporting year, with this combined dataset we can compare greenhouse gas emission volumes with Crude Oil and Natural Gas production volumes.\n",
    "Joined dataset is saved in a CSV file with name 'ProductionVsEmissionSplit.csv'  "
=======
    "[Pre-Processing, Gregory Myers](2.2_PreProcessing_GM.ipynb)  \n"
>>>>>>> parent of c608776... Merge branch 'master' of https://github.com/rafeesumich/591-GHGFromOilandGasSystems
   ]
  },
  {
   "cell_type": "markdown",
   "metadata": {},
   "source": [
<<<<<<< HEAD
    "[Top of Page](1_Introduction.ipynb/#top)\n",
    "<a id='gm_analysis'></a>"
   ]
  },
  {
   "cell_type": "markdown",
   "metadata": {},
   "source": [
    "## Historical Perspectives and Visualizations  \n",
    "#### Gregory Myers  \n",
    "\n",
    "* [Fig-3.2.1:](3.2_Analysis_Plots_GM.ipynb/#fig_3_2_1) The U.S. hydrocarbon extraction industry sees it beginings 1825 when a well began producing natural gas in Fredonia, New York (Morris, 2016. In 1859 Edwin Drake and the Seneca Oil Company drilled the first U.S. commercial oil well in Pennsylvania (Aoghs.org, 2016). From that time on the U.S. has been firmly committed to the exploration and production of natural gas and crude oil as plentiful sources of energy and a multitude of other products.  \n",
    "\n",
    "* [Fig-3.2.2:](3.2_Analysis_Plots_GM.ipynb/#fig_3_2_2) The primary by-product of hyrocarbon or fossil fuel combustion is Carbon-Dioxide (CO2) gas. The Scripps Institution of Oceanography has since the late 1950's collected data on CO2 concentrations in the atmosphere. Based on the emperical data evidence, the rise in atmospheric CO2 levels since that first measurement is irrefutable.  \n",
    "\n",
    "* [Fig-3.2.3:](3.2_Analysis_Plots_GM.ipynb/#fig_3_2_3) The EPA has available CO2, CH4, and N2O 'All Industry Sectors' emissions data from 1990 to 2018.  \n",
    "\n",
    "* [Fig-3.2.4:](3.2_Analysis_Plots_GM.ipynb/#fig_3_2_4) Emission by sector\n",
    "\n",
    "\n",
    "\n",
    "* [Fig-3.2.5:](3.2_Analysis_Plots_GM.ipynb/#fig_3_2_5) Since 2011, Energy sector CO2, CH4, and N2O GHG Emissions have been track on a per company basis. This data allows the industry to self-monitor as well as governmental and public monitoring of GHG emissions.  \n",
    "\n",
    " \n",
    "\n",
    "* [Fig-3.2.6:](3.2_Analysis_Plots_GM.ipynb/#fig_3_2_6) Top U.S. Greenhouse Gas Emitters.    \n",
    "\n",
    "\n",
    "[Analysis_Plots Top of Notebook, Gregory Myers](3.2_Analysis_Plots_GM.ipynb/#top)  "
   ]
  },
  {
   "cell_type": "markdown",
   "metadata": {},
   "source": [
    "[Top of Page](1_Introduction.ipynb/#top)\n",
    "<a id='rs_analysis'></a>"
   ]
  },
  {
   "cell_type": "markdown",
   "metadata": {},
   "source": [
    "## Primary Analysis and Visualization  \n",
    "#### Rafee Shaik  \n",
    "###### Summary of visualizations:  \n",
    "In this notebook we genearted 8 visualizations, seven of them are time-series line+scatter plots and a Summary table (fig-2) showing emissions from each company between 2011 and 2018.  \n",
    "* [Fig-3.1.1:](3.1_Analysis_Plots_RS.ipynb/#fig-3_1_1) Trend line of total GHG emissions from US Oil and Gas Companies between 2011 and 2018.  \n",
    "* [Fig-3.1.2:](3.1_Analysis_Plots_RS.ipynb/#fig-3_1_2) A table showing GHG Emissions from individual US Oil and Gas Producers between 2011 and 2018  \n",
    "* [Fig-3.1.3:](3.1_Analysis_Plots_RS.ipynb/#fig-3_1_3) An Interactive chart - Emission trends between 2009 and 2018 from the top US emitters  \n",
    "* [Fig-3.1.4:](3.1_Analysis_Plots_RS.ipynb/#fig-3_1_4) An Interactive chart to compare emissions between different companies and sectors  \n",
    "* [Fig-3.1.5:](3.1_Analysis_Plots_RS.ipynb/#fig-3_1_5) Emissions by sector, GHG Gas Type, Number of Operators(companies) in each sector and Total emissions  \n",
    "* [Fig-3.1.6:](3.1_Analysis_Plots_RS.ipynb/#fig-3_1_6) An interactive chart of Emissions from Upstream and Midstream Sectors VS Crude Oil and Natural Gas Production  \n",
    "* [Fig-3.1.7:](3.1_Analysis_Plots_RS.ipynb/#fig-3_1_7) A histogram of emission quantities from US Oil & Gas companies  \n",
    "* [Fig-3.1.8:](3.1_Analysis_Plots_RS.ipynb/#fig-3_1_8) A line chart with predicted 2019 GHG Emission  \n",
    "\n",
    "\n",
    "[Analysis_Plots Top of Notebook, Rafee Shaik](3.1_Analysis_Plots_RS.ipynb/#top)   "
   ]
  },
  {
   "cell_type": "markdown",
   "metadata": {},
   "source": [
    "[Top of Page](1_Introduction.ipynb/#top)"
=======
    "<a id='analysis'></a>\n",
    "## Data Analysis and Visualization\n",
    "#### Rafee Shaik\n",
    "\n",
    "The data analysis and visualization notebooks can be found here.\n",
    "\n",
    "\n",
    "\n",
    "\n",
    "#### Gregory Myers\n",
    "\n",
    "[EIA Data Plots, Gregory Myers](3.2_EIA_Plots_GM.ipynb)  \n",
    "\n",
    "\n"
>>>>>>> parent of c608776... Merge branch 'master' of https://github.com/rafeesumich/591-GHGFromOilandGasSystems
   ]
  },
  {
   "cell_type": "markdown",
   "metadata": {},
   "source": [
<<<<<<< HEAD
    "We prepared a linear regression model between between Hydrocarbon production and GHG emission volumes; We will use this model to estimate the future emissions based on production volume. "
   ]
  },
  {
   "cell_type": "markdown",
   "metadata": {},
   "source": [
    "## Data processing and Project Presentation workflow\n",
    "\n",
    "Project report will be split into two jupyter notebooks.\n",
    "\n",
    "1. Notebook <b>‘EmissionsDataPreparation.ipynb’</b> will concentrate on data acquisition and preparation (manipulation) for Visualizations and Analysis. Output of this notebook will be saved in several CSV(Comma Separated Values) files.\n",
    "2. Notebook <b>‘EmissionsProject-Visualizations.ipynb’</b> will take the CSV files prepared by EmissionsDataPreparation.ipynb notebook and generate required visualizations and analysis.\n",
    "\n",
    "###### Visualization Technique:\n",
    "We used graph_objs library from plotly for all visualizations in this analysis.\n",
    "* Most of our plots are scatter plots with line marks over time-series data.\n",
    "* We used ipywidgets to add interactivity with the charts.\n",
    "\n",
    "<b>Other libraries used:</b>\n",
    "<br>Pandas, numpy, scipy, matplotlib, sklearn\n"
=======
    "[Top of Page](#top)"
>>>>>>> parent of c608776... Merge branch 'master' of https://github.com/rafeesumich/591-GHGFromOilandGasSystems
   ]
  },
  {
   "cell_type": "code",
   "execution_count": null,
   "metadata": {},
   "outputs": [],
   "source": []
  }
 ],
 "metadata": {
  "kernelspec": {
   "display_name": "Python 3",
   "language": "python",
   "name": "python3"
  },
  "language_info": {
   "codemirror_mode": {
    "name": "ipython",
    "version": 3
   },
   "file_extension": ".py",
   "mimetype": "text/x-python",
   "name": "python",
   "nbconvert_exporter": "python",
   "pygments_lexer": "ipython3",
   "version": "3.7.6"
  }
 },
 "nbformat": 4,
 "nbformat_minor": 4
}
