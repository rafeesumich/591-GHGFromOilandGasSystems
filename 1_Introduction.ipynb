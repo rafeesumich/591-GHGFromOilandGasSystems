{
 "cells": [
  {
   "cell_type": "markdown",
   "metadata": {},
   "source": [
    "<a id='top'></a>\n",
    "# Effects of Enhanced Hydrocarbon Extraction Technologies on Greenhouse Gas Emissions from Upstream and Midstream Oil and Gas Industry"
   ]
  },
  {
   "cell_type": "markdown",
   "metadata": {},
   "source": [
    "## Table of Contents  \n",
    "* [Project Motivation](#project_motivation)  \n",
    "* [Contributing Efforts](#contributions)  \n",
    "* [Project Data Sourcing](#data_sources)  \n",
    "* [Data Manipulation](#data_manipulation)  \n",
    "* [Analysis and Visualization](#analysis)  "
   ]
  },
  {
   "cell_type": "markdown",
   "metadata": {},
   "source": [
    "<a id='project_motivation'></a>\n",
    "## Project Motivation"
   ]
  },
  {
   "cell_type": "markdown",
   "metadata": {},
   "source": [
    "The purpose of this project is to examine established Greenhouse Gas (GHG) Emissions data\n",
    "and determine if there is a correlation between accelerated hydrocarbon (Crude oil and Natural\n",
    "gas) production through horizontal drilling and hydraulic fracturing in the most recent decade\n",
    "and GHG emissions rates. If a correlation is found, additional analysis may be able to reveal the\n",
    "causal source. The project will focus on three GHGs, Carbon-Dioxide (CO2), Methane (CH4), and\n",
    "Nitrous-Oxide (N2O).  \n",
    "\n",
    "The analysis of this project is likely to create more questions than answers. The primary reason for this is that energy production, usage, and the associated emissions is a very complicated environment with many moving parts. While some component factors may be increasing in usage or emissions, others may be seeing improvements in efficiency and utilization.  \n",
    "\n",
    "[Top of Page](#top)"
   ]
  },
  {
   "cell_type": "markdown",
   "metadata": {},
   "source": [
    "<a id='contributions'></a>\n",
    "## Project Work Contributions\n",
    "The Greenhouse Gas Emissions investigation team is composed of Rafee Shaik and Greg Myers, UMSI MADS students. Both members have professional backgrounds in domestic Crude Oil and Natural Gas production.  \n",
    "\n",
    "Rafee Shaik has the title of Project Lead for this analysis  \n",
    "\n",
    "\n",
    "Gregory Myers has contributed the collection and processing of natural gas and crude oil production data, atmospheric GHG data, energy and industrial sectors emissions data. In addition to the data collection process Gregory has also contributed the following to the project: historical production and GHG concentration visualizations, production versus sector emissions, and industry top GHG emitters visualizations. Finally preparation of the skeletal layout of the JupyterLab notebook presentation which will also receive significant contribution from Rafee Shaik.  \n",
    "\n",
    "[Top of Page](#top)"
   ]
  },
  {
   "cell_type": "markdown",
   "metadata": {},
   "source": [
    "<a id='data_sources'></a>\n",
    "## Project Data Sourcing"
   ]
  },
  {
   "cell_type": "markdown",
   "metadata": {},
   "source": [
    "Production data has been sources from the Energy Information Administration (EIA) with annual production records dating back to 1859 and 1936 for crude oil and natural gas repsectively. The data was drawn from the EIA via public API and presented in JSON format. \n",
    "\n",
    "\n",
    "[Top of Page](#top)"
   ]
  },
  {
   "cell_type": "markdown",
   "metadata": {},
   "source": [
    "<a id=data_manipulation></a>\n",
    "## Data Manipulation\n",
    "\n",
    "[Pre-Processing, Rafee Shaik](2_PreProcessing_RS.ipynb)  \n",
    "\n",
    "\n",
    "\n",
    "[Pre-Processing, Gregory Myers](2.2_PreProcessing_GM.ipynb)  \n"
   ]
  },
  {
   "cell_type": "markdown",
   "metadata": {},
   "source": [
    "<a id='analysis'></a>\n",
    "## Data Analysis and Visualization\n",
    "#### Rafee Shaik\n",
    "\n",
    "The data analysis and visualization notebooks can be found here.\n",
    "\n",
    "\n",
    "\n",
    "\n",
    "#### Gregory Myers\n",
    "\n",
    "[EIA Data Plots, Gregory Myers](3.2_EIA_Plots_GM.ipynb)  \n",
    "\n",
    "\n"
   ]
  },
  {
   "cell_type": "markdown",
   "metadata": {},
   "source": [
    "[Top of Page](#top)"
   ]
  },
  {
   "cell_type": "code",
   "execution_count": null,
   "metadata": {},
   "outputs": [],
   "source": []
  }
 ],
 "metadata": {
  "kernelspec": {
   "display_name": "Python 3",
   "language": "python",
   "name": "python3"
  },
  "language_info": {
   "codemirror_mode": {
    "name": "ipython",
    "version": 3
   },
   "file_extension": ".py",
   "mimetype": "text/x-python",
   "name": "python",
   "nbconvert_exporter": "python",
   "pygments_lexer": "ipython3",
   "version": "3.7.6"
  }
 },
 "nbformat": 4,
 "nbformat_minor": 4
}
